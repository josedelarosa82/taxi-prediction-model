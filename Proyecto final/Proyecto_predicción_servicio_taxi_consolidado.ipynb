{
  "cells": [
    {
      "attachments": {},
      "cell_type": "markdown",
      "metadata": {},
      "source": [
        "## ¿Qué problema se va a resolver?\n",
        "El tema de investigación surgió por la necesidad que tienen las empresas operadoras de taxis de la ciudad de Bogotá, estas vienen presentando una creciente problemática de indisponibilidad de servicios de taxis en sus plataformas, esto suceso ocurre principalmente en algunas zonas u horarios específicos.\n",
        "La empresa Taxis Libres (TL), una de las más grandes operadoras de servicios de taxis de la ciudad, ha empezado a recibir una gran cantidad de inconformidades por partes de los usuarios recurrentes de la plataforma por esta misma causa. Solo en el mes de mayo del 2022 la plataforma recibió alrededor de 1.2 millones de solicitudes de servicios de taxis de los cuales el 57% de esas solicitudes fueron abandonadas o rechazadas, lo que los llevó a analizar qué estaba pasando con la prestación de servicios internamente, en esa revisión realizada durante el mismo periodo de tiempo se obtuvieron las principales causas reportadas en la plataforma y que se listarán a continuación:\n",
        "\n",
        "•\tEl usuario se fue\n",
        "\n",
        "•\tEl vehículo se demoró en llegar\n",
        "\n",
        "•\tEl usuario tomó otro taxi\n",
        "\n",
        "Al identificar las causas de los servicios abandonados y rechazados, la empresa se planteó a resolver la siguiente pregunta al problema presentado.\n",
        "¿Como reducir la alta cantidad de inconformidades de los usuarios recurrentes de la plataforma prediciendo sus comportamientos durante la semana y así programarles sus servicios de forma anticipada?\n",
        "\n",
        "## Objetivo general\n",
        "Diseñar un método para predecir las solicitudes de servicios de los usuarios recurrentes \"de empresas de servicios de\" taxis en la ciudad Bogotá - Colombia, \"mediante\" modelos de ML.\n",
        "\n",
        "\n",
        "Evaluar el desempeño de modelos de ML para predecir\n",
        "las solicitudes de servicios de los usuarios recurrentes de empresas de servicios de taxis en la ciudad Bogotá -  Colombia\n",
        "basados en el comportamiento dentro de la plataforma.\n",
        "\n",
        "## Objetivos específicos (Detallar las actividades)\n",
        "• Revisar la literatura de al menos 10 artículos de proyectos relacionados (pendiente)\n",
        "\n",
        "• Analizar los datos de los últimos 6 meses de servicios de la empresa taxis libres.\n",
        "\n",
        "• Determinar las variables significativas a ser empleadas en los modelos de ML.\n",
        "\n",
        "• Evaluar diferentes modelos de ML para la predicción de solicitudes.\n",
        "\n",
        "## ¿Que solución propone al problema?\n",
        "El diseño de un modelo predictivo de solicitudes de servicios de taxis basados en comportamientos de usuarios recurrentes de plataformas móviles para empresas de transporte\n",
        "\n",
        "## ¿Cómo lo pretende solucionar?\n",
        "Utilizando un modelo de clasificación donde se agrupe la información de los servicios que han tomado los usuarios por días de las semanas y horarios, determinando si en ese día y a esa hora se va a tomar un servicio.\n",
        "\n",
        "## ¿Que resultados que espera obtener?\n",
        "Se espera obtener listado por día de las semanas con todos los horarios del día y un determinador que indique si el servicio se va a tomar o no en ese horario. "
      ]
    },
    {
      "cell_type": "markdown",
      "metadata": {
        "id": "Zm7tiHiJk80E"
      },
      "source": [
        "### ANALISIS EXPLORATORIO DE DATOS"
      ]
    },
    {
      "cell_type": "code",
      "execution_count": 381,
      "metadata": {
        "colab": {
          "base_uri": "https://localhost:8080/"
        },
        "id": "jbQIiJjPgCYj",
        "outputId": "c8d87048-b445-45ec-8e27-4e604af3a8b7"
      },
      "outputs": [],
      "source": [
        "#from google.colab import drive\n",
        "#drive.mount('/content/drive')"
      ]
    },
    {
      "cell_type": "markdown",
      "metadata": {},
      "source": [
        "Definición de librerías del proyecto"
      ]
    },
    {
      "cell_type": "code",
      "execution_count": 382,
      "metadata": {
        "id": "9YlqkYPGeDuz"
      },
      "outputs": [],
      "source": [
        "#librerias\n",
        "import pandas as pd\n",
        "import matplotlib.pyplot as plt\n",
        "import seaborn as sns\n",
        "from sklearn.model_selection import train_test_split\n",
        "#from sklearn.preprocessing import StandardScaler\n",
        "from sklearn.metrics import confusion_matrix, ConfusionMatrixDisplay\n",
        "from sklearn.multiclass import OneVsRestClassifier\n",
        "#from sklearn.metrics import plot_confusion_matrix\n",
        "from matplotlib.colors import ListedColormap\n",
        "#from mlxtend.plotting import plot_decision_regions\n",
        "#modelos\n",
        "from sklearn.linear_model import LogisticRegression\n",
        "from sklearn.neighbors import KNeighborsClassifier\n",
        "from sklearn.neural_network import MLPClassifier\n",
        "from sklearn.ensemble import RandomForestClassifier\n",
        "from sklearn.svm import SVC\n",
        "from sklearn.tree import DecisionTreeClassifier\n",
        "from sklearn.linear_model import SGDClassifier\n",
        "from sklearn.linear_model import Perceptron\n",
        "\n",
        "#from sklearn.metrics import mean_absolute_error\n",
        "#from sklearn.metrics import classification_report\n",
        "from sklearn.metrics import roc_curve\n",
        "from sklearn.metrics import roc_auc_score\n",
        "from sklearn.metrics import cohen_kappa_score\n",
        "\n",
        "import numpy as np\n",
        "#from numpy import NaN\n",
        "from datetime import datetime, timedelta\n",
        "#from os import name\n",
        "import math"
      ]
    },
    {
      "cell_type": "markdown",
      "metadata": {
        "id": "yj6GLCBW1jan"
      },
      "source": [
        "Definición de parámetros iniciales"
      ]
    },
    {
      "cell_type": "code",
      "execution_count": 383,
      "metadata": {
        "id": "GLoQZVku1iMb"
      },
      "outputs": [],
      "source": [
        "TRAIN_WEEK = 6.0\n",
        "TEST_WEEK = 1.0\n",
        "BOGOTA_CODE = 11001\n",
        "HOURS_OF_DAY = 24\n",
        "DAYS_OF_WEEK = 7\n",
        "FORMAT_DATE = '%Y-%m-%d'\n",
        "FORMAT_COMPLETE_DATE = '%Y/%m/%d %H:%M:%S'\n",
        "DATE_START_TRAINIG = pd.to_datetime(\"2022-02-11\", format=FORMAT_DATE)\n",
        "FICHERO_DATA = '../data/SERVICIO_UNIFICADO_2022.parquet.gzip'\n",
        "\n",
        "#Se obtiene la fecha de inicial de entrenamiento\n",
        "last_date_dataset = DATE_START_TRAINIG - timedelta(weeks=TRAIN_WEEK)\n",
        "#Se obtiene la fecha de inicial de entrenamiento\n",
        "first_date_dataset = DATE_START_TRAINIG + timedelta(weeks=TEST_WEEK)\n"
      ]
    },
    {
      "cell_type": "markdown",
      "metadata": {},
      "source": [
        "Se cargan los datos en el dataFrame"
      ]
    },
    {
      "cell_type": "code",
      "execution_count": 384,
      "metadata": {
        "colab": {
          "base_uri": "https://localhost:8080/"
        },
        "id": "JnMbR7vKA1KO",
        "outputId": "d19dfb19-63d8-4113-dd65-f304764645d8"
      },
      "outputs": [
        {
          "name": "stdout",
          "output_type": "stream",
          "text": [
            "Datos cargados correctamente\n"
          ]
        }
      ],
      "source": [
        "#Se lee el archivo de un parquet a un dataframe\n",
        "df_taxis = pd.read_parquet(FICHERO_DATA) \n",
        "#Se visualizan los datos\n",
        "print(\"Datos cargados correctamente\")"
      ]
    },
    {
      "attachments": {},
      "cell_type": "markdown",
      "metadata": {},
      "source": [
        "Se visualiza la cantidad de servicios en el tiempo"
      ]
    },
    {
      "cell_type": "code",
      "execution_count": 385,
      "metadata": {},
      "outputs": [
        {
          "data": {
            "image/png": "[encoded data removed]",
            "text/plain": [
              "<Figure size 864x576 with 1 Axes>"
            ]
          },
          "metadata": {
            "needs_background": "light"
          },
          "output_type": "display_data"
        }
      ],
      "source": [
        "dft = df_taxis.copy()\n",
        "service_date = pd.to_datetime(dft['FECHACOMPLETA'], format=FORMAT_COMPLETE_DATE)\n",
        "#Se crea un nuevo campo con la fecha en formato YYYY-MM-DD\n",
        "dft['FECHA'] = service_date.dt.strftime(FORMAT_DATE)\n",
        "\n",
        "#Eliminamos las columan que no son útiles para el modelo\n",
        "dft = dft.drop(columns=[\"IDCIUDAD\",\"USUARIO\",\"ID\",\"LATITUDDESTINO\",\"LONGITUDDESTINO\",\"LATITUD\",\"LONGITUD\",\"FECHACOMPLETA\",\"ORIGEN\",\"ESTADO\"])\n",
        "#Se eliminan los valores duplicados del dataframe y se ordenan por los campos más relevangtes\n",
        "dft = dft.drop_duplicates().sort_values(by=['FECHA','TELEFONOORIGEN','DIADESEMANA','HORA'])\n",
        "#Se reindexa nuevamente el dataFrame\n",
        "dft = dft.reset_index(drop=True)\n",
        "\n",
        "dft.groupby(['FECHA'])['FECHA'].count().plot(kind='line',stacked=True, fontsize=14, xlabel=\"Mes\", ylabel=\"Cantidad servicios\", figsize=(12,8), title=\"Servicios por periodo\", rot=45)\n",
        "plt.show()"
      ]
    },
    {
      "cell_type": "code",
      "execution_count": 144,
      "metadata": {},
      "outputs": [
        {
          "data": {
            "text/plain": [
              "MultiIndex([('2022-05-06',),\n",
              "            ('2022-05-06',)],\n",
              "           names=['FECHA'])"
            ]
          },
          "execution_count": 144,
          "metadata": {},
          "output_type": "execute_result"
        }
      ],
      "source": [
        "dft_new = dft_serie.to_frame(name=\"SERVICES\")\n",
        "dft_new.index[[0,0]]\n",
        "#dft_new.drop([5,6], axis=0, inplace=False)"
      ]
    },
    {
      "cell_type": "markdown",
      "metadata": {},
      "source": [
        "Se filtra el dataset con los valores a utilizar en las pruebas del modelo 8 semanas anteriores y una semana después"
      ]
    },
    {
      "cell_type": "code",
      "execution_count": 386,
      "metadata": {},
      "outputs": [
        {
          "name": "stdout",
          "output_type": "stream",
          "text": [
            "Se restringe el dataset desde la fecha:2021-12-31 00:00:00 - hasta la fecha:2022-02-18 00:00:00\n"
          ]
        }
      ],
      "source": [
        "print(f\"Se restringe el dataset desde la fecha:{last_date_dataset} - hasta la fecha:{first_date_dataset}\")\n",
        "\n",
        "#Se particiona el dataframe desde la fecha inicial y hasta la fecha final de entrenamiento\n",
        "df_taxis = df_taxis[ (pd.to_datetime(df_taxis['FECHACOMPLETA'], format=FORMAT_DATE) >= last_date_dataset) & (pd.to_datetime(df_taxis['FECHACOMPLETA'], format=FORMAT_DATE) <= first_date_dataset) ]\n",
        "df_taxis = df_taxis.sort_values(by=['FECHACOMPLETA','USUARIO'])"
      ]
    },
    {
      "cell_type": "markdown",
      "metadata": {},
      "source": [
        "Visualizamos los tipos de datos del dataset"
      ]
    },
    {
      "cell_type": "code",
      "execution_count": 387,
      "metadata": {},
      "outputs": [
        {
          "name": "stdout",
          "output_type": "stream",
          "text": [
            "<class 'pandas.core.frame.DataFrame'>\n",
            "Int64Index: 1965568 entries, 7136006 to 6511991\n",
            "Data columns (total 13 columns):\n",
            " #   Column           Dtype  \n",
            "---  ------           -----  \n",
            " 0   ID               int64  \n",
            " 1   IDCIUDAD         int64  \n",
            " 2   USUARIO          float64\n",
            " 3   TELEFONOORIGEN   object \n",
            " 4   LATITUD          float64\n",
            " 5   LATITUDDESTINO   float64\n",
            " 6   LONGITUD         float64\n",
            " 7   LONGITUDDESTINO  float64\n",
            " 8   ESTADO           object \n",
            " 9   ORIGEN           object \n",
            " 10  FECHACOMPLETA    object \n",
            " 11  DIADESEMANA      int64  \n",
            " 12  HORA             int64  \n",
            "dtypes: float64(5), int64(4), object(4)\n",
            "memory usage: 209.9+ MB\n"
          ]
        }
      ],
      "source": [
        "df_taxis.info()"
      ]
    },
    {
      "cell_type": "code",
      "execution_count": 388,
      "metadata": {},
      "outputs": [
        {
          "data": {
            "text/html": [
              "<div>\n",
              "<style scoped>\n",
              "    .dataframe tbody tr th:only-of-type {\n",
              "        vertical-align: middle;\n",
              "    }\n",
              "\n",
              "    .dataframe tbody tr th {\n",
              "        vertical-align: top;\n",
              "    }\n",
              "\n",
              "    .dataframe thead th {\n",
              "        text-align: right;\n",
              "    }\n",
              "</style>\n",
              "<table border=\"1\" class=\"dataframe\">\n",
              "  <thead>\n",
              "    <tr style=\"text-align: right;\">\n",
              "      <th></th>\n",
              "      <th>ID</th>\n",
              "      <th>IDCIUDAD</th>\n",
              "      <th>USUARIO</th>\n",
              "      <th>TELEFONOORIGEN</th>\n",
              "      <th>LATITUD</th>\n",
              "      <th>LATITUDDESTINO</th>\n",
              "      <th>LONGITUD</th>\n",
              "      <th>LONGITUDDESTINO</th>\n",
              "      <th>ESTADO</th>\n",
              "      <th>ORIGEN</th>\n",
              "      <th>FECHACOMPLETA</th>\n",
              "      <th>DIADESEMANA</th>\n",
              "      <th>HORA</th>\n",
              "    </tr>\n",
              "  </thead>\n",
              "  <tbody>\n",
              "    <tr>\n",
              "      <th>7136006</th>\n",
              "      <td>63983915</td>\n",
              "      <td>11001</td>\n",
              "      <td>2719167.0</td>\n",
              "      <td>3214021236</td>\n",
              "      <td>4.628937</td>\n",
              "      <td>4.57656</td>\n",
              "      <td>-74.202835</td>\n",
              "      <td>-74.11431</td>\n",
              "      <td>ABANDONADO</td>\n",
              "      <td>APP</td>\n",
              "      <td>2021-12-31 19:00:00</td>\n",
              "      <td>6</td>\n",
              "      <td>19</td>\n",
              "    </tr>\n",
              "    <tr>\n",
              "      <th>7136005</th>\n",
              "      <td>63983914</td>\n",
              "      <td>11001</td>\n",
              "      <td>8434828.0</td>\n",
              "      <td>3124567009</td>\n",
              "      <td>4.582252</td>\n",
              "      <td>NaN</td>\n",
              "      <td>-74.141698</td>\n",
              "      <td>NaN</td>\n",
              "      <td>ABANDONADO</td>\n",
              "      <td>APP</td>\n",
              "      <td>2021-12-31 19:00:00</td>\n",
              "      <td>6</td>\n",
              "      <td>19</td>\n",
              "    </tr>\n",
              "    <tr>\n",
              "      <th>7136007</th>\n",
              "      <td>63983916</td>\n",
              "      <td>11001</td>\n",
              "      <td>8955369.0</td>\n",
              "      <td>3212101273</td>\n",
              "      <td>4.581140</td>\n",
              "      <td>2.95656</td>\n",
              "      <td>-74.167433</td>\n",
              "      <td>-75.28462</td>\n",
              "      <td>CANCELADO</td>\n",
              "      <td>APP</td>\n",
              "      <td>2021-12-31 19:00:00</td>\n",
              "      <td>6</td>\n",
              "      <td>19</td>\n",
              "    </tr>\n",
              "    <tr>\n",
              "      <th>7136012</th>\n",
              "      <td>63983921</td>\n",
              "      <td>11001</td>\n",
              "      <td>3276764.0</td>\n",
              "      <td>16753179</td>\n",
              "      <td>4.727365</td>\n",
              "      <td>NaN</td>\n",
              "      <td>-74.043887</td>\n",
              "      <td>NaN</td>\n",
              "      <td>ABANDONADO</td>\n",
              "      <td>IVR</td>\n",
              "      <td>2021-12-31 19:00:01</td>\n",
              "      <td>6</td>\n",
              "      <td>19</td>\n",
              "    </tr>\n",
              "    <tr>\n",
              "      <th>7136011</th>\n",
              "      <td>63983920</td>\n",
              "      <td>11001</td>\n",
              "      <td>8447455.0</td>\n",
              "      <td>3102643548</td>\n",
              "      <td>4.660441</td>\n",
              "      <td>NaN</td>\n",
              "      <td>-74.064196</td>\n",
              "      <td>NaN</td>\n",
              "      <td>ABANDONADO</td>\n",
              "      <td>APP</td>\n",
              "      <td>2021-12-31 19:00:01</td>\n",
              "      <td>6</td>\n",
              "      <td>19</td>\n",
              "    </tr>\n",
              "  </tbody>\n",
              "</table>\n",
              "</div>"
            ],
            "text/plain": [
              "               ID  IDCIUDAD    USUARIO TELEFONOORIGEN   LATITUD  \\\n",
              "7136006  63983915     11001  2719167.0     3214021236  4.628937   \n",
              "7136005  63983914     11001  8434828.0     3124567009  4.582252   \n",
              "7136007  63983916     11001  8955369.0     3212101273  4.581140   \n",
              "7136012  63983921     11001  3276764.0       16753179  4.727365   \n",
              "7136011  63983920     11001  8447455.0     3102643548  4.660441   \n",
              "\n",
              "         LATITUDDESTINO   LONGITUD  LONGITUDDESTINO      ESTADO ORIGEN  \\\n",
              "7136006         4.57656 -74.202835        -74.11431  ABANDONADO    APP   \n",
              "7136005             NaN -74.141698              NaN  ABANDONADO    APP   \n",
              "7136007         2.95656 -74.167433        -75.28462   CANCELADO    APP   \n",
              "7136012             NaN -74.043887              NaN  ABANDONADO    IVR   \n",
              "7136011             NaN -74.064196              NaN  ABANDONADO    APP   \n",
              "\n",
              "               FECHACOMPLETA  DIADESEMANA  HORA  \n",
              "7136006  2021-12-31 19:00:00            6    19  \n",
              "7136005  2021-12-31 19:00:00            6    19  \n",
              "7136007  2021-12-31 19:00:00            6    19  \n",
              "7136012  2021-12-31 19:00:01            6    19  \n",
              "7136011  2021-12-31 19:00:01            6    19  "
            ]
          },
          "execution_count": 388,
          "metadata": {},
          "output_type": "execute_result"
        }
      ],
      "source": [
        "df_taxis.head(5)"
      ]
    },
    {
      "cell_type": "markdown",
      "metadata": {},
      "source": [
        "## Visualización de datos iniciales"
      ]
    },
    {
      "attachments": {},
      "cell_type": "markdown",
      "metadata": {},
      "source": [
        "Se validan los datos categoricos de origen"
      ]
    },
    {
      "cell_type": "code",
      "execution_count": 389,
      "metadata": {},
      "outputs": [
        {
          "data": {
            "image/png": "[encoded data removed]",
            "text/plain": [
              "<Figure size 864x576 with 1 Axes>"
            ]
          },
          "metadata": {
            "needs_background": "light"
          },
          "output_type": "display_data"
        }
      ],
      "source": [
        "#Se visualiza la cantidad por origen\n",
        "plt.figure(figsize=(12,8))\n",
        "sns.histplot(df_taxis['ORIGEN'])\n",
        "plt.xticks(rotation='vertical')\n",
        "plt.show()"
      ]
    },
    {
      "cell_type": "markdown",
      "metadata": {},
      "source": [
        "Se validan los datos categoricos de estado"
      ]
    },
    {
      "cell_type": "code",
      "execution_count": 390,
      "metadata": {},
      "outputs": [
        {
          "data": {
            "image/png": "[encoded data removed]",
            "text/plain": [
              "<Figure size 864x576 with 1 Axes>"
            ]
          },
          "metadata": {
            "needs_background": "light"
          },
          "output_type": "display_data"
        }
      ],
      "source": [
        "#Se visualiza la cantidad de servicios por estado\n",
        "plt.figure(figsize=(12,8))\n",
        "sns.histplot(df_taxis['ESTADO'])\n",
        "plt.xticks(rotation='vertical')\n",
        "plt.show()"
      ]
    },
    {
      "cell_type": "markdown",
      "metadata": {},
      "source": [
        "Se visualizan los datos del dataFrame en un histograma para analizar los datos"
      ]
    },
    {
      "cell_type": "code",
      "execution_count": 391,
      "metadata": {},
      "outputs": [
        {
          "data": {
            "image/png": "[encoded data removed]",
            "text/plain": [
              "<Figure size 1440x720 with 9 Axes>"
            ]
          },
          "metadata": {
            "needs_background": "light"
          },
          "output_type": "display_data"
        }
      ],
      "source": [
        "#Se require presentar gráfica de histograma por cada columna o datos de dataframe\n",
        "df_taxis.hist(figsize=(20,10))\n",
        "plt.show()"
      ]
    },
    {
      "attachments": {},
      "cell_type": "markdown",
      "metadata": {},
      "source": [
        "-Se limitan los datos a la ciudad de bogotá.\n",
        "\n",
        "-Se limita al canal APP que es por donde se reciben la mayoria de los servicios.\n",
        "\n",
        "-Se limitan los estados a ABANDONADO, CUMPLIDO, CANCELADO Y FINALIZADO que son los validos, el restos son errores del proceso."
      ]
    },
    {
      "cell_type": "code",
      "execution_count": 392,
      "metadata": {},
      "outputs": [],
      "source": [
        "#Se filtra el dataset solo para la ciudad de bogotá\n",
        "df_taxis = df_taxis[df_taxis[\"IDCIUDAD\"]==BOGOTA_CODE]\n",
        "df_taxis = df_taxis[(df_taxis[\"ORIGEN\"]==\"APP\")]\n",
        "df_taxis = df_taxis[(df_taxis[\"ESTADO\"]==\"ABANDONADO\") | (df_taxis[\"ESTADO\"]==\"CUMPLIDO\") | (df_taxis[\"ESTADO\"]==\"CANCELADO\") | (df_taxis[\"ESTADO\"]==\"FINALIZADO\")]"
      ]
    },
    {
      "cell_type": "markdown",
      "metadata": {
        "id": "65CC2tpPmJk5"
      },
      "source": [
        "Se valida cuantos valores nulos tenemos en el dataset"
      ]
    },
    {
      "cell_type": "code",
      "execution_count": 393,
      "metadata": {
        "colab": {
          "base_uri": "https://localhost:8080/"
        },
        "id": "TWgKyA9DmHPO",
        "outputId": "be8d5d42-49c6-4b53-8807-6aea60c62573"
      },
      "outputs": [
        {
          "data": {
            "text/plain": [
              "ID                      0\n",
              "IDCIUDAD                0\n",
              "USUARIO                 1\n",
              "TELEFONOORIGEN          0\n",
              "LATITUD                 0\n",
              "LATITUDDESTINO     105161\n",
              "LONGITUD                0\n",
              "LONGITUDDESTINO    105161\n",
              "ESTADO                  0\n",
              "ORIGEN                  0\n",
              "FECHACOMPLETA           0\n",
              "DIADESEMANA             0\n",
              "HORA                    0\n",
              "dtype: int64"
            ]
          },
          "execution_count": 393,
          "metadata": {},
          "output_type": "execute_result"
        }
      ],
      "source": [
        "#Contar cuantos datos se encuentran nulos\n",
        "df_taxis.isnull().sum()"
      ]
    },
    {
      "cell_type": "markdown",
      "metadata": {
        "id": "qA9Hmg3dbGmG"
      },
      "source": [
        "Se crean los campos de fecha sin la hora y el día de la semana"
      ]
    },
    {
      "cell_type": "code",
      "execution_count": 394,
      "metadata": {
        "id": "eT6AHEo2bFZg"
      },
      "outputs": [],
      "source": [
        "service_date = pd.to_datetime(df_taxis['FECHACOMPLETA'], format=FORMAT_COMPLETE_DATE)\n",
        "#Se crea un nuevo campo con la fecha en formato YYYY/MM/DD\n",
        "df_taxis['FECHA'] = service_date.dt.strftime(FORMAT_DATE)\n",
        "#Se crea un nuevo campo con el mes\n",
        "df_taxis['MES'] = service_date.dt.month\n",
        "#Se crea un nuevo campo con la fecha en formato YYYY/MM/DD\n",
        "df_taxis['DIADESEMANA'] = service_date.map( lambda x: x.isoweekday() )"
      ]
    },
    {
      "cell_type": "markdown",
      "metadata": {},
      "source": [
        "Se visualizan las corelaciones entre variables"
      ]
    },
    {
      "cell_type": "code",
      "execution_count": 395,
      "metadata": {},
      "outputs": [
        {
          "data": {
            "image/png": "[encoded data removed]",
            "text/plain": [
              "<Figure size 864x576 with 2 Axes>"
            ]
          },
          "metadata": {
            "needs_background": "light"
          },
          "output_type": "display_data"
        }
      ],
      "source": [
        "plt.figure(figsize=(12,8))\n",
        "sns.heatmap(df_taxis.corr(method='pearson'),annot=True)\n",
        "plt.show()"
      ]
    },
    {
      "cell_type": "markdown",
      "metadata": {},
      "source": [
        "Se visualiza un histograma con la cantidad de servicios por estado"
      ]
    },
    {
      "cell_type": "code",
      "execution_count": 396,
      "metadata": {},
      "outputs": [
        {
          "data": {
            "image/png": "[encoded data removed]",
            "text/plain": [
              "<Figure size 864x576 with 1 Axes>"
            ]
          },
          "metadata": {
            "needs_background": "light"
          },
          "output_type": "display_data"
        }
      ],
      "source": [
        "df_taxis.groupby(['MES','ESTADO'])['ID'].count().unstack('ESTADO').plot(kind='bar',stacked=True, fontsize=14, xlabel=\"Mes\", ylabel=\"Cantidad servicios\", figsize=(12,8), title=\"Servicios por periodo\", rot=0)\n",
        "plt.show()"
      ]
    },
    {
      "cell_type": "markdown",
      "metadata": {},
      "source": [
        "Se eliminan los datos que no se necesitan para predecir el modelo"
      ]
    },
    {
      "cell_type": "code",
      "execution_count": 397,
      "metadata": {},
      "outputs": [
        {
          "data": {
            "text/html": [
              "<div>\n",
              "<style scoped>\n",
              "    .dataframe tbody tr th:only-of-type {\n",
              "        vertical-align: middle;\n",
              "    }\n",
              "\n",
              "    .dataframe tbody tr th {\n",
              "        vertical-align: top;\n",
              "    }\n",
              "\n",
              "    .dataframe thead th {\n",
              "        text-align: right;\n",
              "    }\n",
              "</style>\n",
              "<table border=\"1\" class=\"dataframe\">\n",
              "  <thead>\n",
              "    <tr style=\"text-align: right;\">\n",
              "      <th></th>\n",
              "      <th>TELEFONOORIGEN</th>\n",
              "      <th>DIADESEMANA</th>\n",
              "      <th>HORA</th>\n",
              "      <th>FECHA</th>\n",
              "    </tr>\n",
              "  </thead>\n",
              "  <tbody>\n",
              "    <tr>\n",
              "      <th>0</th>\n",
              "      <td>3002000029</td>\n",
              "      <td>5</td>\n",
              "      <td>21</td>\n",
              "      <td>2021-12-31</td>\n",
              "    </tr>\n",
              "    <tr>\n",
              "      <th>1</th>\n",
              "      <td>3002002657</td>\n",
              "      <td>5</td>\n",
              "      <td>22</td>\n",
              "      <td>2021-12-31</td>\n",
              "    </tr>\n",
              "    <tr>\n",
              "      <th>2</th>\n",
              "      <td>3002005739</td>\n",
              "      <td>5</td>\n",
              "      <td>20</td>\n",
              "      <td>2021-12-31</td>\n",
              "    </tr>\n",
              "    <tr>\n",
              "      <th>3</th>\n",
              "      <td>3002047301</td>\n",
              "      <td>5</td>\n",
              "      <td>19</td>\n",
              "      <td>2021-12-31</td>\n",
              "    </tr>\n",
              "    <tr>\n",
              "      <th>4</th>\n",
              "      <td>3002047301</td>\n",
              "      <td>5</td>\n",
              "      <td>20</td>\n",
              "      <td>2021-12-31</td>\n",
              "    </tr>\n",
              "  </tbody>\n",
              "</table>\n",
              "</div>"
            ],
            "text/plain": [
              "  TELEFONOORIGEN  DIADESEMANA  HORA       FECHA\n",
              "0     3002000029            5    21  2021-12-31\n",
              "1     3002002657            5    22  2021-12-31\n",
              "2     3002005739            5    20  2021-12-31\n",
              "3     3002047301            5    19  2021-12-31\n",
              "4     3002047301            5    20  2021-12-31"
            ]
          },
          "execution_count": 397,
          "metadata": {},
          "output_type": "execute_result"
        }
      ],
      "source": [
        "#Eliminamos las columan que no son útiles para el modelo\n",
        "df_taxis = df_taxis.drop(columns=[\"IDCIUDAD\",\"USUARIO\",\"ID\",\"LATITUDDESTINO\",\"LONGITUDDESTINO\",\"LATITUD\",\"LONGITUD\",\"FECHACOMPLETA\",\"ORIGEN\",\"ESTADO\",\"MES\"])\n",
        "#Se eliminan los valores duplicados del dataframe y se ordenan por los campos más relevangtes\n",
        "df_taxis = df_taxis.drop_duplicates().sort_values(by=['FECHA','TELEFONOORIGEN','DIADESEMANA','HORA'])\n",
        "#Se reindexa nuevamente el dataFrame\n",
        "df_taxis = df_taxis.reset_index(drop=True)\n",
        "#Se visualizan como queda el dataFrame\n",
        "df_taxis.head(5)"
      ]
    },
    {
      "cell_type": "code",
      "execution_count": 398,
      "metadata": {},
      "outputs": [
        {
          "data": {
            "image/png": "[encoded data removed]",
            "text/plain": [
              "<Figure size 864x288 with 1 Axes>"
            ]
          },
          "metadata": {
            "needs_background": "light"
          },
          "output_type": "display_data"
        }
      ],
      "source": [
        "fig, ax = plt.subplots(figsize=(12, 4))\n",
        "s_taxis = df_taxis.groupby(['DIADESEMANA','HORA'])['FECHA'].count()\n",
        "s_taxis.plot(ax=ax)\n",
        "_ = ax.set(\n",
        "    title=\"Cantidad de servicios durante la semana\",\n",
        "    xticks=[i * 24 for i in range(7)],\n",
        "    xticklabels=[\"Dom\", \"Lun\", \"Mar\", \"Mie\", \"Jue\", \"Vie\", \"Sab\"],\n",
        "    xlabel=\"Día de la semana\",\n",
        "    ylabel=\"Número de servicvios\",\n",
        ")"
      ]
    },
    {
      "cell_type": "markdown",
      "metadata": {},
      "source": [
        "Se contabilizan cuantos servicios tiene asignado un teléfono después de eliminar los duplicados"
      ]
    },
    {
      "cell_type": "code",
      "execution_count": 399,
      "metadata": {},
      "outputs": [
        {
          "data": {
            "text/plain": [
              "TELEFONOORIGEN\n",
              "3107584482        222\n",
              "3503758291        181\n",
              "3132880597        156\n",
              "3017223869        146\n",
              "3044717854        141\n",
              "                 ... \n",
              "3164541446          1\n",
              "3104568467          1\n",
              "3164539772          1\n",
              "3164537852          1\n",
              "3177475408          1\n",
              "Length: 156907, dtype: int64"
            ]
          },
          "execution_count": 399,
          "metadata": {},
          "output_type": "execute_result"
        }
      ],
      "source": [
        "count_services = df_taxis.loc[:,['TELEFONOORIGEN']].value_counts()\n",
        "count_services"
      ]
    },
    {
      "cell_type": "markdown",
      "metadata": {},
      "source": [
        "Se observa la distribución de los datos"
      ]
    },
    {
      "cell_type": "code",
      "execution_count": 400,
      "metadata": {},
      "outputs": [
        {
          "data": {
            "text/plain": [
              "count    156907.000000\n",
              "mean          4.316104\n",
              "std           6.880878\n",
              "min           1.000000\n",
              "25%           1.000000\n",
              "50%           2.000000\n",
              "75%           4.000000\n",
              "max         222.000000\n",
              "dtype: float64"
            ]
          },
          "execution_count": 400,
          "metadata": {},
          "output_type": "execute_result"
        }
      ],
      "source": [
        "#Se visualizan los valores de los datos\n",
        "count_services.describe()"
      ]
    },
    {
      "attachments": {},
      "cell_type": "markdown",
      "metadata": {},
      "source": [
        "Se calcula los outliers de los datos"
      ]
    },
    {
      "cell_type": "code",
      "execution_count": 401,
      "metadata": {},
      "outputs": [
        {
          "name": "stdout",
          "output_type": "stream",
          "text": [
            "El porcentaje del quartil 25: 1.0\n",
            "El porcentaje del quartil 75: 4.0\n",
            "El rango inter quartil es: 3.0\n"
          ]
        }
      ],
      "source": [
        "#Se calcula el quartil 25\n",
        "q25 = count_services.quantile(0.25)\n",
        "#Se calcula el quartil 50\n",
        "q50 = count_services.quantile(0.5)\n",
        "#Se calcula el quartil 75\n",
        "q75 = count_services.quantile(0.75)\n",
        "#Se calcula el rango inter quartil\n",
        "iqr = q75 - q25\n",
        "\n",
        "print(f\"El porcentaje del quartil 25: {q25}\")\n",
        "print(f\"El porcentaje del quartil 75: {q75}\")\n",
        "print(f\"El rango inter quartil es: {iqr}\")"
      ]
    },
    {
      "cell_type": "markdown",
      "metadata": {},
      "source": [
        "Se calcula el umbral de los valores atípicos"
      ]
    },
    {
      "cell_type": "code",
      "execution_count": 402,
      "metadata": {},
      "outputs": [
        {
          "name": "stdout",
          "output_type": "stream",
          "text": [
            "El umbral de los valores atípicos es: 13.0\n",
            "La cantidad de valores atípicos son: 9900\n"
          ]
        }
      ],
      "source": [
        "#Se calcula el umbral de los  valores atípicos\n",
        "outliers_threshold = ( q75 + 3 * iqr )\n",
        "print(f\"El umbral de los valores atípicos es: {outliers_threshold}\")\n",
        "print(f\"La cantidad de valores atípicos son: {sum(count_services > outliers_threshold) }\")"
      ]
    },
    {
      "attachments": {},
      "cell_type": "markdown",
      "metadata": {},
      "source": [
        "Se eliminan los outliers de los datos de train"
      ]
    },
    {
      "cell_type": "code",
      "execution_count": 403,
      "metadata": {},
      "outputs": [],
      "source": [
        "#df_taxis = df_taxis.groupby('TELEFONOORIGEN').filter(lambda x: (x['TELEFONOORIGEN'].count() <= outliers_threshold) & (x['TELEFONOORIGEN'].count() > q75) )\n",
        "df_taxis = df_taxis.groupby('TELEFONOORIGEN').filter(lambda x: (x['TELEFONOORIGEN'].count() > outliers_threshold) )\n",
        "#Se visualizan los datos agrupados por mes para determinar cuantos servicios tomó un usuario\n",
        "#df_taxis.groupby(['MES','TELEFONOORIGEN'])['TELEFONOORIGEN'].count()"
      ]
    },
    {
      "attachments": {},
      "cell_type": "markdown",
      "metadata": {},
      "source": [
        "Se Validan los datos del dataset"
      ]
    },
    {
      "cell_type": "code",
      "execution_count": 404,
      "metadata": {},
      "outputs": [
        {
          "data": {
            "text/plain": [
              "count    9900.000000\n",
              "mean       25.020404\n",
              "std        13.682176\n",
              "min        14.000000\n",
              "25%        16.000000\n",
              "50%        20.000000\n",
              "75%        29.000000\n",
              "max       222.000000\n",
              "dtype: float64"
            ]
          },
          "execution_count": 404,
          "metadata": {},
          "output_type": "execute_result"
        }
      ],
      "source": [
        "df_taxis.loc[:,['TELEFONOORIGEN']].value_counts().describe()"
      ]
    },
    {
      "cell_type": "markdown",
      "metadata": {},
      "source": [
        "### VISUALIZACIÓN DE DATOS\n",
        "\n",
        "* Gráfico de dispersión de las variables\n",
        "* Gráfico de distribución de las variables (Baja distribución, Baja predicción)\n",
        "* Gráficas de correlación (Mapa de calor)"
      ]
    },
    {
      "cell_type": "code",
      "execution_count": 405,
      "metadata": {},
      "outputs": [
        {
          "data": {
            "image/png": "[encoded data removed]",
            "text/plain": [
              "<Figure size 360x360 with 6 Axes>"
            ]
          },
          "metadata": {
            "needs_background": "light"
          },
          "output_type": "display_data"
        }
      ],
      "source": [
        "#Se presenta un gráfico general de los datos\n",
        "sns.pairplot(df_taxis)\n",
        "plt.show()"
      ]
    },
    {
      "attachments": {},
      "cell_type": "markdown",
      "metadata": {},
      "source": [
        "Se muestra la matriz de correlación"
      ]
    },
    {
      "cell_type": "code",
      "execution_count": 406,
      "metadata": {},
      "outputs": [
        {
          "data": {
            "text/html": [
              "<div>\n",
              "<style scoped>\n",
              "    .dataframe tbody tr th:only-of-type {\n",
              "        vertical-align: middle;\n",
              "    }\n",
              "\n",
              "    .dataframe tbody tr th {\n",
              "        vertical-align: top;\n",
              "    }\n",
              "\n",
              "    .dataframe thead th {\n",
              "        text-align: right;\n",
              "    }\n",
              "</style>\n",
              "<table border=\"1\" class=\"dataframe\">\n",
              "  <thead>\n",
              "    <tr style=\"text-align: right;\">\n",
              "      <th></th>\n",
              "      <th>DIADESEMANA</th>\n",
              "      <th>HORA</th>\n",
              "    </tr>\n",
              "  </thead>\n",
              "  <tbody>\n",
              "    <tr>\n",
              "      <th>DIADESEMANA</th>\n",
              "      <td>1.000000</td>\n",
              "      <td>0.034171</td>\n",
              "    </tr>\n",
              "    <tr>\n",
              "      <th>HORA</th>\n",
              "      <td>0.034171</td>\n",
              "      <td>1.000000</td>\n",
              "    </tr>\n",
              "  </tbody>\n",
              "</table>\n",
              "</div>"
            ],
            "text/plain": [
              "             DIADESEMANA      HORA\n",
              "DIADESEMANA     1.000000  0.034171\n",
              "HORA            0.034171  1.000000"
            ]
          },
          "execution_count": 406,
          "metadata": {},
          "output_type": "execute_result"
        }
      ],
      "source": [
        "corr_matrix = df_taxis.corr()\n",
        "corr_matrix"
      ]
    },
    {
      "attachments": {},
      "cell_type": "markdown",
      "metadata": {},
      "source": [
        "Se visualizan las relación entre variables de los datos"
      ]
    },
    {
      "cell_type": "code",
      "execution_count": 407,
      "metadata": {},
      "outputs": [
        {
          "data": {
            "text/plain": [
              "Text(0.5, 51.0, 'X')"
            ]
          },
          "execution_count": 407,
          "metadata": {},
          "output_type": "execute_result"
        },
        {
          "data": {
            "image/png": "[encoded data removed]",
            "text/plain": [
              "<Figure size 864x576 with 2 Axes>"
            ]
          },
          "metadata": {
            "needs_background": "light"
          },
          "output_type": "display_data"
        }
      ],
      "source": [
        "f, ax = plt.subplots(figsize=(12, 8))\n",
        "mask = np.triu(np.ones_like(corr_matrix, dtype=bool))\n",
        "cmap = sns.diverging_palette(230, 20, as_cmap=True)\n",
        "sns.heatmap(corr_matrix, annot=True, mask = mask, cmap=cmap )\n",
        "plt.title('Relacion entre variables del dataframe',fontsize=20,fontname='serif')\n",
        "plt.ylabel('Y', color='green', fontsize=25)\n",
        "plt.xlabel('X', color='Red', fontsize=25)"
      ]
    },
    {
      "cell_type": "markdown",
      "metadata": {},
      "source": [
        "### EXPERIMENTOS CON DIFERENTES ENTRENAMIENTOS"
      ]
    },
    {
      "cell_type": "code",
      "execution_count": 408,
      "metadata": {},
      "outputs": [
        {
          "data": {
            "text/plain": [
              "\"\\n#Funcion que permite llenar los servicios tomados con 1 y los no tomados con 0\\ndef setDataService(data, from_date, to_date):\\n  remaining_days = to_date.date() - from_date.date()\\n  service_array = []\\n  for i in range(remaining_days.days+1):\\n    last_time = from_date + timedelta(days=i)\\n    if last_time.date().isoweekday() == to_date.date().isoweekday():\\n      for hour in range(HOURS_OF_DAY):\\n        #Se filtra por el mismo día de la semana, fecha y hora\\n        df_service = data[(data['DIADESEMANA'] == last_time.isoweekday()) & (data['FECHA'] == last_time.strftime(FORMAT_DATE)) & (data['HORA'] == hour) ].to_numpy()\\n        if len(df_service) > 0:\\n          #Se llena con valor en 1 porqué se encontró un servicio\\n          service_array.append(np.append(df_service, 1))\\n        else:\\n          #Se llena con valor en 0 porqué no se encontró ningún servicio\\n          service_array.append([last_time.isoweekday(),hour,last_time.month,last_time.date().strftime(FORMAT_DATE),0])\\n  return pd.DataFrame(service_array, \\n             columns=np.append(np.array(data.columns.tolist()), 'SERVICIO'))\\n\""
            ]
          },
          "execution_count": 408,
          "metadata": {},
          "output_type": "execute_result"
        }
      ],
      "source": [
        "\n",
        "\"\"\"\n",
        "#Funcion que permite llenar los servicios tomados con 1 y los no tomados con 0\n",
        "def setDataService(data, from_date, to_date):\n",
        "  remaining_days = to_date.date() - from_date.date()\n",
        "  service_array = []\n",
        "  for i in range(remaining_days.days+1):\n",
        "    last_time = from_date + timedelta(days=i)\n",
        "    if last_time.date().isoweekday() == to_date.date().isoweekday():\n",
        "      for hour in range(HOURS_OF_DAY):\n",
        "        #Se filtra por el mismo día de la semana, fecha y hora\n",
        "        df_service = data[(data['DIADESEMANA'] == last_time.isoweekday()) & (data['FECHA'] == last_time.strftime(FORMAT_DATE)) & (data['HORA'] == hour) ].to_numpy()\n",
        "        if len(df_service) > 0:\n",
        "          #Se llena con valor en 1 porqué se encontró un servicio\n",
        "          service_array.append(np.append(df_service, 1))\n",
        "        else:\n",
        "          #Se llena con valor en 0 porqué no se encontró ningún servicio\n",
        "          service_array.append([last_time.isoweekday(),hour,last_time.month,last_time.date().strftime(FORMAT_DATE),0])\n",
        "  return pd.DataFrame(service_array, \n",
        "             columns=np.append(np.array(data.columns.tolist()), 'SERVICIO'))\n",
        "\"\"\""
      ]
    },
    {
      "cell_type": "code",
      "execution_count": 409,
      "metadata": {},
      "outputs": [],
      "source": [
        "#limites de decision\n",
        "def make_meshgrid(X, step=.02):\n",
        "    x = X.iloc[:,0].values\n",
        "    y = X.iloc[:,1].values\n",
        "    x_min, x_max = x.min() - 1, x.max() + 1\n",
        "    y_min, y_max = y.min() - 1, y.max() + 1\n",
        "    xx, yy = np.meshgrid(np.arange(x_min, x_max, step), np.arange(y_min, y_max, step))\n",
        "    return xx, yy\n",
        "\n",
        "def plot_contours(ax, clf, X, y, **params):\n",
        "\n",
        "    markers = ('o', 's', '^', 'v', '<')\n",
        "    colors = ('red', 'blue', 'cyan', 'gray')\n",
        "    cmap = ListedColormap(colors[:len(np.unique(y))])\n",
        "\n",
        "    xx, yy = make_meshgrid(X)\n",
        "    Z = clf.predict(np.c_[xx.ravel(), yy.ravel()])\n",
        "    Z = Z.reshape(xx.shape)\n",
        "\n",
        "    ax.set_xlim(xx.min(), xx.max())\n",
        "    ax.set_ylim(yy.min(), yy.max())\n",
        "\n",
        "    # plot class examples\n",
        "    for idx, cl in enumerate(np.unique(y)):\n",
        "        Z[Z == cl] = idx\n",
        "        ax.scatter(X.loc[y == cl, X.columns[0]], \n",
        "                    X.loc[y == cl, X.columns[1]],\n",
        "                    alpha=0.8, \n",
        "                    c=colors[idx],\n",
        "                    marker=markers[idx],\n",
        "                    label=cl, \n",
        "                    edgecolor='black',\n",
        "                    cmap=cmap,\n",
        "                    s=50)\n",
        "    \n",
        "    ax.legend()\n",
        "    ax.set_ylabel(X.columns[1])\n",
        "    ax.set_xlabel(X.columns[0])\n",
        "    ax.set_title(clf.__class__.__name__)\n",
        "    ax.grid()    \n",
        "    out = ax.contourf(xx, yy, Z, alpha=0.2, cmap=cmap)\n",
        "    \n",
        "    return out"
      ]
    },
    {
      "cell_type": "code",
      "execution_count": 410,
      "metadata": {},
      "outputs": [],
      "source": [
        "#ROC Y AUC\n",
        "def ROC(X, y, model):\n",
        "\n",
        "  X_train, X_test, y_train, y_test = train_test_split(X, y, test_size=0.4, random_state=42)\n",
        "\n",
        "  clf = OneVsRestClassifier(model)\n",
        "  clf.fit(X_train, y_train)\n",
        "  pred = clf.predict(X_test)\n",
        "  pred_prob = clf.predict_proba(X_test)\n",
        "  pred_prob = np.nan_to_num(pred_prob)\n",
        "\n",
        "  fpr = {}\n",
        "  tpr = {}\n",
        "  thresh ={}\n",
        "\n",
        "  fig, ax = plt.subplots(figsize=(10,8))\n",
        "  colors = ('orange', 'green', 'blue')\n",
        "  \n",
        "  for index, label_ in enumerate(y.unique()):\n",
        "    fpr[label_], tpr[label_], thresh[label_] = roc_curve(y_test, pred_prob[:,index], pos_label=label_) \n",
        "    ax.plot(fpr[label_], tpr[label_], linestyle='--',color=colors[index], label=label_)\n",
        "  \n",
        "  ax.plot([0, 1], [0, 1], linestyle='--',color='red', label='No Skill')\n",
        "  ax.set_title(f'Multiclass ROC curve -  {model.__class__.__name__}')\n",
        "  ax.set_xlabel('False Positive Rate')\n",
        "  ax.set_ylabel('True Positive rate')\n",
        "  ax.grid(True)\n",
        "  plt.show()\n",
        "\n",
        "  return ax.legend(loc='best')"
      ]
    },
    {
      "cell_type": "markdown",
      "metadata": {},
      "source": [
        "Funcion que permite entrenar el modelo y predecir con los valores de pruebas"
      ]
    },
    {
      "cell_type": "code",
      "execution_count": 411,
      "metadata": {},
      "outputs": [],
      "source": [
        "def predictModel(model, X_train, y_train, X_test):\n",
        "    #A continuación se entrena el modelo\n",
        "    model.fit(X_train, y_train)\n",
        "    #Se crean las predicciones para pruebas\n",
        "    y_pred = model.predict(X_test)\n",
        "    #Se crean las probabilidades para pruebas\n",
        "    y_prob = model.predict_proba(X_test)\n",
        "    return model, y_pred, y_prob"
      ]
    },
    {
      "cell_type": "markdown",
      "metadata": {},
      "source": [
        "Función que permite evaluar el modelo de los K vecinos"
      ]
    },
    {
      "cell_type": "code",
      "execution_count": 490,
      "metadata": {},
      "outputs": [],
      "source": [
        "def knnModel(X_train, y_train, X_test):\n",
        "    #Se aplica el modelo de K vecinos\n",
        "    model = KNeighborsClassifier(n_neighbors=3)\n",
        "    return predictModel(model, X_train, y_train, X_test)"
      ]
    },
    {
      "cell_type": "markdown",
      "metadata": {},
      "source": [
        "Función que permite evaluar el modelo de perceptrones multi capa"
      ]
    },
    {
      "cell_type": "code",
      "execution_count": 413,
      "metadata": {},
      "outputs": [],
      "source": [
        "def mlpModel(X_train, y_train, X_test):\n",
        "    #Se aplica el modelo de perceptrones multi capa\n",
        "    model = MLPClassifier(solver='lbfgs', alpha=1e-5,hidden_layer_sizes=(30,30, 30), random_state=1,learning_rate_init=0.001,max_iter=5000)\n",
        "    return predictModel(model, X_train, y_train, X_test)"
      ]
    },
    {
      "attachments": {},
      "cell_type": "markdown",
      "metadata": {},
      "source": [
        "Función que permite evaluar el modelo de perceptrones"
      ]
    },
    {
      "cell_type": "code",
      "execution_count": 414,
      "metadata": {},
      "outputs": [],
      "source": [
        "def perModel(X_train, y_train, X_test):\n",
        "    #Se aplica el modelo de perceptrones multi capa\n",
        "    model = Perceptron(eta0=0.1, n_iter_no_change=10, random_state=1)\n",
        "    return predictModel(model, X_train, y_train, X_test)"
      ]
    },
    {
      "cell_type": "markdown",
      "metadata": {},
      "source": [
        "Función que permite evaluar el modelo de regesión logística"
      ]
    },
    {
      "cell_type": "code",
      "execution_count": 415,
      "metadata": {},
      "outputs": [],
      "source": [
        "def lrModel(X_train, y_train, X_test):\n",
        "    #Se aplica el modelo de de regesión logística\n",
        "    model = LogisticRegression(random_state = 1)\n",
        "    return predictModel(model, X_train, y_train, X_test)"
      ]
    },
    {
      "cell_type": "markdown",
      "metadata": {},
      "source": [
        "Función que permite evaluar el modelo de los arboles aleatorios"
      ]
    },
    {
      "cell_type": "code",
      "execution_count": 416,
      "metadata": {},
      "outputs": [],
      "source": [
        "def rfcModel(X_train, y_train, X_test):\n",
        "    #Se aplica el modelo de los arboles aleatorios\n",
        "    model = RandomForestClassifier(criterion='gini', max_depth=5, n_estimators=200, class_weight=\"balanced\")\n",
        "    return predictModel(model, X_train, y_train, X_test)"
      ]
    },
    {
      "cell_type": "markdown",
      "metadata": {},
      "source": [
        "Función que permite evaluar el modelo de máquina de soporte de vectores"
      ]
    },
    {
      "cell_type": "code",
      "execution_count": 417,
      "metadata": {},
      "outputs": [],
      "source": [
        "def svcModel(X_train, y_train, X_test):\n",
        "    #Se aplica el modelo de máquina de soporte de vectores\n",
        "    model = SVC(kernel='rbf', random_state=1, gamma=0.2, C=1.0, class_weight='balanced')#, class_weight='balanced'\n",
        "    return predictModel(model, X_train, y_train, X_test)"
      ]
    },
    {
      "cell_type": "markdown",
      "metadata": {},
      "source": [
        "Función que permite evaluar el modelo de los arboles de desiciones"
      ]
    },
    {
      "cell_type": "code",
      "execution_count": 418,
      "metadata": {},
      "outputs": [],
      "source": [
        "def dtcModel(X_train, y_train, X_test,):\n",
        "    #Se aplica el modelo de los arboles de desiciones\n",
        "    model = DecisionTreeClassifier(criterion='gini', max_depth=3, class_weight='balanced')#class_weight={0: 1, 1: 5}\n",
        "    return predictModel(model, X_train, y_train, X_test)"
      ]
    },
    {
      "cell_type": "markdown",
      "metadata": {},
      "source": [
        "Función que permite evaluar el modelo de gradiente descendente estocástico"
      ]
    },
    {
      "cell_type": "code",
      "execution_count": 419,
      "metadata": {},
      "outputs": [],
      "source": [
        "def sgdModel(X_train, y_train, X_test,):\n",
        "    #Se aplica el modelo de gradiente descendente estocástico\n",
        "    model =SGDClassifier(loss='huber', random_state=1, max_iter=2000, epsilon=0.1)#loss='hinge'\n",
        "    return predictModel(model, X_train, y_train, X_test)"
      ]
    },
    {
      "cell_type": "markdown",
      "metadata": {},
      "source": [
        "Función que permite mostrar la visualización de los datos con subplot"
      ]
    },
    {
      "cell_type": "code",
      "execution_count": 420,
      "metadata": {},
      "outputs": [],
      "source": [
        "def dataVisualization(df_train):\n",
        "    #Se visualiza los datos por columnas de entrenamiento\n",
        "    fig, axes = plt.subplots(1, len(df_train.columns))\n",
        "    fig.set_size_inches(21,6)\n",
        "    for i, column in enumerate(df_train.columns):\n",
        "        sns.histplot(df_train[column], kde=True, ax=axes[i])\n",
        "    plt.show()"
      ]
    },
    {
      "cell_type": "markdown",
      "metadata": {},
      "source": [
        "Función que permite mostrar la matriz de confusión"
      ]
    },
    {
      "cell_type": "code",
      "execution_count": 421,
      "metadata": {},
      "outputs": [],
      "source": [
        "def confusionMatrix(model, y_test, y_pred):\n",
        "  '''\n",
        "  plt.rcParams.update({'font.size': 16})\n",
        "  fig, axes = plt.subplots(figsize=(14, 10))\n",
        "  disp = ConfusionMatrixDisplay.from_estimator(model,\n",
        "                                             y_test,\n",
        "                                             y_pred,\n",
        "                                             display_labels=model.classes_,\n",
        "                                             cmap=plt.cm.Blues,\n",
        "                                             ax=axes\n",
        "                                             )\n",
        "  disp.ax_.set_title(f'Confusion Matrix - {model.__class__.__name__}')\n",
        "  plt.show()\n",
        "  '''\n",
        "  plt.rcParams.update({'font.size': 16})\n",
        "  cm = confusion_matrix(y_test, y_pred, labels=model.classes_)\n",
        "  disp = ConfusionMatrixDisplay(confusion_matrix=cm,\n",
        "                                display_labels=model.classes_)\n",
        "  disp.plot()\n",
        "  plt.show()"
      ]
    },
    {
      "cell_type": "code",
      "execution_count": 422,
      "metadata": {},
      "outputs": [],
      "source": [
        "def contoursGrap(model, X, y):\n",
        "    plt.rcParams.update({'font.size': 16})\n",
        "    fig, axes = plt.subplots(figsize=(12, 10))\n",
        "    plot_contours(axes, model, X, y, cmap=plt.cm.coolwarm, alpha=0.5)\n",
        "    plt.show()"
      ]
    },
    {
      "cell_type": "markdown",
      "metadata": {},
      "source": [
        "Función que permite mostrar los diferentes reportes para comparar los modelos"
      ]
    },
    {
      "cell_type": "code",
      "execution_count": 423,
      "metadata": {},
      "outputs": [],
      "source": [
        "def reportClassification(model, X_train, y_train, y_pred, X_test, y_test, model_type):\n",
        "    if model_type == 'LR':\n",
        "        #Se imprimen los coeficientes, intresección y número de coeficientes\n",
        "        print(f\"Coeficientes del modelo: {model.coef_}\\n\")\n",
        "        print(f\"Intresección del modelo: {model.intercept_}\\n\")\n",
        "        print(f\"Número de coeficientes del modelo: {len(model.coef_)}\\n\")\n",
        "    if model_type != 'PR':\n",
        "\n",
        "        if (model_type != 'SVC') & (model_type != 'SGD'):\n",
        "            #\n",
        "            ROC(X_train, y_train, model)\n",
        "        #\n",
        "        contoursGrap(model, X_train, y_train)\n",
        "        #\n",
        "    #Se muestra la matriz de confusión\n",
        "    confusionMatrix(model, y_test, y_pred)\n",
        "    #Se imprime el reporte de clasificación\n",
        "    #print(classification_report(y_test, y_pred))\n",
        "    #mae = mean_absolute_error(y_test, y_pred)\n",
        "    #print(\"MAE:\",(mae))\n",
        "    \n",
        "    "
      ]
    },
    {
      "cell_type": "markdown",
      "metadata": {},
      "source": [
        "Función que permite cálcular la probabilidad de un usuario"
      ]
    },
    {
      "cell_type": "code",
      "execution_count": 424,
      "metadata": {},
      "outputs": [],
      "source": [
        "def ProbabilisticClassifier(hour, day, data):\n",
        "  data_array = data.to_numpy()\n",
        "  first = pd.to_datetime(data.tail(1).iloc[0,2], format=FORMAT_DATE)\n",
        "  last = pd.to_datetime(data.head(1).iloc[0,2], format=FORMAT_DATE)\n",
        "  remaining_days = first.date() - last.date()\n",
        "  total = 0 \n",
        "  for i in range(remaining_days.days):\n",
        "    last_time = last + timedelta(days=i)\n",
        "    if last_time.isoweekday() == day:\n",
        "      total += 1\n",
        "  total_onset = 0\n",
        "  for row in data_array:\n",
        "    if( ( row[0] == day ) & ( row[1] == hour ) & ( row[3] == 1 ) ):\n",
        "      total_onset += 1\n",
        "  if total > 0:\n",
        "    return total_onset / total\n",
        "  else:\n",
        "    return 0"
      ]
    },
    {
      "cell_type": "markdown",
      "metadata": {},
      "source": [
        "Función que permite evaluar el modelo probabilistico"
      ]
    },
    {
      "cell_type": "code",
      "execution_count": 425,
      "metadata": {},
      "outputs": [],
      "source": [
        "def probabilisticModel(data, date_predict):\n",
        "    threshold = 0.5\n",
        "    array_result = []\n",
        "    array_prob = []\n",
        "    for hour in range(HOURS_OF_DAY):\n",
        "        result = ProbabilisticClassifier(hour, date_predict.isoweekday(), data)\n",
        "        array_prob.append(round(result,2) if result >= threshold else 0 )\n",
        "        array_result.append(1 if result >= threshold else 0)\n",
        "    return array_result, array_prob"
      ]
    },
    {
      "cell_type": "code",
      "execution_count": 426,
      "metadata": {},
      "outputs": [],
      "source": [
        "#Conversor del codigo a nombre de modelos\n",
        "def modelName(model_type):\n",
        "    if model_type == 'LR':\n",
        "        return 'logistic regression'\n",
        "    elif model_type == 'KNN':\n",
        "        return 'kneighbors'\n",
        "    elif model_type == 'MLP':\n",
        "        return 'multilayer perceptron'\n",
        "    elif model_type == 'RFC':\n",
        "        return 'random forest'\n",
        "    elif model_type == 'SVC':\n",
        "        return 'support vector'\n",
        "    elif model_type == 'SGD':\n",
        "        return 'gradient descent stochastic'\n",
        "    elif model_type == 'DTC':\n",
        "        return 'decision tree'\n",
        "    elif model_type == 'PR':\n",
        "        return 'probabilistic model'"
      ]
    },
    {
      "cell_type": "code",
      "execution_count": 427,
      "metadata": {},
      "outputs": [],
      "source": [
        "#Función para validar si contiene todos los datos en 0\n",
        "def existAllZero(arr):\n",
        "    if len(arr)>0:\n",
        "        for value in arr:\n",
        "            if value != 0:\n",
        "                return False\n",
        "    return True"
      ]
    },
    {
      "cell_type": "code",
      "execution_count": 428,
      "metadata": {},
      "outputs": [],
      "source": [
        "#Funcion que permite rellenar el dataset con los servicios tomados en 1 y los no tomados en 0\n",
        "def setDataService(data, from_date, to_date):\n",
        "  #print(\"From: \",from_date.date())\n",
        "  #print(\"To: \",to_date.date())\n",
        "  remaining_days = to_date.date() - from_date.date()\n",
        "  service_array = []\n",
        "  day_validation = {}\n",
        "  for i in range(remaining_days.days+1):\n",
        "    last_time = from_date + timedelta(days=i)\n",
        "    if last_time.date().isoweekday() == to_date.date().isoweekday():\n",
        "      day_validation[last_time.strftime(FORMAT_DATE)] = 0\n",
        "      for hour in range(HOURS_OF_DAY):\n",
        "        #Se filtra por el mismo día de la semana, fecha y hora\n",
        "        #df_service = data[(data['DIADESEMANA'] == last_time.isoweekday()) & (data['FECHA'] == last_time.date()) & (data['HORA'] == hour) ].to_numpy()\n",
        "        df_service = data[(data['FECHA'].astype(str) == last_time.strftime(FORMAT_DATE)) & (data['HORA'] == hour) ].to_numpy()\n",
        "        if len(df_service) > 0:\n",
        "          #Se llena con valor en 1 porqué se encontró un servicio\n",
        "          service_array.append(np.append(df_service, 1))\n",
        "          day_validation[last_time.strftime(FORMAT_DATE)] += 1\n",
        "        else:\n",
        "          #Se llena con valor en 0 porqué no se encontró ningún servicio\n",
        "          service_array.append([last_time.isoweekday(),hour,last_time.date().strftime(FORMAT_DATE),0])\n",
        "  return pd.DataFrame(service_array, \n",
        "             columns=np.append(np.array(data.columns.tolist()), 'SERVICIO')), day_validation"
      ]
    },
    {
      "cell_type": "markdown",
      "metadata": {},
      "source": [
        "Función que permite probar los diferentes modelos en un rango de tiempo configurado "
      ]
    },
    {
      "cell_type": "code",
      "execution_count": 467,
      "metadata": {},
      "outputs": [],
      "source": [
        "\n",
        "#Función que entrene el modelo y nos devuelva el y_predicted\n",
        "def evaluate_model(phone, data, date_predict, model_type):\n",
        "  #Inicialización de vectores\n",
        "  y_pred = np.empty(0,dtype=int)\n",
        "  y_prob = np.empty(0,dtype=float)\n",
        "  y_test = np.empty(0,dtype=int)\n",
        "\n",
        "  y_result_arr = []\n",
        "  y_prob_arr = []\n",
        "  #Se filtra por el número de teléfono\n",
        "  data = data[data[\"TELEFONOORIGEN\"]==phone].copy()\n",
        "  #Se elimina el teléfono debido a que no es relevante para el modelo\n",
        "  data = data.drop(labels=['TELEFONOORIGEN'], axis=1)\n",
        "  \n",
        "  #Se obtiene la fecha de inicial de entrenamiento\n",
        "  date_first_training = date_predict - timedelta(weeks=TRAIN_WEEK)\n",
        "  \n",
        "  #Se particiona el dataframe desde la fecha inicial y hasta la fecha final de entrenamiento\n",
        "  data = data[ (pd.to_datetime(data['FECHA'], format=FORMAT_DATE) >= date_first_training) & (pd.to_datetime(data['FECHA'], format=FORMAT_DATE) <= date_predict) ]\n",
        "  \n",
        "  #Se obtiene el tamaño de los datos del usuario\n",
        "  tam = len(data)\n",
        "\n",
        "  #Se valida si tiene más de un servicio registrado\n",
        "  if tam > 1:\n",
        "    #Se llenan en 0 las horas de los servicios que no se tomaron por el usuario\n",
        "    data, day_val = setDataService(data, date_first_training, date_predict)\n",
        "    #Se crear el dataframe de entrenamiento desde la fecha inicial hasta la fecha de predicción\n",
        "    train = data[ (pd.to_datetime(data['FECHA'], format=FORMAT_DATE) >= date_first_training) & (pd.to_datetime(data['FECHA'], format=FORMAT_DATE) < date_predict) ]\n",
        "    #Se crear el dataframe de pruebas desde la fecha de predicción hasta una semana adelante\n",
        "    test = data[(pd.to_datetime(data['FECHA'], format=FORMAT_DATE) == date_predict) ]\n",
        "\n",
        "    amout_services = 0\n",
        "    for key, values in day_val.items():\n",
        "      if (date_predict.strftime(FORMAT_DATE) != key) & (values > 0):\n",
        "        amout_services += 1\n",
        "\n",
        "    #Se valida si tiene más de un servicio tomado\n",
        "    if amout_services >= 3:\n",
        "      #Datos para probar los modelos\n",
        "      if model_type != 'PR':\n",
        "        train = train.loc[:,['DIADESEMANA','HORA','SERVICIO']]\n",
        "        test = test.loc[:,['DIADESEMANA','HORA','SERVICIO']]\n",
        "      else:\n",
        "        train = train.loc[:,['DIADESEMANA','HORA','FECHA','SERVICIO']]\n",
        "\n",
        "      y_train = train.SERVICIO\n",
        "      X_train = train.drop(labels='SERVICIO', axis=1)\n",
        "\n",
        "      y_test = test.SERVICIO\n",
        "      X_test = test.drop(labels='SERVICIO', axis=1)\n",
        "\n",
        "      '''\n",
        "      if model_type != 'PR':\n",
        "        scaler = PowerTransformer(method='yeo-johnson', standardize=True)\n",
        "        #scaler = StandardScaler()\n",
        "        #scaler = MinMaxScaler(feature_range=(0,1))\n",
        "        #scaler = Normalizer()\n",
        "        scaler.fit(X_train)\n",
        "        X_train = scaler.transform(X_train)\n",
        "        scaler.fit(X_test)\n",
        "        X_test = scaler.transform(X_test)\n",
        "        '''\n",
        "      \n",
        "      if model_type == 'LR':\n",
        "        #Se visualiza los datos\n",
        "        #dataVisualization(train)\n",
        "        model, y_pred, y_prob = lrModel(X_train, y_train, X_test)\n",
        "        #reportClassification(model, X_train, y_train, y_pred, X_test, y_test, model_type)\n",
        "      elif model_type == 'KNN':\n",
        "        model, y_pred, y_prob = knnModel(X_train, y_train, X_test)\n",
        "        #reportClassification(model, X_train, y_train, y_pred, X_test, y_test, model_type)\n",
        "      elif model_type == 'MLP':\n",
        "        model, y_pred, y_prob = mlpModel(X_train, y_train, X_test)\n",
        "        #reportClassification(model, X_train, y_train, y_pred, X_test, y_test, model_type)\n",
        "      elif model_type == 'RFC':\n",
        "        model, y_pred, y_prob = rfcModel(X_train, y_train, X_test)\n",
        "        #reportClassification(model, X_train, y_train, y_pred, X_test, y_test, model_type)\n",
        "      elif model_type == 'SVC':\n",
        "        model, y_pred, y_prob = svcModel(X_train, y_train, X_test)\n",
        "        #reportClassification(model, X_train, y_train, y_pred, X_test, y_test, model_type)\n",
        "      elif model_type == 'SGD':\n",
        "        model, y_pred, y_prob = sgdModel(X_train, y_train, X_test)\n",
        "        #reportClassification(model, X_train, y_train, y_pred, X_test, y_test, model_type)\n",
        "      elif model_type == 'DTC':\n",
        "        model, y_pred, y_prob = dtcModel(X_train, y_train, X_test)\n",
        "        #reportClassification(model, X_train, y_train, y_pred, X_test, y_test, model_type)\n",
        "      elif model_type == 'PR':\n",
        "        #Se caulcula el modelo probabilistico\n",
        "        y_result, y_proba = probabilisticModel(train, date_predict)\n",
        "        \n",
        "        y_result_arr.append(y_result)\n",
        "        y_prob_arr.append(y_proba)\n",
        "        \n",
        "        for i in y_result_arr:\n",
        "          for j in i:\n",
        "            y_pred = np.append(y_pred, int(j))\n",
        "        for i in y_prob_arr:\n",
        "          for j in i:\n",
        "            y_prob = np.append(y_prob, float(j))\n",
        "        class model:\n",
        "          classes_ = np.empty(0,dtype=int)\n",
        "          name = 'Probabilistic'\n",
        "        model.classes_ = np.array([0, 1])\n",
        "        #reportClassification(model, X_train, y_train, y_pred, X_test, y_test, model_type)\n",
        "      else:\n",
        "        print(\"Modelo no existe!\")\n",
        "    #else:\n",
        "    #  print(f\"No hay servicios suficientes para la fecha:{date_predict} del usuario:{phone}!\")\n",
        "  return y_pred, y_test, y_prob"
      ]
    },
    {
      "cell_type": "markdown",
      "metadata": {},
      "source": [
        "Se crea un nuevo dataFrame con los números de teléfonos para recorrer los modelos"
      ]
    },
    {
      "cell_type": "code",
      "execution_count": 499,
      "metadata": {},
      "outputs": [],
      "source": [
        "total_phone, count, phone_array = 100, 0, []\n",
        "df_phone = df_taxis.loc[:,['TELEFONOORIGEN']].copy()\n",
        "series_phone = df_phone.loc[:,['TELEFONOORIGEN']].value_counts()\n",
        "for phone in series_phone.index.to_list():\n",
        "    if count < total_phone:\n",
        "        count += 1\n",
        "        phone_array.append(phone[0]) \n",
        "#print(phone_array)\n",
        "#series_phone"
      ]
    },
    {
      "attachments": {},
      "cell_type": "markdown",
      "metadata": {},
      "source": [
        "Validamos los hiperparámetros de los modelos"
      ]
    },
    {
      "cell_type": "code",
      "execution_count": 498,
      "metadata": {},
      "outputs": [
        {
          "name": "stdout",
          "output_type": "stream",
          "text": [
            "Inició el proceso: 2023-04-16 21:27:50.828538\n",
            "---------------------------3107584482------------------------------\n",
            "---------------------------2022-02-11------------------------------\n",
            "Best leaf_size: 1\n",
            "Best p: 1\n",
            "Best n_neighbors: 1\n",
            "---------------------------2022-02-12------------------------------\n",
            "Best leaf_size: 1\n",
            "Best p: 1\n",
            "Best n_neighbors: 1\n",
            "---------------------------2022-02-13------------------------------\n",
            "Best leaf_size: 1\n",
            "Best p: 1\n",
            "Best n_neighbors: 1\n",
            "---------------------------2022-02-14------------------------------\n",
            "Best leaf_size: 1\n",
            "Best p: 1\n",
            "Best n_neighbors: 1\n",
            "---------------------------2022-02-15------------------------------\n",
            "Best leaf_size: 1\n",
            "Best p: 1\n",
            "Best n_neighbors: 1\n",
            "---------------------------2022-02-16------------------------------\n",
            "Best leaf_size: 1\n",
            "Best p: 1\n",
            "Best n_neighbors: 1\n",
            "---------------------------2022-02-17------------------------------\n",
            "Best leaf_size: 1\n",
            "Best p: 1\n",
            "Best n_neighbors: 1\n",
            "---------------------------3503758291------------------------------\n",
            "---------------------------2022-02-11------------------------------\n",
            "Best leaf_size: 1\n",
            "Best p: 1\n",
            "Best n_neighbors: 1\n",
            "---------------------------2022-02-12------------------------------\n",
            "Best leaf_size: 1\n",
            "Best p: 1\n",
            "Best n_neighbors: 1\n",
            "---------------------------2022-02-13------------------------------\n",
            "Best leaf_size: 1\n",
            "Best p: 1\n",
            "Best n_neighbors: 1\n",
            "---------------------------2022-02-14------------------------------\n",
            "Best leaf_size: 1\n",
            "Best p: 1\n",
            "Best n_neighbors: 1\n",
            "---------------------------2022-02-15------------------------------\n",
            "Best leaf_size: 1\n",
            "Best p: 1\n",
            "Best n_neighbors: 1\n",
            "---------------------------2022-02-16------------------------------\n",
            "Best leaf_size: 1\n",
            "Best p: 1\n",
            "Best n_neighbors: 1\n",
            "---------------------------2022-02-17------------------------------\n",
            "Best leaf_size: 1\n",
            "Best p: 1\n",
            "Best n_neighbors: 1\n",
            "---------------------------3132880597------------------------------\n",
            "---------------------------2022-02-11------------------------------\n",
            "Best leaf_size: 1\n",
            "Best p: 1\n",
            "Best n_neighbors: 1\n",
            "---------------------------2022-02-12------------------------------\n",
            "Best leaf_size: 1\n",
            "Best p: 1\n",
            "Best n_neighbors: 1\n",
            "---------------------------2022-02-13------------------------------\n",
            "Best leaf_size: 1\n",
            "Best p: 1\n",
            "Best n_neighbors: 1\n",
            "---------------------------2022-02-14------------------------------\n",
            "Best leaf_size: 1\n",
            "Best p: 1\n",
            "Best n_neighbors: 1\n",
            "---------------------------2022-02-15------------------------------\n",
            "Best leaf_size: 1\n",
            "Best p: 1\n",
            "Best n_neighbors: 1\n",
            "---------------------------2022-02-16------------------------------\n",
            "Best leaf_size: 1\n",
            "Best p: 1\n",
            "Best n_neighbors: 1\n",
            "---------------------------2022-02-17------------------------------\n",
            "Best leaf_size: 1\n",
            "Best p: 1\n",
            "Best n_neighbors: 1\n",
            "---------------------------3017223869------------------------------\n",
            "---------------------------2022-02-11------------------------------\n",
            "Best leaf_size: 1\n",
            "Best p: 1\n",
            "Best n_neighbors: 1\n",
            "---------------------------2022-02-12------------------------------\n",
            "Best leaf_size: 1\n",
            "Best p: 1\n",
            "Best n_neighbors: 1\n",
            "---------------------------2022-02-13------------------------------\n",
            "Best leaf_size: 1\n",
            "Best p: 1\n",
            "Best n_neighbors: 1\n",
            "---------------------------2022-02-14------------------------------\n",
            "Best leaf_size: 1\n",
            "Best p: 1\n",
            "Best n_neighbors: 1\n",
            "---------------------------2022-02-15------------------------------\n",
            "Best leaf_size: 1\n",
            "Best p: 1\n",
            "Best n_neighbors: 1\n",
            "---------------------------2022-02-16------------------------------\n",
            "Best leaf_size: 1\n",
            "Best p: 1\n",
            "Best n_neighbors: 1\n",
            "---------------------------2022-02-17------------------------------\n",
            "Best leaf_size: 1\n",
            "Best p: 1\n",
            "Best n_neighbors: 1\n",
            "---------------------------3044717854------------------------------\n",
            "---------------------------2022-02-11------------------------------\n",
            "Best leaf_size: 1\n",
            "Best p: 1\n",
            "Best n_neighbors: 1\n",
            "---------------------------2022-02-12------------------------------\n",
            "Best leaf_size: 1\n",
            "Best p: 1\n",
            "Best n_neighbors: 1\n",
            "---------------------------2022-02-13------------------------------\n",
            "Best leaf_size: 1\n",
            "Best p: 1\n",
            "Best n_neighbors: 1\n",
            "---------------------------2022-02-14------------------------------\n",
            "Best leaf_size: 1\n",
            "Best p: 1\n",
            "Best n_neighbors: 1\n",
            "---------------------------2022-02-15------------------------------\n",
            "Best leaf_size: 1\n",
            "Best p: 1\n",
            "Best n_neighbors: 1\n",
            "---------------------------2022-02-16------------------------------\n",
            "Best leaf_size: 1\n",
            "Best p: 1\n",
            "Best n_neighbors: 1\n",
            "---------------------------2022-02-17------------------------------\n",
            "Best leaf_size: 1\n",
            "Best p: 1\n",
            "Best n_neighbors: 1\n",
            "---------------------------3143483068------------------------------\n",
            "---------------------------2022-02-11------------------------------\n",
            "Best leaf_size: 1\n",
            "Best p: 1\n",
            "Best n_neighbors: 1\n"
          ]
        },
        {
          "ename": "ValueError",
          "evalue": "Cannot have number of splits n_splits=10 greater than the number of samples: n_samples=9.",
          "output_type": "error",
          "traceback": [
            "\u001b[1;31m---------------------------------------------------------------------------\u001b[0m",
            "\u001b[1;31mValueError\u001b[0m                                Traceback (most recent call last)",
            "\u001b[1;32mc:\\Educación\\Sergio arboleda\\Proyecto de investigación\\Experimento proyecto investigación\\taxi-prediction-model\\Proyecto final\\Proyecto_predicción_servicio_taxi_consolidado.ipynb Cell 97\u001b[0m in \u001b[0;36m<module>\u001b[1;34m\u001b[0m\n\u001b[0;32m     <a href='vscode-notebook-cell:/c%3A/Educaci%C3%B3n/Sergio%20arboleda/Proyecto%20de%20investigaci%C3%B3n/Experimento%20proyecto%20investigaci%C3%B3n/taxi-prediction-model/Proyecto%20final/Proyecto_predicci%C3%B3n_servicio_taxi_consolidado.ipynb#Y206sZmlsZQ%3D%3D?line=59'>60</a>\u001b[0m clf \u001b[39m=\u001b[39m GridSearchCV(knn_2, hyperparameters, cv\u001b[39m=\u001b[39m\u001b[39m10\u001b[39m)\n\u001b[0;32m     <a href='vscode-notebook-cell:/c%3A/Educaci%C3%B3n/Sergio%20arboleda/Proyecto%20de%20investigaci%C3%B3n/Experimento%20proyecto%20investigaci%C3%B3n/taxi-prediction-model/Proyecto%20final/Proyecto_predicci%C3%B3n_servicio_taxi_consolidado.ipynb#Y206sZmlsZQ%3D%3D?line=60'>61</a>\u001b[0m \u001b[39m#Fit the model\u001b[39;00m\n\u001b[1;32m---> <a href='vscode-notebook-cell:/c%3A/Educaci%C3%B3n/Sergio%20arboleda/Proyecto%20de%20investigaci%C3%B3n/Experimento%20proyecto%20investigaci%C3%B3n/taxi-prediction-model/Proyecto%20final/Proyecto_predicci%C3%B3n_servicio_taxi_consolidado.ipynb#Y206sZmlsZQ%3D%3D?line=61'>62</a>\u001b[0m best_model \u001b[39m=\u001b[39m clf\u001b[39m.\u001b[39;49mfit(X_train,y_train)\n\u001b[0;32m     <a href='vscode-notebook-cell:/c%3A/Educaci%C3%B3n/Sergio%20arboleda/Proyecto%20de%20investigaci%C3%B3n/Experimento%20proyecto%20investigaci%C3%B3n/taxi-prediction-model/Proyecto%20final/Proyecto_predicci%C3%B3n_servicio_taxi_consolidado.ipynb#Y206sZmlsZQ%3D%3D?line=62'>63</a>\u001b[0m \u001b[39m#Print The value of best Hyperparameters\u001b[39;00m\n\u001b[0;32m     <a href='vscode-notebook-cell:/c%3A/Educaci%C3%B3n/Sergio%20arboleda/Proyecto%20de%20investigaci%C3%B3n/Experimento%20proyecto%20investigaci%C3%B3n/taxi-prediction-model/Proyecto%20final/Proyecto_predicci%C3%B3n_servicio_taxi_consolidado.ipynb#Y206sZmlsZQ%3D%3D?line=63'>64</a>\u001b[0m \u001b[39mprint\u001b[39m(\u001b[39mf\u001b[39m\u001b[39m'\u001b[39m\u001b[39m---------------------------\u001b[39m\u001b[39m{\u001b[39;00mlast_time\u001b[39m}\u001b[39;00m\u001b[39m------------------------------\u001b[39m\u001b[39m'\u001b[39m)\n",
            "File \u001b[1;32mc:\\Users\\de_la\\AppData\\Local\\Programs\\Python\\Python310\\lib\\site-packages\\sklearn\\model_selection\\_search.py:875\u001b[0m, in \u001b[0;36mBaseSearchCV.fit\u001b[1;34m(self, X, y, groups, **fit_params)\u001b[0m\n\u001b[0;32m    869\u001b[0m     results \u001b[39m=\u001b[39m \u001b[39mself\u001b[39m\u001b[39m.\u001b[39m_format_results(\n\u001b[0;32m    870\u001b[0m         all_candidate_params, n_splits, all_out, all_more_results\n\u001b[0;32m    871\u001b[0m     )\n\u001b[0;32m    873\u001b[0m     \u001b[39mreturn\u001b[39;00m results\n\u001b[1;32m--> 875\u001b[0m \u001b[39mself\u001b[39;49m\u001b[39m.\u001b[39;49m_run_search(evaluate_candidates)\n\u001b[0;32m    877\u001b[0m \u001b[39m# multimetric is determined here because in the case of a callable\u001b[39;00m\n\u001b[0;32m    878\u001b[0m \u001b[39m# self.scoring the return type is only known after calling\u001b[39;00m\n\u001b[0;32m    879\u001b[0m first_test_score \u001b[39m=\u001b[39m all_out[\u001b[39m0\u001b[39m][\u001b[39m\"\u001b[39m\u001b[39mtest_scores\u001b[39m\u001b[39m\"\u001b[39m]\n",
            "File \u001b[1;32mc:\\Users\\de_la\\AppData\\Local\\Programs\\Python\\Python310\\lib\\site-packages\\sklearn\\model_selection\\_search.py:1375\u001b[0m, in \u001b[0;36mGridSearchCV._run_search\u001b[1;34m(self, evaluate_candidates)\u001b[0m\n\u001b[0;32m   1373\u001b[0m \u001b[39mdef\u001b[39;00m \u001b[39m_run_search\u001b[39m(\u001b[39mself\u001b[39m, evaluate_candidates):\n\u001b[0;32m   1374\u001b[0m     \u001b[39m\"\"\"Search all candidates in param_grid\"\"\"\u001b[39;00m\n\u001b[1;32m-> 1375\u001b[0m     evaluate_candidates(ParameterGrid(\u001b[39mself\u001b[39;49m\u001b[39m.\u001b[39;49mparam_grid))\n",
            "File \u001b[1;32mc:\\Users\\de_la\\AppData\\Local\\Programs\\Python\\Python310\\lib\\site-packages\\sklearn\\model_selection\\_search.py:834\u001b[0m, in \u001b[0;36mBaseSearchCV.fit.<locals>.evaluate_candidates\u001b[1;34m(candidate_params, cv, more_results)\u001b[0m\n\u001b[0;32m    814\u001b[0m \u001b[39mif\u001b[39;00m \u001b[39mself\u001b[39m\u001b[39m.\u001b[39mverbose \u001b[39m>\u001b[39m \u001b[39m0\u001b[39m:\n\u001b[0;32m    815\u001b[0m     \u001b[39mprint\u001b[39m(\n\u001b[0;32m    816\u001b[0m         \u001b[39m\"\u001b[39m\u001b[39mFitting \u001b[39m\u001b[39m{0}\u001b[39;00m\u001b[39m folds for each of \u001b[39m\u001b[39m{1}\u001b[39;00m\u001b[39m candidates,\u001b[39m\u001b[39m\"\u001b[39m\n\u001b[0;32m    817\u001b[0m         \u001b[39m\"\u001b[39m\u001b[39m totalling \u001b[39m\u001b[39m{2}\u001b[39;00m\u001b[39m fits\u001b[39m\u001b[39m\"\u001b[39m\u001b[39m.\u001b[39mformat(\n\u001b[0;32m    818\u001b[0m             n_splits, n_candidates, n_candidates \u001b[39m*\u001b[39m n_splits\n\u001b[0;32m    819\u001b[0m         )\n\u001b[0;32m    820\u001b[0m     )\n\u001b[0;32m    822\u001b[0m out \u001b[39m=\u001b[39m parallel(\n\u001b[0;32m    823\u001b[0m     delayed(_fit_and_score)(\n\u001b[0;32m    824\u001b[0m         clone(base_estimator),\n\u001b[0;32m    825\u001b[0m         X,\n\u001b[0;32m    826\u001b[0m         y,\n\u001b[0;32m    827\u001b[0m         train\u001b[39m=\u001b[39mtrain,\n\u001b[0;32m    828\u001b[0m         test\u001b[39m=\u001b[39mtest,\n\u001b[0;32m    829\u001b[0m         parameters\u001b[39m=\u001b[39mparameters,\n\u001b[0;32m    830\u001b[0m         split_progress\u001b[39m=\u001b[39m(split_idx, n_splits),\n\u001b[0;32m    831\u001b[0m         candidate_progress\u001b[39m=\u001b[39m(cand_idx, n_candidates),\n\u001b[0;32m    832\u001b[0m         \u001b[39m*\u001b[39m\u001b[39m*\u001b[39mfit_and_score_kwargs,\n\u001b[0;32m    833\u001b[0m     )\n\u001b[1;32m--> 834\u001b[0m     \u001b[39mfor\u001b[39;00m (cand_idx, parameters), (split_idx, (train, test)) \u001b[39min\u001b[39;00m product(\n\u001b[0;32m    835\u001b[0m         \u001b[39menumerate\u001b[39;49m(candidate_params), \u001b[39menumerate\u001b[39;49m(cv\u001b[39m.\u001b[39;49msplit(X, y, groups))\n\u001b[0;32m    836\u001b[0m     )\n\u001b[0;32m    837\u001b[0m )\n\u001b[0;32m    839\u001b[0m \u001b[39mif\u001b[39;00m \u001b[39mlen\u001b[39m(out) \u001b[39m<\u001b[39m \u001b[39m1\u001b[39m:\n\u001b[0;32m    840\u001b[0m     \u001b[39mraise\u001b[39;00m \u001b[39mValueError\u001b[39;00m(\n\u001b[0;32m    841\u001b[0m         \u001b[39m\"\u001b[39m\u001b[39mNo fits were performed. \u001b[39m\u001b[39m\"\u001b[39m\n\u001b[0;32m    842\u001b[0m         \u001b[39m\"\u001b[39m\u001b[39mWas the CV iterator empty? \u001b[39m\u001b[39m\"\u001b[39m\n\u001b[0;32m    843\u001b[0m         \u001b[39m\"\u001b[39m\u001b[39mWere there no candidates?\u001b[39m\u001b[39m\"\u001b[39m\n\u001b[0;32m    844\u001b[0m     )\n",
            "File \u001b[1;32mc:\\Users\\de_la\\AppData\\Local\\Programs\\Python\\Python310\\lib\\site-packages\\sklearn\\model_selection\\_split.py:333\u001b[0m, in \u001b[0;36m_BaseKFold.split\u001b[1;34m(self, X, y, groups)\u001b[0m\n\u001b[0;32m    331\u001b[0m n_samples \u001b[39m=\u001b[39m _num_samples(X)\n\u001b[0;32m    332\u001b[0m \u001b[39mif\u001b[39;00m \u001b[39mself\u001b[39m\u001b[39m.\u001b[39mn_splits \u001b[39m>\u001b[39m n_samples:\n\u001b[1;32m--> 333\u001b[0m     \u001b[39mraise\u001b[39;00m \u001b[39mValueError\u001b[39;00m(\n\u001b[0;32m    334\u001b[0m         (\n\u001b[0;32m    335\u001b[0m             \u001b[39m\"\u001b[39m\u001b[39mCannot have number of splits n_splits=\u001b[39m\u001b[39m{0}\u001b[39;00m\u001b[39m greater\u001b[39m\u001b[39m\"\u001b[39m\n\u001b[0;32m    336\u001b[0m             \u001b[39m\"\u001b[39m\u001b[39m than the number of samples: n_samples=\u001b[39m\u001b[39m{1}\u001b[39;00m\u001b[39m.\u001b[39m\u001b[39m\"\u001b[39m\n\u001b[0;32m    337\u001b[0m         )\u001b[39m.\u001b[39mformat(\u001b[39mself\u001b[39m\u001b[39m.\u001b[39mn_splits, n_samples)\n\u001b[0;32m    338\u001b[0m     )\n\u001b[0;32m    340\u001b[0m \u001b[39mfor\u001b[39;00m train, test \u001b[39min\u001b[39;00m \u001b[39msuper\u001b[39m()\u001b[39m.\u001b[39msplit(X, y, groups):\n\u001b[0;32m    341\u001b[0m     \u001b[39myield\u001b[39;00m train, test\n",
            "\u001b[1;31mValueError\u001b[0m: Cannot have number of splits n_splits=10 greater than the number of samples: n_samples=9."
          ]
        }
      ],
      "source": [
        "from sklearn.model_selection import GridSearchCV\n",
        "#Se quitan los modelos 'LR','SVC','SGD','DTC','MLP' por mal rendimiento\n",
        "#models_array = ['PR','KNN','RFC','DTC']\n",
        "models_array = ['KNN']\n",
        "report_models = []\n",
        "roc_curve_arr = []\n",
        "start_proccess = datetime.now()\n",
        "#List Hyperparameters that we want to tune.\n",
        "leaf_size = list(range(1,7))\n",
        "n_neighbors = list(range(1,7))\n",
        "p=[1,2]\n",
        "print(f\"Inició el proceso: {datetime.now()}\")\n",
        "for model in models_array:\n",
        "    start_date = datetime.now()\n",
        "    confusion_phone = np.matrix(0,dtype=int)\n",
        "    y_test_arr = np.array(0,dtype=int)\n",
        "    y_prob_arr = np.array(0,dtype=float)\n",
        "    for phone in phone_array:\n",
        "        print(f'---------------------------{phone}------------------------------')\n",
        "        remaining_days = DATE_START_TRAINIG.date() + timedelta(days=7) - DATE_START_TRAINIG.date()\n",
        "        for i in range(remaining_days.days):\n",
        "            last_time = DATE_START_TRAINIG.date() + timedelta(days=i)\n",
        "            \n",
        "            #Se obtiene la fecha de inicial de entrenamiento\n",
        "            date_first_training = pd.to_datetime(last_time, format=FORMAT_DATE) - timedelta(weeks=TRAIN_WEEK)\n",
        "\n",
        "            data = df_taxis[df_taxis[\"TELEFONOORIGEN\"]==phone].copy()\n",
        "\n",
        "            #Se llenan en 0 las horas de los servicios que no se tomaron por el usuario\n",
        "            data, day_val = setDataService(data, date_first_training, pd.to_datetime(last_time, format=FORMAT_DATE))\n",
        "            #Se crear el dataframe de entrenamiento desde la fecha inicial hasta la fecha de predicción\n",
        "            train = data[ (pd.to_datetime(data['FECHA'], format=FORMAT_DATE) >= date_first_training) & (pd.to_datetime(data['FECHA'], format=FORMAT_DATE) < pd.to_datetime(last_time, format=FORMAT_DATE)) ]\n",
        "            #Se crear el dataframe de pruebas desde la fecha de predicción hasta una semana adelante\n",
        "            test = data[(pd.to_datetime(data['FECHA'], format=FORMAT_DATE) == pd.to_datetime(last_time, format=FORMAT_DATE)) ]\n",
        "            amout_services = 0\n",
        "            for key, values in day_val.items():\n",
        "                if (pd.to_datetime(last_time, format=FORMAT_DATE).strftime(FORMAT_DATE) != key) & (values > 0):\n",
        "                    amout_services += 1\n",
        "\n",
        "            #Se valida si tiene más de un servicio tomado\n",
        "            if amout_services >= 3:\n",
        "                if model != 'PR':\n",
        "                    train = train.loc[:,['DIADESEMANA','HORA','SERVICIO']]\n",
        "                    test = test.loc[:,['DIADESEMANA','HORA','SERVICIO']]\n",
        "                else:\n",
        "                    train = train.loc[:,['DIADESEMANA','HORA','FECHA','SERVICIO']]\n",
        "\n",
        "                y_train = train.SERVICIO\n",
        "                X_train = train.drop(labels='SERVICIO', axis=1)\n",
        "\n",
        "                y_test = test.SERVICIO\n",
        "                X_test = test.drop(labels='SERVICIO', axis=1)\n",
        "\n",
        "                \n",
        "                #Convert to dictionary\n",
        "                hyperparameters = dict(leaf_size=leaf_size, n_neighbors=n_neighbors, p=p)\n",
        "                #Create new KNN object\n",
        "                knn_2 = KNeighborsClassifier()\n",
        "                #Use GridSearch\n",
        "                clf = GridSearchCV(knn_2, hyperparameters, cv=10)\n",
        "                #Fit the model\n",
        "                best_model = clf.fit(X_train,y_train)\n",
        "                #Print The value of best Hyperparameters\n",
        "                print(f'---------------------------{last_time}------------------------------')\n",
        "                print('Best leaf_size:', best_model.best_estimator_.get_params()['leaf_size'])\n",
        "                print('Best p:', best_model.best_estimator_.get_params()['p'])\n",
        "                print('Best n_neighbors:', best_model.best_estimator_.get_params()['n_neighbors'])\n",
        "\n",
        "            "
      ]
    },
    {
      "cell_type": "markdown",
      "metadata": {},
      "source": [
        "# Evaluación de los modelos"
      ]
    },
    {
      "cell_type": "markdown",
      "metadata": {},
      "source": [
        "Experimento con todos los modelos para una semana"
      ]
    },
    {
      "cell_type": "code",
      "execution_count": 500,
      "metadata": {},
      "outputs": [
        {
          "name": "stdout",
          "output_type": "stream",
          "text": [
            "Inició el proceso: 2023-04-16 21:32:40.633968\n"
          ]
        },
        {
          "name": "stderr",
          "output_type": "stream",
          "text": [
            "c:\\Users\\de_la\\AppData\\Local\\Programs\\Python\\Python310\\lib\\site-packages\\sklearn\\metrics\\_classification.py:663: RuntimeWarning: invalid value encountered in true_divide\n",
            "  k = np.sum(w_mat * confusion) / np.sum(w_mat * expected)\n",
            "c:\\Users\\de_la\\AppData\\Local\\Programs\\Python\\Python310\\lib\\site-packages\\sklearn\\metrics\\_classification.py:663: RuntimeWarning: invalid value encountered in true_divide\n",
            "  k = np.sum(w_mat * confusion) / np.sum(w_mat * expected)\n",
            "c:\\Users\\de_la\\AppData\\Local\\Programs\\Python\\Python310\\lib\\site-packages\\sklearn\\metrics\\_classification.py:663: RuntimeWarning: invalid value encountered in true_divide\n",
            "  k = np.sum(w_mat * confusion) / np.sum(w_mat * expected)\n",
            "c:\\Users\\de_la\\AppData\\Local\\Programs\\Python\\Python310\\lib\\site-packages\\sklearn\\metrics\\_classification.py:663: RuntimeWarning: invalid value encountered in true_divide\n",
            "  k = np.sum(w_mat * confusion) / np.sum(w_mat * expected)\n",
            "c:\\Users\\de_la\\AppData\\Local\\Programs\\Python\\Python310\\lib\\site-packages\\sklearn\\metrics\\_classification.py:663: RuntimeWarning: invalid value encountered in true_divide\n",
            "  k = np.sum(w_mat * confusion) / np.sum(w_mat * expected)\n",
            "c:\\Users\\de_la\\AppData\\Local\\Programs\\Python\\Python310\\lib\\site-packages\\sklearn\\metrics\\_classification.py:663: RuntimeWarning: invalid value encountered in true_divide\n",
            "  k = np.sum(w_mat * confusion) / np.sum(w_mat * expected)\n",
            "c:\\Users\\de_la\\AppData\\Local\\Programs\\Python\\Python310\\lib\\site-packages\\sklearn\\metrics\\_classification.py:663: RuntimeWarning: invalid value encountered in true_divide\n",
            "  k = np.sum(w_mat * confusion) / np.sum(w_mat * expected)\n",
            "c:\\Users\\de_la\\AppData\\Local\\Programs\\Python\\Python310\\lib\\site-packages\\sklearn\\metrics\\_classification.py:663: RuntimeWarning: invalid value encountered in true_divide\n",
            "  k = np.sum(w_mat * confusion) / np.sum(w_mat * expected)\n",
            "c:\\Users\\de_la\\AppData\\Local\\Programs\\Python\\Python310\\lib\\site-packages\\sklearn\\metrics\\_classification.py:663: RuntimeWarning: invalid value encountered in true_divide\n",
            "  k = np.sum(w_mat * confusion) / np.sum(w_mat * expected)\n",
            "c:\\Users\\de_la\\AppData\\Local\\Programs\\Python\\Python310\\lib\\site-packages\\sklearn\\metrics\\_classification.py:663: RuntimeWarning: invalid value encountered in true_divide\n",
            "  k = np.sum(w_mat * confusion) / np.sum(w_mat * expected)\n",
            "c:\\Users\\de_la\\AppData\\Local\\Programs\\Python\\Python310\\lib\\site-packages\\sklearn\\metrics\\_classification.py:663: RuntimeWarning: invalid value encountered in true_divide\n",
            "  k = np.sum(w_mat * confusion) / np.sum(w_mat * expected)\n",
            "c:\\Users\\de_la\\AppData\\Local\\Programs\\Python\\Python310\\lib\\site-packages\\sklearn\\metrics\\_classification.py:663: RuntimeWarning: invalid value encountered in true_divide\n",
            "  k = np.sum(w_mat * confusion) / np.sum(w_mat * expected)\n",
            "c:\\Users\\de_la\\AppData\\Local\\Programs\\Python\\Python310\\lib\\site-packages\\sklearn\\metrics\\_classification.py:663: RuntimeWarning: invalid value encountered in true_divide\n",
            "  k = np.sum(w_mat * confusion) / np.sum(w_mat * expected)\n",
            "c:\\Users\\de_la\\AppData\\Local\\Programs\\Python\\Python310\\lib\\site-packages\\sklearn\\metrics\\_classification.py:663: RuntimeWarning: invalid value encountered in true_divide\n",
            "  k = np.sum(w_mat * confusion) / np.sum(w_mat * expected)\n",
            "c:\\Users\\de_la\\AppData\\Local\\Programs\\Python\\Python310\\lib\\site-packages\\sklearn\\metrics\\_classification.py:663: RuntimeWarning: invalid value encountered in true_divide\n",
            "  k = np.sum(w_mat * confusion) / np.sum(w_mat * expected)\n",
            "c:\\Users\\de_la\\AppData\\Local\\Programs\\Python\\Python310\\lib\\site-packages\\sklearn\\metrics\\_classification.py:663: RuntimeWarning: invalid value encountered in true_divide\n",
            "  k = np.sum(w_mat * confusion) / np.sum(w_mat * expected)\n",
            "c:\\Users\\de_la\\AppData\\Local\\Programs\\Python\\Python310\\lib\\site-packages\\sklearn\\metrics\\_classification.py:663: RuntimeWarning: invalid value encountered in true_divide\n",
            "  k = np.sum(w_mat * confusion) / np.sum(w_mat * expected)\n",
            "c:\\Users\\de_la\\AppData\\Local\\Programs\\Python\\Python310\\lib\\site-packages\\sklearn\\metrics\\_classification.py:663: RuntimeWarning: invalid value encountered in true_divide\n",
            "  k = np.sum(w_mat * confusion) / np.sum(w_mat * expected)\n",
            "c:\\Users\\de_la\\AppData\\Local\\Programs\\Python\\Python310\\lib\\site-packages\\sklearn\\metrics\\_classification.py:663: RuntimeWarning: invalid value encountered in true_divide\n",
            "  k = np.sum(w_mat * confusion) / np.sum(w_mat * expected)\n",
            "c:\\Users\\de_la\\AppData\\Local\\Programs\\Python\\Python310\\lib\\site-packages\\sklearn\\metrics\\_classification.py:663: RuntimeWarning: invalid value encountered in true_divide\n",
            "  k = np.sum(w_mat * confusion) / np.sum(w_mat * expected)\n",
            "c:\\Users\\de_la\\AppData\\Local\\Programs\\Python\\Python310\\lib\\site-packages\\sklearn\\metrics\\_classification.py:663: RuntimeWarning: invalid value encountered in true_divide\n",
            "  k = np.sum(w_mat * confusion) / np.sum(w_mat * expected)\n",
            "c:\\Users\\de_la\\AppData\\Local\\Programs\\Python\\Python310\\lib\\site-packages\\sklearn\\metrics\\_classification.py:663: RuntimeWarning: invalid value encountered in true_divide\n",
            "  k = np.sum(w_mat * confusion) / np.sum(w_mat * expected)\n",
            "c:\\Users\\de_la\\AppData\\Local\\Programs\\Python\\Python310\\lib\\site-packages\\sklearn\\metrics\\_classification.py:663: RuntimeWarning: invalid value encountered in true_divide\n",
            "  k = np.sum(w_mat * confusion) / np.sum(w_mat * expected)\n",
            "c:\\Users\\de_la\\AppData\\Local\\Programs\\Python\\Python310\\lib\\site-packages\\sklearn\\metrics\\_classification.py:663: RuntimeWarning: invalid value encountered in true_divide\n",
            "  k = np.sum(w_mat * confusion) / np.sum(w_mat * expected)\n",
            "c:\\Users\\de_la\\AppData\\Local\\Programs\\Python\\Python310\\lib\\site-packages\\sklearn\\metrics\\_classification.py:663: RuntimeWarning: invalid value encountered in true_divide\n",
            "  k = np.sum(w_mat * confusion) / np.sum(w_mat * expected)\n",
            "c:\\Users\\de_la\\AppData\\Local\\Programs\\Python\\Python310\\lib\\site-packages\\sklearn\\metrics\\_classification.py:663: RuntimeWarning: invalid value encountered in true_divide\n",
            "  k = np.sum(w_mat * confusion) / np.sum(w_mat * expected)\n",
            "c:\\Users\\de_la\\AppData\\Local\\Programs\\Python\\Python310\\lib\\site-packages\\sklearn\\metrics\\_classification.py:663: RuntimeWarning: invalid value encountered in true_divide\n",
            "  k = np.sum(w_mat * confusion) / np.sum(w_mat * expected)\n",
            "c:\\Users\\de_la\\AppData\\Local\\Programs\\Python\\Python310\\lib\\site-packages\\sklearn\\metrics\\_classification.py:663: RuntimeWarning: invalid value encountered in true_divide\n",
            "  k = np.sum(w_mat * confusion) / np.sum(w_mat * expected)\n",
            "c:\\Users\\de_la\\AppData\\Local\\Programs\\Python\\Python310\\lib\\site-packages\\sklearn\\metrics\\_classification.py:663: RuntimeWarning: invalid value encountered in true_divide\n",
            "  k = np.sum(w_mat * confusion) / np.sum(w_mat * expected)\n",
            "c:\\Users\\de_la\\AppData\\Local\\Programs\\Python\\Python310\\lib\\site-packages\\sklearn\\metrics\\_classification.py:663: RuntimeWarning: invalid value encountered in true_divide\n",
            "  k = np.sum(w_mat * confusion) / np.sum(w_mat * expected)\n",
            "c:\\Users\\de_la\\AppData\\Local\\Programs\\Python\\Python310\\lib\\site-packages\\sklearn\\metrics\\_classification.py:663: RuntimeWarning: invalid value encountered in true_divide\n",
            "  k = np.sum(w_mat * confusion) / np.sum(w_mat * expected)\n",
            "c:\\Users\\de_la\\AppData\\Local\\Programs\\Python\\Python310\\lib\\site-packages\\sklearn\\metrics\\_classification.py:663: RuntimeWarning: invalid value encountered in true_divide\n",
            "  k = np.sum(w_mat * confusion) / np.sum(w_mat * expected)\n",
            "c:\\Users\\de_la\\AppData\\Local\\Programs\\Python\\Python310\\lib\\site-packages\\sklearn\\metrics\\_classification.py:663: RuntimeWarning: invalid value encountered in true_divide\n",
            "  k = np.sum(w_mat * confusion) / np.sum(w_mat * expected)\n",
            "c:\\Users\\de_la\\AppData\\Local\\Programs\\Python\\Python310\\lib\\site-packages\\sklearn\\metrics\\_classification.py:663: RuntimeWarning: invalid value encountered in true_divide\n",
            "  k = np.sum(w_mat * confusion) / np.sum(w_mat * expected)\n",
            "c:\\Users\\de_la\\AppData\\Local\\Programs\\Python\\Python310\\lib\\site-packages\\sklearn\\metrics\\_classification.py:663: RuntimeWarning: invalid value encountered in true_divide\n",
            "  k = np.sum(w_mat * confusion) / np.sum(w_mat * expected)\n",
            "c:\\Users\\de_la\\AppData\\Local\\Programs\\Python\\Python310\\lib\\site-packages\\sklearn\\metrics\\_classification.py:663: RuntimeWarning: invalid value encountered in true_divide\n",
            "  k = np.sum(w_mat * confusion) / np.sum(w_mat * expected)\n",
            "c:\\Users\\de_la\\AppData\\Local\\Programs\\Python\\Python310\\lib\\site-packages\\sklearn\\metrics\\_classification.py:663: RuntimeWarning: invalid value encountered in true_divide\n",
            "  k = np.sum(w_mat * confusion) / np.sum(w_mat * expected)\n",
            "c:\\Users\\de_la\\AppData\\Local\\Programs\\Python\\Python310\\lib\\site-packages\\sklearn\\metrics\\_classification.py:663: RuntimeWarning: invalid value encountered in true_divide\n",
            "  k = np.sum(w_mat * confusion) / np.sum(w_mat * expected)\n",
            "c:\\Users\\de_la\\AppData\\Local\\Programs\\Python\\Python310\\lib\\site-packages\\sklearn\\metrics\\_classification.py:663: RuntimeWarning: invalid value encountered in true_divide\n",
            "  k = np.sum(w_mat * confusion) / np.sum(w_mat * expected)\n",
            "c:\\Users\\de_la\\AppData\\Local\\Programs\\Python\\Python310\\lib\\site-packages\\sklearn\\metrics\\_classification.py:663: RuntimeWarning: invalid value encountered in true_divide\n",
            "  k = np.sum(w_mat * confusion) / np.sum(w_mat * expected)\n",
            "c:\\Users\\de_la\\AppData\\Local\\Programs\\Python\\Python310\\lib\\site-packages\\sklearn\\metrics\\_classification.py:663: RuntimeWarning: invalid value encountered in true_divide\n",
            "  k = np.sum(w_mat * confusion) / np.sum(w_mat * expected)\n",
            "c:\\Users\\de_la\\AppData\\Local\\Programs\\Python\\Python310\\lib\\site-packages\\sklearn\\metrics\\_classification.py:663: RuntimeWarning: invalid value encountered in true_divide\n",
            "  k = np.sum(w_mat * confusion) / np.sum(w_mat * expected)\n",
            "c:\\Users\\de_la\\AppData\\Local\\Programs\\Python\\Python310\\lib\\site-packages\\sklearn\\metrics\\_classification.py:663: RuntimeWarning: invalid value encountered in true_divide\n",
            "  k = np.sum(w_mat * confusion) / np.sum(w_mat * expected)\n",
            "c:\\Users\\de_la\\AppData\\Local\\Programs\\Python\\Python310\\lib\\site-packages\\sklearn\\metrics\\_classification.py:663: RuntimeWarning: invalid value encountered in true_divide\n",
            "  k = np.sum(w_mat * confusion) / np.sum(w_mat * expected)\n",
            "c:\\Users\\de_la\\AppData\\Local\\Programs\\Python\\Python310\\lib\\site-packages\\sklearn\\metrics\\_classification.py:663: RuntimeWarning: invalid value encountered in true_divide\n",
            "  k = np.sum(w_mat * confusion) / np.sum(w_mat * expected)\n",
            "c:\\Users\\de_la\\AppData\\Local\\Programs\\Python\\Python310\\lib\\site-packages\\sklearn\\metrics\\_classification.py:663: RuntimeWarning: invalid value encountered in true_divide\n",
            "  k = np.sum(w_mat * confusion) / np.sum(w_mat * expected)\n",
            "c:\\Users\\de_la\\AppData\\Local\\Programs\\Python\\Python310\\lib\\site-packages\\sklearn\\metrics\\_classification.py:663: RuntimeWarning: invalid value encountered in true_divide\n",
            "  k = np.sum(w_mat * confusion) / np.sum(w_mat * expected)\n",
            "c:\\Users\\de_la\\AppData\\Local\\Programs\\Python\\Python310\\lib\\site-packages\\sklearn\\metrics\\_classification.py:663: RuntimeWarning: invalid value encountered in true_divide\n",
            "  k = np.sum(w_mat * confusion) / np.sum(w_mat * expected)\n",
            "c:\\Users\\de_la\\AppData\\Local\\Programs\\Python\\Python310\\lib\\site-packages\\sklearn\\metrics\\_classification.py:663: RuntimeWarning: invalid value encountered in true_divide\n",
            "  k = np.sum(w_mat * confusion) / np.sum(w_mat * expected)\n",
            "c:\\Users\\de_la\\AppData\\Local\\Programs\\Python\\Python310\\lib\\site-packages\\sklearn\\metrics\\_classification.py:663: RuntimeWarning: invalid value encountered in true_divide\n",
            "  k = np.sum(w_mat * confusion) / np.sum(w_mat * expected)\n",
            "c:\\Users\\de_la\\AppData\\Local\\Programs\\Python\\Python310\\lib\\site-packages\\sklearn\\metrics\\_classification.py:663: RuntimeWarning: invalid value encountered in true_divide\n",
            "  k = np.sum(w_mat * confusion) / np.sum(w_mat * expected)\n",
            "c:\\Users\\de_la\\AppData\\Local\\Programs\\Python\\Python310\\lib\\site-packages\\sklearn\\metrics\\_classification.py:663: RuntimeWarning: invalid value encountered in true_divide\n",
            "  k = np.sum(w_mat * confusion) / np.sum(w_mat * expected)\n",
            "c:\\Users\\de_la\\AppData\\Local\\Programs\\Python\\Python310\\lib\\site-packages\\sklearn\\metrics\\_classification.py:663: RuntimeWarning: invalid value encountered in true_divide\n",
            "  k = np.sum(w_mat * confusion) / np.sum(w_mat * expected)\n",
            "c:\\Users\\de_la\\AppData\\Local\\Programs\\Python\\Python310\\lib\\site-packages\\sklearn\\metrics\\_classification.py:663: RuntimeWarning: invalid value encountered in true_divide\n",
            "  k = np.sum(w_mat * confusion) / np.sum(w_mat * expected)\n",
            "c:\\Users\\de_la\\AppData\\Local\\Programs\\Python\\Python310\\lib\\site-packages\\sklearn\\metrics\\_classification.py:663: RuntimeWarning: invalid value encountered in true_divide\n",
            "  k = np.sum(w_mat * confusion) / np.sum(w_mat * expected)\n",
            "c:\\Users\\de_la\\AppData\\Local\\Programs\\Python\\Python310\\lib\\site-packages\\sklearn\\metrics\\_classification.py:663: RuntimeWarning: invalid value encountered in true_divide\n",
            "  k = np.sum(w_mat * confusion) / np.sum(w_mat * expected)\n",
            "c:\\Users\\de_la\\AppData\\Local\\Programs\\Python\\Python310\\lib\\site-packages\\sklearn\\metrics\\_classification.py:663: RuntimeWarning: invalid value encountered in true_divide\n",
            "  k = np.sum(w_mat * confusion) / np.sum(w_mat * expected)\n",
            "c:\\Users\\de_la\\AppData\\Local\\Programs\\Python\\Python310\\lib\\site-packages\\sklearn\\metrics\\_classification.py:663: RuntimeWarning: invalid value encountered in true_divide\n",
            "  k = np.sum(w_mat * confusion) / np.sum(w_mat * expected)\n",
            "c:\\Users\\de_la\\AppData\\Local\\Programs\\Python\\Python310\\lib\\site-packages\\sklearn\\metrics\\_classification.py:663: RuntimeWarning: invalid value encountered in true_divide\n",
            "  k = np.sum(w_mat * confusion) / np.sum(w_mat * expected)\n",
            "c:\\Users\\de_la\\AppData\\Local\\Programs\\Python\\Python310\\lib\\site-packages\\sklearn\\metrics\\_classification.py:663: RuntimeWarning: invalid value encountered in true_divide\n",
            "  k = np.sum(w_mat * confusion) / np.sum(w_mat * expected)\n",
            "c:\\Users\\de_la\\AppData\\Local\\Programs\\Python\\Python310\\lib\\site-packages\\sklearn\\metrics\\_classification.py:663: RuntimeWarning: invalid value encountered in true_divide\n",
            "  k = np.sum(w_mat * confusion) / np.sum(w_mat * expected)\n",
            "c:\\Users\\de_la\\AppData\\Local\\Programs\\Python\\Python310\\lib\\site-packages\\sklearn\\metrics\\_classification.py:663: RuntimeWarning: invalid value encountered in true_divide\n",
            "  k = np.sum(w_mat * confusion) / np.sum(w_mat * expected)\n",
            "c:\\Users\\de_la\\AppData\\Local\\Programs\\Python\\Python310\\lib\\site-packages\\sklearn\\metrics\\_classification.py:663: RuntimeWarning: invalid value encountered in true_divide\n",
            "  k = np.sum(w_mat * confusion) / np.sum(w_mat * expected)\n",
            "c:\\Users\\de_la\\AppData\\Local\\Programs\\Python\\Python310\\lib\\site-packages\\sklearn\\metrics\\_classification.py:663: RuntimeWarning: invalid value encountered in true_divide\n",
            "  k = np.sum(w_mat * confusion) / np.sum(w_mat * expected)\n",
            "c:\\Users\\de_la\\AppData\\Local\\Programs\\Python\\Python310\\lib\\site-packages\\sklearn\\metrics\\_classification.py:663: RuntimeWarning: invalid value encountered in true_divide\n",
            "  k = np.sum(w_mat * confusion) / np.sum(w_mat * expected)\n",
            "c:\\Users\\de_la\\AppData\\Local\\Programs\\Python\\Python310\\lib\\site-packages\\sklearn\\metrics\\_classification.py:663: RuntimeWarning: invalid value encountered in true_divide\n",
            "  k = np.sum(w_mat * confusion) / np.sum(w_mat * expected)\n",
            "c:\\Users\\de_la\\AppData\\Local\\Programs\\Python\\Python310\\lib\\site-packages\\sklearn\\metrics\\_classification.py:663: RuntimeWarning: invalid value encountered in true_divide\n",
            "  k = np.sum(w_mat * confusion) / np.sum(w_mat * expected)\n",
            "c:\\Users\\de_la\\AppData\\Local\\Programs\\Python\\Python310\\lib\\site-packages\\sklearn\\metrics\\_classification.py:663: RuntimeWarning: invalid value encountered in true_divide\n",
            "  k = np.sum(w_mat * confusion) / np.sum(w_mat * expected)\n",
            "c:\\Users\\de_la\\AppData\\Local\\Programs\\Python\\Python310\\lib\\site-packages\\sklearn\\metrics\\_classification.py:663: RuntimeWarning: invalid value encountered in true_divide\n",
            "  k = np.sum(w_mat * confusion) / np.sum(w_mat * expected)\n",
            "c:\\Users\\de_la\\AppData\\Local\\Programs\\Python\\Python310\\lib\\site-packages\\sklearn\\metrics\\_classification.py:663: RuntimeWarning: invalid value encountered in true_divide\n",
            "  k = np.sum(w_mat * confusion) / np.sum(w_mat * expected)\n",
            "c:\\Users\\de_la\\AppData\\Local\\Programs\\Python\\Python310\\lib\\site-packages\\sklearn\\metrics\\_classification.py:663: RuntimeWarning: invalid value encountered in true_divide\n",
            "  k = np.sum(w_mat * confusion) / np.sum(w_mat * expected)\n",
            "c:\\Users\\de_la\\AppData\\Local\\Programs\\Python\\Python310\\lib\\site-packages\\sklearn\\metrics\\_classification.py:663: RuntimeWarning: invalid value encountered in true_divide\n",
            "  k = np.sum(w_mat * confusion) / np.sum(w_mat * expected)\n",
            "c:\\Users\\de_la\\AppData\\Local\\Programs\\Python\\Python310\\lib\\site-packages\\sklearn\\metrics\\_classification.py:663: RuntimeWarning: invalid value encountered in true_divide\n",
            "  k = np.sum(w_mat * confusion) / np.sum(w_mat * expected)\n",
            "c:\\Users\\de_la\\AppData\\Local\\Programs\\Python\\Python310\\lib\\site-packages\\sklearn\\metrics\\_classification.py:663: RuntimeWarning: invalid value encountered in true_divide\n",
            "  k = np.sum(w_mat * confusion) / np.sum(w_mat * expected)\n",
            "c:\\Users\\de_la\\AppData\\Local\\Programs\\Python\\Python310\\lib\\site-packages\\sklearn\\metrics\\_classification.py:663: RuntimeWarning: invalid value encountered in true_divide\n",
            "  k = np.sum(w_mat * confusion) / np.sum(w_mat * expected)\n",
            "c:\\Users\\de_la\\AppData\\Local\\Programs\\Python\\Python310\\lib\\site-packages\\sklearn\\metrics\\_classification.py:663: RuntimeWarning: invalid value encountered in true_divide\n",
            "  k = np.sum(w_mat * confusion) / np.sum(w_mat * expected)\n",
            "c:\\Users\\de_la\\AppData\\Local\\Programs\\Python\\Python310\\lib\\site-packages\\sklearn\\metrics\\_classification.py:663: RuntimeWarning: invalid value encountered in true_divide\n",
            "  k = np.sum(w_mat * confusion) / np.sum(w_mat * expected)\n",
            "c:\\Users\\de_la\\AppData\\Local\\Programs\\Python\\Python310\\lib\\site-packages\\sklearn\\metrics\\_classification.py:663: RuntimeWarning: invalid value encountered in true_divide\n",
            "  k = np.sum(w_mat * confusion) / np.sum(w_mat * expected)\n"
          ]
        },
        {
          "name": "stdout",
          "output_type": "stream",
          "text": [
            "Procesó el modelo PR en: 0:01:03.822851\n"
          ]
        },
        {
          "name": "stderr",
          "output_type": "stream",
          "text": [
            "c:\\Users\\de_la\\AppData\\Local\\Programs\\Python\\Python310\\lib\\site-packages\\sklearn\\metrics\\_classification.py:663: RuntimeWarning: invalid value encountered in true_divide\n",
            "  k = np.sum(w_mat * confusion) / np.sum(w_mat * expected)\n",
            "c:\\Users\\de_la\\AppData\\Local\\Programs\\Python\\Python310\\lib\\site-packages\\sklearn\\metrics\\_classification.py:663: RuntimeWarning: invalid value encountered in true_divide\n",
            "  k = np.sum(w_mat * confusion) / np.sum(w_mat * expected)\n",
            "c:\\Users\\de_la\\AppData\\Local\\Programs\\Python\\Python310\\lib\\site-packages\\sklearn\\metrics\\_classification.py:663: RuntimeWarning: invalid value encountered in true_divide\n",
            "  k = np.sum(w_mat * confusion) / np.sum(w_mat * expected)\n",
            "c:\\Users\\de_la\\AppData\\Local\\Programs\\Python\\Python310\\lib\\site-packages\\sklearn\\metrics\\_classification.py:663: RuntimeWarning: invalid value encountered in true_divide\n",
            "  k = np.sum(w_mat * confusion) / np.sum(w_mat * expected)\n",
            "c:\\Users\\de_la\\AppData\\Local\\Programs\\Python\\Python310\\lib\\site-packages\\sklearn\\metrics\\_classification.py:663: RuntimeWarning: invalid value encountered in true_divide\n",
            "  k = np.sum(w_mat * confusion) / np.sum(w_mat * expected)\n",
            "c:\\Users\\de_la\\AppData\\Local\\Programs\\Python\\Python310\\lib\\site-packages\\sklearn\\metrics\\_classification.py:663: RuntimeWarning: invalid value encountered in true_divide\n",
            "  k = np.sum(w_mat * confusion) / np.sum(w_mat * expected)\n",
            "c:\\Users\\de_la\\AppData\\Local\\Programs\\Python\\Python310\\lib\\site-packages\\sklearn\\metrics\\_classification.py:663: RuntimeWarning: invalid value encountered in true_divide\n",
            "  k = np.sum(w_mat * confusion) / np.sum(w_mat * expected)\n",
            "c:\\Users\\de_la\\AppData\\Local\\Programs\\Python\\Python310\\lib\\site-packages\\sklearn\\metrics\\_classification.py:663: RuntimeWarning: invalid value encountered in true_divide\n",
            "  k = np.sum(w_mat * confusion) / np.sum(w_mat * expected)\n",
            "c:\\Users\\de_la\\AppData\\Local\\Programs\\Python\\Python310\\lib\\site-packages\\sklearn\\metrics\\_classification.py:663: RuntimeWarning: invalid value encountered in true_divide\n",
            "  k = np.sum(w_mat * confusion) / np.sum(w_mat * expected)\n",
            "c:\\Users\\de_la\\AppData\\Local\\Programs\\Python\\Python310\\lib\\site-packages\\sklearn\\metrics\\_classification.py:663: RuntimeWarning: invalid value encountered in true_divide\n",
            "  k = np.sum(w_mat * confusion) / np.sum(w_mat * expected)\n",
            "c:\\Users\\de_la\\AppData\\Local\\Programs\\Python\\Python310\\lib\\site-packages\\sklearn\\metrics\\_classification.py:663: RuntimeWarning: invalid value encountered in true_divide\n",
            "  k = np.sum(w_mat * confusion) / np.sum(w_mat * expected)\n",
            "c:\\Users\\de_la\\AppData\\Local\\Programs\\Python\\Python310\\lib\\site-packages\\sklearn\\metrics\\_classification.py:663: RuntimeWarning: invalid value encountered in true_divide\n",
            "  k = np.sum(w_mat * confusion) / np.sum(w_mat * expected)\n",
            "c:\\Users\\de_la\\AppData\\Local\\Programs\\Python\\Python310\\lib\\site-packages\\sklearn\\metrics\\_classification.py:663: RuntimeWarning: invalid value encountered in true_divide\n",
            "  k = np.sum(w_mat * confusion) / np.sum(w_mat * expected)\n",
            "c:\\Users\\de_la\\AppData\\Local\\Programs\\Python\\Python310\\lib\\site-packages\\sklearn\\metrics\\_classification.py:663: RuntimeWarning: invalid value encountered in true_divide\n",
            "  k = np.sum(w_mat * confusion) / np.sum(w_mat * expected)\n",
            "c:\\Users\\de_la\\AppData\\Local\\Programs\\Python\\Python310\\lib\\site-packages\\sklearn\\metrics\\_classification.py:663: RuntimeWarning: invalid value encountered in true_divide\n",
            "  k = np.sum(w_mat * confusion) / np.sum(w_mat * expected)\n",
            "c:\\Users\\de_la\\AppData\\Local\\Programs\\Python\\Python310\\lib\\site-packages\\sklearn\\metrics\\_classification.py:663: RuntimeWarning: invalid value encountered in true_divide\n",
            "  k = np.sum(w_mat * confusion) / np.sum(w_mat * expected)\n",
            "c:\\Users\\de_la\\AppData\\Local\\Programs\\Python\\Python310\\lib\\site-packages\\sklearn\\metrics\\_classification.py:663: RuntimeWarning: invalid value encountered in true_divide\n",
            "  k = np.sum(w_mat * confusion) / np.sum(w_mat * expected)\n",
            "c:\\Users\\de_la\\AppData\\Local\\Programs\\Python\\Python310\\lib\\site-packages\\sklearn\\metrics\\_classification.py:663: RuntimeWarning: invalid value encountered in true_divide\n",
            "  k = np.sum(w_mat * confusion) / np.sum(w_mat * expected)\n",
            "c:\\Users\\de_la\\AppData\\Local\\Programs\\Python\\Python310\\lib\\site-packages\\sklearn\\metrics\\_classification.py:663: RuntimeWarning: invalid value encountered in true_divide\n",
            "  k = np.sum(w_mat * confusion) / np.sum(w_mat * expected)\n",
            "c:\\Users\\de_la\\AppData\\Local\\Programs\\Python\\Python310\\lib\\site-packages\\sklearn\\metrics\\_classification.py:663: RuntimeWarning: invalid value encountered in true_divide\n",
            "  k = np.sum(w_mat * confusion) / np.sum(w_mat * expected)\n",
            "c:\\Users\\de_la\\AppData\\Local\\Programs\\Python\\Python310\\lib\\site-packages\\sklearn\\metrics\\_classification.py:663: RuntimeWarning: invalid value encountered in true_divide\n",
            "  k = np.sum(w_mat * confusion) / np.sum(w_mat * expected)\n",
            "c:\\Users\\de_la\\AppData\\Local\\Programs\\Python\\Python310\\lib\\site-packages\\sklearn\\metrics\\_classification.py:663: RuntimeWarning: invalid value encountered in true_divide\n",
            "  k = np.sum(w_mat * confusion) / np.sum(w_mat * expected)\n",
            "c:\\Users\\de_la\\AppData\\Local\\Programs\\Python\\Python310\\lib\\site-packages\\sklearn\\metrics\\_classification.py:663: RuntimeWarning: invalid value encountered in true_divide\n",
            "  k = np.sum(w_mat * confusion) / np.sum(w_mat * expected)\n",
            "c:\\Users\\de_la\\AppData\\Local\\Programs\\Python\\Python310\\lib\\site-packages\\sklearn\\metrics\\_classification.py:663: RuntimeWarning: invalid value encountered in true_divide\n",
            "  k = np.sum(w_mat * confusion) / np.sum(w_mat * expected)\n",
            "c:\\Users\\de_la\\AppData\\Local\\Programs\\Python\\Python310\\lib\\site-packages\\sklearn\\metrics\\_classification.py:663: RuntimeWarning: invalid value encountered in true_divide\n",
            "  k = np.sum(w_mat * confusion) / np.sum(w_mat * expected)\n",
            "c:\\Users\\de_la\\AppData\\Local\\Programs\\Python\\Python310\\lib\\site-packages\\sklearn\\metrics\\_classification.py:663: RuntimeWarning: invalid value encountered in true_divide\n",
            "  k = np.sum(w_mat * confusion) / np.sum(w_mat * expected)\n",
            "c:\\Users\\de_la\\AppData\\Local\\Programs\\Python\\Python310\\lib\\site-packages\\sklearn\\metrics\\_classification.py:663: RuntimeWarning: invalid value encountered in true_divide\n",
            "  k = np.sum(w_mat * confusion) / np.sum(w_mat * expected)\n",
            "c:\\Users\\de_la\\AppData\\Local\\Programs\\Python\\Python310\\lib\\site-packages\\sklearn\\metrics\\_classification.py:663: RuntimeWarning: invalid value encountered in true_divide\n",
            "  k = np.sum(w_mat * confusion) / np.sum(w_mat * expected)\n",
            "c:\\Users\\de_la\\AppData\\Local\\Programs\\Python\\Python310\\lib\\site-packages\\sklearn\\metrics\\_classification.py:663: RuntimeWarning: invalid value encountered in true_divide\n",
            "  k = np.sum(w_mat * confusion) / np.sum(w_mat * expected)\n",
            "c:\\Users\\de_la\\AppData\\Local\\Programs\\Python\\Python310\\lib\\site-packages\\sklearn\\metrics\\_classification.py:663: RuntimeWarning: invalid value encountered in true_divide\n",
            "  k = np.sum(w_mat * confusion) / np.sum(w_mat * expected)\n",
            "c:\\Users\\de_la\\AppData\\Local\\Programs\\Python\\Python310\\lib\\site-packages\\sklearn\\metrics\\_classification.py:663: RuntimeWarning: invalid value encountered in true_divide\n",
            "  k = np.sum(w_mat * confusion) / np.sum(w_mat * expected)\n",
            "c:\\Users\\de_la\\AppData\\Local\\Programs\\Python\\Python310\\lib\\site-packages\\sklearn\\metrics\\_classification.py:663: RuntimeWarning: invalid value encountered in true_divide\n",
            "  k = np.sum(w_mat * confusion) / np.sum(w_mat * expected)\n",
            "c:\\Users\\de_la\\AppData\\Local\\Programs\\Python\\Python310\\lib\\site-packages\\sklearn\\metrics\\_classification.py:663: RuntimeWarning: invalid value encountered in true_divide\n",
            "  k = np.sum(w_mat * confusion) / np.sum(w_mat * expected)\n",
            "c:\\Users\\de_la\\AppData\\Local\\Programs\\Python\\Python310\\lib\\site-packages\\sklearn\\metrics\\_classification.py:663: RuntimeWarning: invalid value encountered in true_divide\n",
            "  k = np.sum(w_mat * confusion) / np.sum(w_mat * expected)\n",
            "c:\\Users\\de_la\\AppData\\Local\\Programs\\Python\\Python310\\lib\\site-packages\\sklearn\\metrics\\_classification.py:663: RuntimeWarning: invalid value encountered in true_divide\n",
            "  k = np.sum(w_mat * confusion) / np.sum(w_mat * expected)\n",
            "c:\\Users\\de_la\\AppData\\Local\\Programs\\Python\\Python310\\lib\\site-packages\\sklearn\\metrics\\_classification.py:663: RuntimeWarning: invalid value encountered in true_divide\n",
            "  k = np.sum(w_mat * confusion) / np.sum(w_mat * expected)\n",
            "c:\\Users\\de_la\\AppData\\Local\\Programs\\Python\\Python310\\lib\\site-packages\\sklearn\\metrics\\_classification.py:663: RuntimeWarning: invalid value encountered in true_divide\n",
            "  k = np.sum(w_mat * confusion) / np.sum(w_mat * expected)\n",
            "c:\\Users\\de_la\\AppData\\Local\\Programs\\Python\\Python310\\lib\\site-packages\\sklearn\\metrics\\_classification.py:663: RuntimeWarning: invalid value encountered in true_divide\n",
            "  k = np.sum(w_mat * confusion) / np.sum(w_mat * expected)\n",
            "c:\\Users\\de_la\\AppData\\Local\\Programs\\Python\\Python310\\lib\\site-packages\\sklearn\\metrics\\_classification.py:663: RuntimeWarning: invalid value encountered in true_divide\n",
            "  k = np.sum(w_mat * confusion) / np.sum(w_mat * expected)\n",
            "c:\\Users\\de_la\\AppData\\Local\\Programs\\Python\\Python310\\lib\\site-packages\\sklearn\\metrics\\_classification.py:663: RuntimeWarning: invalid value encountered in true_divide\n",
            "  k = np.sum(w_mat * confusion) / np.sum(w_mat * expected)\n",
            "c:\\Users\\de_la\\AppData\\Local\\Programs\\Python\\Python310\\lib\\site-packages\\sklearn\\metrics\\_classification.py:663: RuntimeWarning: invalid value encountered in true_divide\n",
            "  k = np.sum(w_mat * confusion) / np.sum(w_mat * expected)\n",
            "c:\\Users\\de_la\\AppData\\Local\\Programs\\Python\\Python310\\lib\\site-packages\\sklearn\\metrics\\_classification.py:663: RuntimeWarning: invalid value encountered in true_divide\n",
            "  k = np.sum(w_mat * confusion) / np.sum(w_mat * expected)\n",
            "c:\\Users\\de_la\\AppData\\Local\\Programs\\Python\\Python310\\lib\\site-packages\\sklearn\\metrics\\_classification.py:663: RuntimeWarning: invalid value encountered in true_divide\n",
            "  k = np.sum(w_mat * confusion) / np.sum(w_mat * expected)\n",
            "c:\\Users\\de_la\\AppData\\Local\\Programs\\Python\\Python310\\lib\\site-packages\\sklearn\\metrics\\_classification.py:663: RuntimeWarning: invalid value encountered in true_divide\n",
            "  k = np.sum(w_mat * confusion) / np.sum(w_mat * expected)\n",
            "c:\\Users\\de_la\\AppData\\Local\\Programs\\Python\\Python310\\lib\\site-packages\\sklearn\\metrics\\_classification.py:663: RuntimeWarning: invalid value encountered in true_divide\n",
            "  k = np.sum(w_mat * confusion) / np.sum(w_mat * expected)\n",
            "c:\\Users\\de_la\\AppData\\Local\\Programs\\Python\\Python310\\lib\\site-packages\\sklearn\\metrics\\_classification.py:663: RuntimeWarning: invalid value encountered in true_divide\n",
            "  k = np.sum(w_mat * confusion) / np.sum(w_mat * expected)\n",
            "c:\\Users\\de_la\\AppData\\Local\\Programs\\Python\\Python310\\lib\\site-packages\\sklearn\\metrics\\_classification.py:663: RuntimeWarning: invalid value encountered in true_divide\n",
            "  k = np.sum(w_mat * confusion) / np.sum(w_mat * expected)\n",
            "c:\\Users\\de_la\\AppData\\Local\\Programs\\Python\\Python310\\lib\\site-packages\\sklearn\\metrics\\_classification.py:663: RuntimeWarning: invalid value encountered in true_divide\n",
            "  k = np.sum(w_mat * confusion) / np.sum(w_mat * expected)\n",
            "c:\\Users\\de_la\\AppData\\Local\\Programs\\Python\\Python310\\lib\\site-packages\\sklearn\\metrics\\_classification.py:663: RuntimeWarning: invalid value encountered in true_divide\n",
            "  k = np.sum(w_mat * confusion) / np.sum(w_mat * expected)\n",
            "c:\\Users\\de_la\\AppData\\Local\\Programs\\Python\\Python310\\lib\\site-packages\\sklearn\\metrics\\_classification.py:663: RuntimeWarning: invalid value encountered in true_divide\n",
            "  k = np.sum(w_mat * confusion) / np.sum(w_mat * expected)\n",
            "c:\\Users\\de_la\\AppData\\Local\\Programs\\Python\\Python310\\lib\\site-packages\\sklearn\\metrics\\_classification.py:663: RuntimeWarning: invalid value encountered in true_divide\n",
            "  k = np.sum(w_mat * confusion) / np.sum(w_mat * expected)\n",
            "c:\\Users\\de_la\\AppData\\Local\\Programs\\Python\\Python310\\lib\\site-packages\\sklearn\\metrics\\_classification.py:663: RuntimeWarning: invalid value encountered in true_divide\n",
            "  k = np.sum(w_mat * confusion) / np.sum(w_mat * expected)\n",
            "c:\\Users\\de_la\\AppData\\Local\\Programs\\Python\\Python310\\lib\\site-packages\\sklearn\\metrics\\_classification.py:663: RuntimeWarning: invalid value encountered in true_divide\n",
            "  k = np.sum(w_mat * confusion) / np.sum(w_mat * expected)\n",
            "c:\\Users\\de_la\\AppData\\Local\\Programs\\Python\\Python310\\lib\\site-packages\\sklearn\\metrics\\_classification.py:663: RuntimeWarning: invalid value encountered in true_divide\n",
            "  k = np.sum(w_mat * confusion) / np.sum(w_mat * expected)\n",
            "c:\\Users\\de_la\\AppData\\Local\\Programs\\Python\\Python310\\lib\\site-packages\\sklearn\\metrics\\_classification.py:663: RuntimeWarning: invalid value encountered in true_divide\n",
            "  k = np.sum(w_mat * confusion) / np.sum(w_mat * expected)\n",
            "c:\\Users\\de_la\\AppData\\Local\\Programs\\Python\\Python310\\lib\\site-packages\\sklearn\\metrics\\_classification.py:663: RuntimeWarning: invalid value encountered in true_divide\n",
            "  k = np.sum(w_mat * confusion) / np.sum(w_mat * expected)\n",
            "c:\\Users\\de_la\\AppData\\Local\\Programs\\Python\\Python310\\lib\\site-packages\\sklearn\\metrics\\_classification.py:663: RuntimeWarning: invalid value encountered in true_divide\n",
            "  k = np.sum(w_mat * confusion) / np.sum(w_mat * expected)\n",
            "c:\\Users\\de_la\\AppData\\Local\\Programs\\Python\\Python310\\lib\\site-packages\\sklearn\\metrics\\_classification.py:663: RuntimeWarning: invalid value encountered in true_divide\n",
            "  k = np.sum(w_mat * confusion) / np.sum(w_mat * expected)\n",
            "c:\\Users\\de_la\\AppData\\Local\\Programs\\Python\\Python310\\lib\\site-packages\\sklearn\\metrics\\_classification.py:663: RuntimeWarning: invalid value encountered in true_divide\n",
            "  k = np.sum(w_mat * confusion) / np.sum(w_mat * expected)\n",
            "c:\\Users\\de_la\\AppData\\Local\\Programs\\Python\\Python310\\lib\\site-packages\\sklearn\\metrics\\_classification.py:663: RuntimeWarning: invalid value encountered in true_divide\n",
            "  k = np.sum(w_mat * confusion) / np.sum(w_mat * expected)\n",
            "c:\\Users\\de_la\\AppData\\Local\\Programs\\Python\\Python310\\lib\\site-packages\\sklearn\\metrics\\_classification.py:663: RuntimeWarning: invalid value encountered in true_divide\n",
            "  k = np.sum(w_mat * confusion) / np.sum(w_mat * expected)\n",
            "c:\\Users\\de_la\\AppData\\Local\\Programs\\Python\\Python310\\lib\\site-packages\\sklearn\\metrics\\_classification.py:663: RuntimeWarning: invalid value encountered in true_divide\n",
            "  k = np.sum(w_mat * confusion) / np.sum(w_mat * expected)\n",
            "c:\\Users\\de_la\\AppData\\Local\\Programs\\Python\\Python310\\lib\\site-packages\\sklearn\\metrics\\_classification.py:663: RuntimeWarning: invalid value encountered in true_divide\n",
            "  k = np.sum(w_mat * confusion) / np.sum(w_mat * expected)\n",
            "c:\\Users\\de_la\\AppData\\Local\\Programs\\Python\\Python310\\lib\\site-packages\\sklearn\\metrics\\_classification.py:663: RuntimeWarning: invalid value encountered in true_divide\n",
            "  k = np.sum(w_mat * confusion) / np.sum(w_mat * expected)\n",
            "c:\\Users\\de_la\\AppData\\Local\\Programs\\Python\\Python310\\lib\\site-packages\\sklearn\\metrics\\_classification.py:663: RuntimeWarning: invalid value encountered in true_divide\n",
            "  k = np.sum(w_mat * confusion) / np.sum(w_mat * expected)\n",
            "c:\\Users\\de_la\\AppData\\Local\\Programs\\Python\\Python310\\lib\\site-packages\\sklearn\\metrics\\_classification.py:663: RuntimeWarning: invalid value encountered in true_divide\n",
            "  k = np.sum(w_mat * confusion) / np.sum(w_mat * expected)\n",
            "c:\\Users\\de_la\\AppData\\Local\\Programs\\Python\\Python310\\lib\\site-packages\\sklearn\\metrics\\_classification.py:663: RuntimeWarning: invalid value encountered in true_divide\n",
            "  k = np.sum(w_mat * confusion) / np.sum(w_mat * expected)\n",
            "c:\\Users\\de_la\\AppData\\Local\\Programs\\Python\\Python310\\lib\\site-packages\\sklearn\\metrics\\_classification.py:663: RuntimeWarning: invalid value encountered in true_divide\n",
            "  k = np.sum(w_mat * confusion) / np.sum(w_mat * expected)\n",
            "c:\\Users\\de_la\\AppData\\Local\\Programs\\Python\\Python310\\lib\\site-packages\\sklearn\\metrics\\_classification.py:663: RuntimeWarning: invalid value encountered in true_divide\n",
            "  k = np.sum(w_mat * confusion) / np.sum(w_mat * expected)\n",
            "c:\\Users\\de_la\\AppData\\Local\\Programs\\Python\\Python310\\lib\\site-packages\\sklearn\\metrics\\_classification.py:663: RuntimeWarning: invalid value encountered in true_divide\n",
            "  k = np.sum(w_mat * confusion) / np.sum(w_mat * expected)\n"
          ]
        },
        {
          "name": "stdout",
          "output_type": "stream",
          "text": [
            "Procesó el modelo KNN en: 0:00:58.512266\n"
          ]
        },
        {
          "name": "stderr",
          "output_type": "stream",
          "text": [
            "c:\\Users\\de_la\\AppData\\Local\\Programs\\Python\\Python310\\lib\\site-packages\\sklearn\\metrics\\_classification.py:663: RuntimeWarning: invalid value encountered in true_divide\n",
            "  k = np.sum(w_mat * confusion) / np.sum(w_mat * expected)\n"
          ]
        },
        {
          "name": "stdout",
          "output_type": "stream",
          "text": [
            "Procesó el modelo RFC en: 0:02:42.344608\n",
            "Procesó el modelo DTC en: 0:00:57.132317\n",
            "Finalizó el proceso: 2023-04-16 21:38:22.446010 en 0:05:41.812042\n"
          ]
        }
      ],
      "source": [
        "#Se quitan los modelos 'LR','SVC','SGD','DTC','MLP' por mal rendimiento\n",
        "models_array = ['PR','KNN','RFC','DTC']\n",
        "#models_array = ['KNN']\n",
        "report_models = []\n",
        "roc_curve_arr = []\n",
        "start_proccess = datetime.now()\n",
        "print(f\"Inició el proceso: {datetime.now()}\")\n",
        "for model in models_array:\n",
        "    start_date = datetime.now()\n",
        "    count = 0\n",
        "    kappa_score = 0.0\n",
        "    test_score = 0\n",
        "    roc_score = 0.0\n",
        "    confusion_phone = np.matrix(0,dtype=int)\n",
        "    y_test_arr = np.array(0,dtype=int)\n",
        "    y_prob_arr = np.array(0,dtype=float)\n",
        "    for phone in phone_array:\n",
        "        remaining_days = DATE_START_TRAINIG.date() + timedelta(days=7) - DATE_START_TRAINIG.date()\n",
        "        for i in range(remaining_days.days):\n",
        "            last_time = DATE_START_TRAINIG.date() + timedelta(days=i)\n",
        "            y_pred, y_test, y_prob = evaluate_model(phone, df_taxis, pd.to_datetime(last_time, format=FORMAT_DATE), model)\n",
        "            #if(not existAllZero(y_pred)) & (not existAllZero(y_test)):\n",
        "            if len(y_prob)>0:\n",
        "                y_test = y_test.values[:]\n",
        "                y_prob = [y_prob[:, 1] if model != 'PR' else y_prob[:] ]\n",
        "                y_test_arr = np.concatenate((y_test_arr, y_test), axis=None)\n",
        "                y_prob_arr = np.concatenate((y_prob_arr, y_prob), axis=None)\n",
        "            if len(y_pred) > 1:\n",
        "                \n",
        "                try:\n",
        "                    matrix = np.matrix(confusion_matrix(y_test, y_pred))\n",
        "                    if matrix.size == 1:\n",
        "                        matrix = np.matrix([[24,0],[0,0]],dtype=int)\n",
        "                    confusion_phone = confusion_phone + matrix\n",
        "                except Exception as err:\n",
        "                    confusion_phone = confusion_phone\n",
        "                try:\n",
        "                    score_k = cohen_kappa_score(y_test, y_pred)\n",
        "                    kappa_score += (0.0 if math.isnan (score_k) else score_k)\n",
        "                except Exception as err:\n",
        "                    kappa_score += 0\n",
        "                test_score += np.mean(y_pred == y_test)\n",
        "                #\n",
        "                try:\n",
        "                    roc_score += roc_auc_score(y_test, y_pred)\n",
        "                except Exception as err:\n",
        "                    roc_score += 0.0\n",
        "                    #print(f\"Unexpected {err=}, {type(err)=} - {y_test} - {y_pred}\")\n",
        "                count = count + 1\n",
        "                #if(existAllZero(y_pred)) & (existAllZero(y_test)):\n",
        "                #    print(f\"Procesando el teléfono: {phone[0]} y la fecha: {last_time}, confusion: {matrix}, tamanio: {matrix.size}\")\n",
        "                #    print(f\"{y_test} \\n {y_pred} \\n {y_prob}\")\n",
        "            #else:\n",
        "            #    print(f\"Procesando el teléfono: {phone} pero sin predictibilidad\")\n",
        "    roc_curve_arr.append([model, y_test_arr, y_prob_arr])\n",
        "    report_models.append([model,confusion_phone, (kappa_score/count) if kappa_score > 0 else 0, (test_score/count) if test_score > 0 else 0, (roc_score/count) if roc_score > 0 else 0])\n",
        "    print(f\"Procesó el modelo {model} en: {datetime.now()-start_date}\")\n",
        "print(f\"Finalizó el proceso: {datetime.now()} en {datetime.now()-start_proccess}\")\n",
        "#https://scikit-learn.org/stable/modules/generated/sklearn.metrics.RocCurveDisplay.html"
      ]
    },
    {
      "cell_type": "markdown",
      "metadata": {},
      "source": [
        "Se ejecuta la matriz de confusión de los modelos"
      ]
    },
    {
      "cell_type": "code",
      "execution_count": 501,
      "metadata": {},
      "outputs": [
        {
          "data": {
            "text/html": [
              "<div>\n",
              "<style scoped>\n",
              "    .dataframe tbody tr th:only-of-type {\n",
              "        vertical-align: middle;\n",
              "    }\n",
              "\n",
              "    .dataframe tbody tr th {\n",
              "        vertical-align: top;\n",
              "    }\n",
              "\n",
              "    .dataframe thead th {\n",
              "        text-align: right;\n",
              "    }\n",
              "</style>\n",
              "<table border=\"1\" class=\"dataframe\">\n",
              "  <thead>\n",
              "    <tr style=\"text-align: right;\">\n",
              "      <th></th>\n",
              "      <th>MODEL</th>\n",
              "      <th>PRECISION</th>\n",
              "      <th>RECALL</th>\n",
              "      <th>F1</th>\n",
              "      <th>TN</th>\n",
              "      <th>TP</th>\n",
              "      <th>FP</th>\n",
              "      <th>FN</th>\n",
              "      <th>KAPPA</th>\n",
              "      <th>SCORE TEST</th>\n",
              "      <th>ROC</th>\n",
              "    </tr>\n",
              "  </thead>\n",
              "  <tbody>\n",
              "    <tr>\n",
              "      <th>0</th>\n",
              "      <td>probabilistic model</td>\n",
              "      <td>0.36</td>\n",
              "      <td>0.15</td>\n",
              "      <td>0.21</td>\n",
              "      <td>13609</td>\n",
              "      <td>211</td>\n",
              "      <td>382</td>\n",
              "      <td>1182</td>\n",
              "      <td>0.11</td>\n",
              "      <td>0.90</td>\n",
              "      <td>0.45</td>\n",
              "    </tr>\n",
              "    <tr>\n",
              "      <th>1</th>\n",
              "      <td>kneighbors</td>\n",
              "      <td>0.32</td>\n",
              "      <td>0.13</td>\n",
              "      <td>0.18</td>\n",
              "      <td>13622</td>\n",
              "      <td>175</td>\n",
              "      <td>369</td>\n",
              "      <td>1218</td>\n",
              "      <td>0.09</td>\n",
              "      <td>0.90</td>\n",
              "      <td>0.44</td>\n",
              "    </tr>\n",
              "    <tr>\n",
              "      <th>2</th>\n",
              "      <td>random forest</td>\n",
              "      <td>0.21</td>\n",
              "      <td>0.46</td>\n",
              "      <td>0.29</td>\n",
              "      <td>11550</td>\n",
              "      <td>643</td>\n",
              "      <td>2441</td>\n",
              "      <td>750</td>\n",
              "      <td>0.17</td>\n",
              "      <td>0.79</td>\n",
              "      <td>0.52</td>\n",
              "    </tr>\n",
              "    <tr>\n",
              "      <th>3</th>\n",
              "      <td>decision tree</td>\n",
              "      <td>0.16</td>\n",
              "      <td>0.72</td>\n",
              "      <td>0.26</td>\n",
              "      <td>8564</td>\n",
              "      <td>1006</td>\n",
              "      <td>5427</td>\n",
              "      <td>387</td>\n",
              "      <td>0.14</td>\n",
              "      <td>0.62</td>\n",
              "      <td>0.54</td>\n",
              "    </tr>\n",
              "  </tbody>\n",
              "</table>\n",
              "</div>"
            ],
            "text/plain": [
              "                 MODEL  PRECISION  RECALL    F1     TN    TP    FP    FN  \\\n",
              "0  probabilistic model       0.36    0.15  0.21  13609   211   382  1182   \n",
              "1           kneighbors       0.32    0.13  0.18  13622   175   369  1218   \n",
              "2        random forest       0.21    0.46  0.29  11550   643  2441   750   \n",
              "3        decision tree       0.16    0.72  0.26   8564  1006  5427   387   \n",
              "\n",
              "   KAPPA  SCORE TEST   ROC  \n",
              "0   0.11        0.90  0.45  \n",
              "1   0.09        0.90  0.44  \n",
              "2   0.17        0.79  0.52  \n",
              "3   0.14        0.62  0.54  "
            ]
          },
          "execution_count": 501,
          "metadata": {},
          "output_type": "execute_result"
        }
      ],
      "source": [
        "models_array = []\n",
        "for model in report_models:\n",
        "    true_neg = model[1][0,0]\n",
        "    true_pos = model[1][1,1]\n",
        "    false_pos = model[1][0,1]\n",
        "    false_neg = model[1][1,0]\n",
        "    kappa = model[2]\n",
        "    test_score = model[3]\n",
        "    roc = model[4]\n",
        "\n",
        "    #Precision = TruePositives / (TruePositives + FalsePositives)\n",
        "    precision_scr = true_pos / (true_pos + false_pos) if true_pos > 0 else 0\n",
        "    #Recall = TruePositives / (TruePositives + FalseNegatives)\n",
        "\n",
        "    \n",
        "    recall_scr = true_pos / (true_pos + false_neg) if true_pos > 0 else 0\n",
        "    #F-Measure = (2 * Precision * Recall) / (Precision + Recall)\n",
        "    f1_scr = (2 * precision_scr * recall_scr) / (precision_scr + recall_scr) if true_pos > 0 else 0\n",
        "\n",
        "    #Sacar la tasa de los TP = Que es Positivos del test sobre los positivos predichos\n",
        "    #TP rate = TP / Positivos reales (test)\n",
        "    #FP rate = FP / Negativos reales (test)\n",
        "\n",
        "    models_array.append([modelName(model[0]),\n",
        "                         round(precision_scr,2),\n",
        "                         round(recall_scr,2),\n",
        "                         round(f1_scr,2),\n",
        "                         true_neg,\n",
        "                         true_pos,\n",
        "                         false_pos,\n",
        "                         false_neg,\n",
        "                         round(kappa,2),\n",
        "                         round(test_score,2),\n",
        "                         round(roc,2)])\n",
        "\n",
        "#Mostramos el dataframe con el reporte\n",
        "pd.DataFrame(models_array, columns = ['MODEL','PRECISION','RECALL','F1','TN','TP','FP','FN','KAPPA','SCORE TEST','ROC'])"
      ]
    },
    {
      "cell_type": "code",
      "execution_count": 486,
      "metadata": {},
      "outputs": [
        {
          "name": "stdout",
          "output_type": "stream",
          "text": [
            "kneighbors: ROC AUC=0.614\n"
          ]
        },
        {
          "data": {
            "image/png": "[encoded data removed]",
            "text/plain": [
              "<Figure size 432x288 with 1 Axes>"
            ]
          },
          "metadata": {
            "needs_background": "light"
          },
          "output_type": "display_data"
        }
      ],
      "source": [
        "#Se muestra la curva ROC de los modelos\n",
        "for roc in roc_curve_arr:\n",
        "    if not existAllZero(roc[1]):\n",
        "        ns_probs = [0 for _ in range(len(roc[1]))]\n",
        "        # calculate scores\n",
        "        ns_auc = roc_auc_score(roc[1], ns_probs)\n",
        "        lr_auc = roc_auc_score(roc[1], roc[2])\n",
        "        # summarize scores\n",
        "        \n",
        "        print(f'{modelName(roc[0])}: ROC AUC=%.3f' % (lr_auc))\n",
        "        # calculate roc curves\n",
        "        ns_fpr, ns_tpr, _ = roc_curve(roc[1], ns_probs)\n",
        "        lr_fpr, lr_tpr, _ = roc_curve(roc[1], roc[2])\n",
        "        # plot the roc curve for the model\n",
        "        plt.plot(ns_fpr, ns_tpr, linestyle='--', label='No model')\n",
        "        plt.plot(lr_fpr, lr_tpr, marker='.', label=modelName(roc[0]))\n",
        "        # axis labels\n",
        "        plt.xlabel('False Positive Rate')\n",
        "        plt.ylabel('True Positive Rate')\n",
        "        # show the legend\n",
        "        plt.legend()\n",
        "        # show the plot\n",
        "        plt.show()\n",
        "    else:\n",
        "        print(f\"El modelo {modelName(roc[0])} no tiene valores para mostrar\")"
      ]
    }
  ],
  "metadata": {
    "colab": {
      "collapsed_sections": [],
      "name": "Proyecto predicción servicio taxi.ipynb",
      "provenance": []
    },
    "kernelspec": {
      "display_name": "Python 3.10.2 64-bit",
      "language": "python",
      "name": "python3"
    },
    "language_info": {
      "codemirror_mode": {
        "name": "ipython",
        "version": 3
      },
      "file_extension": ".py",
      "mimetype": "text/x-python",
      "name": "python",
      "nbconvert_exporter": "python",
      "pygments_lexer": "ipython3",
      "version": "3.10.2"
    },
    "vscode": {
      "interpreter": {
        "hash": "6c66cf74b0d2a9f1f4e9764d44e7ed6418e0349c942d329ab910649654051b15"
      }
    }
  },
  "nbformat": 4,
  "nbformat_minor": 0
}
