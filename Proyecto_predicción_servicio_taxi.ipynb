{
  "cells": [
    {
      "cell_type": "markdown",
      "metadata": {
        "id": "Zm7tiHiJk80E"
      },
      "source": [
        "### ANALISIS EXPLORATORIO\n",
        "\n"
      ]
    },
    {
      "cell_type": "code",
      "execution_count": 1,
      "metadata": {
        "colab": {
          "base_uri": "https://localhost:8080/"
        },
        "id": "jbQIiJjPgCYj",
        "outputId": "c8d87048-b445-45ec-8e27-4e604af3a8b7"
      },
      "outputs": [],
      "source": [
        "#from google.colab import drive\n",
        "#drive.mount('/content/drive')"
      ]
    },
    {
      "cell_type": "code",
      "execution_count": 175,
      "metadata": {
        "id": "9YlqkYPGeDuz"
      },
      "outputs": [],
      "source": [
        "#librerias\n",
        "import pandas as pd\n",
        "import matplotlib.pyplot as plot\n",
        "import seaborn as sns\n",
        "from sklearn.model_selection import train_test_split\n",
        "from sklearn.preprocessing import StandardScaler\n",
        "\n",
        "import numpy as np\n",
        "from datetime import date, datetime, timedelta\n",
        "from os import name"
      ]
    },
    {
      "cell_type": "markdown",
      "metadata": {
        "id": "yj6GLCBW1jan"
      },
      "source": [
        "Definición de parámetros iniciales"
      ]
    },
    {
      "cell_type": "code",
      "execution_count": 188,
      "metadata": {
        "id": "GLoQZVku1iMb"
      },
      "outputs": [],
      "source": [
        "NUM_OF_WEEK = 8.0\n",
        "HOURS_OF_DAY = 24\n",
        "DAYS_OF_WEEK = 7\n",
        "FORMAT_DATE = '%Y-%m-%d'\n",
        "DATE_START_TRAINIG = pd.to_datetime(\"2022-04-13\", format=FORMAT_DATE)\n",
        "FICHERO_DATA = './data/SERVICIO_UNIFICADO_2022.parquet.gzip'"
      ]
    },
    {
      "cell_type": "code",
      "execution_count": 189,
      "metadata": {
        "colab": {
          "base_uri": "https://localhost:8080/"
        },
        "id": "JnMbR7vKA1KO",
        "outputId": "d19dfb19-63d8-4113-dd65-f304764645d8"
      },
      "outputs": [
        {
          "name": "stdout",
          "output_type": "stream",
          "text": [
            "Dataset cargado con éxito\n"
          ]
        }
      ],
      "source": [
        "#Se lee el archivo de un parquet a un dataframe\n",
        "df = pd.read_parquet(FICHERO_DATA) \n",
        "\n",
        "print(\"Dataset cargado con éxito\")"
      ]
    },
    {
      "cell_type": "markdown",
      "metadata": {
        "id": "65CC2tpPmJk5"
      },
      "source": [
        "Se valida cuantos valores nulos tenemos en el dataset"
      ]
    },
    {
      "cell_type": "code",
      "execution_count": 190,
      "metadata": {
        "colab": {
          "base_uri": "https://localhost:8080/"
        },
        "id": "TWgKyA9DmHPO",
        "outputId": "be8d5d42-49c6-4b53-8807-6aea60c62573"
      },
      "outputs": [
        {
          "data": {
            "text/plain": [
              "ID                       0\n",
              "IDCIUDAD                 0\n",
              "USUARIO               1707\n",
              "TELEFONOORIGEN       69322\n",
              "LATITUD                  0\n",
              "LATITUDDESTINO     1932690\n",
              "LONGITUD                 0\n",
              "LONGITUDDESTINO    1932690\n",
              "ESTADO                   0\n",
              "ORIGEN                   0\n",
              "FECHACOMPLETA            0\n",
              "DIADESEMANA              0\n",
              "HORA                     0\n",
              "dtype: int64"
            ]
          },
          "execution_count": 190,
          "metadata": {},
          "output_type": "execute_result"
        }
      ],
      "source": [
        "#Contar cuantos datos se encuentran nulos\n",
        "df.isnull().sum()"
      ]
    },
    {
      "cell_type": "markdown",
      "metadata": {
        "id": "QGkxeameln6J"
      },
      "source": [
        "Se limpian los datos donde el teléfono del usuario es nulo\n",
        " para tener usuarios validos y limitamos los datos de bogotá"
      ]
    },
    {
      "cell_type": "code",
      "execution_count": 191,
      "metadata": {
        "colab": {
          "base_uri": "https://localhost:8080/",
          "height": 206
        },
        "id": "GZNxk52pYbgy",
        "outputId": "b11d7eb7-8175-4047-ae37-ece241b971f6"
      },
      "outputs": [
        {
          "data": {
            "text/html": [
              "<div>\n",
              "<style scoped>\n",
              "    .dataframe tbody tr th:only-of-type {\n",
              "        vertical-align: middle;\n",
              "    }\n",
              "\n",
              "    .dataframe tbody tr th {\n",
              "        vertical-align: top;\n",
              "    }\n",
              "\n",
              "    .dataframe thead th {\n",
              "        text-align: right;\n",
              "    }\n",
              "</style>\n",
              "<table border=\"1\" class=\"dataframe\">\n",
              "  <thead>\n",
              "    <tr style=\"text-align: right;\">\n",
              "      <th></th>\n",
              "      <th>ID</th>\n",
              "      <th>IDCIUDAD</th>\n",
              "      <th>USUARIO</th>\n",
              "      <th>TELEFONOORIGEN</th>\n",
              "      <th>LATITUD</th>\n",
              "      <th>LATITUDDESTINO</th>\n",
              "      <th>LONGITUD</th>\n",
              "      <th>LONGITUDDESTINO</th>\n",
              "      <th>ESTADO</th>\n",
              "      <th>ORIGEN</th>\n",
              "      <th>FECHACOMPLETA</th>\n",
              "      <th>DIADESEMANA</th>\n",
              "      <th>HORA</th>\n",
              "    </tr>\n",
              "  </thead>\n",
              "  <tbody>\n",
              "    <tr>\n",
              "      <th>0</th>\n",
              "      <td>70152580</td>\n",
              "      <td>11001</td>\n",
              "      <td>8946882.0</td>\n",
              "      <td>3186429637</td>\n",
              "      <td>4.642036</td>\n",
              "      <td>4.630580</td>\n",
              "      <td>-74.187636</td>\n",
              "      <td>-74.189880</td>\n",
              "      <td>CANCELADO</td>\n",
              "      <td>APP</td>\n",
              "      <td>2022-04-30 19:00:00</td>\n",
              "      <td>7</td>\n",
              "      <td>19</td>\n",
              "    </tr>\n",
              "    <tr>\n",
              "      <th>1</th>\n",
              "      <td>70152581</td>\n",
              "      <td>11001</td>\n",
              "      <td>9665930.0</td>\n",
              "      <td>3209171095</td>\n",
              "      <td>4.594340</td>\n",
              "      <td>4.604060</td>\n",
              "      <td>-74.138168</td>\n",
              "      <td>-74.141610</td>\n",
              "      <td>ABANDONADO</td>\n",
              "      <td>APP</td>\n",
              "      <td>2022-04-30 19:00:00</td>\n",
              "      <td>7</td>\n",
              "      <td>19</td>\n",
              "    </tr>\n",
              "    <tr>\n",
              "      <th>2</th>\n",
              "      <td>70152582</td>\n",
              "      <td>76001</td>\n",
              "      <td>9243481.0</td>\n",
              "      <td>3147558713</td>\n",
              "      <td>3.367783</td>\n",
              "      <td>NaN</td>\n",
              "      <td>-76.531083</td>\n",
              "      <td>NaN</td>\n",
              "      <td>ABANDONADO</td>\n",
              "      <td>APP</td>\n",
              "      <td>2022-04-30 19:00:01</td>\n",
              "      <td>7</td>\n",
              "      <td>19</td>\n",
              "    </tr>\n",
              "    <tr>\n",
              "      <th>3</th>\n",
              "      <td>70152583</td>\n",
              "      <td>11001</td>\n",
              "      <td>841805.0</td>\n",
              "      <td>3125733084</td>\n",
              "      <td>4.630927</td>\n",
              "      <td>NaN</td>\n",
              "      <td>-74.092728</td>\n",
              "      <td>NaN</td>\n",
              "      <td>ABANDONADO</td>\n",
              "      <td>CHAT_BOT_659</td>\n",
              "      <td>2022-04-30 19:00:01</td>\n",
              "      <td>7</td>\n",
              "      <td>19</td>\n",
              "    </tr>\n",
              "    <tr>\n",
              "      <th>4</th>\n",
              "      <td>70152584</td>\n",
              "      <td>11001</td>\n",
              "      <td>9330612.0</td>\n",
              "      <td>3043963812</td>\n",
              "      <td>4.548637</td>\n",
              "      <td>4.622711</td>\n",
              "      <td>-74.096414</td>\n",
              "      <td>-74.147018</td>\n",
              "      <td>ABANDONADO</td>\n",
              "      <td>APP</td>\n",
              "      <td>2022-04-30 19:00:01</td>\n",
              "      <td>7</td>\n",
              "      <td>19</td>\n",
              "    </tr>\n",
              "  </tbody>\n",
              "</table>\n",
              "</div>"
            ],
            "text/plain": [
              "         ID  IDCIUDAD    USUARIO TELEFONOORIGEN   LATITUD  LATITUDDESTINO  \\\n",
              "0  70152580     11001  8946882.0     3186429637  4.642036        4.630580   \n",
              "1  70152581     11001  9665930.0     3209171095  4.594340        4.604060   \n",
              "2  70152582     76001  9243481.0     3147558713  3.367783             NaN   \n",
              "3  70152583     11001   841805.0     3125733084  4.630927             NaN   \n",
              "4  70152584     11001  9330612.0     3043963812  4.548637        4.622711   \n",
              "\n",
              "    LONGITUD  LONGITUDDESTINO      ESTADO        ORIGEN        FECHACOMPLETA  \\\n",
              "0 -74.187636       -74.189880   CANCELADO           APP  2022-04-30 19:00:00   \n",
              "1 -74.138168       -74.141610  ABANDONADO           APP  2022-04-30 19:00:00   \n",
              "2 -76.531083              NaN  ABANDONADO           APP  2022-04-30 19:00:01   \n",
              "3 -74.092728              NaN  ABANDONADO  CHAT_BOT_659  2022-04-30 19:00:01   \n",
              "4 -74.096414       -74.147018  ABANDONADO           APP  2022-04-30 19:00:01   \n",
              "\n",
              "   DIADESEMANA  HORA  \n",
              "0            7    19  \n",
              "1            7    19  \n",
              "2            7    19  \n",
              "3            7    19  \n",
              "4            7    19  "
            ]
          },
          "execution_count": 191,
          "metadata": {},
          "output_type": "execute_result"
        }
      ],
      "source": [
        "df.head(5)"
      ]
    },
    {
      "cell_type": "code",
      "execution_count": 192,
      "metadata": {
        "colab": {
          "base_uri": "https://localhost:8080/"
        },
        "id": "CftD2xATAE6Y",
        "outputId": "372aeab0-fa5a-42f3-d734-4a7573f3d79f"
      },
      "outputs": [],
      "source": [
        "#Eliminamos los registros nulos del telefono de origen\n",
        "df = df[~df['TELEFONOORIGEN'].isnull()]\n",
        "#Filtramos para ciudad de bogotá\n",
        "df = df[df[\"IDCIUDAD\"]==11001]"
      ]
    },
    {
      "cell_type": "markdown",
      "metadata": {
        "id": "OsFQhyCkbwwb"
      },
      "source": [
        "Limitamos los canales por donde se reciben servicios a APP, IVR, CHATBOT, RECEPCIÓN, CALLE Y WEB que son los más relevantes.\n",
        "Limitamos los estados a ABANDONADO, CUMPLIDO, CANCELADO Y FINALIZADO que son los validos, el restos son errores del proceso."
      ]
    },
    {
      "cell_type": "code",
      "execution_count": 193,
      "metadata": {
        "id": "NcAWDyRwbocp"
      },
      "outputs": [],
      "source": [
        "df = df[(df[\"ORIGEN\"]==\"APP\") | (df[\"ORIGEN\"]==\"IVR\") | (df[\"ORIGEN\"]==\"CHAT_BOT_659\") | (df[\"ORIGEN\"]==\"RECEPCION\") | (df[\"ORIGEN\"]==\"CALLE\") | (df[\"ORIGEN\"]==\"WEB\")]\n",
        "df = df[(df[\"ESTADO\"]==\"ABANDONADO\") | (df[\"ESTADO\"]==\"CUMPLIDO\") | (df[\"ESTADO\"]==\"CANCELADO\") | (df[\"ESTADO\"]==\"FINALIZADO\")]"
      ]
    },
    {
      "cell_type": "markdown",
      "metadata": {
        "id": "qA9Hmg3dbGmG"
      },
      "source": [
        "Eliminamos las columnas de ciudad, usuario, id servicio, latitud y longitud de destino"
      ]
    },
    {
      "cell_type": "code",
      "execution_count": 194,
      "metadata": {
        "id": "eT6AHEo2bFZg"
      },
      "outputs": [
        {
          "data": {
            "text/html": [
              "<div>\n",
              "<style scoped>\n",
              "    .dataframe tbody tr th:only-of-type {\n",
              "        vertical-align: middle;\n",
              "    }\n",
              "\n",
              "    .dataframe tbody tr th {\n",
              "        vertical-align: top;\n",
              "    }\n",
              "\n",
              "    .dataframe thead th {\n",
              "        text-align: right;\n",
              "    }\n",
              "</style>\n",
              "<table border=\"1\" class=\"dataframe\">\n",
              "  <thead>\n",
              "    <tr style=\"text-align: right;\">\n",
              "      <th></th>\n",
              "      <th>ID</th>\n",
              "      <th>IDCIUDAD</th>\n",
              "      <th>USUARIO</th>\n",
              "      <th>TELEFONOORIGEN</th>\n",
              "      <th>LATITUD</th>\n",
              "      <th>LATITUDDESTINO</th>\n",
              "      <th>LONGITUD</th>\n",
              "      <th>LONGITUDDESTINO</th>\n",
              "      <th>ESTADO</th>\n",
              "      <th>ORIGEN</th>\n",
              "      <th>FECHACOMPLETA</th>\n",
              "      <th>DIADESEMANA</th>\n",
              "      <th>HORA</th>\n",
              "      <th>FECHA</th>\n",
              "    </tr>\n",
              "  </thead>\n",
              "  <tbody>\n",
              "    <tr>\n",
              "      <th>0</th>\n",
              "      <td>70152580</td>\n",
              "      <td>11001</td>\n",
              "      <td>8946882.0</td>\n",
              "      <td>3186429637</td>\n",
              "      <td>4.642036</td>\n",
              "      <td>4.630580</td>\n",
              "      <td>-74.187636</td>\n",
              "      <td>-74.189880</td>\n",
              "      <td>CANCELADO</td>\n",
              "      <td>APP</td>\n",
              "      <td>2022-04-30 19:00:00</td>\n",
              "      <td>6</td>\n",
              "      <td>19</td>\n",
              "      <td>2022-04-30</td>\n",
              "    </tr>\n",
              "    <tr>\n",
              "      <th>1</th>\n",
              "      <td>70152581</td>\n",
              "      <td>11001</td>\n",
              "      <td>9665930.0</td>\n",
              "      <td>3209171095</td>\n",
              "      <td>4.594340</td>\n",
              "      <td>4.604060</td>\n",
              "      <td>-74.138168</td>\n",
              "      <td>-74.141610</td>\n",
              "      <td>ABANDONADO</td>\n",
              "      <td>APP</td>\n",
              "      <td>2022-04-30 19:00:00</td>\n",
              "      <td>6</td>\n",
              "      <td>19</td>\n",
              "      <td>2022-04-30</td>\n",
              "    </tr>\n",
              "    <tr>\n",
              "      <th>3</th>\n",
              "      <td>70152583</td>\n",
              "      <td>11001</td>\n",
              "      <td>841805.0</td>\n",
              "      <td>3125733084</td>\n",
              "      <td>4.630927</td>\n",
              "      <td>NaN</td>\n",
              "      <td>-74.092728</td>\n",
              "      <td>NaN</td>\n",
              "      <td>ABANDONADO</td>\n",
              "      <td>CHAT_BOT_659</td>\n",
              "      <td>2022-04-30 19:00:01</td>\n",
              "      <td>6</td>\n",
              "      <td>19</td>\n",
              "      <td>2022-04-30</td>\n",
              "    </tr>\n",
              "    <tr>\n",
              "      <th>4</th>\n",
              "      <td>70152584</td>\n",
              "      <td>11001</td>\n",
              "      <td>9330612.0</td>\n",
              "      <td>3043963812</td>\n",
              "      <td>4.548637</td>\n",
              "      <td>4.622711</td>\n",
              "      <td>-74.096414</td>\n",
              "      <td>-74.147018</td>\n",
              "      <td>ABANDONADO</td>\n",
              "      <td>APP</td>\n",
              "      <td>2022-04-30 19:00:01</td>\n",
              "      <td>6</td>\n",
              "      <td>19</td>\n",
              "      <td>2022-04-30</td>\n",
              "    </tr>\n",
              "    <tr>\n",
              "      <th>5</th>\n",
              "      <td>70152585</td>\n",
              "      <td>11001</td>\n",
              "      <td>8303036.0</td>\n",
              "      <td>3113623140</td>\n",
              "      <td>4.723984</td>\n",
              "      <td>4.743134</td>\n",
              "      <td>-74.054207</td>\n",
              "      <td>-74.090683</td>\n",
              "      <td>ABANDONADO</td>\n",
              "      <td>APP</td>\n",
              "      <td>2022-04-30 19:00:02</td>\n",
              "      <td>6</td>\n",
              "      <td>19</td>\n",
              "      <td>2022-04-30</td>\n",
              "    </tr>\n",
              "  </tbody>\n",
              "</table>\n",
              "</div>"
            ],
            "text/plain": [
              "         ID  IDCIUDAD    USUARIO TELEFONOORIGEN   LATITUD  LATITUDDESTINO  \\\n",
              "0  70152580     11001  8946882.0     3186429637  4.642036        4.630580   \n",
              "1  70152581     11001  9665930.0     3209171095  4.594340        4.604060   \n",
              "3  70152583     11001   841805.0     3125733084  4.630927             NaN   \n",
              "4  70152584     11001  9330612.0     3043963812  4.548637        4.622711   \n",
              "5  70152585     11001  8303036.0     3113623140  4.723984        4.743134   \n",
              "\n",
              "    LONGITUD  LONGITUDDESTINO      ESTADO        ORIGEN       FECHACOMPLETA  \\\n",
              "0 -74.187636       -74.189880   CANCELADO           APP 2022-04-30 19:00:00   \n",
              "1 -74.138168       -74.141610  ABANDONADO           APP 2022-04-30 19:00:00   \n",
              "3 -74.092728              NaN  ABANDONADO  CHAT_BOT_659 2022-04-30 19:00:01   \n",
              "4 -74.096414       -74.147018  ABANDONADO           APP 2022-04-30 19:00:01   \n",
              "5 -74.054207       -74.090683  ABANDONADO           APP 2022-04-30 19:00:02   \n",
              "\n",
              "   DIADESEMANA  HORA       FECHA  \n",
              "0            6    19  2022-04-30  \n",
              "1            6    19  2022-04-30  \n",
              "3            6    19  2022-04-30  \n",
              "4            6    19  2022-04-30  \n",
              "5            6    19  2022-04-30  "
            ]
          },
          "execution_count": 194,
          "metadata": {},
          "output_type": "execute_result"
        }
      ],
      "source": [
        "#Se definen las fechas y el día de la semana\n",
        "df['FECHACOMPLETA'] = pd.to_datetime(df['FECHACOMPLETA'], format='%Y/%m/%d %H:%M:%S')\n",
        "df['FECHA'] = df['FECHACOMPLETA'].dt.strftime(FORMAT_DATE)\n",
        "df['DIADESEMANA'] = df['FECHACOMPLETA'].map( lambda x: x.isoweekday() )\n",
        "df.head(5)"
      ]
    },
    {
      "cell_type": "code",
      "execution_count": 195,
      "metadata": {},
      "outputs": [
        {
          "data": {
            "text/plain": [
              "TELEFONOORIGEN\n",
              "3107584482        783\n",
              "3138647901        684\n",
              "3153865158        684\n",
              "3134579964        642\n",
              "13148180          628\n",
              "                 ... \n",
              "3125329815          1\n",
              "3125330004          1\n",
              "3125330436          1\n",
              "3125330453          1\n",
              "999883673           1\n",
              "Length: 517850, dtype: int64"
            ]
          },
          "execution_count": 195,
          "metadata": {},
          "output_type": "execute_result"
        }
      ],
      "source": [
        "#Eliminamos las columan que no son útiles en el modelo\n",
        "df = df.drop(columns=[\"IDCIUDAD\",\"USUARIO\",\"ID\",\"LATITUDDESTINO\",\"LONGITUDDESTINO\",\"LATITUD\",\"LONGITUD\",\"FECHACOMPLETA\",\"ORIGEN\",\"ESTADO\"])\n",
        "\n",
        "#Se eliminan los duplicados\n",
        "df = df.drop_duplicates().sort_values(by=['TELEFONOORIGEN','FECHA','DIADESEMANA','HORA'])\n",
        "df = df.reset_index(drop=True)\n",
        "count_data = df.loc[:,['TELEFONOORIGEN']].value_counts()\n",
        "count_data"
      ]
    },
    {
      "cell_type": "code",
      "execution_count": 196,
      "metadata": {},
      "outputs": [
        {
          "data": {
            "text/plain": [
              "TELEFONOORIGEN\n",
              "3107584482        564\n",
              "3153865158        525\n",
              "3134579964        487\n",
              "3138647901        485\n",
              "3002035444        465\n",
              "                 ... \n",
              "3118330587         11\n",
              "3028348251         11\n",
              "3118353998         11\n",
              "3118355887         11\n",
              "3202755797         11\n",
              "Length: 60374, dtype: int64"
            ]
          },
          "execution_count": 196,
          "metadata": {},
          "output_type": "execute_result"
        }
      ],
      "source": [
        "data = df.copy()\n",
        "\n",
        "\n",
        "\n",
        "\n",
        "#Se filtran tomando últimas x semanas de la fecha inicial de entrenamiento\n",
        "date_last_training = DATE_START_TRAINIG - timedelta(weeks=NUM_OF_WEEK)\n",
        "data = data[ pd.to_datetime(data['FECHA'], format=FORMAT_DATE) > date_last_training ]\n",
        "\n",
        "\n",
        "#Se descartan los que tienen menos de 10 solicitudes en ese tiempo\n",
        "data = data.groupby('TELEFONOORIGEN').filter(lambda x: x['TELEFONOORIGEN'].count() > 10)\n",
        "\n",
        "#df_train = data[ (pd.to_datetime(data['FECHA'], format=FORMAT_DATE) < DATE_START_TRAINIG) & (pd.to_datetime(data['FECHA'], format=FORMAT_DATE) > date_last_training) ]\n",
        "#df_train = df_train.groupby('TELEFONOORIGEN').filter(lambda x: x['TELEFONOORIGEN'].count() > 1)\n",
        "\n",
        "#df_test = data[pd.to_datetime(data['FECHA'], format=FORMAT_DATE) >= DATE_START_TRAINIG ]\n",
        "\n",
        "\n",
        "\n",
        "count_data = data.loc[:,['TELEFONOORIGEN']].value_counts()\n",
        "count_data"
      ]
    },
    {
      "cell_type": "markdown",
      "metadata": {
        "id": "dfnBpAThxOA_"
      },
      "source": [
        "Transformamos el valor de origen y estado a no ordinales con onehot."
      ]
    },
    {
      "cell_type": "code",
      "execution_count": 197,
      "metadata": {
        "colab": {
          "base_uri": "https://localhost:8080/",
          "height": 206
        },
        "id": "xaHtoiLps1Hn",
        "outputId": "1c474887-1fe8-4c86-e968-a2ea68dd397a"
      },
      "outputs": [
        {
          "data": {
            "text/html": [
              "<div>\n",
              "<style scoped>\n",
              "    .dataframe tbody tr th:only-of-type {\n",
              "        vertical-align: middle;\n",
              "    }\n",
              "\n",
              "    .dataframe tbody tr th {\n",
              "        vertical-align: top;\n",
              "    }\n",
              "\n",
              "    .dataframe thead th {\n",
              "        text-align: right;\n",
              "    }\n",
              "</style>\n",
              "<table border=\"1\" class=\"dataframe\">\n",
              "  <thead>\n",
              "    <tr style=\"text-align: right;\">\n",
              "      <th></th>\n",
              "      <th>TELEFONOORIGEN</th>\n",
              "      <th>DIADESEMANA</th>\n",
              "      <th>HORA</th>\n",
              "      <th>FECHA</th>\n",
              "    </tr>\n",
              "  </thead>\n",
              "  <tbody>\n",
              "    <tr>\n",
              "      <th>248</th>\n",
              "      <td>0000000000</td>\n",
              "      <td>4</td>\n",
              "      <td>3</td>\n",
              "      <td>2022-02-17</td>\n",
              "    </tr>\n",
              "    <tr>\n",
              "      <th>249</th>\n",
              "      <td>0000000000</td>\n",
              "      <td>4</td>\n",
              "      <td>6</td>\n",
              "      <td>2022-02-17</td>\n",
              "    </tr>\n",
              "    <tr>\n",
              "      <th>250</th>\n",
              "      <td>0000000000</td>\n",
              "      <td>4</td>\n",
              "      <td>15</td>\n",
              "      <td>2022-02-17</td>\n",
              "    </tr>\n",
              "    <tr>\n",
              "      <th>251</th>\n",
              "      <td>0000000000</td>\n",
              "      <td>5</td>\n",
              "      <td>6</td>\n",
              "      <td>2022-02-18</td>\n",
              "    </tr>\n",
              "    <tr>\n",
              "      <th>252</th>\n",
              "      <td>0000000000</td>\n",
              "      <td>5</td>\n",
              "      <td>8</td>\n",
              "      <td>2022-02-18</td>\n",
              "    </tr>\n",
              "  </tbody>\n",
              "</table>\n",
              "</div>"
            ],
            "text/plain": [
              "    TELEFONOORIGEN  DIADESEMANA  HORA       FECHA\n",
              "248     0000000000            4     3  2022-02-17\n",
              "249     0000000000            4     6  2022-02-17\n",
              "250     0000000000            4    15  2022-02-17\n",
              "251     0000000000            5     6  2022-02-18\n",
              "252     0000000000            5     8  2022-02-18"
            ]
          },
          "execution_count": 197,
          "metadata": {},
          "output_type": "execute_result"
        }
      ],
      "source": [
        "# convertimos a  onehot la comuna de origen\n",
        "#df = pd.get_dummies(df, columns=[\"ORIGEN\"])\n",
        "# convertimos a  onehot la comuna de estado\n",
        "#df = pd.get_dummies(df, columns=[\"ESTADO\"])\n",
        "\"\"\"new_df['ORIGEN'] = new_df['ORIGEN'].map( {\n",
        "        \"APP\":1,\n",
        "        \"CALLE\":2,\n",
        "        \"CHAT_BOT_659\":3,\n",
        "        \"CHAT_BOT_689\":4,\n",
        "        \"CHAT_BOT_729\":5,\n",
        "        \"CHAT_BOT_803\":6,\n",
        "        \"EXTERNO\":7,\n",
        "        \"IONTAXI\":8,\n",
        "        \"IVR\":9,\n",
        "        \"NUEVO\":10,\n",
        "        \"RECEPCION\":11,\n",
        "        \"RED AMARILLA\":12,\n",
        "        \"Reserva\":13,\n",
        "        \"TELEGRAMTD\":14,\n",
        "        \"WEB\":15\n",
        "    } )\n",
        "\n",
        "new_df['ESTADO'] = new_df['ESTADO'].map( {\n",
        "        \"ABANDONADO\":1,\n",
        "        \"ABORDOCONFIRMADO\":2,\n",
        "        \"ALFRENTE\":3,\n",
        "        \"ASIGNADO\": 4,\n",
        "        \"CANCELADO\":5,\n",
        "        \"CONFIRMADO\":6,\n",
        "        \"CUMPLIDO\":7,\n",
        "        \"FINALIZADO\": 8,\n",
        "        \"LOCUCION\":9,\n",
        "        \"NUEVO\":10,\n",
        "        \"RECHAZADO\":11\n",
        "    } )\"\"\"\n",
        "data.head(5)"
      ]
    },
    {
      "cell_type": "code",
      "execution_count": 198,
      "metadata": {},
      "outputs": [
        {
          "data": {
            "text/html": [
              "<div>\n",
              "<style scoped>\n",
              "    .dataframe tbody tr th:only-of-type {\n",
              "        vertical-align: middle;\n",
              "    }\n",
              "\n",
              "    .dataframe tbody tr th {\n",
              "        vertical-align: top;\n",
              "    }\n",
              "\n",
              "    .dataframe thead th {\n",
              "        text-align: right;\n",
              "    }\n",
              "</style>\n",
              "<table border=\"1\" class=\"dataframe\">\n",
              "  <thead>\n",
              "    <tr style=\"text-align: right;\">\n",
              "      <th></th>\n",
              "      <th>TELEFONOORIGEN</th>\n",
              "    </tr>\n",
              "  </thead>\n",
              "  <tbody>\n",
              "    <tr>\n",
              "      <th>0</th>\n",
              "      <td>0000000000</td>\n",
              "    </tr>\n",
              "    <tr>\n",
              "      <th>1</th>\n",
              "      <td>12001086</td>\n",
              "    </tr>\n",
              "    <tr>\n",
              "      <th>2</th>\n",
              "      <td>12003951</td>\n",
              "    </tr>\n",
              "    <tr>\n",
              "      <th>3</th>\n",
              "      <td>12009954</td>\n",
              "    </tr>\n",
              "    <tr>\n",
              "      <th>4</th>\n",
              "      <td>12011349</td>\n",
              "    </tr>\n",
              "  </tbody>\n",
              "</table>\n",
              "</div>"
            ],
            "text/plain": [
              "  TELEFONOORIGEN\n",
              "0     0000000000\n",
              "1       12001086\n",
              "2       12003951\n",
              "3       12009954\n",
              "4       12011349"
            ]
          },
          "execution_count": 198,
          "metadata": {},
          "output_type": "execute_result"
        }
      ],
      "source": [
        "#Se crea un nuevo dataframe con los teléfonos para entrenar cada usuario personalizado\n",
        "data_phone = data.loc[:,['TELEFONOORIGEN']].copy()\n",
        "data_phone = data_phone.drop_duplicates().sort_values(by=['TELEFONOORIGEN'])\n",
        "data_phone = data_phone.reset_index(drop=True)\n",
        "data_phone.head()"
      ]
    },
    {
      "cell_type": "code",
      "execution_count": 203,
      "metadata": {},
      "outputs": [],
      "source": [
        "def findRow(pdate, phour, data):\n",
        "  for row in data:\n",
        "    if( ( row[3] == pdate.strftime(FORMAT_DATE) ) & ( row[2] == phour ) ):\n",
        "      return row\n",
        "  return []\n"
      ]
    },
    {
      "cell_type": "code",
      "execution_count": 211,
      "metadata": {},
      "outputs": [],
      "source": [
        "#Funcion para llenar los servicios no tomados con 0\n",
        "def preparingDataService(data, from_date, to_date, phone):\n",
        "  #first = pd.to_datetime(data.tail(1).iloc[0,3], format=FORMAT_DATE)\n",
        "  #last = pd.to_datetime(data.head(1).iloc[0,3], format=FORMAT_DATE)\n",
        "  \n",
        "  first = to_date\n",
        "  last = from_date\n",
        "\n",
        "  remaining_days = first.date() - last.date()\n",
        "  data_array = data.to_numpy()\n",
        "  new_array = []\n",
        "  for i in range(remaining_days.days+1):\n",
        "    last_time = last + timedelta(days=i)\n",
        "    for day in range(HOURS_OF_DAY):\n",
        "      new_row = findRow(last_time.date(), day, data_array)\n",
        "      if len(new_row) > 0:\n",
        "        new_array.append(np.append(new_row, 1))\n",
        "      else:\n",
        "        new_array.append([phone, last_time.isoweekday(),day,last_time.date().strftime(FORMAT_DATE),0])\n",
        "  #col = data.columns\n",
        "  #print(type(col))\n",
        "  #for col in data.columns:\n",
        "  #  print(col)\n",
        "  return pd.DataFrame(new_array, \n",
        "             columns=['TELEFONOORIGEN', \n",
        "                      'DIADESEMANA', 'HORA','FECHA','SERVICIO'])"
      ]
    },
    {
      "cell_type": "code",
      "execution_count": 201,
      "metadata": {},
      "outputs": [],
      "source": [
        "def calculateProbability(hour, day, data):\n",
        "  data_array = data.to_numpy()\n",
        "\n",
        "  first = pd.to_datetime(data.tail(1).iloc[0,3], format=FORMAT_DATE)\n",
        "  last = pd.to_datetime(data.head(1).iloc[0,3], format=FORMAT_DATE)\n",
        "  remaining_days = first.date() - last.date()\n",
        "\n",
        "  total = 0 \n",
        "  for i in range(remaining_days.days+1):\n",
        "    last_time = last + timedelta(days=i)\n",
        "    if last_time.isoweekday() == day:\n",
        "      total += 1\n",
        "  \n",
        "  total_onset = 0\n",
        "  for row in data_array:\n",
        "    if( ( row[1] == day ) & ( row[2] == hour ) & ( row[4] == 1 ) ):\n",
        "      total_onset += 1\n",
        "  if total > 0:\n",
        "    return total_onset / total\n",
        "  else:\n",
        "    return 0"
      ]
    },
    {
      "cell_type": "code",
      "execution_count": 169,
      "metadata": {},
      "outputs": [],
      "source": [
        "def calculateProbabilisticModel(dataFrame):\n",
        "  array_date_of_week = []\n",
        "  for day in range(DAYS_OF_WEEK):\n",
        "    array_hours = []\n",
        "    for hour in range(HOURS_OF_DAY):\n",
        "      array_hours.append( calculateProbability(hour, day+1, dataFrame))\n",
        "    array_date_of_week.append(array_hours)\n",
        "  return pd.DataFrame(np.array(array_date_of_week),\n",
        "                    columns=[h for h in range(HOURS_OF_DAY)], index=[\"1-Monday\",\"2-Tuesday\",\"3-Wednesday\",\"4-Thursday\",\"5-Friday\",\"6-Saturday\",\"7-Sunday\"],).transpose()"
      ]
    },
    {
      "cell_type": "code",
      "execution_count": 107,
      "metadata": {},
      "outputs": [],
      "source": [
        "#def evaluation( model, data_frame ):\n",
        "#Se filtran tomando solo las últimas x semanas\n",
        "\n",
        "    \n",
        "    #evaluation(data_row, \"PROBABILISTIC\", data, FROM_DATE_TEST, NUM_OF_WEEK)"
      ]
    },
    {
      "cell_type": "code",
      "execution_count": 212,
      "metadata": {},
      "outputs": [
        {
          "name": "stdout",
          "output_type": "stream",
          "text": [
            "0000000000\n",
            "Processing:  2022-04-13 00:00:00\n",
            "Processing:  2022-04-14 00:00:00\n",
            "Processing:  2022-04-15 00:00:00\n",
            "Processing:  2022-04-16 00:00:00\n",
            "Processing:  2022-04-17 00:00:00\n",
            "Processing:  2022-04-18 00:00:00\n",
            "Processing:  2022-04-19 00:00:00\n",
            "[[[4, 0, 0.0], [4, 1, 0.0], [4, 2, 0.0], [4, 3, 0.125], [4, 4, 0.125], [4, 5, 0.0], [4, 6, 0.375], [4, 7, 0.25], [4, 8, 0.125], [4, 9, 0.0], [4, 10, 0.0], [4, 11, 0.0], [4, 12, 0.375], [4, 13, 0.0], [4, 14, 0.0], [4, 15, 0.25], [4, 16, 0.0], [4, 17, 0.125], [4, 18, 0.0], [4, 19, 0.125], [4, 20, 0.125], [4, 21, 0.125], [4, 22, 0.125], [4, 23, 0.25]], [[5, 0, 0.125], [5, 1, 0.0], [5, 2, 0.0], [5, 3, 0.0], [5, 4, 0.0], [5, 5, 0.0], [5, 6, 0.25], [5, 7, 0.125], [5, 8, 0.375], [5, 9, 0.125], [5, 10, 0.25], [5, 11, 0.0], [5, 12, 0.25], [5, 13, 0.125], [5, 14, 0.25], [5, 15, 0.0], [5, 16, 0.125], [5, 17, 0.25], [5, 18, 0.0], [5, 19, 0.5], [5, 20, 0.125], [5, 21, 0.0], [5, 22, 0.125], [5, 23, 0.0]], [[6, 0, 0.0], [6, 1, 0.0], [6, 2, 0.0], [6, 3, 0.0], [6, 4, 0.0], [6, 5, 0.125], [6, 6, 0.25], [6, 7, 0.0], [6, 8, 0.0], [6, 9, 0.0], [6, 10, 0.0], [6, 11, 0.25], [6, 12, 0.125], [6, 13, 0.125], [6, 14, 0.0], [6, 15, 0.125], [6, 16, 0.0], [6, 17, 0.125], [6, 18, 0.125], [6, 19, 0.125], [6, 20, 0.125], [6, 21, 0.0], [6, 22, 0.25], [6, 23, 0.0]], [[7, 0, 0.0], [7, 1, 0.125], [7, 2, 0.125], [7, 3, 0.125], [7, 4, 0.125], [7, 5, 0.0], [7, 6, 0.0], [7, 7, 0.125], [7, 8, 0.0], [7, 9, 0.0], [7, 10, 0.0], [7, 11, 0.0], [7, 12, 0.125], [7, 13, 0.0], [7, 14, 0.0], [7, 15, 0.0], [7, 16, 0.0], [7, 17, 0.0], [7, 18, 0.0], [7, 19, 0.0], [7, 20, 0.125], [7, 21, 0.125], [7, 22, 0.125], [7, 23, 0.0]], [[1, 0, 0.0], [1, 1, 0.0], [1, 2, 0.0], [1, 3, 0.0], [1, 4, 0.125], [1, 5, 0.125], [1, 6, 0.125], [1, 7, 0.125], [1, 8, 0.125], [1, 9, 0.25], [1, 10, 0.0], [1, 11, 0.0], [1, 12, 0.125], [1, 13, 0.0], [1, 14, 0.25], [1, 15, 0.0], [1, 16, 0.0], [1, 17, 0.125], [1, 18, 0.25], [1, 19, 0.125], [1, 20, 0.25], [1, 21, 0.0], [1, 22, 0.0], [1, 23, 0.0]], [[2, 0, 0.0], [2, 1, 0.0], [2, 2, 0.0], [2, 3, 0.0], [2, 4, 0.125], [2, 5, 0.125], [2, 6, 0.125], [2, 7, 0.0], [2, 8, 0.125], [2, 9, 0.0], [2, 10, 0.25], [2, 11, 0.0], [2, 12, 0.0], [2, 13, 0.125], [2, 14, 0.25], [2, 15, 0.0], [2, 16, 0.125], [2, 17, 0.125], [2, 18, 0.0], [2, 19, 0.125], [2, 20, 0.125], [2, 21, 0.0], [2, 22, 0.0], [2, 23, 0.125]], [[3, 0, 0.125], [3, 1, 0.125], [3, 2, 0.0], [3, 3, 0.125], [3, 4, 0.125], [3, 5, 0.0], [3, 6, 0.0], [3, 7, 0.0], [3, 8, 0.0], [3, 9, 0.125], [3, 10, 0.0], [3, 11, 0.125], [3, 12, 0.0], [3, 13, 0.0], [3, 14, 0.125], [3, 15, 0.125], [3, 16, 0.0], [3, 17, 0.0], [3, 18, 0.0], [3, 19, 0.125], [3, 20, 0.0], [3, 21, 0.0], [3, 22, 0.0], [3, 23, 0.0]]]\n"
          ]
        }
      ],
      "source": [
        "#Se recorre los teléfonos para entrenar el modelo a cada usuario\n",
        "phone_array = data_phone.to_numpy()[:1]\n",
        "for data_row in phone_array:\n",
        "    print(data_row[0])\n",
        "    \n",
        "    date_finish_test = DATE_START_TRAINIG + timedelta(weeks=1)\n",
        "    days_of_test = date_finish_test.date() - DATE_START_TRAINIG.date()\n",
        "\n",
        "    #print(\"From: \",DATE_START_TRAINIG, \", To: \",date_finish_test, \", Remaning: \",days_of_test)\n",
        "    #print(days_of_test)\n",
        "    array_date_of_week = []\n",
        "    for i in range(days_of_test.days):\n",
        "        date_training = DATE_START_TRAINIG + timedelta(days=i)\n",
        "        date_last_training = date_training - timedelta(weeks=NUM_OF_WEEK)\n",
        "\n",
        "        #print(\"date trainig: \",date_training, \" - last trainig: \", date_last_training, \" remaninig:\", date_training.date() - date_last_training.date())\n",
        "        #Se filtran los datos para el número de teléfono\n",
        "        data_user = data[data[\"TELEFONOORIGEN\"]==data_row[0]].copy()\n",
        "        \n",
        "        df_train = data_user[ (pd.to_datetime(data_user['FECHA'], format=FORMAT_DATE) < date_training) & (pd.to_datetime(data_user['FECHA'], format=FORMAT_DATE) > date_last_training) ]\n",
        "        df_test = data_user[pd.to_datetime(data_user['FECHA'], format=FORMAT_DATE) >= date_training ]\n",
        "        #df_train = data_user.groupby('TELEFONOORIGEN').filter(lambda x: x['TELEFONOORIGEN'].count() > 1)\n",
        "\n",
        "        if len(data_user) > 0:\n",
        "            print(\"Processing: \",date_training)\n",
        "            train = preparingDataService(df_train, date_last_training, date_training, data_row[0])\n",
        "            array_hours = []\n",
        "            for hour in range(HOURS_OF_DAY):\n",
        "                date_predict = date_training + timedelta(days=1)\n",
        "                prob = calculateProbability(hour, date_predict.isoweekday(), train)\n",
        "                #print(\"Hour: \",hour,\", date predict: \",date_predict,\", day of week: \",date_predict.isoweekday(),\", probability: \",prob)\n",
        "                array_hours.append( [date_predict.isoweekday(),hour,prob] )\n",
        "            \n",
        "            array_date_of_week.append(array_hours)\n",
        "        else:\n",
        "            print(\"User doesn't have information\")\n",
        "    print(array_date_of_week)"
      ]
    },
    {
      "cell_type": "code",
      "execution_count": 168,
      "metadata": {},
      "outputs": [
        {
          "data": {
            "image/png": "[encoded data removed]",
            "text/plain": [
              "<Figure size 1008x576 with 2 Axes>"
            ]
          },
          "metadata": {
            "needs_background": "light"
          },
          "output_type": "display_data"
        }
      ],
      "source": [
        "data.hist(bins=30, figsize=(14, 8), color=\"blue\",alpha=0.5)\n",
        "plot.show()"
      ]
    },
    {
      "cell_type": "markdown",
      "metadata": {
        "id": "OMq4HKD2QU2i"
      },
      "source": [
        "# Probando con función probabilistica"
      ]
    },
    {
      "cell_type": "code",
      "execution_count": 81,
      "metadata": {
        "id": "IUESDU-F7PpT"
      },
      "outputs": [],
      "source": [
        "\n"
      ]
    },
    {
      "cell_type": "code",
      "execution_count": 82,
      "metadata": {
        "id": "nBd5TtZ5QcjU"
      },
      "outputs": [],
      "source": [
        "df_mp = df.copy()\n",
        "df_mp = df_mp[df_mp[\"TELEFONOORIGEN\"]==\"3115590650\"]\n",
        "\n",
        "\n",
        "#Se llenan los datos faltantes\n",
        "df_mp = completeServices(df_mp)"
      ]
    },
    {
      "cell_type": "code",
      "execution_count": 83,
      "metadata": {
        "colab": {
          "base_uri": "https://localhost:8080/",
          "height": 206
        },
        "id": "uksDLMnPjOR7",
        "outputId": "8804e3ef-99e3-4ffc-eb36-483f9cd1e491"
      },
      "outputs": [
        {
          "data": {
            "text/html": [
              "<div>\n",
              "<style scoped>\n",
              "    .dataframe tbody tr th:only-of-type {\n",
              "        vertical-align: middle;\n",
              "    }\n",
              "\n",
              "    .dataframe tbody tr th {\n",
              "        vertical-align: top;\n",
              "    }\n",
              "\n",
              "    .dataframe thead th {\n",
              "        text-align: right;\n",
              "    }\n",
              "</style>\n",
              "<table border=\"1\" class=\"dataframe\">\n",
              "  <thead>\n",
              "    <tr style=\"text-align: right;\">\n",
              "      <th></th>\n",
              "      <th>TELEFONOORIGEN</th>\n",
              "      <th>DIADESEMANA</th>\n",
              "      <th>HORA</th>\n",
              "      <th>FECHA</th>\n",
              "      <th>SERVICIO</th>\n",
              "    </tr>\n",
              "  </thead>\n",
              "  <tbody>\n",
              "    <tr>\n",
              "      <th>0</th>\n",
              "      <td>3115590650</td>\n",
              "      <td>5</td>\n",
              "      <td>0</td>\n",
              "      <td>2021-12-31</td>\n",
              "      <td>0</td>\n",
              "    </tr>\n",
              "    <tr>\n",
              "      <th>1</th>\n",
              "      <td>3115590650</td>\n",
              "      <td>5</td>\n",
              "      <td>1</td>\n",
              "      <td>2021-12-31</td>\n",
              "      <td>0</td>\n",
              "    </tr>\n",
              "    <tr>\n",
              "      <th>2</th>\n",
              "      <td>3115590650</td>\n",
              "      <td>5</td>\n",
              "      <td>2</td>\n",
              "      <td>2021-12-31</td>\n",
              "      <td>0</td>\n",
              "    </tr>\n",
              "    <tr>\n",
              "      <th>3</th>\n",
              "      <td>3115590650</td>\n",
              "      <td>5</td>\n",
              "      <td>3</td>\n",
              "      <td>2021-12-31</td>\n",
              "      <td>0</td>\n",
              "    </tr>\n",
              "    <tr>\n",
              "      <th>4</th>\n",
              "      <td>3115590650</td>\n",
              "      <td>5</td>\n",
              "      <td>4</td>\n",
              "      <td>2021-12-31</td>\n",
              "      <td>0</td>\n",
              "    </tr>\n",
              "  </tbody>\n",
              "</table>\n",
              "</div>"
            ],
            "text/plain": [
              "  TELEFONOORIGEN  DIADESEMANA  HORA       FECHA  SERVICIO\n",
              "0     3115590650            5     0  2021-12-31         0\n",
              "1     3115590650            5     1  2021-12-31         0\n",
              "2     3115590650            5     2  2021-12-31         0\n",
              "3     3115590650            5     3  2021-12-31         0\n",
              "4     3115590650            5     4  2021-12-31         0"
            ]
          },
          "execution_count": 83,
          "metadata": {},
          "output_type": "execute_result"
        }
      ],
      "source": [
        "df_mp.head(5)"
      ]
    },
    {
      "cell_type": "code",
      "execution_count": 87,
      "metadata": {
        "colab": {
          "base_uri": "https://localhost:8080/"
        },
        "id": "eKI1W_DOiVwl",
        "outputId": "c22a62ad-46af-47e4-a808-fb8b37312353"
      },
      "outputs": [
        {
          "data": {
            "text/plain": [
              "TELEFONOORIGEN\n",
              "3115590650        3576\n",
              "dtype: int64"
            ]
          },
          "execution_count": 87,
          "metadata": {},
          "output_type": "execute_result"
        }
      ],
      "source": [
        "df_mp.loc[:,['TELEFONOORIGEN']].value_counts()"
      ]
    },
    {
      "cell_type": "markdown",
      "metadata": {
        "id": "B-u8-4R2gG3c"
      },
      "source": [
        "Se muestra la probabilidad de un usuario con los datos de entrenamiento"
      ]
    },
    {
      "cell_type": "code",
      "execution_count": 94,
      "metadata": {
        "id": "LHjIHawBMUlx"
      },
      "outputs": [],
      "source": []
    },
    {
      "cell_type": "code",
      "execution_count": 91,
      "metadata": {
        "id": "00dCAufigFiC"
      },
      "outputs": [],
      "source": [
        "def calculateProbabilisticModel(dataFrame):\n",
        "  array_date_of_week = []\n",
        "  for day in range(DAYS_OF_WEEK):\n",
        "    array_hours = []\n",
        "    for hour in range(HOURS_OF_DAY):\n",
        "      array_hours.append( calculateProbability(hour, day+1, dataFrame))\n",
        "    array_date_of_week.append(array_hours)\n",
        "  return pd.DataFrame(np.array(array_date_of_week),\n",
        "                    columns=[h for h in range(HOURS_OF_DAY)], index=[\"1-Monday\",\"2-Tuesday\",\"3-Wednesday\",\"4-Thursday\",\"5-Friday\",\"6-Saturday\",\"7-Sunday\"],).transpose()"
      ]
    },
    {
      "cell_type": "markdown",
      "metadata": {
        "id": "OWd9QEWt475i"
      },
      "source": [
        "Se prueba con los datos de entrenamiento"
      ]
    },
    {
      "cell_type": "code",
      "execution_count": 95,
      "metadata": {
        "colab": {
          "base_uri": "https://localhost:8080/",
          "height": 802
        },
        "id": "eE24yZcF47TR",
        "outputId": "22f4c364-f306-48c4-cbbc-39a047044881"
      },
      "outputs": [
        {
          "data": {
            "text/html": [
              "<div>\n",
              "<style scoped>\n",
              "    .dataframe tbody tr th:only-of-type {\n",
              "        vertical-align: middle;\n",
              "    }\n",
              "\n",
              "    .dataframe tbody tr th {\n",
              "        vertical-align: top;\n",
              "    }\n",
              "\n",
              "    .dataframe thead th {\n",
              "        text-align: right;\n",
              "    }\n",
              "</style>\n",
              "<table border=\"1\" class=\"dataframe\">\n",
              "  <thead>\n",
              "    <tr style=\"text-align: right;\">\n",
              "      <th></th>\n",
              "      <th>1-Monday</th>\n",
              "      <th>2-Tuesday</th>\n",
              "      <th>3-Wednesday</th>\n",
              "      <th>4-Thursday</th>\n",
              "      <th>5-Friday</th>\n",
              "      <th>6-Saturday</th>\n",
              "      <th>7-Sunday</th>\n",
              "    </tr>\n",
              "  </thead>\n",
              "  <tbody>\n",
              "    <tr>\n",
              "      <th>0</th>\n",
              "      <td>0.000</td>\n",
              "      <td>0.000</td>\n",
              "      <td>0.000</td>\n",
              "      <td>0.000</td>\n",
              "      <td>0.000000</td>\n",
              "      <td>0.000</td>\n",
              "      <td>0.000</td>\n",
              "    </tr>\n",
              "    <tr>\n",
              "      <th>1</th>\n",
              "      <td>0.000</td>\n",
              "      <td>0.000</td>\n",
              "      <td>0.000</td>\n",
              "      <td>0.000</td>\n",
              "      <td>0.000000</td>\n",
              "      <td>0.000</td>\n",
              "      <td>0.000</td>\n",
              "    </tr>\n",
              "    <tr>\n",
              "      <th>2</th>\n",
              "      <td>0.000</td>\n",
              "      <td>0.000</td>\n",
              "      <td>0.000</td>\n",
              "      <td>0.000</td>\n",
              "      <td>0.000000</td>\n",
              "      <td>0.000</td>\n",
              "      <td>0.000</td>\n",
              "    </tr>\n",
              "    <tr>\n",
              "      <th>3</th>\n",
              "      <td>0.000</td>\n",
              "      <td>0.000</td>\n",
              "      <td>0.000</td>\n",
              "      <td>0.000</td>\n",
              "      <td>0.000000</td>\n",
              "      <td>0.000</td>\n",
              "      <td>0.000</td>\n",
              "    </tr>\n",
              "    <tr>\n",
              "      <th>4</th>\n",
              "      <td>0.000</td>\n",
              "      <td>0.000</td>\n",
              "      <td>0.000</td>\n",
              "      <td>0.000</td>\n",
              "      <td>0.000000</td>\n",
              "      <td>0.000</td>\n",
              "      <td>0.000</td>\n",
              "    </tr>\n",
              "    <tr>\n",
              "      <th>5</th>\n",
              "      <td>0.000</td>\n",
              "      <td>0.000</td>\n",
              "      <td>0.000</td>\n",
              "      <td>0.000</td>\n",
              "      <td>0.000000</td>\n",
              "      <td>0.000</td>\n",
              "      <td>0.000</td>\n",
              "    </tr>\n",
              "    <tr>\n",
              "      <th>6</th>\n",
              "      <td>0.000</td>\n",
              "      <td>0.000</td>\n",
              "      <td>0.000</td>\n",
              "      <td>0.000</td>\n",
              "      <td>0.000000</td>\n",
              "      <td>0.000</td>\n",
              "      <td>0.000</td>\n",
              "    </tr>\n",
              "    <tr>\n",
              "      <th>7</th>\n",
              "      <td>0.000</td>\n",
              "      <td>0.000</td>\n",
              "      <td>0.000</td>\n",
              "      <td>0.000</td>\n",
              "      <td>0.000000</td>\n",
              "      <td>0.000</td>\n",
              "      <td>0.000</td>\n",
              "    </tr>\n",
              "    <tr>\n",
              "      <th>8</th>\n",
              "      <td>0.000</td>\n",
              "      <td>0.000</td>\n",
              "      <td>0.000</td>\n",
              "      <td>0.000</td>\n",
              "      <td>0.000000</td>\n",
              "      <td>0.000</td>\n",
              "      <td>0.000</td>\n",
              "    </tr>\n",
              "    <tr>\n",
              "      <th>9</th>\n",
              "      <td>0.000</td>\n",
              "      <td>0.000</td>\n",
              "      <td>0.000</td>\n",
              "      <td>0.000</td>\n",
              "      <td>0.000000</td>\n",
              "      <td>0.000</td>\n",
              "      <td>0.000</td>\n",
              "    </tr>\n",
              "    <tr>\n",
              "      <th>10</th>\n",
              "      <td>0.000</td>\n",
              "      <td>0.000</td>\n",
              "      <td>0.000</td>\n",
              "      <td>0.000</td>\n",
              "      <td>0.000000</td>\n",
              "      <td>0.000</td>\n",
              "      <td>0.000</td>\n",
              "    </tr>\n",
              "    <tr>\n",
              "      <th>11</th>\n",
              "      <td>0.000</td>\n",
              "      <td>0.000</td>\n",
              "      <td>0.000</td>\n",
              "      <td>0.000</td>\n",
              "      <td>0.000000</td>\n",
              "      <td>0.000</td>\n",
              "      <td>0.000</td>\n",
              "    </tr>\n",
              "    <tr>\n",
              "      <th>12</th>\n",
              "      <td>0.125</td>\n",
              "      <td>0.125</td>\n",
              "      <td>0.000</td>\n",
              "      <td>0.000</td>\n",
              "      <td>0.000000</td>\n",
              "      <td>0.000</td>\n",
              "      <td>0.000</td>\n",
              "    </tr>\n",
              "    <tr>\n",
              "      <th>13</th>\n",
              "      <td>0.125</td>\n",
              "      <td>0.000</td>\n",
              "      <td>0.000</td>\n",
              "      <td>0.000</td>\n",
              "      <td>0.000000</td>\n",
              "      <td>0.125</td>\n",
              "      <td>0.125</td>\n",
              "    </tr>\n",
              "    <tr>\n",
              "      <th>14</th>\n",
              "      <td>0.000</td>\n",
              "      <td>0.000</td>\n",
              "      <td>0.000</td>\n",
              "      <td>0.000</td>\n",
              "      <td>0.142857</td>\n",
              "      <td>0.375</td>\n",
              "      <td>0.125</td>\n",
              "    </tr>\n",
              "    <tr>\n",
              "      <th>15</th>\n",
              "      <td>0.000</td>\n",
              "      <td>0.125</td>\n",
              "      <td>0.000</td>\n",
              "      <td>0.000</td>\n",
              "      <td>0.571429</td>\n",
              "      <td>0.250</td>\n",
              "      <td>0.000</td>\n",
              "    </tr>\n",
              "    <tr>\n",
              "      <th>16</th>\n",
              "      <td>0.375</td>\n",
              "      <td>0.375</td>\n",
              "      <td>0.375</td>\n",
              "      <td>0.500</td>\n",
              "      <td>0.714286</td>\n",
              "      <td>0.125</td>\n",
              "      <td>0.125</td>\n",
              "    </tr>\n",
              "    <tr>\n",
              "      <th>17</th>\n",
              "      <td>0.625</td>\n",
              "      <td>0.750</td>\n",
              "      <td>0.750</td>\n",
              "      <td>1.000</td>\n",
              "      <td>0.714286</td>\n",
              "      <td>0.125</td>\n",
              "      <td>0.125</td>\n",
              "    </tr>\n",
              "    <tr>\n",
              "      <th>18</th>\n",
              "      <td>0.625</td>\n",
              "      <td>0.375</td>\n",
              "      <td>0.625</td>\n",
              "      <td>0.625</td>\n",
              "      <td>0.857143</td>\n",
              "      <td>0.000</td>\n",
              "      <td>0.000</td>\n",
              "    </tr>\n",
              "    <tr>\n",
              "      <th>19</th>\n",
              "      <td>0.125</td>\n",
              "      <td>0.375</td>\n",
              "      <td>0.250</td>\n",
              "      <td>0.375</td>\n",
              "      <td>0.714286</td>\n",
              "      <td>0.125</td>\n",
              "      <td>0.000</td>\n",
              "    </tr>\n",
              "    <tr>\n",
              "      <th>20</th>\n",
              "      <td>0.000</td>\n",
              "      <td>0.125</td>\n",
              "      <td>0.000</td>\n",
              "      <td>0.000</td>\n",
              "      <td>0.428571</td>\n",
              "      <td>0.000</td>\n",
              "      <td>0.000</td>\n",
              "    </tr>\n",
              "    <tr>\n",
              "      <th>21</th>\n",
              "      <td>0.000</td>\n",
              "      <td>0.125</td>\n",
              "      <td>0.000</td>\n",
              "      <td>0.000</td>\n",
              "      <td>0.142857</td>\n",
              "      <td>0.000</td>\n",
              "      <td>0.125</td>\n",
              "    </tr>\n",
              "    <tr>\n",
              "      <th>22</th>\n",
              "      <td>0.125</td>\n",
              "      <td>0.000</td>\n",
              "      <td>0.000</td>\n",
              "      <td>0.000</td>\n",
              "      <td>0.285714</td>\n",
              "      <td>0.000</td>\n",
              "      <td>0.000</td>\n",
              "    </tr>\n",
              "    <tr>\n",
              "      <th>23</th>\n",
              "      <td>0.000</td>\n",
              "      <td>0.000</td>\n",
              "      <td>0.000</td>\n",
              "      <td>0.000</td>\n",
              "      <td>0.000000</td>\n",
              "      <td>0.000</td>\n",
              "      <td>0.000</td>\n",
              "    </tr>\n",
              "  </tbody>\n",
              "</table>\n",
              "</div>"
            ],
            "text/plain": [
              "    1-Monday  2-Tuesday  3-Wednesday  4-Thursday  5-Friday  6-Saturday  \\\n",
              "0      0.000      0.000        0.000       0.000  0.000000       0.000   \n",
              "1      0.000      0.000        0.000       0.000  0.000000       0.000   \n",
              "2      0.000      0.000        0.000       0.000  0.000000       0.000   \n",
              "3      0.000      0.000        0.000       0.000  0.000000       0.000   \n",
              "4      0.000      0.000        0.000       0.000  0.000000       0.000   \n",
              "5      0.000      0.000        0.000       0.000  0.000000       0.000   \n",
              "6      0.000      0.000        0.000       0.000  0.000000       0.000   \n",
              "7      0.000      0.000        0.000       0.000  0.000000       0.000   \n",
              "8      0.000      0.000        0.000       0.000  0.000000       0.000   \n",
              "9      0.000      0.000        0.000       0.000  0.000000       0.000   \n",
              "10     0.000      0.000        0.000       0.000  0.000000       0.000   \n",
              "11     0.000      0.000        0.000       0.000  0.000000       0.000   \n",
              "12     0.125      0.125        0.000       0.000  0.000000       0.000   \n",
              "13     0.125      0.000        0.000       0.000  0.000000       0.125   \n",
              "14     0.000      0.000        0.000       0.000  0.142857       0.375   \n",
              "15     0.000      0.125        0.000       0.000  0.571429       0.250   \n",
              "16     0.375      0.375        0.375       0.500  0.714286       0.125   \n",
              "17     0.625      0.750        0.750       1.000  0.714286       0.125   \n",
              "18     0.625      0.375        0.625       0.625  0.857143       0.000   \n",
              "19     0.125      0.375        0.250       0.375  0.714286       0.125   \n",
              "20     0.000      0.125        0.000       0.000  0.428571       0.000   \n",
              "21     0.000      0.125        0.000       0.000  0.142857       0.000   \n",
              "22     0.125      0.000        0.000       0.000  0.285714       0.000   \n",
              "23     0.000      0.000        0.000       0.000  0.000000       0.000   \n",
              "\n",
              "    7-Sunday  \n",
              "0      0.000  \n",
              "1      0.000  \n",
              "2      0.000  \n",
              "3      0.000  \n",
              "4      0.000  \n",
              "5      0.000  \n",
              "6      0.000  \n",
              "7      0.000  \n",
              "8      0.000  \n",
              "9      0.000  \n",
              "10     0.000  \n",
              "11     0.000  \n",
              "12     0.000  \n",
              "13     0.125  \n",
              "14     0.125  \n",
              "15     0.000  \n",
              "16     0.125  \n",
              "17     0.125  \n",
              "18     0.000  \n",
              "19     0.000  \n",
              "20     0.000  \n",
              "21     0.125  \n",
              "22     0.000  \n",
              "23     0.000  "
            ]
          },
          "execution_count": 95,
          "metadata": {},
          "output_type": "execute_result"
        }
      ],
      "source": [
        "calculateProbabilisticModel(train)"
      ]
    },
    {
      "cell_type": "markdown",
      "metadata": {
        "id": "N207D7qp5DPI"
      },
      "source": [
        "Se valida con los datos de pruebas"
      ]
    },
    {
      "cell_type": "code",
      "execution_count": 96,
      "metadata": {
        "colab": {
          "base_uri": "https://localhost:8080/",
          "height": 802
        },
        "id": "K9MwdVO75B9h",
        "outputId": "751fe65b-94ab-49a5-ede8-491bae9ffd90"
      },
      "outputs": [
        {
          "data": {
            "text/html": [
              "<div>\n",
              "<style scoped>\n",
              "    .dataframe tbody tr th:only-of-type {\n",
              "        vertical-align: middle;\n",
              "    }\n",
              "\n",
              "    .dataframe tbody tr th {\n",
              "        vertical-align: top;\n",
              "    }\n",
              "\n",
              "    .dataframe thead th {\n",
              "        text-align: right;\n",
              "    }\n",
              "</style>\n",
              "<table border=\"1\" class=\"dataframe\">\n",
              "  <thead>\n",
              "    <tr style=\"text-align: right;\">\n",
              "      <th></th>\n",
              "      <th>1-Monday</th>\n",
              "      <th>2-Tuesday</th>\n",
              "      <th>3-Wednesday</th>\n",
              "      <th>4-Thursday</th>\n",
              "      <th>5-Friday</th>\n",
              "      <th>6-Saturday</th>\n",
              "      <th>7-Sunday</th>\n",
              "    </tr>\n",
              "  </thead>\n",
              "  <tbody>\n",
              "    <tr>\n",
              "      <th>0</th>\n",
              "      <td>0.000</td>\n",
              "      <td>0.000</td>\n",
              "      <td>0.000</td>\n",
              "      <td>0.000</td>\n",
              "      <td>0.000000</td>\n",
              "      <td>0.000000</td>\n",
              "      <td>0.000</td>\n",
              "    </tr>\n",
              "    <tr>\n",
              "      <th>1</th>\n",
              "      <td>0.000</td>\n",
              "      <td>0.000</td>\n",
              "      <td>0.000</td>\n",
              "      <td>0.000</td>\n",
              "      <td>0.000000</td>\n",
              "      <td>0.000000</td>\n",
              "      <td>0.000</td>\n",
              "    </tr>\n",
              "    <tr>\n",
              "      <th>2</th>\n",
              "      <td>0.000</td>\n",
              "      <td>0.000</td>\n",
              "      <td>0.000</td>\n",
              "      <td>0.000</td>\n",
              "      <td>0.000000</td>\n",
              "      <td>0.000000</td>\n",
              "      <td>0.000</td>\n",
              "    </tr>\n",
              "    <tr>\n",
              "      <th>3</th>\n",
              "      <td>0.000</td>\n",
              "      <td>0.000</td>\n",
              "      <td>0.000</td>\n",
              "      <td>0.000</td>\n",
              "      <td>0.000000</td>\n",
              "      <td>0.000000</td>\n",
              "      <td>0.000</td>\n",
              "    </tr>\n",
              "    <tr>\n",
              "      <th>4</th>\n",
              "      <td>0.000</td>\n",
              "      <td>0.000</td>\n",
              "      <td>0.000</td>\n",
              "      <td>0.000</td>\n",
              "      <td>0.000000</td>\n",
              "      <td>0.000000</td>\n",
              "      <td>0.000</td>\n",
              "    </tr>\n",
              "    <tr>\n",
              "      <th>5</th>\n",
              "      <td>0.000</td>\n",
              "      <td>0.000</td>\n",
              "      <td>0.000</td>\n",
              "      <td>0.000</td>\n",
              "      <td>0.000000</td>\n",
              "      <td>0.000000</td>\n",
              "      <td>0.000</td>\n",
              "    </tr>\n",
              "    <tr>\n",
              "      <th>6</th>\n",
              "      <td>0.000</td>\n",
              "      <td>0.000</td>\n",
              "      <td>0.000</td>\n",
              "      <td>0.000</td>\n",
              "      <td>0.000000</td>\n",
              "      <td>0.000000</td>\n",
              "      <td>0.000</td>\n",
              "    </tr>\n",
              "    <tr>\n",
              "      <th>7</th>\n",
              "      <td>0.000</td>\n",
              "      <td>0.000</td>\n",
              "      <td>0.000</td>\n",
              "      <td>0.000</td>\n",
              "      <td>0.000000</td>\n",
              "      <td>0.000000</td>\n",
              "      <td>0.000</td>\n",
              "    </tr>\n",
              "    <tr>\n",
              "      <th>8</th>\n",
              "      <td>0.000</td>\n",
              "      <td>0.000</td>\n",
              "      <td>0.000</td>\n",
              "      <td>0.000</td>\n",
              "      <td>0.000000</td>\n",
              "      <td>0.000000</td>\n",
              "      <td>0.000</td>\n",
              "    </tr>\n",
              "    <tr>\n",
              "      <th>9</th>\n",
              "      <td>0.000</td>\n",
              "      <td>0.000</td>\n",
              "      <td>0.000</td>\n",
              "      <td>0.000</td>\n",
              "      <td>0.000000</td>\n",
              "      <td>0.000000</td>\n",
              "      <td>0.000</td>\n",
              "    </tr>\n",
              "    <tr>\n",
              "      <th>10</th>\n",
              "      <td>0.000</td>\n",
              "      <td>0.000</td>\n",
              "      <td>0.000</td>\n",
              "      <td>0.000</td>\n",
              "      <td>0.000000</td>\n",
              "      <td>0.000000</td>\n",
              "      <td>0.000</td>\n",
              "    </tr>\n",
              "    <tr>\n",
              "      <th>11</th>\n",
              "      <td>0.000</td>\n",
              "      <td>0.000</td>\n",
              "      <td>0.125</td>\n",
              "      <td>0.000</td>\n",
              "      <td>0.000000</td>\n",
              "      <td>0.000000</td>\n",
              "      <td>0.000</td>\n",
              "    </tr>\n",
              "    <tr>\n",
              "      <th>12</th>\n",
              "      <td>0.125</td>\n",
              "      <td>0.000</td>\n",
              "      <td>0.000</td>\n",
              "      <td>0.000</td>\n",
              "      <td>0.000000</td>\n",
              "      <td>0.222222</td>\n",
              "      <td>0.000</td>\n",
              "    </tr>\n",
              "    <tr>\n",
              "      <th>13</th>\n",
              "      <td>0.125</td>\n",
              "      <td>0.250</td>\n",
              "      <td>0.125</td>\n",
              "      <td>0.000</td>\n",
              "      <td>0.111111</td>\n",
              "      <td>0.222222</td>\n",
              "      <td>0.000</td>\n",
              "    </tr>\n",
              "    <tr>\n",
              "      <th>14</th>\n",
              "      <td>0.000</td>\n",
              "      <td>0.125</td>\n",
              "      <td>0.375</td>\n",
              "      <td>0.125</td>\n",
              "      <td>0.000000</td>\n",
              "      <td>0.333333</td>\n",
              "      <td>0.000</td>\n",
              "    </tr>\n",
              "    <tr>\n",
              "      <th>15</th>\n",
              "      <td>0.250</td>\n",
              "      <td>0.375</td>\n",
              "      <td>0.375</td>\n",
              "      <td>0.375</td>\n",
              "      <td>0.111111</td>\n",
              "      <td>0.111111</td>\n",
              "      <td>0.000</td>\n",
              "    </tr>\n",
              "    <tr>\n",
              "      <th>16</th>\n",
              "      <td>0.625</td>\n",
              "      <td>0.500</td>\n",
              "      <td>0.750</td>\n",
              "      <td>0.500</td>\n",
              "      <td>0.444444</td>\n",
              "      <td>0.444444</td>\n",
              "      <td>0.125</td>\n",
              "    </tr>\n",
              "    <tr>\n",
              "      <th>17</th>\n",
              "      <td>0.875</td>\n",
              "      <td>0.875</td>\n",
              "      <td>0.750</td>\n",
              "      <td>0.625</td>\n",
              "      <td>0.888889</td>\n",
              "      <td>0.222222</td>\n",
              "      <td>0.250</td>\n",
              "    </tr>\n",
              "    <tr>\n",
              "      <th>18</th>\n",
              "      <td>0.500</td>\n",
              "      <td>0.500</td>\n",
              "      <td>0.750</td>\n",
              "      <td>0.625</td>\n",
              "      <td>0.555556</td>\n",
              "      <td>0.222222</td>\n",
              "      <td>0.125</td>\n",
              "    </tr>\n",
              "    <tr>\n",
              "      <th>19</th>\n",
              "      <td>0.500</td>\n",
              "      <td>0.500</td>\n",
              "      <td>0.375</td>\n",
              "      <td>0.250</td>\n",
              "      <td>0.777778</td>\n",
              "      <td>0.111111</td>\n",
              "      <td>0.125</td>\n",
              "    </tr>\n",
              "    <tr>\n",
              "      <th>20</th>\n",
              "      <td>0.125</td>\n",
              "      <td>0.125</td>\n",
              "      <td>0.250</td>\n",
              "      <td>0.250</td>\n",
              "      <td>0.444444</td>\n",
              "      <td>0.000000</td>\n",
              "      <td>0.000</td>\n",
              "    </tr>\n",
              "    <tr>\n",
              "      <th>21</th>\n",
              "      <td>0.125</td>\n",
              "      <td>0.000</td>\n",
              "      <td>0.000</td>\n",
              "      <td>0.125</td>\n",
              "      <td>0.444444</td>\n",
              "      <td>0.000000</td>\n",
              "      <td>0.000</td>\n",
              "    </tr>\n",
              "    <tr>\n",
              "      <th>22</th>\n",
              "      <td>0.000</td>\n",
              "      <td>0.000</td>\n",
              "      <td>0.000</td>\n",
              "      <td>0.000</td>\n",
              "      <td>0.000000</td>\n",
              "      <td>0.000000</td>\n",
              "      <td>0.000</td>\n",
              "    </tr>\n",
              "    <tr>\n",
              "      <th>23</th>\n",
              "      <td>0.000</td>\n",
              "      <td>0.000</td>\n",
              "      <td>0.000</td>\n",
              "      <td>0.000</td>\n",
              "      <td>0.111111</td>\n",
              "      <td>0.000000</td>\n",
              "      <td>0.000</td>\n",
              "    </tr>\n",
              "  </tbody>\n",
              "</table>\n",
              "</div>"
            ],
            "text/plain": [
              "    1-Monday  2-Tuesday  3-Wednesday  4-Thursday  5-Friday  6-Saturday  \\\n",
              "0      0.000      0.000        0.000       0.000  0.000000    0.000000   \n",
              "1      0.000      0.000        0.000       0.000  0.000000    0.000000   \n",
              "2      0.000      0.000        0.000       0.000  0.000000    0.000000   \n",
              "3      0.000      0.000        0.000       0.000  0.000000    0.000000   \n",
              "4      0.000      0.000        0.000       0.000  0.000000    0.000000   \n",
              "5      0.000      0.000        0.000       0.000  0.000000    0.000000   \n",
              "6      0.000      0.000        0.000       0.000  0.000000    0.000000   \n",
              "7      0.000      0.000        0.000       0.000  0.000000    0.000000   \n",
              "8      0.000      0.000        0.000       0.000  0.000000    0.000000   \n",
              "9      0.000      0.000        0.000       0.000  0.000000    0.000000   \n",
              "10     0.000      0.000        0.000       0.000  0.000000    0.000000   \n",
              "11     0.000      0.000        0.125       0.000  0.000000    0.000000   \n",
              "12     0.125      0.000        0.000       0.000  0.000000    0.222222   \n",
              "13     0.125      0.250        0.125       0.000  0.111111    0.222222   \n",
              "14     0.000      0.125        0.375       0.125  0.000000    0.333333   \n",
              "15     0.250      0.375        0.375       0.375  0.111111    0.111111   \n",
              "16     0.625      0.500        0.750       0.500  0.444444    0.444444   \n",
              "17     0.875      0.875        0.750       0.625  0.888889    0.222222   \n",
              "18     0.500      0.500        0.750       0.625  0.555556    0.222222   \n",
              "19     0.500      0.500        0.375       0.250  0.777778    0.111111   \n",
              "20     0.125      0.125        0.250       0.250  0.444444    0.000000   \n",
              "21     0.125      0.000        0.000       0.125  0.444444    0.000000   \n",
              "22     0.000      0.000        0.000       0.000  0.000000    0.000000   \n",
              "23     0.000      0.000        0.000       0.000  0.111111    0.000000   \n",
              "\n",
              "    7-Sunday  \n",
              "0      0.000  \n",
              "1      0.000  \n",
              "2      0.000  \n",
              "3      0.000  \n",
              "4      0.000  \n",
              "5      0.000  \n",
              "6      0.000  \n",
              "7      0.000  \n",
              "8      0.000  \n",
              "9      0.000  \n",
              "10     0.000  \n",
              "11     0.000  \n",
              "12     0.000  \n",
              "13     0.000  \n",
              "14     0.000  \n",
              "15     0.000  \n",
              "16     0.125  \n",
              "17     0.250  \n",
              "18     0.125  \n",
              "19     0.125  \n",
              "20     0.000  \n",
              "21     0.000  \n",
              "22     0.000  \n",
              "23     0.000  "
            ]
          },
          "execution_count": 96,
          "metadata": {},
          "output_type": "execute_result"
        }
      ],
      "source": [
        "calculateProbabilisticModel(test)"
      ]
    },
    {
      "cell_type": "markdown",
      "metadata": {
        "id": "2UKdI6FdI9YF"
      },
      "source": [
        "# Exploración inicial"
      ]
    },
    {
      "cell_type": "code",
      "execution_count": 97,
      "metadata": {
        "colab": {
          "base_uri": "https://localhost:8080/",
          "height": 388
        },
        "id": "T7WrOmEJ0e1z",
        "outputId": "e8940f5e-a0b9-43b9-c8e7-efb85e839775"
      },
      "outputs": [
        {
          "data": {
            "image/png": "[encoded data removed]",
            "text/plain": [
              "<Figure size 1512x432 with 3 Axes>"
            ]
          },
          "metadata": {
            "needs_background": "light"
          },
          "output_type": "display_data"
        }
      ],
      "source": [
        "df_reg = df_mp.copy()\n",
        "df_reg = df_reg.drop(columns=['TELEFONOORIGEN','FECHA'])\n",
        "fig, axes = plot.subplots(1, 3)\n",
        "fig.set_size_inches(21,6)\n",
        "for i, column in enumerate(df_reg.columns):\n",
        "  sns.histplot(df_reg[column], kde=True, ax=axes[i])"
      ]
    },
    {
      "cell_type": "markdown",
      "metadata": {
        "id": "CyIrEVUc4TUm"
      },
      "source": [
        "Se genera un diagrama de dispersión"
      ]
    },
    {
      "cell_type": "code",
      "execution_count": 98,
      "metadata": {
        "colab": {
          "base_uri": "https://localhost:8080/",
          "height": 513
        },
        "id": "ZSTp8gmv4RHM",
        "outputId": "ee366c96-6bde-4314-8040-6953a075b962"
      },
      "outputs": [
        {
          "data": {
            "image/png": "[encoded data removed]",
            "text/plain": [
              "<Figure size 1008x576 with 1 Axes>"
            ]
          },
          "metadata": {
            "needs_background": "light"
          },
          "output_type": "display_data"
        }
      ],
      "source": [
        "served = df_reg[df_reg.SERVICIO == 1]\n",
        "not_served = df_reg[df_reg.SERVICIO == 0]\n",
        "\n",
        "plot.figure(figsize=(14, 8))\n",
        "plot.plot(served['DIADESEMANA'].values, served['HORA'].values, linestyle='', marker='o', color='royalblue', label='Served')\n",
        "plot.plot(not_served['DIADESEMANA'].values, not_served['HORA'].values, linestyle='', marker='x', color='r', label='Not Served')\n",
        "plot.title(\"Services results\")\n",
        "plot.legend()\n",
        "plot.grid()\n",
        "plot.xlabel('Dia de la semana')\n",
        "plot.ylabel('Hora')\n",
        "plot.show()"
      ]
    },
    {
      "cell_type": "code",
      "execution_count": 99,
      "metadata": {
        "colab": {
          "base_uri": "https://localhost:8080/",
          "height": 554
        },
        "id": "Ee-aLiJ46kBn",
        "outputId": "5fea25b9-4e2b-4013-a915-61216044f0bc"
      },
      "outputs": [
        {
          "data": {
            "text/plain": [
              "<AxesSubplot:>"
            ]
          },
          "execution_count": 99,
          "metadata": {},
          "output_type": "execute_result"
        },
        {
          "data": {
            "image/png": "[encoded data removed]",
            "text/plain": [
              "<Figure size 1008x648 with 1 Axes>"
            ]
          },
          "metadata": {
            "needs_background": "light"
          },
          "output_type": "display_data"
        }
      ],
      "source": [
        "df_reg[['DIADESEMANA','HORA']].boxplot(figsize=(14,9))"
      ]
    },
    {
      "cell_type": "markdown",
      "metadata": {
        "id": "PeMgdkct7Ak6"
      },
      "source": [
        "Generando datos de prueba y entrenamiento"
      ]
    },
    {
      "cell_type": "code",
      "execution_count": 100,
      "metadata": {
        "colab": {
          "base_uri": "https://localhost:8080/"
        },
        "id": "dEmIPsDe6xtx",
        "outputId": "3eaaaac8-8eff-4c7d-c595-932d09b40eac"
      },
      "outputs": [
        {
          "name": "stdout",
          "output_type": "stream",
          "text": [
            "      DIADESEMANA  HORA  SERVICIO\n",
            "1042            6    10         0\n",
            "588             1    12         0\n",
            "2242            7    10         0\n",
            "551             6    23         0\n",
            "1037            6     5         0\n",
            "...           ...   ...       ...\n",
            "3000            4     0         0\n",
            "1667            4    11         0\n",
            "3321            3     9         0\n",
            "1688            5     8         0\n",
            "1898            7     2         0\n",
            "\n",
            "[2860 rows x 3 columns]\n"
          ]
        }
      ],
      "source": [
        "#CONJUNTO DE DATOS DE PRUEBA (20%)\n",
        "from sklearn.model_selection import train_test_split\n",
        "train, test = train_test_split(df_reg, test_size=0.2, random_state=3, shuffle=True)\n",
        "print(train)"
      ]
    },
    {
      "cell_type": "code",
      "execution_count": 101,
      "metadata": {
        "colab": {
          "base_uri": "https://localhost:8080/"
        },
        "id": "R0SPrxfIFmYP",
        "outputId": "f625b3d9-3e8e-4f47-f220-5cf9310b9ef9"
      },
      "outputs": [
        {
          "data": {
            "text/plain": [
              "(2860, 3)"
            ]
          },
          "execution_count": 101,
          "metadata": {},
          "output_type": "execute_result"
        }
      ],
      "source": [
        "#datos de entrenamiento\n",
        "train.shape"
      ]
    },
    {
      "cell_type": "code",
      "execution_count": 102,
      "metadata": {
        "colab": {
          "base_uri": "https://localhost:8080/",
          "height": 608
        },
        "id": "1Lt83M0wGCiY",
        "outputId": "2156bfba-43d2-42cd-96c6-bb44df6fbd0b"
      },
      "outputs": [
        {
          "data": {
            "image/png": "[encoded data removed]",
            "text/plain": [
              "<Figure size 1008x720 with 9 Axes>"
            ]
          },
          "metadata": {
            "needs_background": "light"
          },
          "output_type": "display_data"
        }
      ],
      "source": [
        "#Matriz de Dispersion con MatPlotLib\n",
        "pd.plotting.scatter_matrix(train.loc[:,['DIADESEMANA','HORA','SERVICIO']], figsize=(14,10), alpha=0.8)\n",
        "plot.show()"
      ]
    },
    {
      "cell_type": "code",
      "execution_count": 103,
      "metadata": {
        "colab": {
          "base_uri": "https://localhost:8080/",
          "height": 596
        },
        "id": "c-x5S_dfGy0b",
        "outputId": "175295b3-5e70-4da5-cc7c-4565764c2eee"
      },
      "outputs": [
        {
          "data": {
            "image/png": "[encoded data removed]",
            "text/plain": [
              "<Figure size 1008x720 with 2 Axes>"
            ]
          },
          "metadata": {
            "needs_background": "light"
          },
          "output_type": "display_data"
        }
      ],
      "source": [
        "correlation_matrix = train.corr().round(2) \n",
        "fig, heat = plot.subplots(figsize = (14,10))\n",
        "heat = sns.heatmap(data=correlation_matrix, annot=True, cmap=\"YlGnBu\")\n",
        "plot.show()"
      ]
    },
    {
      "cell_type": "code",
      "execution_count": 104,
      "metadata": {
        "colab": {
          "base_uri": "https://localhost:8080/",
          "height": 143
        },
        "id": "djM7T_WtHRNY",
        "outputId": "023a81e2-b443-4cd8-a36d-fd5a40bf5705"
      },
      "outputs": [
        {
          "data": {
            "text/html": [
              "<div>\n",
              "<style scoped>\n",
              "    .dataframe tbody tr th:only-of-type {\n",
              "        vertical-align: middle;\n",
              "    }\n",
              "\n",
              "    .dataframe tbody tr th {\n",
              "        vertical-align: top;\n",
              "    }\n",
              "\n",
              "    .dataframe thead th {\n",
              "        text-align: right;\n",
              "    }\n",
              "</style>\n",
              "<table border=\"1\" class=\"dataframe\">\n",
              "  <thead>\n",
              "    <tr style=\"text-align: right;\">\n",
              "      <th></th>\n",
              "      <th>SERVICIO</th>\n",
              "    </tr>\n",
              "  </thead>\n",
              "  <tbody>\n",
              "    <tr>\n",
              "      <th>DIADESEMANA</th>\n",
              "      <td>-0.068639</td>\n",
              "    </tr>\n",
              "    <tr>\n",
              "      <th>HORA</th>\n",
              "      <td>0.245404</td>\n",
              "    </tr>\n",
              "    <tr>\n",
              "      <th>SERVICIO</th>\n",
              "      <td>1.000000</td>\n",
              "    </tr>\n",
              "  </tbody>\n",
              "</table>\n",
              "</div>"
            ],
            "text/plain": [
              "             SERVICIO\n",
              "DIADESEMANA -0.068639\n",
              "HORA         0.245404\n",
              "SERVICIO     1.000000"
            ]
          },
          "execution_count": 104,
          "metadata": {},
          "output_type": "execute_result"
        }
      ],
      "source": [
        "train.corr().SERVICIO.to_frame()"
      ]
    },
    {
      "cell_type": "markdown",
      "metadata": {
        "id": "UTvSWpQ6IOOt"
      },
      "source": [
        "# Generación del modelo"
      ]
    },
    {
      "cell_type": "code",
      "execution_count": 105,
      "metadata": {
        "colab": {
          "base_uri": "https://localhost:8080/",
          "height": 206
        },
        "id": "LhhMta5vIScw",
        "outputId": "03eb8020-6e1b-4a9d-f953-8a3e0857c743"
      },
      "outputs": [
        {
          "data": {
            "text/html": [
              "<div>\n",
              "<style scoped>\n",
              "    .dataframe tbody tr th:only-of-type {\n",
              "        vertical-align: middle;\n",
              "    }\n",
              "\n",
              "    .dataframe tbody tr th {\n",
              "        vertical-align: top;\n",
              "    }\n",
              "\n",
              "    .dataframe thead th {\n",
              "        text-align: right;\n",
              "    }\n",
              "</style>\n",
              "<table border=\"1\" class=\"dataframe\">\n",
              "  <thead>\n",
              "    <tr style=\"text-align: right;\">\n",
              "      <th></th>\n",
              "      <th>DIADESEMANA</th>\n",
              "      <th>HORA</th>\n",
              "      <th>SERVICIO</th>\n",
              "    </tr>\n",
              "  </thead>\n",
              "  <tbody>\n",
              "    <tr>\n",
              "      <th>0</th>\n",
              "      <td>0.998798</td>\n",
              "      <td>-0.227844</td>\n",
              "      <td>-0.308134</td>\n",
              "    </tr>\n",
              "    <tr>\n",
              "      <th>1</th>\n",
              "      <td>-1.521550</td>\n",
              "      <td>0.061964</td>\n",
              "      <td>-0.308134</td>\n",
              "    </tr>\n",
              "    <tr>\n",
              "      <th>2</th>\n",
              "      <td>1.502868</td>\n",
              "      <td>-0.227844</td>\n",
              "      <td>-0.308134</td>\n",
              "    </tr>\n",
              "    <tr>\n",
              "      <th>3</th>\n",
              "      <td>0.998798</td>\n",
              "      <td>1.655913</td>\n",
              "      <td>-0.308134</td>\n",
              "    </tr>\n",
              "    <tr>\n",
              "      <th>4</th>\n",
              "      <td>0.998798</td>\n",
              "      <td>-0.952367</td>\n",
              "      <td>-0.308134</td>\n",
              "    </tr>\n",
              "  </tbody>\n",
              "</table>\n",
              "</div>"
            ],
            "text/plain": [
              "   DIADESEMANA      HORA  SERVICIO\n",
              "0     0.998798 -0.227844 -0.308134\n",
              "1    -1.521550  0.061964 -0.308134\n",
              "2     1.502868 -0.227844 -0.308134\n",
              "3     0.998798  1.655913 -0.308134\n",
              "4     0.998798 -0.952367 -0.308134"
            ]
          },
          "execution_count": 105,
          "metadata": {},
          "output_type": "execute_result"
        }
      ],
      "source": [
        "from sklearn.preprocessing import StandardScaler\n",
        "std = StandardScaler()\n",
        "data = pd.DataFrame(std.fit_transform(train), columns=train.columns)\n",
        "data.head()"
      ]
    },
    {
      "cell_type": "code",
      "execution_count": 106,
      "metadata": {
        "id": "Su-Y2_r4ImFC"
      },
      "outputs": [],
      "source": [
        "yrl = data.SERVICIO\n",
        "features = ['HORA',\t'DIADESEMANA']\n",
        "Xrl = data[features]"
      ]
    },
    {
      "cell_type": "markdown",
      "metadata": {
        "id": "9G0mtzatt__U"
      },
      "source": []
    },
    {
      "cell_type": "markdown",
      "metadata": {
        "id": "aSkTexouI08q"
      },
      "source": [
        "##Evaluación de modelos##"
      ]
    },
    {
      "cell_type": "markdown",
      "metadata": {
        "id": "5i6hQrRTt-43"
      },
      "source": [
        "ALGORITMO DE LOS KNN"
      ]
    }
  ],
  "metadata": {
    "colab": {
      "collapsed_sections": [],
      "name": "Proyecto predicción servicio taxi.ipynb",
      "provenance": []
    },
    "kernelspec": {
      "display_name": "Python 3.10.2 64-bit",
      "language": "python",
      "name": "python3"
    },
    "language_info": {
      "codemirror_mode": {
        "name": "ipython",
        "version": 3
      },
      "file_extension": ".py",
      "mimetype": "text/x-python",
      "name": "python",
      "nbconvert_exporter": "python",
      "pygments_lexer": "ipython3",
      "version": "3.10.2"
    },
    "vscode": {
      "interpreter": {
        "hash": "6c66cf74b0d2a9f1f4e9764d44e7ed6418e0349c942d329ab910649654051b15"
      }
    }
  },
  "nbformat": 4,
  "nbformat_minor": 0
}
