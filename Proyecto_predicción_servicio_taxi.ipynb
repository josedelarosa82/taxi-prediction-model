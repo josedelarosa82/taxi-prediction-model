{
  "cells": [
    {
      "cell_type": "markdown",
      "metadata": {
        "id": "Zm7tiHiJk80E"
      },
      "source": [
        "### ANALISIS EXPLORATORIO\n",
        "\n"
      ]
    },
    {
      "cell_type": "code",
      "execution_count": 191,
      "metadata": {
        "colab": {
          "base_uri": "https://localhost:8080/"
        },
        "id": "jbQIiJjPgCYj",
        "outputId": "c8d87048-b445-45ec-8e27-4e604af3a8b7"
      },
      "outputs": [],
      "source": [
        "#from google.colab import drive\n",
        "#drive.mount('/content/drive')"
      ]
    },
    {
      "cell_type": "code",
      "execution_count": 287,
      "metadata": {
        "id": "9YlqkYPGeDuz"
      },
      "outputs": [],
      "source": [
        "#librerias\n",
        "import pandas as pd\n",
        "import matplotlib.pyplot as plot\n",
        "import seaborn as sns\n",
        "from sklearn.model_selection import train_test_split\n",
        "from sklearn.preprocessing import StandardScaler\n",
        "from sklearn.linear_model import LogisticRegression\n",
        "from sklearn.metrics import confusion_matrix, ConfusionMatrixDisplay\n",
        "\n",
        "import numpy as np\n",
        "from datetime import date, datetime, timedelta\n",
        "from os import name"
      ]
    },
    {
      "cell_type": "markdown",
      "metadata": {
        "id": "yj6GLCBW1jan"
      },
      "source": [
        "Definición de parámetros iniciales"
      ]
    },
    {
      "cell_type": "code",
      "execution_count": 193,
      "metadata": {
        "id": "GLoQZVku1iMb"
      },
      "outputs": [],
      "source": [
        "NUM_OF_WEEK = 8.0\n",
        "HOURS_OF_DAY = 24\n",
        "DAYS_OF_WEEK = 7\n",
        "FORMAT_DATE = '%Y-%m-%d'\n",
        "DATE_START_TRAINIG = pd.to_datetime(\"2022-04-13\", format=FORMAT_DATE)\n",
        "FICHERO_DATA = './data/SERVICIO_UNIFICADO_2022.parquet.gzip'"
      ]
    },
    {
      "cell_type": "code",
      "execution_count": 194,
      "metadata": {
        "colab": {
          "base_uri": "https://localhost:8080/"
        },
        "id": "JnMbR7vKA1KO",
        "outputId": "d19dfb19-63d8-4113-dd65-f304764645d8"
      },
      "outputs": [
        {
          "name": "stdout",
          "output_type": "stream",
          "text": [
            "Dataset cargado con éxito\n"
          ]
        }
      ],
      "source": [
        "#Se lee el archivo de un parquet a un dataframe\n",
        "df = pd.read_parquet(FICHERO_DATA) \n",
        "\n",
        "print(\"Dataset cargado con éxito\")"
      ]
    },
    {
      "cell_type": "markdown",
      "metadata": {
        "id": "65CC2tpPmJk5"
      },
      "source": [
        "Se valida cuantos valores nulos tenemos en el dataset"
      ]
    },
    {
      "cell_type": "code",
      "execution_count": 195,
      "metadata": {
        "colab": {
          "base_uri": "https://localhost:8080/"
        },
        "id": "TWgKyA9DmHPO",
        "outputId": "be8d5d42-49c6-4b53-8807-6aea60c62573"
      },
      "outputs": [
        {
          "data": {
            "text/plain": [
              "ID                       0\n",
              "IDCIUDAD                 0\n",
              "USUARIO               1707\n",
              "TELEFONOORIGEN       69322\n",
              "LATITUD                  0\n",
              "LATITUDDESTINO     1932690\n",
              "LONGITUD                 0\n",
              "LONGITUDDESTINO    1932690\n",
              "ESTADO                   0\n",
              "ORIGEN                   0\n",
              "FECHACOMPLETA            0\n",
              "DIADESEMANA              0\n",
              "HORA                     0\n",
              "dtype: int64"
            ]
          },
          "execution_count": 195,
          "metadata": {},
          "output_type": "execute_result"
        }
      ],
      "source": [
        "#Contar cuantos datos se encuentran nulos\n",
        "df.isnull().sum()"
      ]
    },
    {
      "cell_type": "markdown",
      "metadata": {
        "id": "QGkxeameln6J"
      },
      "source": [
        "Se limpian los datos donde el teléfono del usuario es nulo\n",
        " para tener usuarios validos y limitamos los datos de bogotá"
      ]
    },
    {
      "cell_type": "code",
      "execution_count": 196,
      "metadata": {
        "colab": {
          "base_uri": "https://localhost:8080/",
          "height": 206
        },
        "id": "GZNxk52pYbgy",
        "outputId": "b11d7eb7-8175-4047-ae37-ece241b971f6"
      },
      "outputs": [
        {
          "data": {
            "text/html": [
              "<div>\n",
              "<style scoped>\n",
              "    .dataframe tbody tr th:only-of-type {\n",
              "        vertical-align: middle;\n",
              "    }\n",
              "\n",
              "    .dataframe tbody tr th {\n",
              "        vertical-align: top;\n",
              "    }\n",
              "\n",
              "    .dataframe thead th {\n",
              "        text-align: right;\n",
              "    }\n",
              "</style>\n",
              "<table border=\"1\" class=\"dataframe\">\n",
              "  <thead>\n",
              "    <tr style=\"text-align: right;\">\n",
              "      <th></th>\n",
              "      <th>ID</th>\n",
              "      <th>IDCIUDAD</th>\n",
              "      <th>USUARIO</th>\n",
              "      <th>TELEFONOORIGEN</th>\n",
              "      <th>LATITUD</th>\n",
              "      <th>LATITUDDESTINO</th>\n",
              "      <th>LONGITUD</th>\n",
              "      <th>LONGITUDDESTINO</th>\n",
              "      <th>ESTADO</th>\n",
              "      <th>ORIGEN</th>\n",
              "      <th>FECHACOMPLETA</th>\n",
              "      <th>DIADESEMANA</th>\n",
              "      <th>HORA</th>\n",
              "    </tr>\n",
              "  </thead>\n",
              "  <tbody>\n",
              "    <tr>\n",
              "      <th>0</th>\n",
              "      <td>70152580</td>\n",
              "      <td>11001</td>\n",
              "      <td>8946882.0</td>\n",
              "      <td>3186429637</td>\n",
              "      <td>4.642036</td>\n",
              "      <td>4.630580</td>\n",
              "      <td>-74.187636</td>\n",
              "      <td>-74.189880</td>\n",
              "      <td>CANCELADO</td>\n",
              "      <td>APP</td>\n",
              "      <td>2022-04-30 19:00:00</td>\n",
              "      <td>7</td>\n",
              "      <td>19</td>\n",
              "    </tr>\n",
              "    <tr>\n",
              "      <th>1</th>\n",
              "      <td>70152581</td>\n",
              "      <td>11001</td>\n",
              "      <td>9665930.0</td>\n",
              "      <td>3209171095</td>\n",
              "      <td>4.594340</td>\n",
              "      <td>4.604060</td>\n",
              "      <td>-74.138168</td>\n",
              "      <td>-74.141610</td>\n",
              "      <td>ABANDONADO</td>\n",
              "      <td>APP</td>\n",
              "      <td>2022-04-30 19:00:00</td>\n",
              "      <td>7</td>\n",
              "      <td>19</td>\n",
              "    </tr>\n",
              "    <tr>\n",
              "      <th>2</th>\n",
              "      <td>70152582</td>\n",
              "      <td>76001</td>\n",
              "      <td>9243481.0</td>\n",
              "      <td>3147558713</td>\n",
              "      <td>3.367783</td>\n",
              "      <td>NaN</td>\n",
              "      <td>-76.531083</td>\n",
              "      <td>NaN</td>\n",
              "      <td>ABANDONADO</td>\n",
              "      <td>APP</td>\n",
              "      <td>2022-04-30 19:00:01</td>\n",
              "      <td>7</td>\n",
              "      <td>19</td>\n",
              "    </tr>\n",
              "    <tr>\n",
              "      <th>3</th>\n",
              "      <td>70152583</td>\n",
              "      <td>11001</td>\n",
              "      <td>841805.0</td>\n",
              "      <td>3125733084</td>\n",
              "      <td>4.630927</td>\n",
              "      <td>NaN</td>\n",
              "      <td>-74.092728</td>\n",
              "      <td>NaN</td>\n",
              "      <td>ABANDONADO</td>\n",
              "      <td>CHAT_BOT_659</td>\n",
              "      <td>2022-04-30 19:00:01</td>\n",
              "      <td>7</td>\n",
              "      <td>19</td>\n",
              "    </tr>\n",
              "    <tr>\n",
              "      <th>4</th>\n",
              "      <td>70152584</td>\n",
              "      <td>11001</td>\n",
              "      <td>9330612.0</td>\n",
              "      <td>3043963812</td>\n",
              "      <td>4.548637</td>\n",
              "      <td>4.622711</td>\n",
              "      <td>-74.096414</td>\n",
              "      <td>-74.147018</td>\n",
              "      <td>ABANDONADO</td>\n",
              "      <td>APP</td>\n",
              "      <td>2022-04-30 19:00:01</td>\n",
              "      <td>7</td>\n",
              "      <td>19</td>\n",
              "    </tr>\n",
              "  </tbody>\n",
              "</table>\n",
              "</div>"
            ],
            "text/plain": [
              "         ID  IDCIUDAD    USUARIO TELEFONOORIGEN   LATITUD  LATITUDDESTINO  \\\n",
              "0  70152580     11001  8946882.0     3186429637  4.642036        4.630580   \n",
              "1  70152581     11001  9665930.0     3209171095  4.594340        4.604060   \n",
              "2  70152582     76001  9243481.0     3147558713  3.367783             NaN   \n",
              "3  70152583     11001   841805.0     3125733084  4.630927             NaN   \n",
              "4  70152584     11001  9330612.0     3043963812  4.548637        4.622711   \n",
              "\n",
              "    LONGITUD  LONGITUDDESTINO      ESTADO        ORIGEN        FECHACOMPLETA  \\\n",
              "0 -74.187636       -74.189880   CANCELADO           APP  2022-04-30 19:00:00   \n",
              "1 -74.138168       -74.141610  ABANDONADO           APP  2022-04-30 19:00:00   \n",
              "2 -76.531083              NaN  ABANDONADO           APP  2022-04-30 19:00:01   \n",
              "3 -74.092728              NaN  ABANDONADO  CHAT_BOT_659  2022-04-30 19:00:01   \n",
              "4 -74.096414       -74.147018  ABANDONADO           APP  2022-04-30 19:00:01   \n",
              "\n",
              "   DIADESEMANA  HORA  \n",
              "0            7    19  \n",
              "1            7    19  \n",
              "2            7    19  \n",
              "3            7    19  \n",
              "4            7    19  "
            ]
          },
          "execution_count": 196,
          "metadata": {},
          "output_type": "execute_result"
        }
      ],
      "source": [
        "df.head(5)"
      ]
    },
    {
      "cell_type": "code",
      "execution_count": 197,
      "metadata": {
        "colab": {
          "base_uri": "https://localhost:8080/"
        },
        "id": "CftD2xATAE6Y",
        "outputId": "372aeab0-fa5a-42f3-d734-4a7573f3d79f"
      },
      "outputs": [],
      "source": [
        "#Eliminamos los registros nulos del telefono de origen\n",
        "df = df[~df['TELEFONOORIGEN'].isnull()]\n",
        "#Filtramos para ciudad de bogotá\n",
        "df = df[df[\"IDCIUDAD\"]==11001]"
      ]
    },
    {
      "cell_type": "markdown",
      "metadata": {
        "id": "OsFQhyCkbwwb"
      },
      "source": [
        "Limitamos los canales por donde se reciben servicios a APP, IVR, CHATBOT, RECEPCIÓN, CALLE Y WEB que son los más relevantes.\n",
        "Limitamos los estados a ABANDONADO, CUMPLIDO, CANCELADO Y FINALIZADO que son los validos, el restos son errores del proceso."
      ]
    },
    {
      "cell_type": "code",
      "execution_count": 198,
      "metadata": {
        "id": "NcAWDyRwbocp"
      },
      "outputs": [],
      "source": [
        "df = df[(df[\"ORIGEN\"]==\"APP\") | (df[\"ORIGEN\"]==\"IVR\") | (df[\"ORIGEN\"]==\"CHAT_BOT_659\") | (df[\"ORIGEN\"]==\"RECEPCION\") | (df[\"ORIGEN\"]==\"CALLE\") | (df[\"ORIGEN\"]==\"WEB\")]\n",
        "df = df[(df[\"ESTADO\"]==\"ABANDONADO\") | (df[\"ESTADO\"]==\"CUMPLIDO\") | (df[\"ESTADO\"]==\"CANCELADO\") | (df[\"ESTADO\"]==\"FINALIZADO\")]"
      ]
    },
    {
      "cell_type": "markdown",
      "metadata": {
        "id": "qA9Hmg3dbGmG"
      },
      "source": [
        "Eliminamos las columnas de ciudad, usuario, id servicio, latitud y longitud de destino"
      ]
    },
    {
      "cell_type": "code",
      "execution_count": 199,
      "metadata": {
        "id": "eT6AHEo2bFZg"
      },
      "outputs": [
        {
          "data": {
            "text/html": [
              "<div>\n",
              "<style scoped>\n",
              "    .dataframe tbody tr th:only-of-type {\n",
              "        vertical-align: middle;\n",
              "    }\n",
              "\n",
              "    .dataframe tbody tr th {\n",
              "        vertical-align: top;\n",
              "    }\n",
              "\n",
              "    .dataframe thead th {\n",
              "        text-align: right;\n",
              "    }\n",
              "</style>\n",
              "<table border=\"1\" class=\"dataframe\">\n",
              "  <thead>\n",
              "    <tr style=\"text-align: right;\">\n",
              "      <th></th>\n",
              "      <th>ID</th>\n",
              "      <th>IDCIUDAD</th>\n",
              "      <th>USUARIO</th>\n",
              "      <th>TELEFONOORIGEN</th>\n",
              "      <th>LATITUD</th>\n",
              "      <th>LATITUDDESTINO</th>\n",
              "      <th>LONGITUD</th>\n",
              "      <th>LONGITUDDESTINO</th>\n",
              "      <th>ESTADO</th>\n",
              "      <th>ORIGEN</th>\n",
              "      <th>FECHACOMPLETA</th>\n",
              "      <th>DIADESEMANA</th>\n",
              "      <th>HORA</th>\n",
              "      <th>FECHA</th>\n",
              "    </tr>\n",
              "  </thead>\n",
              "  <tbody>\n",
              "    <tr>\n",
              "      <th>0</th>\n",
              "      <td>70152580</td>\n",
              "      <td>11001</td>\n",
              "      <td>8946882.0</td>\n",
              "      <td>3186429637</td>\n",
              "      <td>4.642036</td>\n",
              "      <td>4.630580</td>\n",
              "      <td>-74.187636</td>\n",
              "      <td>-74.189880</td>\n",
              "      <td>CANCELADO</td>\n",
              "      <td>APP</td>\n",
              "      <td>2022-04-30 19:00:00</td>\n",
              "      <td>6</td>\n",
              "      <td>19</td>\n",
              "      <td>2022-04-30</td>\n",
              "    </tr>\n",
              "    <tr>\n",
              "      <th>1</th>\n",
              "      <td>70152581</td>\n",
              "      <td>11001</td>\n",
              "      <td>9665930.0</td>\n",
              "      <td>3209171095</td>\n",
              "      <td>4.594340</td>\n",
              "      <td>4.604060</td>\n",
              "      <td>-74.138168</td>\n",
              "      <td>-74.141610</td>\n",
              "      <td>ABANDONADO</td>\n",
              "      <td>APP</td>\n",
              "      <td>2022-04-30 19:00:00</td>\n",
              "      <td>6</td>\n",
              "      <td>19</td>\n",
              "      <td>2022-04-30</td>\n",
              "    </tr>\n",
              "    <tr>\n",
              "      <th>3</th>\n",
              "      <td>70152583</td>\n",
              "      <td>11001</td>\n",
              "      <td>841805.0</td>\n",
              "      <td>3125733084</td>\n",
              "      <td>4.630927</td>\n",
              "      <td>NaN</td>\n",
              "      <td>-74.092728</td>\n",
              "      <td>NaN</td>\n",
              "      <td>ABANDONADO</td>\n",
              "      <td>CHAT_BOT_659</td>\n",
              "      <td>2022-04-30 19:00:01</td>\n",
              "      <td>6</td>\n",
              "      <td>19</td>\n",
              "      <td>2022-04-30</td>\n",
              "    </tr>\n",
              "    <tr>\n",
              "      <th>4</th>\n",
              "      <td>70152584</td>\n",
              "      <td>11001</td>\n",
              "      <td>9330612.0</td>\n",
              "      <td>3043963812</td>\n",
              "      <td>4.548637</td>\n",
              "      <td>4.622711</td>\n",
              "      <td>-74.096414</td>\n",
              "      <td>-74.147018</td>\n",
              "      <td>ABANDONADO</td>\n",
              "      <td>APP</td>\n",
              "      <td>2022-04-30 19:00:01</td>\n",
              "      <td>6</td>\n",
              "      <td>19</td>\n",
              "      <td>2022-04-30</td>\n",
              "    </tr>\n",
              "    <tr>\n",
              "      <th>5</th>\n",
              "      <td>70152585</td>\n",
              "      <td>11001</td>\n",
              "      <td>8303036.0</td>\n",
              "      <td>3113623140</td>\n",
              "      <td>4.723984</td>\n",
              "      <td>4.743134</td>\n",
              "      <td>-74.054207</td>\n",
              "      <td>-74.090683</td>\n",
              "      <td>ABANDONADO</td>\n",
              "      <td>APP</td>\n",
              "      <td>2022-04-30 19:00:02</td>\n",
              "      <td>6</td>\n",
              "      <td>19</td>\n",
              "      <td>2022-04-30</td>\n",
              "    </tr>\n",
              "  </tbody>\n",
              "</table>\n",
              "</div>"
            ],
            "text/plain": [
              "         ID  IDCIUDAD    USUARIO TELEFONOORIGEN   LATITUD  LATITUDDESTINO  \\\n",
              "0  70152580     11001  8946882.0     3186429637  4.642036        4.630580   \n",
              "1  70152581     11001  9665930.0     3209171095  4.594340        4.604060   \n",
              "3  70152583     11001   841805.0     3125733084  4.630927             NaN   \n",
              "4  70152584     11001  9330612.0     3043963812  4.548637        4.622711   \n",
              "5  70152585     11001  8303036.0     3113623140  4.723984        4.743134   \n",
              "\n",
              "    LONGITUD  LONGITUDDESTINO      ESTADO        ORIGEN       FECHACOMPLETA  \\\n",
              "0 -74.187636       -74.189880   CANCELADO           APP 2022-04-30 19:00:00   \n",
              "1 -74.138168       -74.141610  ABANDONADO           APP 2022-04-30 19:00:00   \n",
              "3 -74.092728              NaN  ABANDONADO  CHAT_BOT_659 2022-04-30 19:00:01   \n",
              "4 -74.096414       -74.147018  ABANDONADO           APP 2022-04-30 19:00:01   \n",
              "5 -74.054207       -74.090683  ABANDONADO           APP 2022-04-30 19:00:02   \n",
              "\n",
              "   DIADESEMANA  HORA       FECHA  \n",
              "0            6    19  2022-04-30  \n",
              "1            6    19  2022-04-30  \n",
              "3            6    19  2022-04-30  \n",
              "4            6    19  2022-04-30  \n",
              "5            6    19  2022-04-30  "
            ]
          },
          "execution_count": 199,
          "metadata": {},
          "output_type": "execute_result"
        }
      ],
      "source": [
        "#Se definen las fechas y el día de la semana\n",
        "df['FECHACOMPLETA'] = pd.to_datetime(df['FECHACOMPLETA'], format='%Y/%m/%d %H:%M:%S')\n",
        "df['FECHA'] = df['FECHACOMPLETA'].dt.strftime(FORMAT_DATE)\n",
        "df['DIADESEMANA'] = df['FECHACOMPLETA'].map( lambda x: x.isoweekday() )\n",
        "df.head(5)"
      ]
    },
    {
      "cell_type": "code",
      "execution_count": 200,
      "metadata": {},
      "outputs": [
        {
          "data": {
            "text/plain": [
              "TELEFONOORIGEN\n",
              "3107584482        783\n",
              "3138647901        684\n",
              "3153865158        684\n",
              "3134579964        642\n",
              "13148180          628\n",
              "                 ... \n",
              "3125329815          1\n",
              "3125330004          1\n",
              "3125330436          1\n",
              "3125330453          1\n",
              "999883673           1\n",
              "Length: 517850, dtype: int64"
            ]
          },
          "execution_count": 200,
          "metadata": {},
          "output_type": "execute_result"
        }
      ],
      "source": [
        "#Eliminamos las columan que no son útiles en el modelo\n",
        "df = df.drop(columns=[\"IDCIUDAD\",\"USUARIO\",\"ID\",\"LATITUDDESTINO\",\"LONGITUDDESTINO\",\"LATITUD\",\"LONGITUD\",\"FECHACOMPLETA\",\"ORIGEN\",\"ESTADO\"])\n",
        "\n",
        "#Se eliminan los duplicados\n",
        "df = df.drop_duplicates().sort_values(by=['TELEFONOORIGEN','FECHA','DIADESEMANA','HORA'])\n",
        "df = df.reset_index(drop=True)\n",
        "count_data = df.loc[:,['TELEFONOORIGEN']].value_counts()\n",
        "count_data"
      ]
    },
    {
      "cell_type": "code",
      "execution_count": 201,
      "metadata": {},
      "outputs": [
        {
          "data": {
            "text/plain": [
              "TELEFONOORIGEN\n",
              "3107584482        564\n",
              "3153865158        525\n",
              "3134579964        487\n",
              "3138647901        485\n",
              "3002035444        465\n",
              "                 ... \n",
              "3118330587         11\n",
              "3028348251         11\n",
              "3118353998         11\n",
              "3118355887         11\n",
              "3202755797         11\n",
              "Length: 60374, dtype: int64"
            ]
          },
          "execution_count": 201,
          "metadata": {},
          "output_type": "execute_result"
        }
      ],
      "source": [
        "data = df.copy()\n",
        "\n",
        "\n",
        "\n",
        "\n",
        "#Se filtran tomando últimas x semanas de la fecha inicial de entrenamiento\n",
        "date_last_training = DATE_START_TRAINIG - timedelta(weeks=NUM_OF_WEEK)\n",
        "data = data[ pd.to_datetime(data['FECHA'], format=FORMAT_DATE) > date_last_training ]\n",
        "\n",
        "\n",
        "#Se descartan los que tienen menos de 10 solicitudes en ese tiempo\n",
        "data = data.groupby('TELEFONOORIGEN').filter(lambda x: x['TELEFONOORIGEN'].count() > 10)\n",
        "\n",
        "#df_train = data[ (pd.to_datetime(data['FECHA'], format=FORMAT_DATE) < DATE_START_TRAINIG) & (pd.to_datetime(data['FECHA'], format=FORMAT_DATE) > date_last_training) ]\n",
        "#df_train = df_train.groupby('TELEFONOORIGEN').filter(lambda x: x['TELEFONOORIGEN'].count() > 1)\n",
        "\n",
        "#df_test = data[pd.to_datetime(data['FECHA'], format=FORMAT_DATE) >= DATE_START_TRAINIG ]\n",
        "\n",
        "\n",
        "\n",
        "count_data = data.loc[:,['TELEFONOORIGEN']].value_counts()\n",
        "count_data"
      ]
    },
    {
      "cell_type": "markdown",
      "metadata": {
        "id": "dfnBpAThxOA_"
      },
      "source": [
        "Transformamos el valor de origen y estado a no ordinales con onehot."
      ]
    },
    {
      "cell_type": "code",
      "execution_count": 202,
      "metadata": {
        "colab": {
          "base_uri": "https://localhost:8080/",
          "height": 206
        },
        "id": "xaHtoiLps1Hn",
        "outputId": "1c474887-1fe8-4c86-e968-a2ea68dd397a"
      },
      "outputs": [
        {
          "data": {
            "text/html": [
              "<div>\n",
              "<style scoped>\n",
              "    .dataframe tbody tr th:only-of-type {\n",
              "        vertical-align: middle;\n",
              "    }\n",
              "\n",
              "    .dataframe tbody tr th {\n",
              "        vertical-align: top;\n",
              "    }\n",
              "\n",
              "    .dataframe thead th {\n",
              "        text-align: right;\n",
              "    }\n",
              "</style>\n",
              "<table border=\"1\" class=\"dataframe\">\n",
              "  <thead>\n",
              "    <tr style=\"text-align: right;\">\n",
              "      <th></th>\n",
              "      <th>TELEFONOORIGEN</th>\n",
              "      <th>DIADESEMANA</th>\n",
              "      <th>HORA</th>\n",
              "      <th>FECHA</th>\n",
              "    </tr>\n",
              "  </thead>\n",
              "  <tbody>\n",
              "    <tr>\n",
              "      <th>248</th>\n",
              "      <td>0000000000</td>\n",
              "      <td>4</td>\n",
              "      <td>3</td>\n",
              "      <td>2022-02-17</td>\n",
              "    </tr>\n",
              "    <tr>\n",
              "      <th>249</th>\n",
              "      <td>0000000000</td>\n",
              "      <td>4</td>\n",
              "      <td>6</td>\n",
              "      <td>2022-02-17</td>\n",
              "    </tr>\n",
              "    <tr>\n",
              "      <th>250</th>\n",
              "      <td>0000000000</td>\n",
              "      <td>4</td>\n",
              "      <td>15</td>\n",
              "      <td>2022-02-17</td>\n",
              "    </tr>\n",
              "    <tr>\n",
              "      <th>251</th>\n",
              "      <td>0000000000</td>\n",
              "      <td>5</td>\n",
              "      <td>6</td>\n",
              "      <td>2022-02-18</td>\n",
              "    </tr>\n",
              "    <tr>\n",
              "      <th>252</th>\n",
              "      <td>0000000000</td>\n",
              "      <td>5</td>\n",
              "      <td>8</td>\n",
              "      <td>2022-02-18</td>\n",
              "    </tr>\n",
              "  </tbody>\n",
              "</table>\n",
              "</div>"
            ],
            "text/plain": [
              "    TELEFONOORIGEN  DIADESEMANA  HORA       FECHA\n",
              "248     0000000000            4     3  2022-02-17\n",
              "249     0000000000            4     6  2022-02-17\n",
              "250     0000000000            4    15  2022-02-17\n",
              "251     0000000000            5     6  2022-02-18\n",
              "252     0000000000            5     8  2022-02-18"
            ]
          },
          "execution_count": 202,
          "metadata": {},
          "output_type": "execute_result"
        }
      ],
      "source": [
        "# convertimos a  onehot la comuna de origen\n",
        "#df = pd.get_dummies(df, columns=[\"ORIGEN\"])\n",
        "# convertimos a  onehot la comuna de estado\n",
        "#df = pd.get_dummies(df, columns=[\"ESTADO\"])\n",
        "\"\"\"new_df['ORIGEN'] = new_df['ORIGEN'].map( {\n",
        "        \"APP\":1,\n",
        "        \"CALLE\":2,\n",
        "        \"CHAT_BOT_659\":3,\n",
        "        \"CHAT_BOT_689\":4,\n",
        "        \"CHAT_BOT_729\":5,\n",
        "        \"CHAT_BOT_803\":6,\n",
        "        \"EXTERNO\":7,\n",
        "        \"IONTAXI\":8,\n",
        "        \"IVR\":9,\n",
        "        \"NUEVO\":10,\n",
        "        \"RECEPCION\":11,\n",
        "        \"RED AMARILLA\":12,\n",
        "        \"Reserva\":13,\n",
        "        \"TELEGRAMTD\":14,\n",
        "        \"WEB\":15\n",
        "    } )\n",
        "\n",
        "new_df['ESTADO'] = new_df['ESTADO'].map( {\n",
        "        \"ABANDONADO\":1,\n",
        "        \"ABORDOCONFIRMADO\":2,\n",
        "        \"ALFRENTE\":3,\n",
        "        \"ASIGNADO\": 4,\n",
        "        \"CANCELADO\":5,\n",
        "        \"CONFIRMADO\":6,\n",
        "        \"CUMPLIDO\":7,\n",
        "        \"FINALIZADO\": 8,\n",
        "        \"LOCUCION\":9,\n",
        "        \"NUEVO\":10,\n",
        "        \"RECHAZADO\":11\n",
        "    } )\"\"\"\n",
        "data.head(5)"
      ]
    },
    {
      "cell_type": "code",
      "execution_count": 203,
      "metadata": {},
      "outputs": [
        {
          "data": {
            "text/html": [
              "<div>\n",
              "<style scoped>\n",
              "    .dataframe tbody tr th:only-of-type {\n",
              "        vertical-align: middle;\n",
              "    }\n",
              "\n",
              "    .dataframe tbody tr th {\n",
              "        vertical-align: top;\n",
              "    }\n",
              "\n",
              "    .dataframe thead th {\n",
              "        text-align: right;\n",
              "    }\n",
              "</style>\n",
              "<table border=\"1\" class=\"dataframe\">\n",
              "  <thead>\n",
              "    <tr style=\"text-align: right;\">\n",
              "      <th></th>\n",
              "      <th>TELEFONOORIGEN</th>\n",
              "    </tr>\n",
              "  </thead>\n",
              "  <tbody>\n",
              "    <tr>\n",
              "      <th>0</th>\n",
              "      <td>0000000000</td>\n",
              "    </tr>\n",
              "    <tr>\n",
              "      <th>1</th>\n",
              "      <td>12001086</td>\n",
              "    </tr>\n",
              "    <tr>\n",
              "      <th>2</th>\n",
              "      <td>12003951</td>\n",
              "    </tr>\n",
              "    <tr>\n",
              "      <th>3</th>\n",
              "      <td>12009954</td>\n",
              "    </tr>\n",
              "    <tr>\n",
              "      <th>4</th>\n",
              "      <td>12011349</td>\n",
              "    </tr>\n",
              "  </tbody>\n",
              "</table>\n",
              "</div>"
            ],
            "text/plain": [
              "  TELEFONOORIGEN\n",
              "0     0000000000\n",
              "1       12001086\n",
              "2       12003951\n",
              "3       12009954\n",
              "4       12011349"
            ]
          },
          "execution_count": 203,
          "metadata": {},
          "output_type": "execute_result"
        }
      ],
      "source": [
        "#Se crea un nuevo dataframe con los teléfonos para entrenar cada usuario personalizado\n",
        "data_phone = data.loc[:,['TELEFONOORIGEN']].copy()\n",
        "data_phone = data_phone.drop_duplicates().sort_values(by=['TELEFONOORIGEN'])\n",
        "data_phone = data_phone.reset_index(drop=True)\n",
        "data_phone.head()"
      ]
    },
    {
      "cell_type": "code",
      "execution_count": 204,
      "metadata": {},
      "outputs": [],
      "source": [
        "def findRow(pdate, phour, data):\n",
        "  for row in data:\n",
        "    if( ( row[3] == pdate.strftime(FORMAT_DATE) ) & ( row[2] == phour ) ):\n",
        "      return row\n",
        "  return []\n"
      ]
    },
    {
      "cell_type": "code",
      "execution_count": 205,
      "metadata": {},
      "outputs": [],
      "source": [
        "#Funcion para llenar los servicios no tomados con 0\n",
        "def preparingDataService(data, from_date, to_date, phone):\n",
        "  #first = pd.to_datetime(data.tail(1).iloc[0,3], format=FORMAT_DATE)\n",
        "  #last = pd.to_datetime(data.head(1).iloc[0,3], format=FORMAT_DATE)\n",
        "  \n",
        "  first = to_date\n",
        "  last = from_date\n",
        "\n",
        "  remaining_days = first.date() - last.date()\n",
        "  data_array = data.to_numpy()\n",
        "  new_array = []\n",
        "  for i in range(remaining_days.days+1):\n",
        "    last_time = last + timedelta(days=i)\n",
        "    for day in range(HOURS_OF_DAY):\n",
        "      new_row = findRow(last_time.date(), day, data_array)\n",
        "      if len(new_row) > 0:\n",
        "        new_array.append(np.append(new_row, 1))\n",
        "      else:\n",
        "        new_array.append([phone, last_time.isoweekday(),day,last_time.date().strftime(FORMAT_DATE),0])\n",
        "  #col = data.columns\n",
        "  #print(type(col))\n",
        "  #for col in data.columns:\n",
        "  #  print(col)\n",
        "  return pd.DataFrame(new_array, \n",
        "             columns=['TELEFONOORIGEN', \n",
        "                      'DIADESEMANA', 'HORA','FECHA','SERVICIO'])"
      ]
    },
    {
      "cell_type": "code",
      "execution_count": 206,
      "metadata": {},
      "outputs": [],
      "source": [
        "def calculateProbability(hour, day, data):\n",
        "  data_array = data.to_numpy()\n",
        "\n",
        "  first = pd.to_datetime(data.tail(1).iloc[0,3], format=FORMAT_DATE)\n",
        "  last = pd.to_datetime(data.head(1).iloc[0,3], format=FORMAT_DATE)\n",
        "  remaining_days = first.date() - last.date()\n",
        "  #print(\"First:\",first,\", last:\",last,\", remaining:\",remaining_days)\n",
        "  total = 0 \n",
        "  for i in range(remaining_days.days):\n",
        "    last_time = last + timedelta(days=i)\n",
        "    if last_time.isoweekday() == day:\n",
        "      total += 1\n",
        "  \n",
        "  total_onset = 0\n",
        "  for row in data_array:\n",
        "    if( ( row[1] == day ) & ( row[2] == hour ) & ( row[4] == 1 ) ):\n",
        "      total_onset += 1\n",
        "  \n",
        "  #print(\"Total:\",total,\",Total onset:\",total_onset)\n",
        "  if total > 0:\n",
        "    return total_onset / total\n",
        "  else:\n",
        "    return 0"
      ]
    },
    {
      "cell_type": "code",
      "execution_count": 207,
      "metadata": {},
      "outputs": [
        {
          "data": {
            "text/plain": [
              "'def calculateProbabilisticModel(dataFrame):\\n  array_date_of_week = []\\n  for day in range(DAYS_OF_WEEK):\\n    array_hours = []\\n    for hour in range(HOURS_OF_DAY):\\n      array_hours.append( calculateProbability(hour, day+1, dataFrame))\\n    array_date_of_week.append(array_hours)\\n  return pd.DataFrame(np.array(array_date_of_week),\\n                    columns=[h for h in range(HOURS_OF_DAY)], index=[\"1-Monday\",\"2-Tuesday\",\"3-Wednesday\",\"4-Thursday\",\"5-Friday\",\"6-Saturday\",\"7-Sunday\"],).transpose()'"
            ]
          },
          "execution_count": 207,
          "metadata": {},
          "output_type": "execute_result"
        }
      ],
      "source": [
        "'''def calculateProbabilisticModel(dataFrame):\n",
        "  array_date_of_week = []\n",
        "  for day in range(DAYS_OF_WEEK):\n",
        "    array_hours = []\n",
        "    for hour in range(HOURS_OF_DAY):\n",
        "      array_hours.append( calculateProbability(hour, day+1, dataFrame))\n",
        "    array_date_of_week.append(array_hours)\n",
        "  return pd.DataFrame(np.array(array_date_of_week),\n",
        "                    columns=[h for h in range(HOURS_OF_DAY)], index=[\"1-Monday\",\"2-Tuesday\",\"3-Wednesday\",\"4-Thursday\",\"5-Friday\",\"6-Saturday\",\"7-Sunday\"],).transpose()'''"
      ]
    },
    {
      "cell_type": "code",
      "execution_count": 208,
      "metadata": {},
      "outputs": [],
      "source": [
        "#def evaluation( model, data_frame ):\n",
        "#Se filtran tomando solo las últimas x semanas\n",
        "\n",
        "    \n",
        "    #evaluation(data_row, \"PROBABILISTIC\", data, FROM_DATE_TEST, NUM_OF_WEEK)"
      ]
    },
    {
      "cell_type": "code",
      "execution_count": 209,
      "metadata": {},
      "outputs": [
        {
          "data": {
            "text/html": [
              "<div>\n",
              "<style scoped>\n",
              "    .dataframe tbody tr th:only-of-type {\n",
              "        vertical-align: middle;\n",
              "    }\n",
              "\n",
              "    .dataframe tbody tr th {\n",
              "        vertical-align: top;\n",
              "    }\n",
              "\n",
              "    .dataframe thead th {\n",
              "        text-align: right;\n",
              "    }\n",
              "</style>\n",
              "<table border=\"1\" class=\"dataframe\">\n",
              "  <thead>\n",
              "    <tr style=\"text-align: right;\">\n",
              "      <th></th>\n",
              "      <th>TELEFONOORIGEN</th>\n",
              "      <th>DIADESEMANA</th>\n",
              "      <th>HORA</th>\n",
              "      <th>FECHA</th>\n",
              "    </tr>\n",
              "  </thead>\n",
              "  <tbody>\n",
              "    <tr>\n",
              "      <th>1418432</th>\n",
              "      <td>3115590650</td>\n",
              "      <td>5</td>\n",
              "      <td>17</td>\n",
              "      <td>2022-04-29</td>\n",
              "    </tr>\n",
              "    <tr>\n",
              "      <th>1418433</th>\n",
              "      <td>3115590650</td>\n",
              "      <td>5</td>\n",
              "      <td>18</td>\n",
              "      <td>2022-04-29</td>\n",
              "    </tr>\n",
              "    <tr>\n",
              "      <th>1418434</th>\n",
              "      <td>3115590650</td>\n",
              "      <td>5</td>\n",
              "      <td>19</td>\n",
              "      <td>2022-04-29</td>\n",
              "    </tr>\n",
              "    <tr>\n",
              "      <th>1418435</th>\n",
              "      <td>3115590650</td>\n",
              "      <td>5</td>\n",
              "      <td>21</td>\n",
              "      <td>2022-04-29</td>\n",
              "    </tr>\n",
              "    <tr>\n",
              "      <th>1418436</th>\n",
              "      <td>3115590650</td>\n",
              "      <td>5</td>\n",
              "      <td>23</td>\n",
              "      <td>2022-04-29</td>\n",
              "    </tr>\n",
              "    <tr>\n",
              "      <th>...</th>\n",
              "      <td>...</td>\n",
              "      <td>...</td>\n",
              "      <td>...</td>\n",
              "      <td>...</td>\n",
              "    </tr>\n",
              "    <tr>\n",
              "      <th>1418527</th>\n",
              "      <td>3115590650</td>\n",
              "      <td>4</td>\n",
              "      <td>20</td>\n",
              "      <td>2022-05-26</td>\n",
              "    </tr>\n",
              "    <tr>\n",
              "      <th>1418528</th>\n",
              "      <td>3115590650</td>\n",
              "      <td>5</td>\n",
              "      <td>17</td>\n",
              "      <td>2022-05-27</td>\n",
              "    </tr>\n",
              "    <tr>\n",
              "      <th>1418529</th>\n",
              "      <td>3115590650</td>\n",
              "      <td>5</td>\n",
              "      <td>19</td>\n",
              "      <td>2022-05-27</td>\n",
              "    </tr>\n",
              "    <tr>\n",
              "      <th>1418530</th>\n",
              "      <td>3115590650</td>\n",
              "      <td>6</td>\n",
              "      <td>13</td>\n",
              "      <td>2022-05-28</td>\n",
              "    </tr>\n",
              "    <tr>\n",
              "      <th>1418531</th>\n",
              "      <td>3115590650</td>\n",
              "      <td>6</td>\n",
              "      <td>14</td>\n",
              "      <td>2022-05-28</td>\n",
              "    </tr>\n",
              "  </tbody>\n",
              "</table>\n",
              "<p>100 rows × 4 columns</p>\n",
              "</div>"
            ],
            "text/plain": [
              "        TELEFONOORIGEN  DIADESEMANA  HORA       FECHA\n",
              "1418432     3115590650            5    17  2022-04-29\n",
              "1418433     3115590650            5    18  2022-04-29\n",
              "1418434     3115590650            5    19  2022-04-29\n",
              "1418435     3115590650            5    21  2022-04-29\n",
              "1418436     3115590650            5    23  2022-04-29\n",
              "...                ...          ...   ...         ...\n",
              "1418527     3115590650            4    20  2022-05-26\n",
              "1418528     3115590650            5    17  2022-05-27\n",
              "1418529     3115590650            5    19  2022-05-27\n",
              "1418530     3115590650            6    13  2022-05-28\n",
              "1418531     3115590650            6    14  2022-05-28\n",
              "\n",
              "[100 rows x 4 columns]"
            ]
          },
          "execution_count": 209,
          "metadata": {},
          "output_type": "execute_result"
        }
      ],
      "source": [
        "data_us = data[data[\"TELEFONOORIGEN\"]==\"3115590650\"]\n",
        "data_us.tail(100)"
      ]
    },
    {
      "cell_type": "code",
      "execution_count": 282,
      "metadata": {},
      "outputs": [
        {
          "name": "stdout",
          "output_type": "stream",
          "text": [
            "Processing... 3115590650\n",
            "From:  2022-04-27 00:00:00 , To:  2022-04-28 00:00:00 , Remaning:  1 day, 0:00:00\n",
            "------------------------------------------\n",
            "Real using\n",
            "[['3115590650' 3 15 '2022-04-27']\n",
            " ['3115590650' 3 16 '2022-04-27']\n",
            " ['3115590650' 3 17 '2022-04-27']\n",
            " ['3115590650' 3 18 '2022-04-27']]\n",
            "Model prediction\n",
            "[ 3115590650 , 3 , 17 , 2022-04-27 00:00:00 , 0.75 ]\n"
          ]
        }
      ],
      "source": [
        "#Se recorre los teléfonos para entrenar el modelo a cada usuario\n",
        "phone_array = data_phone[data_phone[\"TELEFONOORIGEN\"]==\"3115590650\"].to_numpy()[:10]\n",
        "# \n",
        "\n",
        "DATE_START_TRAINIG = pd.to_datetime(\"2022-04-27\", format=FORMAT_DATE)\n",
        "for data_row in phone_array:\n",
        "    print(\"Processing...\",data_row[0])\n",
        "    \n",
        "    date_finish_test = DATE_START_TRAINIG + timedelta(days=1)\n",
        "    days_of_test = date_finish_test.date() - DATE_START_TRAINIG.date()\n",
        "    print(\"From: \",DATE_START_TRAINIG, \", To: \",date_finish_test, \", Remaning: \",days_of_test)\n",
        "    array_date_of_week = []\n",
        "    for i in range(days_of_test.days):\n",
        "        date_training = DATE_START_TRAINIG + timedelta(days=i)\n",
        "        date_last_training = date_training - timedelta(weeks=NUM_OF_WEEK)\n",
        "        print(\"------------------------------------------\")\n",
        "        #print(\"date trainig: \",date_training, \" - last trainig: \", date_last_training, \" remaninig:\", date_training.date() - date_last_training.date())\n",
        "\n",
        "        #Se filtran los datos para el número de teléfono\n",
        "        data_user = data[data[\"TELEFONOORIGEN\"]==data_row[0]].copy()\n",
        "        \n",
        "        df_train = data_user[ (pd.to_datetime(data_user['FECHA'], format=FORMAT_DATE) < date_training) & (pd.to_datetime(data_user['FECHA'], format=FORMAT_DATE) > date_last_training) ]\n",
        "        df_test = data_user[(pd.to_datetime(data_user['FECHA'], format=FORMAT_DATE) == date_training) & (data_user['DIADESEMANA'] == date_training.isoweekday()) ]\n",
        "        #df_train = data_user.groupby('TELEFONOORIGEN').filter(lambda x: x['TELEFONOORIGEN'].count() > 1)\n",
        "        \n",
        "        print(\"Real using\")\n",
        "        print( df_test.to_numpy() )\n",
        "        print(\"Model prediction\")\n",
        "        if len(df_train) > 0:\n",
        "            train = preparingDataService(df_train, date_last_training, date_training, data_row[0])\n",
        "            array_hours = []\n",
        "            for hour in range(HOURS_OF_DAY):\n",
        "                prob = calculateProbability(hour, date_training.isoweekday(), train)\n",
        "                if (prob >= 0.7):\n",
        "                    print(\"[\",data_row[0],\",\",date_training.isoweekday(),\",\",hour,\",\",date_training,\",\",prob,\"]\")\n",
        "                #array_hours.append( [date_predict.isoweekday(),hour,prob] )\n",
        "            #array_date_of_week.append(array_hours)\n",
        "        else:\n",
        "            print(\"User doesn't have information\")\n",
        "    #print(array_date_of_week)"
      ]
    },
    {
      "cell_type": "code",
      "execution_count": 289,
      "metadata": {},
      "outputs": [
        {
          "name": "stdout",
          "output_type": "stream",
          "text": [
            "Processing... 3115590650\n",
            "From:  2022-04-27 00:00:00 , To:  2022-04-28 00:00:00 , Remaning:  1 day, 0:00:00\n",
            "------------------------------------------\n",
            "Real using\n",
            "[['3115590650' 3 15 '2022-04-27']\n",
            " ['3115590650' 3 16 '2022-04-27']\n",
            " ['3115590650' 3 17 '2022-04-27']\n",
            " ['3115590650' 3 18 '2022-04-27']]\n",
            "Model prediction\n",
            "Predict: [0 0 0 0 0 0 0 0 0 0 0 0 0 0 0 0 0 0 0 0 0 0 0 0]\n",
            "Confusion Matrix: \n",
            " [[20  0]\n",
            " [ 4  0]]\n"
          ]
        },
        {
          "data": {
            "image/png": "[encoded data removed]",
            "text/plain": [
              "<Figure size 1512x432 with 3 Axes>"
            ]
          },
          "metadata": {
            "needs_background": "light"
          },
          "output_type": "display_data"
        },
        {
          "data": {
            "image/png": "[encoded data removed]",
            "text/plain": [
              "<Figure size 720x720 with 2 Axes>"
            ]
          },
          "metadata": {
            "needs_background": "light"
          },
          "output_type": "display_data"
        }
      ],
      "source": [
        "#Se recorre los teléfonos para entrenar el modelo a cada usuario\n",
        "phone_array = data_phone[data_phone[\"TELEFONOORIGEN\"]==\"3115590650\"].to_numpy()[:10]\n",
        "# \n",
        "\n",
        "DATE_START_TRAINIG = pd.to_datetime(\"2022-04-27\", format=FORMAT_DATE)\n",
        "for data_row in phone_array:\n",
        "    print(\"Processing...\",data_row[0])\n",
        "    \n",
        "    date_finish_test = DATE_START_TRAINIG + timedelta(days=1)\n",
        "    days_of_test = date_finish_test.date() - DATE_START_TRAINIG.date()\n",
        "    print(\"From: \",DATE_START_TRAINIG, \", To: \",date_finish_test, \", Remaning: \",days_of_test)\n",
        "    array_date_of_week = []\n",
        "    for i in range(days_of_test.days):\n",
        "        date_training = DATE_START_TRAINIG + timedelta(days=i)\n",
        "        date_last_training = date_training - timedelta(weeks=NUM_OF_WEEK)\n",
        "        print(\"------------------------------------------\")\n",
        "        #print(\"date trainig: \",date_training, \" - last trainig: \", date_last_training, \" remaninig:\", date_training.date() - date_last_training.date())\n",
        "\n",
        "        \n",
        "        #Se filtran los datos para el número de teléfono\n",
        "        data_user = data[data[\"TELEFONOORIGEN\"]==data_row[0]].copy()\n",
        "        \n",
        "        df_train = data_user[ (pd.to_datetime(data_user['FECHA'], format=FORMAT_DATE) < date_training) & (pd.to_datetime(data_user['FECHA'], format=FORMAT_DATE) > date_last_training) ]\n",
        "        df_test = data_user[(pd.to_datetime(data_user['FECHA'], format=FORMAT_DATE) == date_training) & (data_user['DIADESEMANA'] == date_training.isoweekday()) ]\n",
        "        \n",
        "        #df_train = data_user.groupby('TELEFONOORIGEN').filter(lambda x: x['TELEFONOORIGEN'].count() > 1)\n",
        "        \n",
        "        print(\"Real using\")\n",
        "        print( df_test.to_numpy() )\n",
        "        print(\"Model prediction\")\n",
        "        \n",
        "        if len(df_train) > 0:\n",
        "\n",
        "            train = preparingDataService(df_train, date_last_training, date_training, data_row[0])\n",
        "            test = preparingDataService(df_test, date_training, date_training, data_row[0])\n",
        "\n",
        "            #print(\"test head: \",test)\n",
        "            \n",
        "            '''\n",
        "            service = train[train.SERVICIO == 1]\n",
        "            not_service = train[train.SERVICIO == 0]\n",
        "\n",
        "            plot.figure(figsize=(14, 8))\n",
        "            plot.plot(service['DIADESEMANA'].values, service['HORA'].values, linestyle='', marker='o', color='royalblue', label='Service')\n",
        "            plot.plot(not_service['DIADESEMANA'].values, not_service['HORA'].values, linestyle='', marker='x', color='r', label='Not Service')\n",
        "            plot.title(\"Servicio results\")\n",
        "            plot.legend()\n",
        "            plot.grid()\n",
        "            plot.xlabel('Día de la semana')\n",
        "            plot.ylabel('Hora')\n",
        "            plot.show()\n",
        "            '''\n",
        "            train = train.loc[:,['DIADESEMANA','HORA','SERVICIO']]\n",
        "            test = test.loc[:,['DIADESEMANA','HORA','SERVICIO']]\n",
        "\n",
        "            \n",
        "            #Se visualiza los datos por columnas\n",
        "            import seaborn as sns\n",
        "            fig, axes = plot.subplots(1, 3)\n",
        "            fig.set_size_inches(21,6)\n",
        "            for i, column in enumerate(test.columns):\n",
        "                sns.histplot(test[column], kde=True, ax=axes[i])\n",
        "            \n",
        "            #print(\"train shape: \",train.shape)\n",
        "            \n",
        "            #std = StandardScaler()\n",
        "            #data_train = pd.DataFrame(std.fit_transform(train), columns=train.columns)\n",
        "            #print(\"train head: \",data_lineal.head())\n",
        "            \n",
        "            y_train = train.SERVICIO\n",
        "            X_train = train.drop(labels='SERVICIO', axis=1)\n",
        "\n",
        "            #std = StandardScaler()\n",
        "            #data_test = pd.DataFrame(std.fit_transform(test), columns=test.columns)\n",
        "            #print(\"test head: \",data_test.head())\n",
        "\n",
        "            y_test = test.SERVICIO\n",
        "            X_test = test.drop(labels='SERVICIO', axis=1)\n",
        "\n",
        "            \n",
        "            classifier = LogisticRegression(random_state = 0)\n",
        "            classifier.fit(X_train, y_train)\n",
        "\n",
        "            \n",
        "\n",
        "            ypred = classifier.predict(X_test)\n",
        "            conf_matrix = confusion_matrix(y_test, ypred)\n",
        "\n",
        "            print(\"Predict:\",ypred)\n",
        "            \n",
        "            print (\"Confusion Matrix: \\n\", conf_matrix)\n",
        "\n",
        "            \n",
        "            plot.rcParams.update({'font.size': 16})\n",
        "            fig, axes = plot.subplots(figsize=(10, 10))\n",
        "            disp = ConfusionMatrixDisplay.from_estimator(classifier,\n",
        "                                                        X_test,\n",
        "                                                        y_test,\n",
        "                                                        display_labels=classifier.classes_,\n",
        "                                                        cmap=plot.cm.Blues,\n",
        "                                                        ax=axes\n",
        "                                                        )\n",
        "            disp.ax_.set_title('Confusion Matrix - Logistic Regression')\n",
        "\n",
        "            '''\n",
        "            array_hours = []\n",
        "            for hour in range(HOURS_OF_DAY):\n",
        "                prob = calculateProbability(hour, date_training.isoweekday(), train)\n",
        "                if (prob >= 0.1):\n",
        "                    print(\"[\",data_row[0],\",\",date_training.isoweekday(),\",\",hour,\",\",date_training,\",\",prob,\"]\")\n",
        "                #array_hours.append( [date_predict.isoweekday(),hour,prob] )\n",
        "            #array_date_of_week.append(array_hours)\n",
        "            '''\n",
        "            \n",
        "        else:\n",
        "            print(\"User doesn't have information\")\n",
        "        \n",
        "    #print(array_date_of_week)"
      ]
    },
    {
      "cell_type": "code",
      "execution_count": 211,
      "metadata": {},
      "outputs": [
        {
          "data": {
            "text/plain": [
              "'data.hist(bins=30, figsize=(14, 8), color=\"blue\",alpha=0.5)\\nplot.show()'"
            ]
          },
          "execution_count": 211,
          "metadata": {},
          "output_type": "execute_result"
        }
      ],
      "source": [
        "'''data.hist(bins=30, figsize=(14, 8), color=\"blue\",alpha=0.5)\n",
        "plot.show()'''"
      ]
    },
    {
      "cell_type": "markdown",
      "metadata": {
        "id": "OMq4HKD2QU2i"
      },
      "source": [
        "# Probando con función probabilistica"
      ]
    },
    {
      "cell_type": "code",
      "execution_count": 212,
      "metadata": {
        "id": "nBd5TtZ5QcjU"
      },
      "outputs": [
        {
          "data": {
            "text/plain": [
              "'df_mp = df.copy()\\ndf_mp = df_mp[df_mp[\"TELEFONOORIGEN\"]==\"3115590650\"]\\n\\n\\n#Se llenan los datos faltantes\\ndf_mp = completeServices(df_mp)'"
            ]
          },
          "execution_count": 212,
          "metadata": {},
          "output_type": "execute_result"
        }
      ],
      "source": [
        "'''df_mp = df.copy()\n",
        "df_mp = df_mp[df_mp[\"TELEFONOORIGEN\"]==\"3115590650\"]\n",
        "\n",
        "\n",
        "#Se llenan los datos faltantes\n",
        "df_mp = completeServices(df_mp)'''"
      ]
    },
    {
      "cell_type": "code",
      "execution_count": 213,
      "metadata": {
        "colab": {
          "base_uri": "https://localhost:8080/",
          "height": 206
        },
        "id": "uksDLMnPjOR7",
        "outputId": "8804e3ef-99e3-4ffc-eb36-483f9cd1e491"
      },
      "outputs": [],
      "source": [
        "#df_mp.head(5)"
      ]
    },
    {
      "cell_type": "code",
      "execution_count": 214,
      "metadata": {
        "colab": {
          "base_uri": "https://localhost:8080/"
        },
        "id": "eKI1W_DOiVwl",
        "outputId": "c22a62ad-46af-47e4-a808-fb8b37312353"
      },
      "outputs": [],
      "source": [
        "#df_mp.loc[:,['TELEFONOORIGEN']].value_counts()"
      ]
    },
    {
      "cell_type": "markdown",
      "metadata": {
        "id": "B-u8-4R2gG3c"
      },
      "source": [
        "Se muestra la probabilidad de un usuario con los datos de entrenamiento"
      ]
    },
    {
      "cell_type": "code",
      "execution_count": 215,
      "metadata": {
        "id": "00dCAufigFiC"
      },
      "outputs": [
        {
          "data": {
            "text/plain": [
              "'def calculateProbabilisticModel(dataFrame):\\n  array_date_of_week = []\\n  for day in range(DAYS_OF_WEEK):\\n    array_hours = []\\n    for hour in range(HOURS_OF_DAY):\\n      array_hours.append( calculateProbability(hour, day+1, dataFrame))\\n    array_date_of_week.append(array_hours)\\n  return pd.DataFrame(np.array(array_date_of_week),\\n                    columns=[h for h in range(HOURS_OF_DAY)], index=[\"1-Monday\",\"2-Tuesday\",\"3-Wednesday\",\"4-Thursday\",\"5-Friday\",\"6-Saturday\",\"7-Sunday\"],).transpose()'"
            ]
          },
          "execution_count": 215,
          "metadata": {},
          "output_type": "execute_result"
        }
      ],
      "source": [
        "'''def calculateProbabilisticModel(dataFrame):\n",
        "  array_date_of_week = []\n",
        "  for day in range(DAYS_OF_WEEK):\n",
        "    array_hours = []\n",
        "    for hour in range(HOURS_OF_DAY):\n",
        "      array_hours.append( calculateProbability(hour, day+1, dataFrame))\n",
        "    array_date_of_week.append(array_hours)\n",
        "  return pd.DataFrame(np.array(array_date_of_week),\n",
        "                    columns=[h for h in range(HOURS_OF_DAY)], index=[\"1-Monday\",\"2-Tuesday\",\"3-Wednesday\",\"4-Thursday\",\"5-Friday\",\"6-Saturday\",\"7-Sunday\"],).transpose()'''"
      ]
    },
    {
      "cell_type": "markdown",
      "metadata": {
        "id": "OWd9QEWt475i"
      },
      "source": [
        "Se prueba con los datos de entrenamiento"
      ]
    },
    {
      "cell_type": "code",
      "execution_count": 216,
      "metadata": {
        "colab": {
          "base_uri": "https://localhost:8080/",
          "height": 802
        },
        "id": "eE24yZcF47TR",
        "outputId": "22f4c364-f306-48c4-cbbc-39a047044881"
      },
      "outputs": [],
      "source": [
        "#calculateProbabilisticModel(train)"
      ]
    },
    {
      "cell_type": "markdown",
      "metadata": {
        "id": "N207D7qp5DPI"
      },
      "source": [
        "Se valida con los datos de pruebas"
      ]
    },
    {
      "cell_type": "code",
      "execution_count": 217,
      "metadata": {
        "colab": {
          "base_uri": "https://localhost:8080/",
          "height": 802
        },
        "id": "K9MwdVO75B9h",
        "outputId": "751fe65b-94ab-49a5-ede8-491bae9ffd90"
      },
      "outputs": [],
      "source": [
        "#calculateProbabilisticModel(test)"
      ]
    },
    {
      "cell_type": "markdown",
      "metadata": {
        "id": "2UKdI6FdI9YF"
      },
      "source": [
        "# Exploración inicial"
      ]
    },
    {
      "cell_type": "code",
      "execution_count": 218,
      "metadata": {
        "colab": {
          "base_uri": "https://localhost:8080/",
          "height": 388
        },
        "id": "T7WrOmEJ0e1z",
        "outputId": "e8940f5e-a0b9-43b9-c8e7-efb85e839775"
      },
      "outputs": [
        {
          "data": {
            "text/plain": [
              "\"df_reg = df_mp.copy()\\ndf_reg = df_reg.drop(columns=['TELEFONOORIGEN','FECHA'])\\nfig, axes = plot.subplots(1, 3)\\nfig.set_size_inches(21,6)\\nfor i, column in enumerate(df_reg.columns):\\n  sns.histplot(df_reg[column], kde=True, ax=axes[i])\""
            ]
          },
          "execution_count": 218,
          "metadata": {},
          "output_type": "execute_result"
        }
      ],
      "source": [
        "'''df_reg = df_mp.copy()\n",
        "df_reg = df_reg.drop(columns=['TELEFONOORIGEN','FECHA'])\n",
        "fig, axes = plot.subplots(1, 3)\n",
        "fig.set_size_inches(21,6)\n",
        "for i, column in enumerate(df_reg.columns):\n",
        "  sns.histplot(df_reg[column], kde=True, ax=axes[i])'''"
      ]
    },
    {
      "cell_type": "markdown",
      "metadata": {
        "id": "CyIrEVUc4TUm"
      },
      "source": [
        "Se genera un diagrama de dispersión"
      ]
    },
    {
      "cell_type": "code",
      "execution_count": 219,
      "metadata": {
        "colab": {
          "base_uri": "https://localhost:8080/",
          "height": 513
        },
        "id": "ZSTp8gmv4RHM",
        "outputId": "ee366c96-6bde-4314-8040-6953a075b962"
      },
      "outputs": [
        {
          "data": {
            "text/plain": [
              "'served = df_reg[df_reg.SERVICIO == 1]\\nnot_served = df_reg[df_reg.SERVICIO == 0]\\n\\nplot.figure(figsize=(14, 8))\\nplot.plot(served[\\'DIADESEMANA\\'].values, served[\\'HORA\\'].values, linestyle=\\'\\', marker=\\'o\\', color=\\'royalblue\\', label=\\'Served\\')\\nplot.plot(not_served[\\'DIADESEMANA\\'].values, not_served[\\'HORA\\'].values, linestyle=\\'\\', marker=\\'x\\', color=\\'r\\', label=\\'Not Served\\')\\nplot.title(\"Services results\")\\nplot.legend()\\nplot.grid()\\nplot.xlabel(\\'Dia de la semana\\')\\nplot.ylabel(\\'Hora\\')\\nplot.show()'"
            ]
          },
          "execution_count": 219,
          "metadata": {},
          "output_type": "execute_result"
        }
      ],
      "source": [
        "'''served = df_reg[df_reg.SERVICIO == 1]\n",
        "not_served = df_reg[df_reg.SERVICIO == 0]\n",
        "\n",
        "plot.figure(figsize=(14, 8))\n",
        "plot.plot(served['DIADESEMANA'].values, served['HORA'].values, linestyle='', marker='o', color='royalblue', label='Served')\n",
        "plot.plot(not_served['DIADESEMANA'].values, not_served['HORA'].values, linestyle='', marker='x', color='r', label='Not Served')\n",
        "plot.title(\"Services results\")\n",
        "plot.legend()\n",
        "plot.grid()\n",
        "plot.xlabel('Dia de la semana')\n",
        "plot.ylabel('Hora')\n",
        "plot.show()'''"
      ]
    },
    {
      "cell_type": "code",
      "execution_count": 220,
      "metadata": {
        "colab": {
          "base_uri": "https://localhost:8080/",
          "height": 554
        },
        "id": "Ee-aLiJ46kBn",
        "outputId": "5fea25b9-4e2b-4013-a915-61216044f0bc"
      },
      "outputs": [],
      "source": [
        "#df_reg[['DIADESEMANA','HORA']].boxplot(figsize=(14,9))"
      ]
    },
    {
      "cell_type": "markdown",
      "metadata": {
        "id": "PeMgdkct7Ak6"
      },
      "source": [
        "Generando datos de prueba y entrenamiento"
      ]
    },
    {
      "cell_type": "code",
      "execution_count": 221,
      "metadata": {
        "colab": {
          "base_uri": "https://localhost:8080/"
        },
        "id": "dEmIPsDe6xtx",
        "outputId": "3eaaaac8-8eff-4c7d-c595-932d09b40eac"
      },
      "outputs": [
        {
          "data": {
            "text/plain": [
              "'\\nfrom sklearn.model_selection import train_test_split\\ntrain, test = train_test_split(df_reg, test_size=0.2, random_state=3, shuffle=True)\\nprint(train)'"
            ]
          },
          "execution_count": 221,
          "metadata": {},
          "output_type": "execute_result"
        }
      ],
      "source": [
        "#CONJUNTO DE DATOS DE PRUEBA (20%)\n",
        "'''\n",
        "from sklearn.model_selection import train_test_split\n",
        "train, test = train_test_split(df_reg, test_size=0.2, random_state=3, shuffle=True)\n",
        "print(train)'''"
      ]
    },
    {
      "cell_type": "code",
      "execution_count": 222,
      "metadata": {
        "colab": {
          "base_uri": "https://localhost:8080/"
        },
        "id": "R0SPrxfIFmYP",
        "outputId": "f625b3d9-3e8e-4f47-f220-5cf9310b9ef9"
      },
      "outputs": [],
      "source": [
        "#datos de entrenamiento\n",
        "#train.shape"
      ]
    },
    {
      "cell_type": "code",
      "execution_count": 223,
      "metadata": {
        "colab": {
          "base_uri": "https://localhost:8080/",
          "height": 608
        },
        "id": "1Lt83M0wGCiY",
        "outputId": "2156bfba-43d2-42cd-96c6-bb44df6fbd0b"
      },
      "outputs": [],
      "source": [
        "#Matriz de Dispersion con MatPlotLib\n",
        "#pd.plotting.scatter_matrix(train.loc[:,['DIADESEMANA','HORA','SERVICIO']], figsize=(14,10), alpha=0.8)\n",
        "#plot.show()"
      ]
    },
    {
      "cell_type": "code",
      "execution_count": 224,
      "metadata": {
        "colab": {
          "base_uri": "https://localhost:8080/",
          "height": 596
        },
        "id": "c-x5S_dfGy0b",
        "outputId": "175295b3-5e70-4da5-cc7c-4565764c2eee"
      },
      "outputs": [
        {
          "data": {
            "image/png": "[encoded data removed]",
            "text/plain": [
              "<Figure size 1008x720 with 2 Axes>"
            ]
          },
          "metadata": {
            "needs_background": "light"
          },
          "output_type": "display_data"
        }
      ],
      "source": [
        "correlation_matrix = train.corr().round(2) \n",
        "fig, heat = plot.subplots(figsize = (14,10))\n",
        "heat = sns.heatmap(data=correlation_matrix, annot=True, cmap=\"YlGnBu\")\n",
        "plot.show()"
      ]
    },
    {
      "cell_type": "code",
      "execution_count": 225,
      "metadata": {
        "colab": {
          "base_uri": "https://localhost:8080/",
          "height": 143
        },
        "id": "djM7T_WtHRNY",
        "outputId": "023a81e2-b443-4cd8-a36d-fd5a40bf5705"
      },
      "outputs": [],
      "source": [
        "#train.corr().SERVICIO.to_frame()"
      ]
    },
    {
      "cell_type": "markdown",
      "metadata": {
        "id": "UTvSWpQ6IOOt"
      },
      "source": [
        "# Generación del modelo"
      ]
    },
    {
      "cell_type": "code",
      "execution_count": 226,
      "metadata": {
        "colab": {
          "base_uri": "https://localhost:8080/",
          "height": 206
        },
        "id": "LhhMta5vIScw",
        "outputId": "03eb8020-6e1b-4a9d-f953-8a3e0857c743"
      },
      "outputs": [
        {
          "data": {
            "text/plain": [
              "'from sklearn.preprocessing import StandardScaler\\nstd = StandardScaler()\\ndata = pd.DataFrame(std.fit_transform(train), columns=train.columns)\\ndata.head()'"
            ]
          },
          "execution_count": 226,
          "metadata": {},
          "output_type": "execute_result"
        }
      ],
      "source": [
        "'''from sklearn.preprocessing import StandardScaler\n",
        "std = StandardScaler()\n",
        "data = pd.DataFrame(std.fit_transform(train), columns=train.columns)\n",
        "data.head()'''"
      ]
    },
    {
      "cell_type": "code",
      "execution_count": 227,
      "metadata": {
        "id": "Su-Y2_r4ImFC"
      },
      "outputs": [
        {
          "data": {
            "text/plain": [
              "\"yrl = data.SERVICIO\\nfeatures = ['HORA',\\t'DIADESEMANA']\\nXrl = data[features]\""
            ]
          },
          "execution_count": 227,
          "metadata": {},
          "output_type": "execute_result"
        }
      ],
      "source": [
        "'''yrl = data.SERVICIO\n",
        "features = ['HORA',\t'DIADESEMANA']\n",
        "Xrl = data[features]'''"
      ]
    },
    {
      "cell_type": "markdown",
      "metadata": {
        "id": "9G0mtzatt__U"
      },
      "source": []
    },
    {
      "cell_type": "markdown",
      "metadata": {
        "id": "aSkTexouI08q"
      },
      "source": [
        "##Evaluación de modelos##"
      ]
    },
    {
      "cell_type": "markdown",
      "metadata": {
        "id": "5i6hQrRTt-43"
      },
      "source": [
        "ALGORITMO DE LOS KNN"
      ]
    }
  ],
  "metadata": {
    "colab": {
      "collapsed_sections": [],
      "name": "Proyecto predicción servicio taxi.ipynb",
      "provenance": []
    },
    "kernelspec": {
      "display_name": "Python 3.10.2 64-bit",
      "language": "python",
      "name": "python3"
    },
    "language_info": {
      "codemirror_mode": {
        "name": "ipython",
        "version": 3
      },
      "file_extension": ".py",
      "mimetype": "text/x-python",
      "name": "python",
      "nbconvert_exporter": "python",
      "pygments_lexer": "ipython3",
      "version": "3.10.2"
    },
    "vscode": {
      "interpreter": {
        "hash": "6c66cf74b0d2a9f1f4e9764d44e7ed6418e0349c942d329ab910649654051b15"
      }
    }
  },
  "nbformat": 4,
  "nbformat_minor": 0
}
