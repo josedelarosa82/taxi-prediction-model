{
  "nbformat": 4,
  "nbformat_minor": 0,
  "metadata": {
    "colab": {
      "name": "Proyecto predicción servicio taxi.ipynb",
      "provenance": [],
      "collapsed_sections": []
    },
    "kernelspec": {
      "name": "python3",
      "display_name": "Python 3"
    },
    "language_info": {
      "name": "python"
    }
  },
  "cells": [
    {
      "cell_type": "markdown",
      "source": [
        "### ANALISIS EXPLORATORIO\n",
        "\n"
      ],
      "metadata": {
        "id": "Zm7tiHiJk80E"
      }
    },
    {
      "cell_type": "code",
      "source": [
        "from google.colab import drive\n",
        "drive.mount('/content/drive')"
      ],
      "metadata": {
        "id": "jbQIiJjPgCYj",
        "colab": {
          "base_uri": "https://localhost:8080/"
        },
        "outputId": "c8d87048-b445-45ec-8e27-4e604af3a8b7"
      },
      "execution_count": null,
      "outputs": [
        {
          "output_type": "stream",
          "name": "stdout",
          "text": [
            "Mounted at /content/drive\n"
          ]
        }
      ]
    },
    {
      "cell_type": "code",
      "source": [
        "#librerias\n",
        "import pandas as pd\n",
        "import matplotlib.pyplot as plot\n",
        "import seaborn as sns\n",
        "from sklearn.model_selection import train_test_split\n",
        "from sklearn.preprocessing import StandardScaler\n",
        "from mpl_toolkits.mplot3d import Axes3D\n",
        "from sklearn.linear_model import LinearRegression\n",
        "from sklearn.metrics import mean_absolute_error\n",
        "from sklearn.metrics import mean_squared_error\n",
        "import numpy as np\n",
        "from datetime import date, datetime, timedelta\n",
        "from os import name"
      ],
      "metadata": {
        "id": "9YlqkYPGeDuz"
      },
      "execution_count": null,
      "outputs": []
    },
    {
      "cell_type": "markdown",
      "source": [
        "Definición de parámetros iniciales"
      ],
      "metadata": {
        "id": "yj6GLCBW1jan"
      }
    },
    {
      "cell_type": "code",
      "source": [
        "NUM_OF_WEEK = 8.0\n",
        "HOURS_OF_DAY = 24\n",
        "DAYS_OF_WEEK = 7\n",
        "FORMAT_DATE = '%Y-%m-%d'\n",
        "\n",
        "TRAINIG_DAY = pd.to_datetime(\"2022-04-01\", format=FORMAT_DATE)\n",
        "LAST_TRAINIG_DATE = TRAINIG_DAY - timedelta(weeks=NUM_OF_WEEK)"
      ],
      "metadata": {
        "id": "GLoQZVku1iMb"
      },
      "execution_count": null,
      "outputs": []
    },
    {
      "cell_type": "code",
      "source": [
        "#Nombre de ficheros\n",
        "fichero_parquet = '/content/drive/MyDrive/Proyectos/Taxis libres/IA/Datos/SERVICIO_UNIFICADO_2022.parquet.gzip'\n",
        "\n",
        "#Se lee el archivo de un parquet a un dataframe\n",
        "df = pd.read_parquet(fichero_parquet) \n",
        "\n",
        "print(\"Dataset cargado con éxito\")"
      ],
      "metadata": {
        "id": "JnMbR7vKA1KO",
        "colab": {
          "base_uri": "https://localhost:8080/"
        },
        "outputId": "d19dfb19-63d8-4113-dd65-f304764645d8"
      },
      "execution_count": null,
      "outputs": [
        {
          "output_type": "stream",
          "name": "stdout",
          "text": [
            "Dataset cargado con éxito\n"
          ]
        }
      ]
    },
    {
      "cell_type": "markdown",
      "source": [
        "Validamos cuantos valores nulos tenemos en el dataset"
      ],
      "metadata": {
        "id": "65CC2tpPmJk5"
      }
    },
    {
      "cell_type": "code",
      "source": [
        "#Contar cuantos datos se encuentran nulos\n",
        "df.isnull().sum()"
      ],
      "metadata": {
        "colab": {
          "base_uri": "https://localhost:8080/"
        },
        "id": "TWgKyA9DmHPO",
        "outputId": "be8d5d42-49c6-4b53-8807-6aea60c62573"
      },
      "execution_count": null,
      "outputs": [
        {
          "output_type": "execute_result",
          "data": {
            "text/plain": [
              "ID                       0\n",
              "IDCIUDAD                 0\n",
              "USUARIO               1707\n",
              "TELEFONOORIGEN       69322\n",
              "LATITUD                  0\n",
              "LATITUDDESTINO     1932690\n",
              "LONGITUD                 0\n",
              "LONGITUDDESTINO    1932690\n",
              "ESTADO                   0\n",
              "ORIGEN                   0\n",
              "FECHACOMPLETA            0\n",
              "DIADESEMANA              0\n",
              "HORA                     0\n",
              "dtype: int64"
            ]
          },
          "metadata": {},
          "execution_count": 5
        }
      ]
    },
    {
      "cell_type": "markdown",
      "source": [
        "Se limpian los datos donde el teléfono del usuario es nulo\n",
        " para tener usuarios validos y limitamos los datos de bogotá"
      ],
      "metadata": {
        "id": "QGkxeameln6J"
      }
    },
    {
      "cell_type": "code",
      "source": [
        "df.head(5)"
      ],
      "metadata": {
        "colab": {
          "base_uri": "https://localhost:8080/",
          "height": 206
        },
        "id": "GZNxk52pYbgy",
        "outputId": "b11d7eb7-8175-4047-ae37-ece241b971f6"
      },
      "execution_count": null,
      "outputs": [
        {
          "output_type": "execute_result",
          "data": {
            "text/plain": [
              "         ID  IDCIUDAD    USUARIO TELEFONOORIGEN   LATITUD  LATITUDDESTINO  \\\n",
              "0  70152580     11001  8946882.0     3186429637  4.642036        4.630580   \n",
              "1  70152581     11001  9665930.0     3209171095  4.594340        4.604060   \n",
              "2  70152582     76001  9243481.0     3147558713  3.367783             NaN   \n",
              "3  70152583     11001   841805.0     3125733084  4.630927             NaN   \n",
              "4  70152584     11001  9330612.0     3043963812  4.548637        4.622711   \n",
              "\n",
              "    LONGITUD  LONGITUDDESTINO      ESTADO        ORIGEN        FECHACOMPLETA  \\\n",
              "0 -74.187636       -74.189880   CANCELADO           APP  2022-04-30 19:00:00   \n",
              "1 -74.138168       -74.141610  ABANDONADO           APP  2022-04-30 19:00:00   \n",
              "2 -76.531083              NaN  ABANDONADO           APP  2022-04-30 19:00:01   \n",
              "3 -74.092728              NaN  ABANDONADO  CHAT_BOT_659  2022-04-30 19:00:01   \n",
              "4 -74.096414       -74.147018  ABANDONADO           APP  2022-04-30 19:00:01   \n",
              "\n",
              "   DIADESEMANA  HORA  \n",
              "0            7    19  \n",
              "1            7    19  \n",
              "2            7    19  \n",
              "3            7    19  \n",
              "4            7    19  "
            ],
            "text/html": [
              "\n",
              "  <div id=\"df-3217e227-389b-478a-bca5-8fb85e63458f\">\n",
              "    <div class=\"colab-df-container\">\n",
              "      <div>\n",
              "<style scoped>\n",
              "    .dataframe tbody tr th:only-of-type {\n",
              "        vertical-align: middle;\n",
              "    }\n",
              "\n",
              "    .dataframe tbody tr th {\n",
              "        vertical-align: top;\n",
              "    }\n",
              "\n",
              "    .dataframe thead th {\n",
              "        text-align: right;\n",
              "    }\n",
              "</style>\n",
              "<table border=\"1\" class=\"dataframe\">\n",
              "  <thead>\n",
              "    <tr style=\"text-align: right;\">\n",
              "      <th></th>\n",
              "      <th>ID</th>\n",
              "      <th>IDCIUDAD</th>\n",
              "      <th>USUARIO</th>\n",
              "      <th>TELEFONOORIGEN</th>\n",
              "      <th>LATITUD</th>\n",
              "      <th>LATITUDDESTINO</th>\n",
              "      <th>LONGITUD</th>\n",
              "      <th>LONGITUDDESTINO</th>\n",
              "      <th>ESTADO</th>\n",
              "      <th>ORIGEN</th>\n",
              "      <th>FECHACOMPLETA</th>\n",
              "      <th>DIADESEMANA</th>\n",
              "      <th>HORA</th>\n",
              "    </tr>\n",
              "  </thead>\n",
              "  <tbody>\n",
              "    <tr>\n",
              "      <th>0</th>\n",
              "      <td>70152580</td>\n",
              "      <td>11001</td>\n",
              "      <td>8946882.0</td>\n",
              "      <td>3186429637</td>\n",
              "      <td>4.642036</td>\n",
              "      <td>4.630580</td>\n",
              "      <td>-74.187636</td>\n",
              "      <td>-74.189880</td>\n",
              "      <td>CANCELADO</td>\n",
              "      <td>APP</td>\n",
              "      <td>2022-04-30 19:00:00</td>\n",
              "      <td>7</td>\n",
              "      <td>19</td>\n",
              "    </tr>\n",
              "    <tr>\n",
              "      <th>1</th>\n",
              "      <td>70152581</td>\n",
              "      <td>11001</td>\n",
              "      <td>9665930.0</td>\n",
              "      <td>3209171095</td>\n",
              "      <td>4.594340</td>\n",
              "      <td>4.604060</td>\n",
              "      <td>-74.138168</td>\n",
              "      <td>-74.141610</td>\n",
              "      <td>ABANDONADO</td>\n",
              "      <td>APP</td>\n",
              "      <td>2022-04-30 19:00:00</td>\n",
              "      <td>7</td>\n",
              "      <td>19</td>\n",
              "    </tr>\n",
              "    <tr>\n",
              "      <th>2</th>\n",
              "      <td>70152582</td>\n",
              "      <td>76001</td>\n",
              "      <td>9243481.0</td>\n",
              "      <td>3147558713</td>\n",
              "      <td>3.367783</td>\n",
              "      <td>NaN</td>\n",
              "      <td>-76.531083</td>\n",
              "      <td>NaN</td>\n",
              "      <td>ABANDONADO</td>\n",
              "      <td>APP</td>\n",
              "      <td>2022-04-30 19:00:01</td>\n",
              "      <td>7</td>\n",
              "      <td>19</td>\n",
              "    </tr>\n",
              "    <tr>\n",
              "      <th>3</th>\n",
              "      <td>70152583</td>\n",
              "      <td>11001</td>\n",
              "      <td>841805.0</td>\n",
              "      <td>3125733084</td>\n",
              "      <td>4.630927</td>\n",
              "      <td>NaN</td>\n",
              "      <td>-74.092728</td>\n",
              "      <td>NaN</td>\n",
              "      <td>ABANDONADO</td>\n",
              "      <td>CHAT_BOT_659</td>\n",
              "      <td>2022-04-30 19:00:01</td>\n",
              "      <td>7</td>\n",
              "      <td>19</td>\n",
              "    </tr>\n",
              "    <tr>\n",
              "      <th>4</th>\n",
              "      <td>70152584</td>\n",
              "      <td>11001</td>\n",
              "      <td>9330612.0</td>\n",
              "      <td>3043963812</td>\n",
              "      <td>4.548637</td>\n",
              "      <td>4.622711</td>\n",
              "      <td>-74.096414</td>\n",
              "      <td>-74.147018</td>\n",
              "      <td>ABANDONADO</td>\n",
              "      <td>APP</td>\n",
              "      <td>2022-04-30 19:00:01</td>\n",
              "      <td>7</td>\n",
              "      <td>19</td>\n",
              "    </tr>\n",
              "  </tbody>\n",
              "</table>\n",
              "</div>\n",
              "      <button class=\"colab-df-convert\" onclick=\"convertToInteractive('df-3217e227-389b-478a-bca5-8fb85e63458f')\"\n",
              "              title=\"Convert this dataframe to an interactive table.\"\n",
              "              style=\"display:none;\">\n",
              "        \n",
              "  <svg xmlns=\"http://www.w3.org/2000/svg\" height=\"24px\"viewBox=\"0 0 24 24\"\n",
              "       width=\"24px\">\n",
              "    <path d=\"M0 0h24v24H0V0z\" fill=\"none\"/>\n",
              "    <path d=\"M18.56 5.44l.94 2.06.94-2.06 2.06-.94-2.06-.94-.94-2.06-.94 2.06-2.06.94zm-11 1L8.5 8.5l.94-2.06 2.06-.94-2.06-.94L8.5 2.5l-.94 2.06-2.06.94zm10 10l.94 2.06.94-2.06 2.06-.94-2.06-.94-.94-2.06-.94 2.06-2.06.94z\"/><path d=\"M17.41 7.96l-1.37-1.37c-.4-.4-.92-.59-1.43-.59-.52 0-1.04.2-1.43.59L10.3 9.45l-7.72 7.72c-.78.78-.78 2.05 0 2.83L4 21.41c.39.39.9.59 1.41.59.51 0 1.02-.2 1.41-.59l7.78-7.78 2.81-2.81c.8-.78.8-2.07 0-2.86zM5.41 20L4 18.59l7.72-7.72 1.47 1.35L5.41 20z\"/>\n",
              "  </svg>\n",
              "      </button>\n",
              "      \n",
              "  <style>\n",
              "    .colab-df-container {\n",
              "      display:flex;\n",
              "      flex-wrap:wrap;\n",
              "      gap: 12px;\n",
              "    }\n",
              "\n",
              "    .colab-df-convert {\n",
              "      background-color: #E8F0FE;\n",
              "      border: none;\n",
              "      border-radius: 50%;\n",
              "      cursor: pointer;\n",
              "      display: none;\n",
              "      fill: #1967D2;\n",
              "      height: 32px;\n",
              "      padding: 0 0 0 0;\n",
              "      width: 32px;\n",
              "    }\n",
              "\n",
              "    .colab-df-convert:hover {\n",
              "      background-color: #E2EBFA;\n",
              "      box-shadow: 0px 1px 2px rgba(60, 64, 67, 0.3), 0px 1px 3px 1px rgba(60, 64, 67, 0.15);\n",
              "      fill: #174EA6;\n",
              "    }\n",
              "\n",
              "    [theme=dark] .colab-df-convert {\n",
              "      background-color: #3B4455;\n",
              "      fill: #D2E3FC;\n",
              "    }\n",
              "\n",
              "    [theme=dark] .colab-df-convert:hover {\n",
              "      background-color: #434B5C;\n",
              "      box-shadow: 0px 1px 3px 1px rgba(0, 0, 0, 0.15);\n",
              "      filter: drop-shadow(0px 1px 2px rgba(0, 0, 0, 0.3));\n",
              "      fill: #FFFFFF;\n",
              "    }\n",
              "  </style>\n",
              "\n",
              "      <script>\n",
              "        const buttonEl =\n",
              "          document.querySelector('#df-3217e227-389b-478a-bca5-8fb85e63458f button.colab-df-convert');\n",
              "        buttonEl.style.display =\n",
              "          google.colab.kernel.accessAllowed ? 'block' : 'none';\n",
              "\n",
              "        async function convertToInteractive(key) {\n",
              "          const element = document.querySelector('#df-3217e227-389b-478a-bca5-8fb85e63458f');\n",
              "          const dataTable =\n",
              "            await google.colab.kernel.invokeFunction('convertToInteractive',\n",
              "                                                     [key], {});\n",
              "          if (!dataTable) return;\n",
              "\n",
              "          const docLinkHtml = 'Like what you see? Visit the ' +\n",
              "            '<a target=\"_blank\" href=https://colab.research.google.com/notebooks/data_table.ipynb>data table notebook</a>'\n",
              "            + ' to learn more about interactive tables.';\n",
              "          element.innerHTML = '';\n",
              "          dataTable['output_type'] = 'display_data';\n",
              "          await google.colab.output.renderOutput(dataTable, element);\n",
              "          const docLink = document.createElement('div');\n",
              "          docLink.innerHTML = docLinkHtml;\n",
              "          element.appendChild(docLink);\n",
              "        }\n",
              "      </script>\n",
              "    </div>\n",
              "  </div>\n",
              "  "
            ]
          },
          "metadata": {},
          "execution_count": 6
        }
      ]
    },
    {
      "cell_type": "code",
      "source": [
        "#Eliminamos los registros nulos del telefono de origen\n",
        "df = df[~df['TELEFONOORIGEN'].isnull()]\n",
        "#Filtramos por ciudad de bogotá\n",
        "df = df[df[\"IDCIUDAD\"]==11001]\n",
        "#Se agrupan por teléfono para validar para identificar la cantidad de servicios tomados\n",
        "df.loc[:,['TELEFONOORIGEN']].value_counts()"
      ],
      "metadata": {
        "colab": {
          "base_uri": "https://localhost:8080/"
        },
        "id": "CftD2xATAE6Y",
        "outputId": "372aeab0-fa5a-42f3-d734-4a7573f3d79f"
      },
      "execution_count": null,
      "outputs": [
        {
          "output_type": "execute_result",
          "data": {
            "text/plain": [
              "TELEFONOORIGEN\n",
              "3166190342        2259\n",
              "3107584482        2055\n",
              "3057089507        1896\n",
              "3115590650        1789\n",
              "3138647901        1618\n",
              "                  ... \n",
              "3133790144           1\n",
              "3133790592           1\n",
              "3133790851           1\n",
              "3133791159           1\n",
              "999883673            1\n",
              "Length: 520899, dtype: int64"
            ]
          },
          "metadata": {},
          "execution_count": 7
        }
      ]
    },
    {
      "cell_type": "code",
      "source": [
        "#Calcular outlayer\n",
        "cuenta = df.loc[:,['TELEFONOORIGEN']].value_counts()"
      ],
      "metadata": {
        "id": "WCdH0FOxbaL9"
      },
      "execution_count": null,
      "outputs": []
    },
    {
      "cell_type": "code",
      "source": [
        "q1 = cuenta.quantile(0.25)\n",
        "q3 = cuenta.quantile(0.75)\n",
        "iqr = q3 - q1\n",
        "print(q1, \" - \", q3, \" - \",iqr)"
      ],
      "metadata": {
        "colab": {
          "base_uri": "https://localhost:8080/"
        },
        "id": "SBg8ii4qbe8V",
        "outputId": "c91150a6-6804-400e-b3a5-919f29d35f3d"
      },
      "execution_count": null,
      "outputs": [
        {
          "output_type": "stream",
          "name": "stdout",
          "text": [
            "2.0  -  12.0  -  10.0\n"
          ]
        }
      ]
    },
    {
      "cell_type": "code",
      "source": [
        "#@title Default title text\n",
        "outlayers_treshold = q3 + 3 * iqr\n",
        "print(outlayers_treshold)\n",
        "sum(cuenta>outlayers_treshold) "
      ],
      "metadata": {
        "colab": {
          "base_uri": "https://localhost:8080/"
        },
        "id": "VjXicdLGcWRZ",
        "outputId": "bbe5f3b5-7b5a-468b-8c04-f1ad21b23387"
      },
      "execution_count": null,
      "outputs": [
        {
          "output_type": "stream",
          "name": "stdout",
          "text": [
            "42.0\n"
          ]
        },
        {
          "output_type": "execute_result",
          "data": {
            "text/plain": [
              "37987"
            ]
          },
          "metadata": {},
          "execution_count": 20
        }
      ]
    },
    {
      "cell_type": "markdown",
      "source": [
        "Probar con k-means y KNN para buscar los grupos de usuarios"
      ],
      "metadata": {
        "id": "c-fGoxEAhctS"
      }
    },
    {
      "cell_type": "code",
      "source": [
        ""
      ],
      "metadata": {
        "id": "M1vpH_TbefyN"
      },
      "execution_count": null,
      "outputs": []
    },
    {
      "cell_type": "markdown",
      "source": [
        "Limitamos los canales por donde se reciben servicios a APP, IVR, CHATBOT, RECEPCIÓN, CALLE Y WEB que son los más relevantes.\n",
        "Limitamos los estados a ABANDONADO, CUMPLIDO, CANCELADO Y FINALIZADO que son los validos, el restos son errores del proceso."
      ],
      "metadata": {
        "id": "OsFQhyCkbwwb"
      }
    },
    {
      "cell_type": "code",
      "source": [
        "df = df[(df[\"ORIGEN\"]==\"APP\") | (df[\"ORIGEN\"]==\"IVR\") | (df[\"ORIGEN\"]==\"CHAT_BOT_659\") | (df[\"ORIGEN\"]==\"RECEPCION\") | (df[\"ORIGEN\"]==\"CALLE\") | (df[\"ORIGEN\"]==\"WEB\")]\n",
        "df = df[(df[\"ESTADO\"]==\"ABANDONADO\") | (df[\"ESTADO\"]==\"CUMPLIDO\") | (df[\"ESTADO\"]==\"CANCELADO\") | (df[\"ESTADO\"]==\"FINALIZADO\")]"
      ],
      "metadata": {
        "id": "NcAWDyRwbocp"
      },
      "execution_count": null,
      "outputs": []
    },
    {
      "cell_type": "markdown",
      "source": [
        "Eliminamos las columnas de ciudad, usuario, id servicio, latitud y longitud de destino"
      ],
      "metadata": {
        "id": "qA9Hmg3dbGmG"
      }
    },
    {
      "cell_type": "code",
      "source": [
        "#Eliminamos las columan que no son útiles en el modelo\n",
        "df = df.drop(columns=[\"IDCIUDAD\",\"USUARIO\",\"ID\",\"LATITUDDESTINO\",\"LONGITUDDESTINO\",\"LATITUD\",\"LONGITUD\"])\n",
        "#Se crea un campo de fecha para indexar\n",
        "\n",
        "df['FECHACOMPLETA'] = pd.to_datetime(df['FECHACOMPLETA'], format='%Y/%m/%d %H:%M:%S')\n",
        "df['DIADESEMANA'] = df['FECHACOMPLETA'].map( lambda x: x.isoweekday() )\n",
        "\n",
        "#df['FECHA_HORA'] = fecha.dt.strftime(\"%Y-%m-%d %H\")\n",
        "#df['FECHA'] = fecha.dt.strftime(\"%Y-%m-%d\")"
      ],
      "metadata": {
        "id": "eT6AHEo2bFZg"
      },
      "execution_count": null,
      "outputs": []
    },
    {
      "cell_type": "markdown",
      "source": [
        "Transformamos el valor de origen y estado a no ordinales con onehot."
      ],
      "metadata": {
        "id": "dfnBpAThxOA_"
      }
    },
    {
      "cell_type": "code",
      "source": [
        "# convertimos a  onehot la comuna de origen\n",
        "#df = pd.get_dummies(df, columns=[\"ORIGEN\"])\n",
        "# convertimos a  onehot la comuna de estado\n",
        "#df = pd.get_dummies(df, columns=[\"ESTADO\"])\n",
        "\"\"\"new_df['ORIGEN'] = new_df['ORIGEN'].map( {\n",
        "        \"APP\":1,\n",
        "        \"CALLE\":2,\n",
        "        \"CHAT_BOT_659\":3,\n",
        "        \"CHAT_BOT_689\":4,\n",
        "        \"CHAT_BOT_729\":5,\n",
        "        \"CHAT_BOT_803\":6,\n",
        "        \"EXTERNO\":7,\n",
        "        \"IONTAXI\":8,\n",
        "        \"IVR\":9,\n",
        "        \"NUEVO\":10,\n",
        "        \"RECEPCION\":11,\n",
        "        \"RED AMARILLA\":12,\n",
        "        \"Reserva\":13,\n",
        "        \"TELEGRAMTD\":14,\n",
        "        \"WEB\":15\n",
        "    } )\n",
        "\n",
        "new_df['ESTADO'] = new_df['ESTADO'].map( {\n",
        "        \"ABANDONADO\":1,\n",
        "        \"ABORDOCONFIRMADO\":2,\n",
        "        \"ALFRENTE\":3,\n",
        "        \"ASIGNADO\": 4,\n",
        "        \"CANCELADO\":5,\n",
        "        \"CONFIRMADO\":6,\n",
        "        \"CUMPLIDO\":7,\n",
        "        \"FINALIZADO\": 8,\n",
        "        \"LOCUCION\":9,\n",
        "        \"NUEVO\":10,\n",
        "        \"RECHAZADO\":11\n",
        "    } )\"\"\"\n",
        "df.head(5)"
      ],
      "metadata": {
        "id": "xaHtoiLps1Hn",
        "colab": {
          "base_uri": "https://localhost:8080/",
          "height": 206
        },
        "outputId": "1c474887-1fe8-4c86-e968-a2ea68dd397a"
      },
      "execution_count": null,
      "outputs": [
        {
          "output_type": "execute_result",
          "data": {
            "text/plain": [
              "  TELEFONOORIGEN      ESTADO        ORIGEN       FECHACOMPLETA  DIADESEMANA  \\\n",
              "0     3186429637   CANCELADO           APP 2022-04-30 19:00:00            6   \n",
              "1     3209171095  ABANDONADO           APP 2022-04-30 19:00:00            6   \n",
              "3     3125733084  ABANDONADO  CHAT_BOT_659 2022-04-30 19:00:01            6   \n",
              "4     3043963812  ABANDONADO           APP 2022-04-30 19:00:01            6   \n",
              "5     3113623140  ABANDONADO           APP 2022-04-30 19:00:02            6   \n",
              "\n",
              "   HORA  \n",
              "0    19  \n",
              "1    19  \n",
              "3    19  \n",
              "4    19  \n",
              "5    19  "
            ],
            "text/html": [
              "\n",
              "  <div id=\"df-8c7e598e-3ce5-41e9-b0a9-b1c8a1ec0718\">\n",
              "    <div class=\"colab-df-container\">\n",
              "      <div>\n",
              "<style scoped>\n",
              "    .dataframe tbody tr th:only-of-type {\n",
              "        vertical-align: middle;\n",
              "    }\n",
              "\n",
              "    .dataframe tbody tr th {\n",
              "        vertical-align: top;\n",
              "    }\n",
              "\n",
              "    .dataframe thead th {\n",
              "        text-align: right;\n",
              "    }\n",
              "</style>\n",
              "<table border=\"1\" class=\"dataframe\">\n",
              "  <thead>\n",
              "    <tr style=\"text-align: right;\">\n",
              "      <th></th>\n",
              "      <th>TELEFONOORIGEN</th>\n",
              "      <th>ESTADO</th>\n",
              "      <th>ORIGEN</th>\n",
              "      <th>FECHACOMPLETA</th>\n",
              "      <th>DIADESEMANA</th>\n",
              "      <th>HORA</th>\n",
              "    </tr>\n",
              "  </thead>\n",
              "  <tbody>\n",
              "    <tr>\n",
              "      <th>0</th>\n",
              "      <td>3186429637</td>\n",
              "      <td>CANCELADO</td>\n",
              "      <td>APP</td>\n",
              "      <td>2022-04-30 19:00:00</td>\n",
              "      <td>6</td>\n",
              "      <td>19</td>\n",
              "    </tr>\n",
              "    <tr>\n",
              "      <th>1</th>\n",
              "      <td>3209171095</td>\n",
              "      <td>ABANDONADO</td>\n",
              "      <td>APP</td>\n",
              "      <td>2022-04-30 19:00:00</td>\n",
              "      <td>6</td>\n",
              "      <td>19</td>\n",
              "    </tr>\n",
              "    <tr>\n",
              "      <th>3</th>\n",
              "      <td>3125733084</td>\n",
              "      <td>ABANDONADO</td>\n",
              "      <td>CHAT_BOT_659</td>\n",
              "      <td>2022-04-30 19:00:01</td>\n",
              "      <td>6</td>\n",
              "      <td>19</td>\n",
              "    </tr>\n",
              "    <tr>\n",
              "      <th>4</th>\n",
              "      <td>3043963812</td>\n",
              "      <td>ABANDONADO</td>\n",
              "      <td>APP</td>\n",
              "      <td>2022-04-30 19:00:01</td>\n",
              "      <td>6</td>\n",
              "      <td>19</td>\n",
              "    </tr>\n",
              "    <tr>\n",
              "      <th>5</th>\n",
              "      <td>3113623140</td>\n",
              "      <td>ABANDONADO</td>\n",
              "      <td>APP</td>\n",
              "      <td>2022-04-30 19:00:02</td>\n",
              "      <td>6</td>\n",
              "      <td>19</td>\n",
              "    </tr>\n",
              "  </tbody>\n",
              "</table>\n",
              "</div>\n",
              "      <button class=\"colab-df-convert\" onclick=\"convertToInteractive('df-8c7e598e-3ce5-41e9-b0a9-b1c8a1ec0718')\"\n",
              "              title=\"Convert this dataframe to an interactive table.\"\n",
              "              style=\"display:none;\">\n",
              "        \n",
              "  <svg xmlns=\"http://www.w3.org/2000/svg\" height=\"24px\"viewBox=\"0 0 24 24\"\n",
              "       width=\"24px\">\n",
              "    <path d=\"M0 0h24v24H0V0z\" fill=\"none\"/>\n",
              "    <path d=\"M18.56 5.44l.94 2.06.94-2.06 2.06-.94-2.06-.94-.94-2.06-.94 2.06-2.06.94zm-11 1L8.5 8.5l.94-2.06 2.06-.94-2.06-.94L8.5 2.5l-.94 2.06-2.06.94zm10 10l.94 2.06.94-2.06 2.06-.94-2.06-.94-.94-2.06-.94 2.06-2.06.94z\"/><path d=\"M17.41 7.96l-1.37-1.37c-.4-.4-.92-.59-1.43-.59-.52 0-1.04.2-1.43.59L10.3 9.45l-7.72 7.72c-.78.78-.78 2.05 0 2.83L4 21.41c.39.39.9.59 1.41.59.51 0 1.02-.2 1.41-.59l7.78-7.78 2.81-2.81c.8-.78.8-2.07 0-2.86zM5.41 20L4 18.59l7.72-7.72 1.47 1.35L5.41 20z\"/>\n",
              "  </svg>\n",
              "      </button>\n",
              "      \n",
              "  <style>\n",
              "    .colab-df-container {\n",
              "      display:flex;\n",
              "      flex-wrap:wrap;\n",
              "      gap: 12px;\n",
              "    }\n",
              "\n",
              "    .colab-df-convert {\n",
              "      background-color: #E8F0FE;\n",
              "      border: none;\n",
              "      border-radius: 50%;\n",
              "      cursor: pointer;\n",
              "      display: none;\n",
              "      fill: #1967D2;\n",
              "      height: 32px;\n",
              "      padding: 0 0 0 0;\n",
              "      width: 32px;\n",
              "    }\n",
              "\n",
              "    .colab-df-convert:hover {\n",
              "      background-color: #E2EBFA;\n",
              "      box-shadow: 0px 1px 2px rgba(60, 64, 67, 0.3), 0px 1px 3px 1px rgba(60, 64, 67, 0.15);\n",
              "      fill: #174EA6;\n",
              "    }\n",
              "\n",
              "    [theme=dark] .colab-df-convert {\n",
              "      background-color: #3B4455;\n",
              "      fill: #D2E3FC;\n",
              "    }\n",
              "\n",
              "    [theme=dark] .colab-df-convert:hover {\n",
              "      background-color: #434B5C;\n",
              "      box-shadow: 0px 1px 3px 1px rgba(0, 0, 0, 0.15);\n",
              "      filter: drop-shadow(0px 1px 2px rgba(0, 0, 0, 0.3));\n",
              "      fill: #FFFFFF;\n",
              "    }\n",
              "  </style>\n",
              "\n",
              "      <script>\n",
              "        const buttonEl =\n",
              "          document.querySelector('#df-8c7e598e-3ce5-41e9-b0a9-b1c8a1ec0718 button.colab-df-convert');\n",
              "        buttonEl.style.display =\n",
              "          google.colab.kernel.accessAllowed ? 'block' : 'none';\n",
              "\n",
              "        async function convertToInteractive(key) {\n",
              "          const element = document.querySelector('#df-8c7e598e-3ce5-41e9-b0a9-b1c8a1ec0718');\n",
              "          const dataTable =\n",
              "            await google.colab.kernel.invokeFunction('convertToInteractive',\n",
              "                                                     [key], {});\n",
              "          if (!dataTable) return;\n",
              "\n",
              "          const docLinkHtml = 'Like what you see? Visit the ' +\n",
              "            '<a target=\"_blank\" href=https://colab.research.google.com/notebooks/data_table.ipynb>data table notebook</a>'\n",
              "            + ' to learn more about interactive tables.';\n",
              "          element.innerHTML = '';\n",
              "          dataTable['output_type'] = 'display_data';\n",
              "          await google.colab.output.renderOutput(dataTable, element);\n",
              "          const docLink = document.createElement('div');\n",
              "          docLink.innerHTML = docLinkHtml;\n",
              "          element.appendChild(docLink);\n",
              "        }\n",
              "      </script>\n",
              "    </div>\n",
              "  </div>\n",
              "  "
            ]
          },
          "metadata": {},
          "execution_count": 23
        }
      ]
    },
    {
      "cell_type": "markdown",
      "source": [
        "Se particionan los datos en test y train"
      ],
      "metadata": {
        "id": "urAPU8TJeWTD"
      }
    },
    {
      "cell_type": "code",
      "source": [
        "#train = df[df['FECHACOMPLETA'] < pd.to_datetime(\"2022-04-01\", format='%Y-%m-%d')]\n",
        "#test = df[df['FECHACOMPLETA'] > pd.to_datetime(\"2022-04-01\", format='%Y-%m-%d')]"
      ],
      "metadata": {
        "id": "Nu32YnBMeZTl"
      },
      "execution_count": null,
      "outputs": []
    },
    {
      "cell_type": "code",
      "source": [
        "#train.head(5)"
      ],
      "metadata": {
        "id": "sq9G_OGce80T"
      },
      "execution_count": null,
      "outputs": []
    },
    {
      "cell_type": "code",
      "source": [
        "#test.head(5)"
      ],
      "metadata": {
        "id": "U7uMXmVxfBxZ"
      },
      "execution_count": null,
      "outputs": []
    },
    {
      "cell_type": "markdown",
      "source": [
        "# Probando con función probabilistica"
      ],
      "metadata": {
        "id": "OMq4HKD2QU2i"
      }
    },
    {
      "cell_type": "code",
      "source": [
        "def findRow(pdate, phour, data):\n",
        "  for row in data:\n",
        "    if( ( row[3] == pdate.strftime(FORMAT_DATE) ) & ( row[2] == phour ) ):\n",
        "      return row\n",
        "  return []\n",
        "\n",
        "def completeServices(data):\n",
        "  first = pd.to_datetime(data.tail(1).iloc[0,3], format=FORMAT_DATE)\n",
        "  last = pd.to_datetime(data.head(1).iloc[0,3], format=FORMAT_DATE)\n",
        "  remaining_days = first.date() - last.date()\n",
        "  phone = data.tail(1).iloc[0,0]\n",
        "  data_array = data.to_numpy()\n",
        "  new_array = []\n",
        "  for i in range(remaining_days.days+1):\n",
        "    last_time = last + timedelta(days=i)\n",
        "    for day in range(HOURS_OF_DAY):\n",
        "      new_row = findRow(last_time.date(), day, data_array)\n",
        "      if len(new_row) > 0:\n",
        "        new_array.append(np.append(new_row, 1))\n",
        "      else:\n",
        "        new_array.append([phone, last_time.isoweekday(),day,last_time.date().strftime(FORMAT_DATE),0])\n",
        "  return pd.DataFrame(new_array, \n",
        "             columns=['TELEFONOORIGEN', \n",
        "                      'DIADESEMANA', 'HORA','FECHA','SERVICIO'])"
      ],
      "metadata": {
        "id": "IUESDU-F7PpT"
      },
      "execution_count": null,
      "outputs": []
    },
    {
      "cell_type": "code",
      "source": [
        "df_mp = df.copy()\n",
        "\n",
        "#df_mp = df_mp[df_mp[\"TELEFONOORIGEN\"]==\"3115590650\"]\n",
        "df_mp['FECHA'] = df_mp['FECHACOMPLETA'].dt.strftime(FORMAT_DATE)\n",
        "df_mp = df_mp.drop(columns=[\"FECHACOMPLETA\",\"ORIGEN\",\"ESTADO\"])\n",
        "\n",
        "#Se eliminan los duplicados\n",
        "df_mp = df_mp.drop_duplicates().sort_values(by=['FECHA','DIADESEMANA','HORA'])\n",
        "df_mp = df_mp.reset_index(drop=True)\n",
        "\n",
        "#Se llenan los datos faltantes\n",
        "#df_mp = completeServices(df_mp)"
      ],
      "metadata": {
        "id": "nBd5TtZ5QcjU"
      },
      "execution_count": null,
      "outputs": []
    },
    {
      "cell_type": "code",
      "source": [
        "df_mp.head(5)"
      ],
      "metadata": {
        "colab": {
          "base_uri": "https://localhost:8080/",
          "height": 206
        },
        "id": "uksDLMnPjOR7",
        "outputId": "8804e3ef-99e3-4ffc-eb36-483f9cd1e491"
      },
      "execution_count": null,
      "outputs": [
        {
          "output_type": "execute_result",
          "data": {
            "text/plain": [
              "  TELEFONOORIGEN  DIADESEMANA  HORA       FECHA\n",
              "0     3124567009            5    19  2021-12-31\n",
              "1     3214021236            5    19  2021-12-31\n",
              "2     3212101273            5    19  2021-12-31\n",
              "3     3209537009            5    19  2021-12-31\n",
              "4     3196886712            5    19  2021-12-31"
            ],
            "text/html": [
              "\n",
              "  <div id=\"df-1a8f5d90-a011-400d-93be-a481069e5f5e\">\n",
              "    <div class=\"colab-df-container\">\n",
              "      <div>\n",
              "<style scoped>\n",
              "    .dataframe tbody tr th:only-of-type {\n",
              "        vertical-align: middle;\n",
              "    }\n",
              "\n",
              "    .dataframe tbody tr th {\n",
              "        vertical-align: top;\n",
              "    }\n",
              "\n",
              "    .dataframe thead th {\n",
              "        text-align: right;\n",
              "    }\n",
              "</style>\n",
              "<table border=\"1\" class=\"dataframe\">\n",
              "  <thead>\n",
              "    <tr style=\"text-align: right;\">\n",
              "      <th></th>\n",
              "      <th>TELEFONOORIGEN</th>\n",
              "      <th>DIADESEMANA</th>\n",
              "      <th>HORA</th>\n",
              "      <th>FECHA</th>\n",
              "    </tr>\n",
              "  </thead>\n",
              "  <tbody>\n",
              "    <tr>\n",
              "      <th>0</th>\n",
              "      <td>3124567009</td>\n",
              "      <td>5</td>\n",
              "      <td>19</td>\n",
              "      <td>2021-12-31</td>\n",
              "    </tr>\n",
              "    <tr>\n",
              "      <th>1</th>\n",
              "      <td>3214021236</td>\n",
              "      <td>5</td>\n",
              "      <td>19</td>\n",
              "      <td>2021-12-31</td>\n",
              "    </tr>\n",
              "    <tr>\n",
              "      <th>2</th>\n",
              "      <td>3212101273</td>\n",
              "      <td>5</td>\n",
              "      <td>19</td>\n",
              "      <td>2021-12-31</td>\n",
              "    </tr>\n",
              "    <tr>\n",
              "      <th>3</th>\n",
              "      <td>3209537009</td>\n",
              "      <td>5</td>\n",
              "      <td>19</td>\n",
              "      <td>2021-12-31</td>\n",
              "    </tr>\n",
              "    <tr>\n",
              "      <th>4</th>\n",
              "      <td>3196886712</td>\n",
              "      <td>5</td>\n",
              "      <td>19</td>\n",
              "      <td>2021-12-31</td>\n",
              "    </tr>\n",
              "  </tbody>\n",
              "</table>\n",
              "</div>\n",
              "      <button class=\"colab-df-convert\" onclick=\"convertToInteractive('df-1a8f5d90-a011-400d-93be-a481069e5f5e')\"\n",
              "              title=\"Convert this dataframe to an interactive table.\"\n",
              "              style=\"display:none;\">\n",
              "        \n",
              "  <svg xmlns=\"http://www.w3.org/2000/svg\" height=\"24px\"viewBox=\"0 0 24 24\"\n",
              "       width=\"24px\">\n",
              "    <path d=\"M0 0h24v24H0V0z\" fill=\"none\"/>\n",
              "    <path d=\"M18.56 5.44l.94 2.06.94-2.06 2.06-.94-2.06-.94-.94-2.06-.94 2.06-2.06.94zm-11 1L8.5 8.5l.94-2.06 2.06-.94-2.06-.94L8.5 2.5l-.94 2.06-2.06.94zm10 10l.94 2.06.94-2.06 2.06-.94-2.06-.94-.94-2.06-.94 2.06-2.06.94z\"/><path d=\"M17.41 7.96l-1.37-1.37c-.4-.4-.92-.59-1.43-.59-.52 0-1.04.2-1.43.59L10.3 9.45l-7.72 7.72c-.78.78-.78 2.05 0 2.83L4 21.41c.39.39.9.59 1.41.59.51 0 1.02-.2 1.41-.59l7.78-7.78 2.81-2.81c.8-.78.8-2.07 0-2.86zM5.41 20L4 18.59l7.72-7.72 1.47 1.35L5.41 20z\"/>\n",
              "  </svg>\n",
              "      </button>\n",
              "      \n",
              "  <style>\n",
              "    .colab-df-container {\n",
              "      display:flex;\n",
              "      flex-wrap:wrap;\n",
              "      gap: 12px;\n",
              "    }\n",
              "\n",
              "    .colab-df-convert {\n",
              "      background-color: #E8F0FE;\n",
              "      border: none;\n",
              "      border-radius: 50%;\n",
              "      cursor: pointer;\n",
              "      display: none;\n",
              "      fill: #1967D2;\n",
              "      height: 32px;\n",
              "      padding: 0 0 0 0;\n",
              "      width: 32px;\n",
              "    }\n",
              "\n",
              "    .colab-df-convert:hover {\n",
              "      background-color: #E2EBFA;\n",
              "      box-shadow: 0px 1px 2px rgba(60, 64, 67, 0.3), 0px 1px 3px 1px rgba(60, 64, 67, 0.15);\n",
              "      fill: #174EA6;\n",
              "    }\n",
              "\n",
              "    [theme=dark] .colab-df-convert {\n",
              "      background-color: #3B4455;\n",
              "      fill: #D2E3FC;\n",
              "    }\n",
              "\n",
              "    [theme=dark] .colab-df-convert:hover {\n",
              "      background-color: #434B5C;\n",
              "      box-shadow: 0px 1px 3px 1px rgba(0, 0, 0, 0.15);\n",
              "      filter: drop-shadow(0px 1px 2px rgba(0, 0, 0, 0.3));\n",
              "      fill: #FFFFFF;\n",
              "    }\n",
              "  </style>\n",
              "\n",
              "      <script>\n",
              "        const buttonEl =\n",
              "          document.querySelector('#df-1a8f5d90-a011-400d-93be-a481069e5f5e button.colab-df-convert');\n",
              "        buttonEl.style.display =\n",
              "          google.colab.kernel.accessAllowed ? 'block' : 'none';\n",
              "\n",
              "        async function convertToInteractive(key) {\n",
              "          const element = document.querySelector('#df-1a8f5d90-a011-400d-93be-a481069e5f5e');\n",
              "          const dataTable =\n",
              "            await google.colab.kernel.invokeFunction('convertToInteractive',\n",
              "                                                     [key], {});\n",
              "          if (!dataTable) return;\n",
              "\n",
              "          const docLinkHtml = 'Like what you see? Visit the ' +\n",
              "            '<a target=\"_blank\" href=https://colab.research.google.com/notebooks/data_table.ipynb>data table notebook</a>'\n",
              "            + ' to learn more about interactive tables.';\n",
              "          element.innerHTML = '';\n",
              "          dataTable['output_type'] = 'display_data';\n",
              "          await google.colab.output.renderOutput(dataTable, element);\n",
              "          const docLink = document.createElement('div');\n",
              "          docLink.innerHTML = docLinkHtml;\n",
              "          element.appendChild(docLink);\n",
              "        }\n",
              "      </script>\n",
              "    </div>\n",
              "  </div>\n",
              "  "
            ]
          },
          "metadata": {},
          "execution_count": 29
        }
      ]
    },
    {
      "cell_type": "code",
      "source": [
        "df_mp.loc[:,['TELEFONOORIGEN']].value_counts()"
      ],
      "metadata": {
        "colab": {
          "base_uri": "https://localhost:8080/"
        },
        "id": "eKI1W_DOiVwl",
        "outputId": "c22a62ad-46af-47e4-a808-fb8b37312353"
      },
      "execution_count": null,
      "outputs": [
        {
          "output_type": "execute_result",
          "data": {
            "text/plain": [
              "TELEFONOORIGEN\n",
              "3107584482        783\n",
              "3138647901        684\n",
              "3153865158        684\n",
              "3134579964        642\n",
              "13148180          628\n",
              "                 ... \n",
              "3125329815          1\n",
              "3125330004          1\n",
              "3125330436          1\n",
              "3125330453          1\n",
              "999883673           1\n",
              "Length: 517850, dtype: int64"
            ]
          },
          "metadata": {},
          "execution_count": 28
        }
      ]
    },
    {
      "cell_type": "code",
      "source": [
        "#Se filtran tomando solo los últimas x semanas\n",
        "train = df_mp[ (pd.to_datetime(df_mp['FECHA'], format=FORMAT_DATE) < TRAINIG_DAY) & (pd.to_datetime(df_mp['FECHA'], format=FORMAT_DATE) > LAST_TRAINIG_DATE) ]#\n",
        "test = df_mp[pd.to_datetime(df_mp['FECHA'], format=FORMAT_DATE) >= TRAINIG_DAY ]\n",
        "\n",
        "train.head(5)"
      ],
      "metadata": {
        "colab": {
          "base_uri": "https://localhost:8080/",
          "height": 206
        },
        "id": "K8GhJhZ8R_M7",
        "outputId": "2554c3e9-52d9-4b6b-8640-f8c78525247e"
      },
      "execution_count": null,
      "outputs": [
        {
          "output_type": "execute_result",
          "data": {
            "text/plain": [
              "    TELEFONOORIGEN  DIADESEMANA  HORA       FECHA  SERVICIO\n",
              "864     3115590650            6     0  2022-02-05         0\n",
              "865     3115590650            6     1  2022-02-05         0\n",
              "866     3115590650            6     2  2022-02-05         0\n",
              "867     3115590650            6     3  2022-02-05         0\n",
              "868     3115590650            6     4  2022-02-05         0"
            ],
            "text/html": [
              "\n",
              "  <div id=\"df-2adda5f8-3a4d-4322-a350-4fa5532e1178\">\n",
              "    <div class=\"colab-df-container\">\n",
              "      <div>\n",
              "<style scoped>\n",
              "    .dataframe tbody tr th:only-of-type {\n",
              "        vertical-align: middle;\n",
              "    }\n",
              "\n",
              "    .dataframe tbody tr th {\n",
              "        vertical-align: top;\n",
              "    }\n",
              "\n",
              "    .dataframe thead th {\n",
              "        text-align: right;\n",
              "    }\n",
              "</style>\n",
              "<table border=\"1\" class=\"dataframe\">\n",
              "  <thead>\n",
              "    <tr style=\"text-align: right;\">\n",
              "      <th></th>\n",
              "      <th>TELEFONOORIGEN</th>\n",
              "      <th>DIADESEMANA</th>\n",
              "      <th>HORA</th>\n",
              "      <th>FECHA</th>\n",
              "      <th>SERVICIO</th>\n",
              "    </tr>\n",
              "  </thead>\n",
              "  <tbody>\n",
              "    <tr>\n",
              "      <th>864</th>\n",
              "      <td>3115590650</td>\n",
              "      <td>6</td>\n",
              "      <td>0</td>\n",
              "      <td>2022-02-05</td>\n",
              "      <td>0</td>\n",
              "    </tr>\n",
              "    <tr>\n",
              "      <th>865</th>\n",
              "      <td>3115590650</td>\n",
              "      <td>6</td>\n",
              "      <td>1</td>\n",
              "      <td>2022-02-05</td>\n",
              "      <td>0</td>\n",
              "    </tr>\n",
              "    <tr>\n",
              "      <th>866</th>\n",
              "      <td>3115590650</td>\n",
              "      <td>6</td>\n",
              "      <td>2</td>\n",
              "      <td>2022-02-05</td>\n",
              "      <td>0</td>\n",
              "    </tr>\n",
              "    <tr>\n",
              "      <th>867</th>\n",
              "      <td>3115590650</td>\n",
              "      <td>6</td>\n",
              "      <td>3</td>\n",
              "      <td>2022-02-05</td>\n",
              "      <td>0</td>\n",
              "    </tr>\n",
              "    <tr>\n",
              "      <th>868</th>\n",
              "      <td>3115590650</td>\n",
              "      <td>6</td>\n",
              "      <td>4</td>\n",
              "      <td>2022-02-05</td>\n",
              "      <td>0</td>\n",
              "    </tr>\n",
              "  </tbody>\n",
              "</table>\n",
              "</div>\n",
              "      <button class=\"colab-df-convert\" onclick=\"convertToInteractive('df-2adda5f8-3a4d-4322-a350-4fa5532e1178')\"\n",
              "              title=\"Convert this dataframe to an interactive table.\"\n",
              "              style=\"display:none;\">\n",
              "        \n",
              "  <svg xmlns=\"http://www.w3.org/2000/svg\" height=\"24px\"viewBox=\"0 0 24 24\"\n",
              "       width=\"24px\">\n",
              "    <path d=\"M0 0h24v24H0V0z\" fill=\"none\"/>\n",
              "    <path d=\"M18.56 5.44l.94 2.06.94-2.06 2.06-.94-2.06-.94-.94-2.06-.94 2.06-2.06.94zm-11 1L8.5 8.5l.94-2.06 2.06-.94-2.06-.94L8.5 2.5l-.94 2.06-2.06.94zm10 10l.94 2.06.94-2.06 2.06-.94-2.06-.94-.94-2.06-.94 2.06-2.06.94z\"/><path d=\"M17.41 7.96l-1.37-1.37c-.4-.4-.92-.59-1.43-.59-.52 0-1.04.2-1.43.59L10.3 9.45l-7.72 7.72c-.78.78-.78 2.05 0 2.83L4 21.41c.39.39.9.59 1.41.59.51 0 1.02-.2 1.41-.59l7.78-7.78 2.81-2.81c.8-.78.8-2.07 0-2.86zM5.41 20L4 18.59l7.72-7.72 1.47 1.35L5.41 20z\"/>\n",
              "  </svg>\n",
              "      </button>\n",
              "      \n",
              "  <style>\n",
              "    .colab-df-container {\n",
              "      display:flex;\n",
              "      flex-wrap:wrap;\n",
              "      gap: 12px;\n",
              "    }\n",
              "\n",
              "    .colab-df-convert {\n",
              "      background-color: #E8F0FE;\n",
              "      border: none;\n",
              "      border-radius: 50%;\n",
              "      cursor: pointer;\n",
              "      display: none;\n",
              "      fill: #1967D2;\n",
              "      height: 32px;\n",
              "      padding: 0 0 0 0;\n",
              "      width: 32px;\n",
              "    }\n",
              "\n",
              "    .colab-df-convert:hover {\n",
              "      background-color: #E2EBFA;\n",
              "      box-shadow: 0px 1px 2px rgba(60, 64, 67, 0.3), 0px 1px 3px 1px rgba(60, 64, 67, 0.15);\n",
              "      fill: #174EA6;\n",
              "    }\n",
              "\n",
              "    [theme=dark] .colab-df-convert {\n",
              "      background-color: #3B4455;\n",
              "      fill: #D2E3FC;\n",
              "    }\n",
              "\n",
              "    [theme=dark] .colab-df-convert:hover {\n",
              "      background-color: #434B5C;\n",
              "      box-shadow: 0px 1px 3px 1px rgba(0, 0, 0, 0.15);\n",
              "      filter: drop-shadow(0px 1px 2px rgba(0, 0, 0, 0.3));\n",
              "      fill: #FFFFFF;\n",
              "    }\n",
              "  </style>\n",
              "\n",
              "      <script>\n",
              "        const buttonEl =\n",
              "          document.querySelector('#df-2adda5f8-3a4d-4322-a350-4fa5532e1178 button.colab-df-convert');\n",
              "        buttonEl.style.display =\n",
              "          google.colab.kernel.accessAllowed ? 'block' : 'none';\n",
              "\n",
              "        async function convertToInteractive(key) {\n",
              "          const element = document.querySelector('#df-2adda5f8-3a4d-4322-a350-4fa5532e1178');\n",
              "          const dataTable =\n",
              "            await google.colab.kernel.invokeFunction('convertToInteractive',\n",
              "                                                     [key], {});\n",
              "          if (!dataTable) return;\n",
              "\n",
              "          const docLinkHtml = 'Like what you see? Visit the ' +\n",
              "            '<a target=\"_blank\" href=https://colab.research.google.com/notebooks/data_table.ipynb>data table notebook</a>'\n",
              "            + ' to learn more about interactive tables.';\n",
              "          element.innerHTML = '';\n",
              "          dataTable['output_type'] = 'display_data';\n",
              "          await google.colab.output.renderOutput(dataTable, element);\n",
              "          const docLink = document.createElement('div');\n",
              "          docLink.innerHTML = docLinkHtml;\n",
              "          element.appendChild(docLink);\n",
              "        }\n",
              "      </script>\n",
              "    </div>\n",
              "  </div>\n",
              "  "
            ]
          },
          "metadata": {},
          "execution_count": 15
        }
      ]
    },
    {
      "cell_type": "markdown",
      "source": [
        "Se muestra la probabilidad de un usuario con los datos de entrenamiento"
      ],
      "metadata": {
        "id": "B-u8-4R2gG3c"
      }
    },
    {
      "cell_type": "code",
      "source": [
        "def calculateProbability(hour, day, data):\n",
        "  data_array = data.to_numpy()\n",
        "\n",
        "  first = pd.to_datetime(data.tail(1).iloc[0,3], format=FORMAT_DATE)\n",
        "  last = pd.to_datetime(data.head(1).iloc[0,3], format=FORMAT_DATE)\n",
        "  remaining_days = first.date() - last.date()\n",
        "\n",
        "  total = 0 \n",
        "  for i in range(remaining_days.days+1):\n",
        "    last_time = last + timedelta(days=i)\n",
        "    if last_time.isoweekday() == day:\n",
        "      total += 1\n",
        "  \n",
        "  total_onset = 0\n",
        "  for row in data_array:\n",
        "    if( ( row[1] == day ) & ( row[2] == hour ) & ( row[4] == 1 ) ):\n",
        "      total_onset += 1\n",
        "  if total > 0:\n",
        "    return total_onset / total\n",
        "  else:\n",
        "    return 0"
      ],
      "metadata": {
        "id": "LHjIHawBMUlx"
      },
      "execution_count": null,
      "outputs": []
    },
    {
      "cell_type": "code",
      "source": [
        "def calculateProbabilisticModel(dataFrame):\n",
        "  array_date_of_week = []\n",
        "  for day in range(DAYS_OF_WEEK):\n",
        "    array_hours = []\n",
        "    for hour in range(HOURS_OF_DAY):\n",
        "      array_hours.append( calculateProbability(hour, day+1, dataFrame))\n",
        "    array_date_of_week.append(array_hours)\n",
        "  return pd.DataFrame(np.array(array_date_of_week),\n",
        "                    columns=[h for h in range(HOURS_OF_DAY)], index=[\"1-Monday\",\"2-Tuesday\",\"3-Wednesday\",\"4-Thursday\",\"5-Friday\",\"6-Saturday\",\"7-Sunday\"],).transpose()"
      ],
      "metadata": {
        "id": "00dCAufigFiC"
      },
      "execution_count": null,
      "outputs": []
    },
    {
      "cell_type": "markdown",
      "source": [
        "Se prueba con los datos de entrenamiento"
      ],
      "metadata": {
        "id": "OWd9QEWt475i"
      }
    },
    {
      "cell_type": "code",
      "source": [
        "calculateProbabilisticModel(train)"
      ],
      "metadata": {
        "colab": {
          "base_uri": "https://localhost:8080/",
          "height": 802
        },
        "id": "eE24yZcF47TR",
        "outputId": "22f4c364-f306-48c4-cbbc-39a047044881"
      },
      "execution_count": null,
      "outputs": [
        {
          "output_type": "execute_result",
          "data": {
            "text/plain": [
              "    1-Monday  2-Tuesday  3-Wednesday  4-Thursday  5-Friday  6-Saturday  \\\n",
              "0      0.000      0.000        0.000       0.000  0.000000       0.000   \n",
              "1      0.000      0.000        0.000       0.000  0.000000       0.000   \n",
              "2      0.000      0.000        0.000       0.000  0.000000       0.000   \n",
              "3      0.000      0.000        0.000       0.000  0.000000       0.000   \n",
              "4      0.000      0.000        0.000       0.000  0.000000       0.000   \n",
              "5      0.000      0.000        0.000       0.000  0.000000       0.000   \n",
              "6      0.000      0.000        0.000       0.000  0.000000       0.000   \n",
              "7      0.000      0.000        0.000       0.000  0.000000       0.000   \n",
              "8      0.000      0.000        0.000       0.000  0.000000       0.000   \n",
              "9      0.000      0.000        0.000       0.000  0.000000       0.000   \n",
              "10     0.000      0.000        0.000       0.000  0.000000       0.000   \n",
              "11     0.000      0.000        0.000       0.000  0.000000       0.000   \n",
              "12     0.125      0.125        0.000       0.000  0.000000       0.000   \n",
              "13     0.125      0.000        0.000       0.000  0.000000       0.125   \n",
              "14     0.000      0.000        0.000       0.000  0.142857       0.375   \n",
              "15     0.000      0.125        0.000       0.000  0.571429       0.250   \n",
              "16     0.375      0.375        0.375       0.500  0.714286       0.125   \n",
              "17     0.625      0.750        0.750       1.000  0.714286       0.125   \n",
              "18     0.625      0.375        0.625       0.625  0.857143       0.000   \n",
              "19     0.125      0.375        0.250       0.375  0.714286       0.125   \n",
              "20     0.000      0.125        0.000       0.000  0.428571       0.000   \n",
              "21     0.000      0.125        0.000       0.000  0.142857       0.000   \n",
              "22     0.125      0.000        0.000       0.000  0.285714       0.000   \n",
              "23     0.000      0.000        0.000       0.000  0.000000       0.000   \n",
              "\n",
              "    7-Sunday  \n",
              "0      0.000  \n",
              "1      0.000  \n",
              "2      0.000  \n",
              "3      0.000  \n",
              "4      0.000  \n",
              "5      0.000  \n",
              "6      0.000  \n",
              "7      0.000  \n",
              "8      0.000  \n",
              "9      0.000  \n",
              "10     0.000  \n",
              "11     0.000  \n",
              "12     0.000  \n",
              "13     0.125  \n",
              "14     0.125  \n",
              "15     0.000  \n",
              "16     0.125  \n",
              "17     0.125  \n",
              "18     0.000  \n",
              "19     0.000  \n",
              "20     0.000  \n",
              "21     0.125  \n",
              "22     0.000  \n",
              "23     0.000  "
            ],
            "text/html": [
              "\n",
              "  <div id=\"df-a9bfdd7b-a985-47a3-80a3-77b8ebfd9807\">\n",
              "    <div class=\"colab-df-container\">\n",
              "      <div>\n",
              "<style scoped>\n",
              "    .dataframe tbody tr th:only-of-type {\n",
              "        vertical-align: middle;\n",
              "    }\n",
              "\n",
              "    .dataframe tbody tr th {\n",
              "        vertical-align: top;\n",
              "    }\n",
              "\n",
              "    .dataframe thead th {\n",
              "        text-align: right;\n",
              "    }\n",
              "</style>\n",
              "<table border=\"1\" class=\"dataframe\">\n",
              "  <thead>\n",
              "    <tr style=\"text-align: right;\">\n",
              "      <th></th>\n",
              "      <th>1-Monday</th>\n",
              "      <th>2-Tuesday</th>\n",
              "      <th>3-Wednesday</th>\n",
              "      <th>4-Thursday</th>\n",
              "      <th>5-Friday</th>\n",
              "      <th>6-Saturday</th>\n",
              "      <th>7-Sunday</th>\n",
              "    </tr>\n",
              "  </thead>\n",
              "  <tbody>\n",
              "    <tr>\n",
              "      <th>0</th>\n",
              "      <td>0.000</td>\n",
              "      <td>0.000</td>\n",
              "      <td>0.000</td>\n",
              "      <td>0.000</td>\n",
              "      <td>0.000000</td>\n",
              "      <td>0.000</td>\n",
              "      <td>0.000</td>\n",
              "    </tr>\n",
              "    <tr>\n",
              "      <th>1</th>\n",
              "      <td>0.000</td>\n",
              "      <td>0.000</td>\n",
              "      <td>0.000</td>\n",
              "      <td>0.000</td>\n",
              "      <td>0.000000</td>\n",
              "      <td>0.000</td>\n",
              "      <td>0.000</td>\n",
              "    </tr>\n",
              "    <tr>\n",
              "      <th>2</th>\n",
              "      <td>0.000</td>\n",
              "      <td>0.000</td>\n",
              "      <td>0.000</td>\n",
              "      <td>0.000</td>\n",
              "      <td>0.000000</td>\n",
              "      <td>0.000</td>\n",
              "      <td>0.000</td>\n",
              "    </tr>\n",
              "    <tr>\n",
              "      <th>3</th>\n",
              "      <td>0.000</td>\n",
              "      <td>0.000</td>\n",
              "      <td>0.000</td>\n",
              "      <td>0.000</td>\n",
              "      <td>0.000000</td>\n",
              "      <td>0.000</td>\n",
              "      <td>0.000</td>\n",
              "    </tr>\n",
              "    <tr>\n",
              "      <th>4</th>\n",
              "      <td>0.000</td>\n",
              "      <td>0.000</td>\n",
              "      <td>0.000</td>\n",
              "      <td>0.000</td>\n",
              "      <td>0.000000</td>\n",
              "      <td>0.000</td>\n",
              "      <td>0.000</td>\n",
              "    </tr>\n",
              "    <tr>\n",
              "      <th>5</th>\n",
              "      <td>0.000</td>\n",
              "      <td>0.000</td>\n",
              "      <td>0.000</td>\n",
              "      <td>0.000</td>\n",
              "      <td>0.000000</td>\n",
              "      <td>0.000</td>\n",
              "      <td>0.000</td>\n",
              "    </tr>\n",
              "    <tr>\n",
              "      <th>6</th>\n",
              "      <td>0.000</td>\n",
              "      <td>0.000</td>\n",
              "      <td>0.000</td>\n",
              "      <td>0.000</td>\n",
              "      <td>0.000000</td>\n",
              "      <td>0.000</td>\n",
              "      <td>0.000</td>\n",
              "    </tr>\n",
              "    <tr>\n",
              "      <th>7</th>\n",
              "      <td>0.000</td>\n",
              "      <td>0.000</td>\n",
              "      <td>0.000</td>\n",
              "      <td>0.000</td>\n",
              "      <td>0.000000</td>\n",
              "      <td>0.000</td>\n",
              "      <td>0.000</td>\n",
              "    </tr>\n",
              "    <tr>\n",
              "      <th>8</th>\n",
              "      <td>0.000</td>\n",
              "      <td>0.000</td>\n",
              "      <td>0.000</td>\n",
              "      <td>0.000</td>\n",
              "      <td>0.000000</td>\n",
              "      <td>0.000</td>\n",
              "      <td>0.000</td>\n",
              "    </tr>\n",
              "    <tr>\n",
              "      <th>9</th>\n",
              "      <td>0.000</td>\n",
              "      <td>0.000</td>\n",
              "      <td>0.000</td>\n",
              "      <td>0.000</td>\n",
              "      <td>0.000000</td>\n",
              "      <td>0.000</td>\n",
              "      <td>0.000</td>\n",
              "    </tr>\n",
              "    <tr>\n",
              "      <th>10</th>\n",
              "      <td>0.000</td>\n",
              "      <td>0.000</td>\n",
              "      <td>0.000</td>\n",
              "      <td>0.000</td>\n",
              "      <td>0.000000</td>\n",
              "      <td>0.000</td>\n",
              "      <td>0.000</td>\n",
              "    </tr>\n",
              "    <tr>\n",
              "      <th>11</th>\n",
              "      <td>0.000</td>\n",
              "      <td>0.000</td>\n",
              "      <td>0.000</td>\n",
              "      <td>0.000</td>\n",
              "      <td>0.000000</td>\n",
              "      <td>0.000</td>\n",
              "      <td>0.000</td>\n",
              "    </tr>\n",
              "    <tr>\n",
              "      <th>12</th>\n",
              "      <td>0.125</td>\n",
              "      <td>0.125</td>\n",
              "      <td>0.000</td>\n",
              "      <td>0.000</td>\n",
              "      <td>0.000000</td>\n",
              "      <td>0.000</td>\n",
              "      <td>0.000</td>\n",
              "    </tr>\n",
              "    <tr>\n",
              "      <th>13</th>\n",
              "      <td>0.125</td>\n",
              "      <td>0.000</td>\n",
              "      <td>0.000</td>\n",
              "      <td>0.000</td>\n",
              "      <td>0.000000</td>\n",
              "      <td>0.125</td>\n",
              "      <td>0.125</td>\n",
              "    </tr>\n",
              "    <tr>\n",
              "      <th>14</th>\n",
              "      <td>0.000</td>\n",
              "      <td>0.000</td>\n",
              "      <td>0.000</td>\n",
              "      <td>0.000</td>\n",
              "      <td>0.142857</td>\n",
              "      <td>0.375</td>\n",
              "      <td>0.125</td>\n",
              "    </tr>\n",
              "    <tr>\n",
              "      <th>15</th>\n",
              "      <td>0.000</td>\n",
              "      <td>0.125</td>\n",
              "      <td>0.000</td>\n",
              "      <td>0.000</td>\n",
              "      <td>0.571429</td>\n",
              "      <td>0.250</td>\n",
              "      <td>0.000</td>\n",
              "    </tr>\n",
              "    <tr>\n",
              "      <th>16</th>\n",
              "      <td>0.375</td>\n",
              "      <td>0.375</td>\n",
              "      <td>0.375</td>\n",
              "      <td>0.500</td>\n",
              "      <td>0.714286</td>\n",
              "      <td>0.125</td>\n",
              "      <td>0.125</td>\n",
              "    </tr>\n",
              "    <tr>\n",
              "      <th>17</th>\n",
              "      <td>0.625</td>\n",
              "      <td>0.750</td>\n",
              "      <td>0.750</td>\n",
              "      <td>1.000</td>\n",
              "      <td>0.714286</td>\n",
              "      <td>0.125</td>\n",
              "      <td>0.125</td>\n",
              "    </tr>\n",
              "    <tr>\n",
              "      <th>18</th>\n",
              "      <td>0.625</td>\n",
              "      <td>0.375</td>\n",
              "      <td>0.625</td>\n",
              "      <td>0.625</td>\n",
              "      <td>0.857143</td>\n",
              "      <td>0.000</td>\n",
              "      <td>0.000</td>\n",
              "    </tr>\n",
              "    <tr>\n",
              "      <th>19</th>\n",
              "      <td>0.125</td>\n",
              "      <td>0.375</td>\n",
              "      <td>0.250</td>\n",
              "      <td>0.375</td>\n",
              "      <td>0.714286</td>\n",
              "      <td>0.125</td>\n",
              "      <td>0.000</td>\n",
              "    </tr>\n",
              "    <tr>\n",
              "      <th>20</th>\n",
              "      <td>0.000</td>\n",
              "      <td>0.125</td>\n",
              "      <td>0.000</td>\n",
              "      <td>0.000</td>\n",
              "      <td>0.428571</td>\n",
              "      <td>0.000</td>\n",
              "      <td>0.000</td>\n",
              "    </tr>\n",
              "    <tr>\n",
              "      <th>21</th>\n",
              "      <td>0.000</td>\n",
              "      <td>0.125</td>\n",
              "      <td>0.000</td>\n",
              "      <td>0.000</td>\n",
              "      <td>0.142857</td>\n",
              "      <td>0.000</td>\n",
              "      <td>0.125</td>\n",
              "    </tr>\n",
              "    <tr>\n",
              "      <th>22</th>\n",
              "      <td>0.125</td>\n",
              "      <td>0.000</td>\n",
              "      <td>0.000</td>\n",
              "      <td>0.000</td>\n",
              "      <td>0.285714</td>\n",
              "      <td>0.000</td>\n",
              "      <td>0.000</td>\n",
              "    </tr>\n",
              "    <tr>\n",
              "      <th>23</th>\n",
              "      <td>0.000</td>\n",
              "      <td>0.000</td>\n",
              "      <td>0.000</td>\n",
              "      <td>0.000</td>\n",
              "      <td>0.000000</td>\n",
              "      <td>0.000</td>\n",
              "      <td>0.000</td>\n",
              "    </tr>\n",
              "  </tbody>\n",
              "</table>\n",
              "</div>\n",
              "      <button class=\"colab-df-convert\" onclick=\"convertToInteractive('df-a9bfdd7b-a985-47a3-80a3-77b8ebfd9807')\"\n",
              "              title=\"Convert this dataframe to an interactive table.\"\n",
              "              style=\"display:none;\">\n",
              "        \n",
              "  <svg xmlns=\"http://www.w3.org/2000/svg\" height=\"24px\"viewBox=\"0 0 24 24\"\n",
              "       width=\"24px\">\n",
              "    <path d=\"M0 0h24v24H0V0z\" fill=\"none\"/>\n",
              "    <path d=\"M18.56 5.44l.94 2.06.94-2.06 2.06-.94-2.06-.94-.94-2.06-.94 2.06-2.06.94zm-11 1L8.5 8.5l.94-2.06 2.06-.94-2.06-.94L8.5 2.5l-.94 2.06-2.06.94zm10 10l.94 2.06.94-2.06 2.06-.94-2.06-.94-.94-2.06-.94 2.06-2.06.94z\"/><path d=\"M17.41 7.96l-1.37-1.37c-.4-.4-.92-.59-1.43-.59-.52 0-1.04.2-1.43.59L10.3 9.45l-7.72 7.72c-.78.78-.78 2.05 0 2.83L4 21.41c.39.39.9.59 1.41.59.51 0 1.02-.2 1.41-.59l7.78-7.78 2.81-2.81c.8-.78.8-2.07 0-2.86zM5.41 20L4 18.59l7.72-7.72 1.47 1.35L5.41 20z\"/>\n",
              "  </svg>\n",
              "      </button>\n",
              "      \n",
              "  <style>\n",
              "    .colab-df-container {\n",
              "      display:flex;\n",
              "      flex-wrap:wrap;\n",
              "      gap: 12px;\n",
              "    }\n",
              "\n",
              "    .colab-df-convert {\n",
              "      background-color: #E8F0FE;\n",
              "      border: none;\n",
              "      border-radius: 50%;\n",
              "      cursor: pointer;\n",
              "      display: none;\n",
              "      fill: #1967D2;\n",
              "      height: 32px;\n",
              "      padding: 0 0 0 0;\n",
              "      width: 32px;\n",
              "    }\n",
              "\n",
              "    .colab-df-convert:hover {\n",
              "      background-color: #E2EBFA;\n",
              "      box-shadow: 0px 1px 2px rgba(60, 64, 67, 0.3), 0px 1px 3px 1px rgba(60, 64, 67, 0.15);\n",
              "      fill: #174EA6;\n",
              "    }\n",
              "\n",
              "    [theme=dark] .colab-df-convert {\n",
              "      background-color: #3B4455;\n",
              "      fill: #D2E3FC;\n",
              "    }\n",
              "\n",
              "    [theme=dark] .colab-df-convert:hover {\n",
              "      background-color: #434B5C;\n",
              "      box-shadow: 0px 1px 3px 1px rgba(0, 0, 0, 0.15);\n",
              "      filter: drop-shadow(0px 1px 2px rgba(0, 0, 0, 0.3));\n",
              "      fill: #FFFFFF;\n",
              "    }\n",
              "  </style>\n",
              "\n",
              "      <script>\n",
              "        const buttonEl =\n",
              "          document.querySelector('#df-a9bfdd7b-a985-47a3-80a3-77b8ebfd9807 button.colab-df-convert');\n",
              "        buttonEl.style.display =\n",
              "          google.colab.kernel.accessAllowed ? 'block' : 'none';\n",
              "\n",
              "        async function convertToInteractive(key) {\n",
              "          const element = document.querySelector('#df-a9bfdd7b-a985-47a3-80a3-77b8ebfd9807');\n",
              "          const dataTable =\n",
              "            await google.colab.kernel.invokeFunction('convertToInteractive',\n",
              "                                                     [key], {});\n",
              "          if (!dataTable) return;\n",
              "\n",
              "          const docLinkHtml = 'Like what you see? Visit the ' +\n",
              "            '<a target=\"_blank\" href=https://colab.research.google.com/notebooks/data_table.ipynb>data table notebook</a>'\n",
              "            + ' to learn more about interactive tables.';\n",
              "          element.innerHTML = '';\n",
              "          dataTable['output_type'] = 'display_data';\n",
              "          await google.colab.output.renderOutput(dataTable, element);\n",
              "          const docLink = document.createElement('div');\n",
              "          docLink.innerHTML = docLinkHtml;\n",
              "          element.appendChild(docLink);\n",
              "        }\n",
              "      </script>\n",
              "    </div>\n",
              "  </div>\n",
              "  "
            ]
          },
          "metadata": {},
          "execution_count": 18
        }
      ]
    },
    {
      "cell_type": "markdown",
      "source": [
        "Se valida con los datos de pruebas"
      ],
      "metadata": {
        "id": "N207D7qp5DPI"
      }
    },
    {
      "cell_type": "code",
      "source": [
        "calculateProbabilisticModel(test)"
      ],
      "metadata": {
        "colab": {
          "base_uri": "https://localhost:8080/",
          "height": 802
        },
        "id": "K9MwdVO75B9h",
        "outputId": "751fe65b-94ab-49a5-ede8-491bae9ffd90"
      },
      "execution_count": null,
      "outputs": [
        {
          "output_type": "execute_result",
          "data": {
            "text/plain": [
              "    1-Monday  2-Tuesday  3-Wednesday  4-Thursday  5-Friday  6-Saturday  \\\n",
              "0      0.000      0.000        0.000       0.000  0.000000    0.000000   \n",
              "1      0.000      0.000        0.000       0.000  0.000000    0.000000   \n",
              "2      0.000      0.000        0.000       0.000  0.000000    0.000000   \n",
              "3      0.000      0.000        0.000       0.000  0.000000    0.000000   \n",
              "4      0.000      0.000        0.000       0.000  0.000000    0.000000   \n",
              "5      0.000      0.000        0.000       0.000  0.000000    0.000000   \n",
              "6      0.000      0.000        0.000       0.000  0.000000    0.000000   \n",
              "7      0.000      0.000        0.000       0.000  0.000000    0.000000   \n",
              "8      0.000      0.000        0.000       0.000  0.000000    0.000000   \n",
              "9      0.000      0.000        0.000       0.000  0.000000    0.000000   \n",
              "10     0.000      0.000        0.000       0.000  0.000000    0.000000   \n",
              "11     0.000      0.000        0.125       0.000  0.000000    0.000000   \n",
              "12     0.125      0.000        0.000       0.000  0.000000    0.222222   \n",
              "13     0.125      0.250        0.125       0.000  0.111111    0.222222   \n",
              "14     0.000      0.125        0.375       0.125  0.000000    0.333333   \n",
              "15     0.250      0.375        0.375       0.375  0.111111    0.111111   \n",
              "16     0.625      0.500        0.750       0.500  0.444444    0.444444   \n",
              "17     0.875      0.875        0.750       0.625  0.888889    0.222222   \n",
              "18     0.500      0.500        0.750       0.625  0.555556    0.222222   \n",
              "19     0.500      0.500        0.375       0.250  0.777778    0.111111   \n",
              "20     0.125      0.125        0.250       0.250  0.444444    0.000000   \n",
              "21     0.125      0.000        0.000       0.125  0.444444    0.000000   \n",
              "22     0.000      0.000        0.000       0.000  0.000000    0.000000   \n",
              "23     0.000      0.000        0.000       0.000  0.111111    0.000000   \n",
              "\n",
              "    7-Sunday  \n",
              "0      0.000  \n",
              "1      0.000  \n",
              "2      0.000  \n",
              "3      0.000  \n",
              "4      0.000  \n",
              "5      0.000  \n",
              "6      0.000  \n",
              "7      0.000  \n",
              "8      0.000  \n",
              "9      0.000  \n",
              "10     0.000  \n",
              "11     0.000  \n",
              "12     0.000  \n",
              "13     0.000  \n",
              "14     0.000  \n",
              "15     0.000  \n",
              "16     0.125  \n",
              "17     0.250  \n",
              "18     0.125  \n",
              "19     0.125  \n",
              "20     0.000  \n",
              "21     0.000  \n",
              "22     0.000  \n",
              "23     0.000  "
            ],
            "text/html": [
              "\n",
              "  <div id=\"df-af46eae5-9b7a-49eb-bc7a-9169c0bb0f0a\">\n",
              "    <div class=\"colab-df-container\">\n",
              "      <div>\n",
              "<style scoped>\n",
              "    .dataframe tbody tr th:only-of-type {\n",
              "        vertical-align: middle;\n",
              "    }\n",
              "\n",
              "    .dataframe tbody tr th {\n",
              "        vertical-align: top;\n",
              "    }\n",
              "\n",
              "    .dataframe thead th {\n",
              "        text-align: right;\n",
              "    }\n",
              "</style>\n",
              "<table border=\"1\" class=\"dataframe\">\n",
              "  <thead>\n",
              "    <tr style=\"text-align: right;\">\n",
              "      <th></th>\n",
              "      <th>1-Monday</th>\n",
              "      <th>2-Tuesday</th>\n",
              "      <th>3-Wednesday</th>\n",
              "      <th>4-Thursday</th>\n",
              "      <th>5-Friday</th>\n",
              "      <th>6-Saturday</th>\n",
              "      <th>7-Sunday</th>\n",
              "    </tr>\n",
              "  </thead>\n",
              "  <tbody>\n",
              "    <tr>\n",
              "      <th>0</th>\n",
              "      <td>0.000</td>\n",
              "      <td>0.000</td>\n",
              "      <td>0.000</td>\n",
              "      <td>0.000</td>\n",
              "      <td>0.000000</td>\n",
              "      <td>0.000000</td>\n",
              "      <td>0.000</td>\n",
              "    </tr>\n",
              "    <tr>\n",
              "      <th>1</th>\n",
              "      <td>0.000</td>\n",
              "      <td>0.000</td>\n",
              "      <td>0.000</td>\n",
              "      <td>0.000</td>\n",
              "      <td>0.000000</td>\n",
              "      <td>0.000000</td>\n",
              "      <td>0.000</td>\n",
              "    </tr>\n",
              "    <tr>\n",
              "      <th>2</th>\n",
              "      <td>0.000</td>\n",
              "      <td>0.000</td>\n",
              "      <td>0.000</td>\n",
              "      <td>0.000</td>\n",
              "      <td>0.000000</td>\n",
              "      <td>0.000000</td>\n",
              "      <td>0.000</td>\n",
              "    </tr>\n",
              "    <tr>\n",
              "      <th>3</th>\n",
              "      <td>0.000</td>\n",
              "      <td>0.000</td>\n",
              "      <td>0.000</td>\n",
              "      <td>0.000</td>\n",
              "      <td>0.000000</td>\n",
              "      <td>0.000000</td>\n",
              "      <td>0.000</td>\n",
              "    </tr>\n",
              "    <tr>\n",
              "      <th>4</th>\n",
              "      <td>0.000</td>\n",
              "      <td>0.000</td>\n",
              "      <td>0.000</td>\n",
              "      <td>0.000</td>\n",
              "      <td>0.000000</td>\n",
              "      <td>0.000000</td>\n",
              "      <td>0.000</td>\n",
              "    </tr>\n",
              "    <tr>\n",
              "      <th>5</th>\n",
              "      <td>0.000</td>\n",
              "      <td>0.000</td>\n",
              "      <td>0.000</td>\n",
              "      <td>0.000</td>\n",
              "      <td>0.000000</td>\n",
              "      <td>0.000000</td>\n",
              "      <td>0.000</td>\n",
              "    </tr>\n",
              "    <tr>\n",
              "      <th>6</th>\n",
              "      <td>0.000</td>\n",
              "      <td>0.000</td>\n",
              "      <td>0.000</td>\n",
              "      <td>0.000</td>\n",
              "      <td>0.000000</td>\n",
              "      <td>0.000000</td>\n",
              "      <td>0.000</td>\n",
              "    </tr>\n",
              "    <tr>\n",
              "      <th>7</th>\n",
              "      <td>0.000</td>\n",
              "      <td>0.000</td>\n",
              "      <td>0.000</td>\n",
              "      <td>0.000</td>\n",
              "      <td>0.000000</td>\n",
              "      <td>0.000000</td>\n",
              "      <td>0.000</td>\n",
              "    </tr>\n",
              "    <tr>\n",
              "      <th>8</th>\n",
              "      <td>0.000</td>\n",
              "      <td>0.000</td>\n",
              "      <td>0.000</td>\n",
              "      <td>0.000</td>\n",
              "      <td>0.000000</td>\n",
              "      <td>0.000000</td>\n",
              "      <td>0.000</td>\n",
              "    </tr>\n",
              "    <tr>\n",
              "      <th>9</th>\n",
              "      <td>0.000</td>\n",
              "      <td>0.000</td>\n",
              "      <td>0.000</td>\n",
              "      <td>0.000</td>\n",
              "      <td>0.000000</td>\n",
              "      <td>0.000000</td>\n",
              "      <td>0.000</td>\n",
              "    </tr>\n",
              "    <tr>\n",
              "      <th>10</th>\n",
              "      <td>0.000</td>\n",
              "      <td>0.000</td>\n",
              "      <td>0.000</td>\n",
              "      <td>0.000</td>\n",
              "      <td>0.000000</td>\n",
              "      <td>0.000000</td>\n",
              "      <td>0.000</td>\n",
              "    </tr>\n",
              "    <tr>\n",
              "      <th>11</th>\n",
              "      <td>0.000</td>\n",
              "      <td>0.000</td>\n",
              "      <td>0.125</td>\n",
              "      <td>0.000</td>\n",
              "      <td>0.000000</td>\n",
              "      <td>0.000000</td>\n",
              "      <td>0.000</td>\n",
              "    </tr>\n",
              "    <tr>\n",
              "      <th>12</th>\n",
              "      <td>0.125</td>\n",
              "      <td>0.000</td>\n",
              "      <td>0.000</td>\n",
              "      <td>0.000</td>\n",
              "      <td>0.000000</td>\n",
              "      <td>0.222222</td>\n",
              "      <td>0.000</td>\n",
              "    </tr>\n",
              "    <tr>\n",
              "      <th>13</th>\n",
              "      <td>0.125</td>\n",
              "      <td>0.250</td>\n",
              "      <td>0.125</td>\n",
              "      <td>0.000</td>\n",
              "      <td>0.111111</td>\n",
              "      <td>0.222222</td>\n",
              "      <td>0.000</td>\n",
              "    </tr>\n",
              "    <tr>\n",
              "      <th>14</th>\n",
              "      <td>0.000</td>\n",
              "      <td>0.125</td>\n",
              "      <td>0.375</td>\n",
              "      <td>0.125</td>\n",
              "      <td>0.000000</td>\n",
              "      <td>0.333333</td>\n",
              "      <td>0.000</td>\n",
              "    </tr>\n",
              "    <tr>\n",
              "      <th>15</th>\n",
              "      <td>0.250</td>\n",
              "      <td>0.375</td>\n",
              "      <td>0.375</td>\n",
              "      <td>0.375</td>\n",
              "      <td>0.111111</td>\n",
              "      <td>0.111111</td>\n",
              "      <td>0.000</td>\n",
              "    </tr>\n",
              "    <tr>\n",
              "      <th>16</th>\n",
              "      <td>0.625</td>\n",
              "      <td>0.500</td>\n",
              "      <td>0.750</td>\n",
              "      <td>0.500</td>\n",
              "      <td>0.444444</td>\n",
              "      <td>0.444444</td>\n",
              "      <td>0.125</td>\n",
              "    </tr>\n",
              "    <tr>\n",
              "      <th>17</th>\n",
              "      <td>0.875</td>\n",
              "      <td>0.875</td>\n",
              "      <td>0.750</td>\n",
              "      <td>0.625</td>\n",
              "      <td>0.888889</td>\n",
              "      <td>0.222222</td>\n",
              "      <td>0.250</td>\n",
              "    </tr>\n",
              "    <tr>\n",
              "      <th>18</th>\n",
              "      <td>0.500</td>\n",
              "      <td>0.500</td>\n",
              "      <td>0.750</td>\n",
              "      <td>0.625</td>\n",
              "      <td>0.555556</td>\n",
              "      <td>0.222222</td>\n",
              "      <td>0.125</td>\n",
              "    </tr>\n",
              "    <tr>\n",
              "      <th>19</th>\n",
              "      <td>0.500</td>\n",
              "      <td>0.500</td>\n",
              "      <td>0.375</td>\n",
              "      <td>0.250</td>\n",
              "      <td>0.777778</td>\n",
              "      <td>0.111111</td>\n",
              "      <td>0.125</td>\n",
              "    </tr>\n",
              "    <tr>\n",
              "      <th>20</th>\n",
              "      <td>0.125</td>\n",
              "      <td>0.125</td>\n",
              "      <td>0.250</td>\n",
              "      <td>0.250</td>\n",
              "      <td>0.444444</td>\n",
              "      <td>0.000000</td>\n",
              "      <td>0.000</td>\n",
              "    </tr>\n",
              "    <tr>\n",
              "      <th>21</th>\n",
              "      <td>0.125</td>\n",
              "      <td>0.000</td>\n",
              "      <td>0.000</td>\n",
              "      <td>0.125</td>\n",
              "      <td>0.444444</td>\n",
              "      <td>0.000000</td>\n",
              "      <td>0.000</td>\n",
              "    </tr>\n",
              "    <tr>\n",
              "      <th>22</th>\n",
              "      <td>0.000</td>\n",
              "      <td>0.000</td>\n",
              "      <td>0.000</td>\n",
              "      <td>0.000</td>\n",
              "      <td>0.000000</td>\n",
              "      <td>0.000000</td>\n",
              "      <td>0.000</td>\n",
              "    </tr>\n",
              "    <tr>\n",
              "      <th>23</th>\n",
              "      <td>0.000</td>\n",
              "      <td>0.000</td>\n",
              "      <td>0.000</td>\n",
              "      <td>0.000</td>\n",
              "      <td>0.111111</td>\n",
              "      <td>0.000000</td>\n",
              "      <td>0.000</td>\n",
              "    </tr>\n",
              "  </tbody>\n",
              "</table>\n",
              "</div>\n",
              "      <button class=\"colab-df-convert\" onclick=\"convertToInteractive('df-af46eae5-9b7a-49eb-bc7a-9169c0bb0f0a')\"\n",
              "              title=\"Convert this dataframe to an interactive table.\"\n",
              "              style=\"display:none;\">\n",
              "        \n",
              "  <svg xmlns=\"http://www.w3.org/2000/svg\" height=\"24px\"viewBox=\"0 0 24 24\"\n",
              "       width=\"24px\">\n",
              "    <path d=\"M0 0h24v24H0V0z\" fill=\"none\"/>\n",
              "    <path d=\"M18.56 5.44l.94 2.06.94-2.06 2.06-.94-2.06-.94-.94-2.06-.94 2.06-2.06.94zm-11 1L8.5 8.5l.94-2.06 2.06-.94-2.06-.94L8.5 2.5l-.94 2.06-2.06.94zm10 10l.94 2.06.94-2.06 2.06-.94-2.06-.94-.94-2.06-.94 2.06-2.06.94z\"/><path d=\"M17.41 7.96l-1.37-1.37c-.4-.4-.92-.59-1.43-.59-.52 0-1.04.2-1.43.59L10.3 9.45l-7.72 7.72c-.78.78-.78 2.05 0 2.83L4 21.41c.39.39.9.59 1.41.59.51 0 1.02-.2 1.41-.59l7.78-7.78 2.81-2.81c.8-.78.8-2.07 0-2.86zM5.41 20L4 18.59l7.72-7.72 1.47 1.35L5.41 20z\"/>\n",
              "  </svg>\n",
              "      </button>\n",
              "      \n",
              "  <style>\n",
              "    .colab-df-container {\n",
              "      display:flex;\n",
              "      flex-wrap:wrap;\n",
              "      gap: 12px;\n",
              "    }\n",
              "\n",
              "    .colab-df-convert {\n",
              "      background-color: #E8F0FE;\n",
              "      border: none;\n",
              "      border-radius: 50%;\n",
              "      cursor: pointer;\n",
              "      display: none;\n",
              "      fill: #1967D2;\n",
              "      height: 32px;\n",
              "      padding: 0 0 0 0;\n",
              "      width: 32px;\n",
              "    }\n",
              "\n",
              "    .colab-df-convert:hover {\n",
              "      background-color: #E2EBFA;\n",
              "      box-shadow: 0px 1px 2px rgba(60, 64, 67, 0.3), 0px 1px 3px 1px rgba(60, 64, 67, 0.15);\n",
              "      fill: #174EA6;\n",
              "    }\n",
              "\n",
              "    [theme=dark] .colab-df-convert {\n",
              "      background-color: #3B4455;\n",
              "      fill: #D2E3FC;\n",
              "    }\n",
              "\n",
              "    [theme=dark] .colab-df-convert:hover {\n",
              "      background-color: #434B5C;\n",
              "      box-shadow: 0px 1px 3px 1px rgba(0, 0, 0, 0.15);\n",
              "      filter: drop-shadow(0px 1px 2px rgba(0, 0, 0, 0.3));\n",
              "      fill: #FFFFFF;\n",
              "    }\n",
              "  </style>\n",
              "\n",
              "      <script>\n",
              "        const buttonEl =\n",
              "          document.querySelector('#df-af46eae5-9b7a-49eb-bc7a-9169c0bb0f0a button.colab-df-convert');\n",
              "        buttonEl.style.display =\n",
              "          google.colab.kernel.accessAllowed ? 'block' : 'none';\n",
              "\n",
              "        async function convertToInteractive(key) {\n",
              "          const element = document.querySelector('#df-af46eae5-9b7a-49eb-bc7a-9169c0bb0f0a');\n",
              "          const dataTable =\n",
              "            await google.colab.kernel.invokeFunction('convertToInteractive',\n",
              "                                                     [key], {});\n",
              "          if (!dataTable) return;\n",
              "\n",
              "          const docLinkHtml = 'Like what you see? Visit the ' +\n",
              "            '<a target=\"_blank\" href=https://colab.research.google.com/notebooks/data_table.ipynb>data table notebook</a>'\n",
              "            + ' to learn more about interactive tables.';\n",
              "          element.innerHTML = '';\n",
              "          dataTable['output_type'] = 'display_data';\n",
              "          await google.colab.output.renderOutput(dataTable, element);\n",
              "          const docLink = document.createElement('div');\n",
              "          docLink.innerHTML = docLinkHtml;\n",
              "          element.appendChild(docLink);\n",
              "        }\n",
              "      </script>\n",
              "    </div>\n",
              "  </div>\n",
              "  "
            ]
          },
          "metadata": {},
          "execution_count": 19
        }
      ]
    },
    {
      "cell_type": "markdown",
      "source": [
        "# Exploración inicial"
      ],
      "metadata": {
        "id": "2UKdI6FdI9YF"
      }
    },
    {
      "cell_type": "code",
      "source": [
        "df_reg = df_mp.copy()\n",
        "df_reg = df_reg.drop(columns=['TELEFONOORIGEN','FECHA'])\n",
        "fig, axes = plot.subplots(1, 3)\n",
        "fig.set_size_inches(21,6)\n",
        "for i, column in enumerate(df_reg.columns):\n",
        "  sns.histplot(df_reg[column], kde=True, ax=axes[i])"
      ],
      "metadata": {
        "colab": {
          "base_uri": "https://localhost:8080/",
          "height": 388
        },
        "id": "T7WrOmEJ0e1z",
        "outputId": "e8940f5e-a0b9-43b9-c8e7-efb85e839775"
      },
      "execution_count": null,
      "outputs": [
        {
          "output_type": "display_data",
          "data": {
            "text/plain": [
              "<Figure size 1512x432 with 3 Axes>"
            ],
            "image/png": "[encoded data removed]"
          },
          "metadata": {
            "needs_background": "light"
          }
        }
      ]
    },
    {
      "cell_type": "markdown",
      "source": [
        "Se genera un diagrama de dispersión"
      ],
      "metadata": {
        "id": "CyIrEVUc4TUm"
      }
    },
    {
      "cell_type": "code",
      "source": [
        "served = df_reg[df_reg.SERVICIO == 1]\n",
        "not_served = df_reg[df_reg.SERVICIO == 0]\n",
        "\n",
        "plot.figure(figsize=(14, 8))\n",
        "plot.plot(served['DIADESEMANA'].values, served['HORA'].values, linestyle='', marker='o', color='royalblue', label='Served')\n",
        "plot.plot(not_served['DIADESEMANA'].values, not_served['HORA'].values, linestyle='', marker='x', color='r', label='Not Served')\n",
        "plot.title(\"Services results\")\n",
        "plot.legend()\n",
        "plot.grid()\n",
        "plot.xlabel('Dia de la semana')\n",
        "plot.ylabel('Hora')\n",
        "plot.show()"
      ],
      "metadata": {
        "colab": {
          "base_uri": "https://localhost:8080/",
          "height": 513
        },
        "id": "ZSTp8gmv4RHM",
        "outputId": "ee366c96-6bde-4314-8040-6953a075b962"
      },
      "execution_count": null,
      "outputs": [
        {
          "output_type": "display_data",
          "data": {
            "text/plain": [
              "<Figure size 1008x576 with 1 Axes>"
            ],
            "image/png": "[encoded data removed]"
          },
          "metadata": {
            "needs_background": "light"
          }
        }
      ]
    },
    {
      "cell_type": "code",
      "source": [
        "df_reg[['DIADESEMANA','HORA']].boxplot(figsize=(14,9))"
      ],
      "metadata": {
        "colab": {
          "base_uri": "https://localhost:8080/",
          "height": 554
        },
        "id": "Ee-aLiJ46kBn",
        "outputId": "5fea25b9-4e2b-4013-a915-61216044f0bc"
      },
      "execution_count": null,
      "outputs": [
        {
          "output_type": "execute_result",
          "data": {
            "text/plain": [
              "<matplotlib.axes._subplots.AxesSubplot at 0x7fea23cbaf10>"
            ]
          },
          "metadata": {},
          "execution_count": 22
        },
        {
          "output_type": "display_data",
          "data": {
            "text/plain": [
              "<Figure size 1008x648 with 1 Axes>"
            ],
            "image/png": "[encoded data removed]"
          },
          "metadata": {
            "needs_background": "light"
          }
        }
      ]
    },
    {
      "cell_type": "markdown",
      "source": [
        "Generando datos de prueba y entrenamiento"
      ],
      "metadata": {
        "id": "PeMgdkct7Ak6"
      }
    },
    {
      "cell_type": "code",
      "source": [
        "#CONJUNTO DE DATOS DE PRUEBA (20%)\n",
        "from sklearn.model_selection import train_test_split\n",
        "train, test = train_test_split(df_reg, test_size=0.2, random_state=3, shuffle=True)\n",
        "print(train)"
      ],
      "metadata": {
        "id": "dEmIPsDe6xtx",
        "colab": {
          "base_uri": "https://localhost:8080/"
        },
        "outputId": "3eaaaac8-8eff-4c7d-c595-932d09b40eac"
      },
      "execution_count": null,
      "outputs": [
        {
          "output_type": "stream",
          "name": "stdout",
          "text": [
            "      DIADESEMANA  HORA  SERVICIO\n",
            "1042            6    10         0\n",
            "588             1    12         0\n",
            "2242            7    10         0\n",
            "551             6    23         0\n",
            "1037            6     5         0\n",
            "...           ...   ...       ...\n",
            "3000            4     0         0\n",
            "1667            4    11         0\n",
            "3321            3     9         0\n",
            "1688            5     8         0\n",
            "1898            7     2         0\n",
            "\n",
            "[2860 rows x 3 columns]\n"
          ]
        }
      ]
    },
    {
      "cell_type": "code",
      "source": [
        "#datos de entrenamiento\n",
        "train.shape"
      ],
      "metadata": {
        "colab": {
          "base_uri": "https://localhost:8080/"
        },
        "id": "R0SPrxfIFmYP",
        "outputId": "f625b3d9-3e8e-4f47-f220-5cf9310b9ef9"
      },
      "execution_count": null,
      "outputs": [
        {
          "output_type": "execute_result",
          "data": {
            "text/plain": [
              "(2860, 3)"
            ]
          },
          "metadata": {},
          "execution_count": 24
        }
      ]
    },
    {
      "cell_type": "code",
      "source": [
        "#Matriz de Dispersion con MatPlotLib\n",
        "pd.plotting.scatter_matrix(train.loc[:,['DIADESEMANA','HORA','SERVICIO']], figsize=(14,10), alpha=0.8)\n",
        "plot.show()"
      ],
      "metadata": {
        "colab": {
          "base_uri": "https://localhost:8080/",
          "height": 608
        },
        "id": "1Lt83M0wGCiY",
        "outputId": "2156bfba-43d2-42cd-96c6-bb44df6fbd0b"
      },
      "execution_count": null,
      "outputs": [
        {
          "output_type": "display_data",
          "data": {
            "text/plain": [
              "<Figure size 1008x720 with 9 Axes>"
            ],
            "image/png": "[encoded data removed]"
          },
          "metadata": {
            "needs_background": "light"
          }
        }
      ]
    },
    {
      "cell_type": "code",
      "source": [
        "correlation_matrix = train.corr().round(2) \n",
        "fig, heat = plot.subplots(figsize = (14,10))\n",
        "heat = sns.heatmap(data=correlation_matrix, annot=True, cmap=\"YlGnBu\")\n",
        "plot.show()"
      ],
      "metadata": {
        "colab": {
          "base_uri": "https://localhost:8080/",
          "height": 596
        },
        "id": "c-x5S_dfGy0b",
        "outputId": "175295b3-5e70-4da5-cc7c-4565764c2eee"
      },
      "execution_count": null,
      "outputs": [
        {
          "output_type": "display_data",
          "data": {
            "text/plain": [
              "<Figure size 1008x720 with 2 Axes>"
            ],
            "image/png": "[encoded data removed]"
          },
          "metadata": {
            "needs_background": "light"
          }
        }
      ]
    },
    {
      "cell_type": "code",
      "source": [
        "train.corr().SERVICIO.to_frame()"
      ],
      "metadata": {
        "colab": {
          "base_uri": "https://localhost:8080/",
          "height": 143
        },
        "id": "djM7T_WtHRNY",
        "outputId": "023a81e2-b443-4cd8-a36d-fd5a40bf5705"
      },
      "execution_count": null,
      "outputs": [
        {
          "output_type": "execute_result",
          "data": {
            "text/plain": [
              "             SERVICIO\n",
              "DIADESEMANA -0.068639\n",
              "HORA         0.245404\n",
              "SERVICIO     1.000000"
            ],
            "text/html": [
              "\n",
              "  <div id=\"df-a13f1790-5be7-4bc4-8158-6dd8c0a71ea1\">\n",
              "    <div class=\"colab-df-container\">\n",
              "      <div>\n",
              "<style scoped>\n",
              "    .dataframe tbody tr th:only-of-type {\n",
              "        vertical-align: middle;\n",
              "    }\n",
              "\n",
              "    .dataframe tbody tr th {\n",
              "        vertical-align: top;\n",
              "    }\n",
              "\n",
              "    .dataframe thead th {\n",
              "        text-align: right;\n",
              "    }\n",
              "</style>\n",
              "<table border=\"1\" class=\"dataframe\">\n",
              "  <thead>\n",
              "    <tr style=\"text-align: right;\">\n",
              "      <th></th>\n",
              "      <th>SERVICIO</th>\n",
              "    </tr>\n",
              "  </thead>\n",
              "  <tbody>\n",
              "    <tr>\n",
              "      <th>DIADESEMANA</th>\n",
              "      <td>-0.068639</td>\n",
              "    </tr>\n",
              "    <tr>\n",
              "      <th>HORA</th>\n",
              "      <td>0.245404</td>\n",
              "    </tr>\n",
              "    <tr>\n",
              "      <th>SERVICIO</th>\n",
              "      <td>1.000000</td>\n",
              "    </tr>\n",
              "  </tbody>\n",
              "</table>\n",
              "</div>\n",
              "      <button class=\"colab-df-convert\" onclick=\"convertToInteractive('df-a13f1790-5be7-4bc4-8158-6dd8c0a71ea1')\"\n",
              "              title=\"Convert this dataframe to an interactive table.\"\n",
              "              style=\"display:none;\">\n",
              "        \n",
              "  <svg xmlns=\"http://www.w3.org/2000/svg\" height=\"24px\"viewBox=\"0 0 24 24\"\n",
              "       width=\"24px\">\n",
              "    <path d=\"M0 0h24v24H0V0z\" fill=\"none\"/>\n",
              "    <path d=\"M18.56 5.44l.94 2.06.94-2.06 2.06-.94-2.06-.94-.94-2.06-.94 2.06-2.06.94zm-11 1L8.5 8.5l.94-2.06 2.06-.94-2.06-.94L8.5 2.5l-.94 2.06-2.06.94zm10 10l.94 2.06.94-2.06 2.06-.94-2.06-.94-.94-2.06-.94 2.06-2.06.94z\"/><path d=\"M17.41 7.96l-1.37-1.37c-.4-.4-.92-.59-1.43-.59-.52 0-1.04.2-1.43.59L10.3 9.45l-7.72 7.72c-.78.78-.78 2.05 0 2.83L4 21.41c.39.39.9.59 1.41.59.51 0 1.02-.2 1.41-.59l7.78-7.78 2.81-2.81c.8-.78.8-2.07 0-2.86zM5.41 20L4 18.59l7.72-7.72 1.47 1.35L5.41 20z\"/>\n",
              "  </svg>\n",
              "      </button>\n",
              "      \n",
              "  <style>\n",
              "    .colab-df-container {\n",
              "      display:flex;\n",
              "      flex-wrap:wrap;\n",
              "      gap: 12px;\n",
              "    }\n",
              "\n",
              "    .colab-df-convert {\n",
              "      background-color: #E8F0FE;\n",
              "      border: none;\n",
              "      border-radius: 50%;\n",
              "      cursor: pointer;\n",
              "      display: none;\n",
              "      fill: #1967D2;\n",
              "      height: 32px;\n",
              "      padding: 0 0 0 0;\n",
              "      width: 32px;\n",
              "    }\n",
              "\n",
              "    .colab-df-convert:hover {\n",
              "      background-color: #E2EBFA;\n",
              "      box-shadow: 0px 1px 2px rgba(60, 64, 67, 0.3), 0px 1px 3px 1px rgba(60, 64, 67, 0.15);\n",
              "      fill: #174EA6;\n",
              "    }\n",
              "\n",
              "    [theme=dark] .colab-df-convert {\n",
              "      background-color: #3B4455;\n",
              "      fill: #D2E3FC;\n",
              "    }\n",
              "\n",
              "    [theme=dark] .colab-df-convert:hover {\n",
              "      background-color: #434B5C;\n",
              "      box-shadow: 0px 1px 3px 1px rgba(0, 0, 0, 0.15);\n",
              "      filter: drop-shadow(0px 1px 2px rgba(0, 0, 0, 0.3));\n",
              "      fill: #FFFFFF;\n",
              "    }\n",
              "  </style>\n",
              "\n",
              "      <script>\n",
              "        const buttonEl =\n",
              "          document.querySelector('#df-a13f1790-5be7-4bc4-8158-6dd8c0a71ea1 button.colab-df-convert');\n",
              "        buttonEl.style.display =\n",
              "          google.colab.kernel.accessAllowed ? 'block' : 'none';\n",
              "\n",
              "        async function convertToInteractive(key) {\n",
              "          const element = document.querySelector('#df-a13f1790-5be7-4bc4-8158-6dd8c0a71ea1');\n",
              "          const dataTable =\n",
              "            await google.colab.kernel.invokeFunction('convertToInteractive',\n",
              "                                                     [key], {});\n",
              "          if (!dataTable) return;\n",
              "\n",
              "          const docLinkHtml = 'Like what you see? Visit the ' +\n",
              "            '<a target=\"_blank\" href=https://colab.research.google.com/notebooks/data_table.ipynb>data table notebook</a>'\n",
              "            + ' to learn more about interactive tables.';\n",
              "          element.innerHTML = '';\n",
              "          dataTable['output_type'] = 'display_data';\n",
              "          await google.colab.output.renderOutput(dataTable, element);\n",
              "          const docLink = document.createElement('div');\n",
              "          docLink.innerHTML = docLinkHtml;\n",
              "          element.appendChild(docLink);\n",
              "        }\n",
              "      </script>\n",
              "    </div>\n",
              "  </div>\n",
              "  "
            ]
          },
          "metadata": {},
          "execution_count": 27
        }
      ]
    },
    {
      "cell_type": "markdown",
      "source": [
        "# Generación del modelo"
      ],
      "metadata": {
        "id": "UTvSWpQ6IOOt"
      }
    },
    {
      "cell_type": "code",
      "source": [
        "from sklearn.preprocessing import StandardScaler\n",
        "std = StandardScaler()\n",
        "data = pd.DataFrame(std.fit_transform(train), columns=train.columns)\n",
        "data.head()"
      ],
      "metadata": {
        "colab": {
          "base_uri": "https://localhost:8080/",
          "height": 206
        },
        "id": "LhhMta5vIScw",
        "outputId": "03eb8020-6e1b-4a9d-f953-8a3e0857c743"
      },
      "execution_count": null,
      "outputs": [
        {
          "output_type": "execute_result",
          "data": {
            "text/plain": [
              "   DIADESEMANA      HORA  SERVICIO\n",
              "0     0.998798 -0.227844 -0.308134\n",
              "1    -1.521550  0.061964 -0.308134\n",
              "2     1.502868 -0.227844 -0.308134\n",
              "3     0.998798  1.655913 -0.308134\n",
              "4     0.998798 -0.952367 -0.308134"
            ],
            "text/html": [
              "\n",
              "  <div id=\"df-8a2138ea-38c4-4545-b501-7e3f2390d829\">\n",
              "    <div class=\"colab-df-container\">\n",
              "      <div>\n",
              "<style scoped>\n",
              "    .dataframe tbody tr th:only-of-type {\n",
              "        vertical-align: middle;\n",
              "    }\n",
              "\n",
              "    .dataframe tbody tr th {\n",
              "        vertical-align: top;\n",
              "    }\n",
              "\n",
              "    .dataframe thead th {\n",
              "        text-align: right;\n",
              "    }\n",
              "</style>\n",
              "<table border=\"1\" class=\"dataframe\">\n",
              "  <thead>\n",
              "    <tr style=\"text-align: right;\">\n",
              "      <th></th>\n",
              "      <th>DIADESEMANA</th>\n",
              "      <th>HORA</th>\n",
              "      <th>SERVICIO</th>\n",
              "    </tr>\n",
              "  </thead>\n",
              "  <tbody>\n",
              "    <tr>\n",
              "      <th>0</th>\n",
              "      <td>0.998798</td>\n",
              "      <td>-0.227844</td>\n",
              "      <td>-0.308134</td>\n",
              "    </tr>\n",
              "    <tr>\n",
              "      <th>1</th>\n",
              "      <td>-1.521550</td>\n",
              "      <td>0.061964</td>\n",
              "      <td>-0.308134</td>\n",
              "    </tr>\n",
              "    <tr>\n",
              "      <th>2</th>\n",
              "      <td>1.502868</td>\n",
              "      <td>-0.227844</td>\n",
              "      <td>-0.308134</td>\n",
              "    </tr>\n",
              "    <tr>\n",
              "      <th>3</th>\n",
              "      <td>0.998798</td>\n",
              "      <td>1.655913</td>\n",
              "      <td>-0.308134</td>\n",
              "    </tr>\n",
              "    <tr>\n",
              "      <th>4</th>\n",
              "      <td>0.998798</td>\n",
              "      <td>-0.952367</td>\n",
              "      <td>-0.308134</td>\n",
              "    </tr>\n",
              "  </tbody>\n",
              "</table>\n",
              "</div>\n",
              "      <button class=\"colab-df-convert\" onclick=\"convertToInteractive('df-8a2138ea-38c4-4545-b501-7e3f2390d829')\"\n",
              "              title=\"Convert this dataframe to an interactive table.\"\n",
              "              style=\"display:none;\">\n",
              "        \n",
              "  <svg xmlns=\"http://www.w3.org/2000/svg\" height=\"24px\"viewBox=\"0 0 24 24\"\n",
              "       width=\"24px\">\n",
              "    <path d=\"M0 0h24v24H0V0z\" fill=\"none\"/>\n",
              "    <path d=\"M18.56 5.44l.94 2.06.94-2.06 2.06-.94-2.06-.94-.94-2.06-.94 2.06-2.06.94zm-11 1L8.5 8.5l.94-2.06 2.06-.94-2.06-.94L8.5 2.5l-.94 2.06-2.06.94zm10 10l.94 2.06.94-2.06 2.06-.94-2.06-.94-.94-2.06-.94 2.06-2.06.94z\"/><path d=\"M17.41 7.96l-1.37-1.37c-.4-.4-.92-.59-1.43-.59-.52 0-1.04.2-1.43.59L10.3 9.45l-7.72 7.72c-.78.78-.78 2.05 0 2.83L4 21.41c.39.39.9.59 1.41.59.51 0 1.02-.2 1.41-.59l7.78-7.78 2.81-2.81c.8-.78.8-2.07 0-2.86zM5.41 20L4 18.59l7.72-7.72 1.47 1.35L5.41 20z\"/>\n",
              "  </svg>\n",
              "      </button>\n",
              "      \n",
              "  <style>\n",
              "    .colab-df-container {\n",
              "      display:flex;\n",
              "      flex-wrap:wrap;\n",
              "      gap: 12px;\n",
              "    }\n",
              "\n",
              "    .colab-df-convert {\n",
              "      background-color: #E8F0FE;\n",
              "      border: none;\n",
              "      border-radius: 50%;\n",
              "      cursor: pointer;\n",
              "      display: none;\n",
              "      fill: #1967D2;\n",
              "      height: 32px;\n",
              "      padding: 0 0 0 0;\n",
              "      width: 32px;\n",
              "    }\n",
              "\n",
              "    .colab-df-convert:hover {\n",
              "      background-color: #E2EBFA;\n",
              "      box-shadow: 0px 1px 2px rgba(60, 64, 67, 0.3), 0px 1px 3px 1px rgba(60, 64, 67, 0.15);\n",
              "      fill: #174EA6;\n",
              "    }\n",
              "\n",
              "    [theme=dark] .colab-df-convert {\n",
              "      background-color: #3B4455;\n",
              "      fill: #D2E3FC;\n",
              "    }\n",
              "\n",
              "    [theme=dark] .colab-df-convert:hover {\n",
              "      background-color: #434B5C;\n",
              "      box-shadow: 0px 1px 3px 1px rgba(0, 0, 0, 0.15);\n",
              "      filter: drop-shadow(0px 1px 2px rgba(0, 0, 0, 0.3));\n",
              "      fill: #FFFFFF;\n",
              "    }\n",
              "  </style>\n",
              "\n",
              "      <script>\n",
              "        const buttonEl =\n",
              "          document.querySelector('#df-8a2138ea-38c4-4545-b501-7e3f2390d829 button.colab-df-convert');\n",
              "        buttonEl.style.display =\n",
              "          google.colab.kernel.accessAllowed ? 'block' : 'none';\n",
              "\n",
              "        async function convertToInteractive(key) {\n",
              "          const element = document.querySelector('#df-8a2138ea-38c4-4545-b501-7e3f2390d829');\n",
              "          const dataTable =\n",
              "            await google.colab.kernel.invokeFunction('convertToInteractive',\n",
              "                                                     [key], {});\n",
              "          if (!dataTable) return;\n",
              "\n",
              "          const docLinkHtml = 'Like what you see? Visit the ' +\n",
              "            '<a target=\"_blank\" href=https://colab.research.google.com/notebooks/data_table.ipynb>data table notebook</a>'\n",
              "            + ' to learn more about interactive tables.';\n",
              "          element.innerHTML = '';\n",
              "          dataTable['output_type'] = 'display_data';\n",
              "          await google.colab.output.renderOutput(dataTable, element);\n",
              "          const docLink = document.createElement('div');\n",
              "          docLink.innerHTML = docLinkHtml;\n",
              "          element.appendChild(docLink);\n",
              "        }\n",
              "      </script>\n",
              "    </div>\n",
              "  </div>\n",
              "  "
            ]
          },
          "metadata": {},
          "execution_count": 28
        }
      ]
    },
    {
      "cell_type": "code",
      "source": [
        "yrl = data.SERVICIO\n",
        "features = ['HORA',\t'DIADESEMANA']\n",
        "Xrl = data[features]"
      ],
      "metadata": {
        "id": "Su-Y2_r4ImFC"
      },
      "execution_count": null,
      "outputs": []
    },
    {
      "cell_type": "markdown",
      "source": [
        ""
      ],
      "metadata": {
        "id": "9G0mtzatt__U"
      }
    },
    {
      "cell_type": "markdown",
      "source": [
        "##Evaluación de modelos##"
      ],
      "metadata": {
        "id": "aSkTexouI08q"
      }
    },
    {
      "cell_type": "markdown",
      "source": [
        "ALGORITMO DE LOS KNN"
      ],
      "metadata": {
        "id": "5i6hQrRTt-43"
      }
    }
  ]
}