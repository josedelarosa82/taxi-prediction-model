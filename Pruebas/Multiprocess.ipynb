{
 "cells": [
  {
   "cell_type": "code",
   "execution_count": 1,
   "id": "282ce098-d7d7-42ec-8c31-90a0821ecf7f",
   "metadata": {
    "tags": []
   },
   "outputs": [
    {
     "name": "stdout",
     "output_type": "stream",
     "text": [
      "Array sorted:  [1, 2, 4, 4, 5, 6, 8, 9]\n"
     ]
    }
   ],
   "source": [
    "from multiprocessing import Process\n",
    "\n",
    "def bubble_sort(array):\n",
    "    check = True\n",
    "    while check == True:\n",
    "      check = False\n",
    "      for i in range(0, len(array)-1):\n",
    "        if array[i] > array[i+1]:\n",
    "          check = True\n",
    "          temp = array[i]\n",
    "          array[i] = array[i+1]\n",
    "          array[i+1] = temp\n",
    "    print(\"Array sorted: \", array)\n",
    "\n",
    "if __name__ == '__main__':\n",
    "    p = Process(target=bubble_sort, args=([1,9,4,5,2,6,8,4],))\n",
    "    p.start()\n",
    "    p.join()"
   ]
  },
  {
   "cell_type": "code",
   "execution_count": 2,
   "id": "67aa8f78-decd-4e65-8307-12864b8ddd61",
   "metadata": {
    "tags": []
   },
   "outputs": [
    {
     "name": "stdout",
     "output_type": "stream",
     "text": [
      "Program finished!\n"
     ]
    }
   ],
   "source": [
    "from multiprocessing import Pool\n",
    "import time\n",
    "import math\n",
    "\n",
    "N = 5000000\n",
    "\n",
    "def cube(x):\n",
    "    return math.sqrt(x)\n",
    "\n",
    "if __name__ == \"__main__\":\n",
    "    with Pool() as pool:\n",
    "      result = pool.map(cube, range(10,N))\n",
    "    print(\"Program finished!\")"
   ]
  },
  {
   "cell_type": "code",
   "execution_count": 3,
   "id": "24ce3232-6333-4166-9cad-e15c1b2b9b74",
   "metadata": {
    "tags": []
   },
   "outputs": [
    {
     "name": "stdout",
     "output_type": "stream",
     "text": [
      "Program finished in 1.042148740000016 seconds - using multiprocessing\n",
      "---\n",
      "Program finished in 1.3429676119999385 seconds\n"
     ]
    }
   ],
   "source": [
    "from multiprocessing import Pool\n",
    "import time\n",
    "import math\n",
    "\n",
    "N = 5000000\n",
    "\n",
    "def cube(x):\n",
    "    return math.sqrt(x)\n",
    "\n",
    "if __name__ == \"__main__\":\n",
    "    # first way, using multiprocessing\n",
    "    start_time = time.perf_counter()\n",
    "    with Pool() as pool:\n",
    "      result = pool.map(cube, range(10,N))\n",
    "    finish_time = time.perf_counter()\n",
    "    print(\"Program finished in {} seconds - using multiprocessing\".format(finish_time-start_time))\n",
    "    print(\"---\")\n",
    "    # second way, serial computation\n",
    "    start_time = time.perf_counter()\n",
    "    result = []\n",
    "    for x in range(10,N):\n",
    "      result.append(cube(x))\n",
    "    finish_time = time.perf_counter()\n",
    "    print(\"Program finished in {} seconds\".format(finish_time-start_time))"
   ]
  },
  {
   "cell_type": "code",
   "execution_count": 4,
   "id": "617f87c8-8266-4c24-9c1a-8a83d87f3fea",
   "metadata": {},
   "outputs": [
    {
     "name": "stdout",
     "output_type": "stream",
     "text": [
      "main line\n",
      "module name: __main__\n",
      "parent process: 3844\n",
      "process id: 15624\n",
      "function f\n",
      "module name: __main__\n",
      "parent process: 15624\n",
      "process id: 15970\n",
      "hello bob\n"
     ]
    }
   ],
   "source": [
    "from multiprocessing import Process\n",
    "import os\n",
    "\n",
    "def info(title):\n",
    "    print(title)\n",
    "    print('module name:', __name__)\n",
    "    print('parent process:', os.getppid())\n",
    "    print('process id:', os.getpid())\n",
    "\n",
    "def f(name):\n",
    "    info('function f')\n",
    "    print('hello', name)\n",
    "\n",
    "if __name__ == '__main__':\n",
    "    info('main line')\n",
    "    p = Process(target=f, args=('bob',))\n",
    "    p.start()\n",
    "    p.join()"
   ]
  },
  {
   "cell_type": "code",
   "execution_count": 5,
   "id": "1dc27d6b-0d18-40bb-8cea-32450785272b",
   "metadata": {
    "tags": []
   },
   "outputs": [
    {
     "name": "stdout",
     "output_type": "stream",
     "text": [
      "main line\n",
      "module name: __main__\n",
      "parent process: 3844\n",
      "process id: 15624\n",
      "\n"
     ]
    }
   ],
   "source": [
    "from multiprocessing import Process\n",
    "import os\n",
    "\n",
    "\n",
    "\n",
    "def add(x):\n",
    "    return x + x \n",
    "\n",
    "if __name__ == '__main__':\n",
    "    info('main line')\n",
    "    X = [[1, 2], [4, 5], [3, 6]]\n",
    "    p = Process(target=add, args=(x,))\n",
    "    p.start()\n",
    "    p.join()\n",
    "    print()"
   ]
  },
  {
   "cell_type": "code",
   "execution_count": 32,
   "id": "a3de7daa-1942-4b48-a753-aeefd9e2be8c",
   "metadata": {
    "tags": []
   },
   "outputs": [
    {
     "name": "stdout",
     "output_type": "stream",
     "text": [
      "Program finished in 0.097237457999654 seconds - using multiprocessing - [30, 33, 36, 39, 42, 45, 48, 51, 54, 57, 60, 63, 66, 69, 72, 75, 78, 81, 84, 87, 90, 93, 96, 99, 102, 105, 108, 111, 114, 117, 120, 123, 126, 129, 132, 135, 138, 141, 144, 147]\n",
      "---\n",
      "Program finished in 2.430300082778558e-05 seconds [30, 33, 36, 39, 42, 45, 48, 51, 54, 57, 60, 63, 66, 69, 72, 75, 78, 81, 84, 87, 90, 93, 96, 99, 102, 105, 108, 111, 114, 117, 120, 123, 126, 129, 132, 135, 138, 141, 144, 147]\n"
     ]
    }
   ],
   "source": [
    "from multiprocessing import Pool\n",
    "import time\n",
    "import math\n",
    "\n",
    "N = 50\n",
    "\n",
    "def add(a,b):\n",
    "    #print(f\"Suma = {a} + {b} = {a + b}\")\n",
    "    return a + b\n",
    "\n",
    "if __name__ == \"__main__\":\n",
    "    # first way, using multiprocessing\n",
    "    start_time = time.perf_counter()\n",
    "    result = []\n",
    "    args = [(i, i*2) for i in range(10,N)]\n",
    "    with Pool() as pool:\n",
    "      result = pool.starmap(add, args)\n",
    "    finish_time = time.perf_counter()\n",
    "    print(f\"Program finished in {format(finish_time-start_time)} seconds - using multiprocessing - {result}\")\n",
    "    \n",
    "    print(\"---\")\n",
    "    # second way, serial computation\n",
    "    start_time = time.perf_counter()\n",
    "    result = []\n",
    "    for x in range(10,N):\n",
    "      result.append(add(x,x*2))\n",
    "    finish_time = time.perf_counter()\n",
    "    print(f\"Program finished in {format(finish_time-start_time)} seconds {result}\")"
   ]
  },
  {
   "cell_type": "code",
   "execution_count": 8,
   "id": "a6084b23-f5e6-4fb4-954c-4638791c0910",
   "metadata": {
    "tags": []
   },
   "outputs": [
    {
     "name": "stdout",
     "output_type": "stream",
     "text": [
      "[0, 1, 4, 9, 16, 25, 36, 49, 64, 81]\n",
      "0\n",
      "1\n",
      "4\n",
      "9\n",
      "16\n",
      "25\n",
      "36\n",
      "49\n",
      "64\n",
      "81\n",
      "400\n",
      "5235\n",
      "[5237, 5236, 5234, 5235]\n",
      "We lacked patience and got a multiprocessing.TimeoutError\n",
      "For the moment, the pool remains available for more work\n",
      "Now the pool is closed and no longer available\n"
     ]
    }
   ],
   "source": [
    "from multiprocessing import Pool, TimeoutError\n",
    "import time\n",
    "import os\n",
    "\n",
    "def f(x):\n",
    "    return x*x\n",
    "\n",
    "if __name__ == '__main__':\n",
    "    # start 4 worker processes\n",
    "    with Pool(processes=4) as pool:\n",
    "\n",
    "        # print \"[0, 1, 4,..., 81]\"\n",
    "        print(pool.map(f, range(10)))\n",
    "\n",
    "        # print same numbers in arbitrary order\n",
    "        for i in pool.imap_unordered(f, range(10)):\n",
    "            print(i)\n",
    "\n",
    "        # evaluate \"f(20)\" asynchronously\n",
    "        res = pool.apply_async(f, (20,))      # runs in *only* one process\n",
    "        print(res.get(timeout=1))             # prints \"400\"\n",
    "\n",
    "        # evaluate \"os.getpid()\" asynchronously\n",
    "        res = pool.apply_async(os.getpid, ()) # runs in *only* one process\n",
    "        print(res.get(timeout=1))             # prints the PID of that process\n",
    "\n",
    "        # launching multiple evaluations asynchronously *may* use more processes\n",
    "        multiple_results = [pool.apply_async(os.getpid, ()) for i in range(4)]\n",
    "        print([res.get(timeout=1) for res in multiple_results])\n",
    "\n",
    "        # make a single worker sleep for 10 seconds\n",
    "        res = pool.apply_async(time.sleep, (10,))\n",
    "        try:\n",
    "            print(res.get(timeout=1))\n",
    "        except TimeoutError:\n",
    "            print(\"We lacked patience and got a multiprocessing.TimeoutError\")\n",
    "\n",
    "        print(\"For the moment, the pool remains available for more work\")\n",
    "\n",
    "    # exiting the 'with'-block has stopped the pool\n",
    "    print(\"Now the pool is closed and no longer available\")"
   ]
  },
  {
   "cell_type": "code",
   "execution_count": 31,
   "id": "2bdec53f-03d0-4f71-8694-4f35b81a0dfe",
   "metadata": {
    "tags": []
   },
   "outputs": [
    {
     "name": "stdout",
     "output_type": "stream",
     "text": [
      "********\n",
      " Empty DataFrame\n",
      "Columns: []\n",
      "Index: []\n",
      "********\n",
      "      Name  ID\n",
      "0  Pankaj   1\n",
      "1    Lisa   2\n",
      "********\n",
      "      Name  ID\n",
      "0  Pankaj   1\n",
      "1    Lisa   2\n"
     ]
    }
   ],
   "source": [
    "import pandas as pd\n",
    "\n",
    "d1 = {}\n",
    "d2 = {\"Name\": [\"Pankaj\", \"Lisa\"], \"ID\": [1, 2]}\n",
    "\n",
    "df1 = pd.DataFrame(d1)\n",
    "df2 = pd.DataFrame(d2)\n",
    "\n",
    "print('********\\n', df1)\n",
    "print('********\\n', df2)\n",
    "\n",
    "df3 = pandas.concat([df1, df2])\n",
    "\n",
    "print('********\\n', df3)"
   ]
  }
 ],
 "metadata": {
  "kernelspec": {
   "display_name": "conda_python3",
   "language": "python",
   "name": "conda_python3"
  },
  "language_info": {
   "codemirror_mode": {
    "name": "ipython",
    "version": 3
   },
   "file_extension": ".py",
   "mimetype": "text/x-python",
   "name": "python",
   "nbconvert_exporter": "python",
   "pygments_lexer": "ipython3",
   "version": "3.10.8"
  }
 },
 "nbformat": 4,
 "nbformat_minor": 5
}
