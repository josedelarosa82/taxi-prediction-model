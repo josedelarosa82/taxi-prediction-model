{
 "cells": [
  {
   "cell_type": "markdown",
   "id": "18129681",
   "metadata": {},
   "source": [
    "## **Proyecto final modelo de predicción del servicio de taxis para usuarios recurrentes**\n",
    "\n",
    "Utilizando el proyecto de tesis\n",
    "\n",
    "1) Exploración, análisis, selección de variables y creación del\n",
    "modelo sobre conjunto de train (12 puntos)\n",
    "\n",
    "2) Creación de\n",
    "pipeline (10 puntos)\n",
    "\n",
    "3) Evaluación de\n",
    "modelos usando validación cruzada (incluyendo pipeline) (5 puntos)\n",
    "\n",
    "4) Ajuste de\n",
    "hiperparámetros de los modelos seleccionados (5 puntos)\n",
    "\n",
    "5) Creación de\n",
    "Joblib\n",
    "\n",
    "6) Despliegue del\n",
    "modelo usando Sagemaker SDK. Creación de Endpoint (8 puntos)\n",
    "\n",
    "7) Creación de un\n",
    "servicio web que reciba los datos del usuario por POST desde un\n",
    "formulario, solicite al endpoint de sagemaker la predicción del\n",
    "modelo y devuelva la respuesta al usuario final como un HTML.(Usar\n",
    "un EC2 con ip pública) (10 puntos)\n",
    "\n",
    "---------------------------------------------------------------------"
   ]
  },
  {
   "cell_type": "markdown",
   "id": "24b8eebc",
   "metadata": {},
   "source": [
    "1) Exploración, análisis, selección de variables y creación del modelo sobre conjunto de train"
   ]
  },
  {
   "cell_type": "code",
   "execution_count": 145,
   "id": "9f75f997",
   "metadata": {},
   "outputs": [],
   "source": [
    "#Importación de librerías\n",
    "import pandas as pd\n",
    "import numpy as np\n",
    "from sklearn.model_selection import train_test_split\n",
    "from sklearn.pipeline import Pipeline\n",
    "import joblib\n",
    "import matplotlib.pyplot as plt\n",
    "import seaborn as sns\n",
    "from sklearn.model_selection import train_test_split\n",
    "from sklearn.preprocessing import StandardScaler\n",
    "from sklearn.metrics import confusion_matrix, ConfusionMatrixDisplay\n",
    "\n",
    "from numpy import NaN\n",
    "from datetime import date, datetime, timedelta\n",
    "from os import name"
   ]
  },
  {
   "cell_type": "code",
   "execution_count": 146,
   "id": "71837ad6",
   "metadata": {},
   "outputs": [],
   "source": [
    "from sklearn.metrics import confusion_matrix, ConfusionMatrixDisplay\n",
    "from sklearn.multiclass import OneVsRestClassifier\n",
    "from sklearn.metrics import plot_confusion_matrix\n",
    "from matplotlib.colors import ListedColormap\n",
    "#from mlxtend.plotting import plot_decision_regions\n",
    "#modelos\n",
    "from sklearn.linear_model import LogisticRegression\n",
    "from sklearn.neighbors import KNeighborsClassifier\n",
    "from sklearn.neural_network import MLPClassifier\n",
    "from sklearn.ensemble import RandomForestClassifier\n",
    "from sklearn.svm import SVC\n",
    "from sklearn.tree import DecisionTreeClassifier\n",
    "from sklearn.linear_model import SGDClassifier\n",
    "from sklearn.linear_model import Perceptron\n",
    "\n",
    "from sklearn.metrics import mean_absolute_error\n",
    "from sklearn.metrics import classification_report\n",
    "from sklearn.metrics import roc_curve\n",
    "from sklearn.metrics import roc_auc_score"
   ]
  },
  {
   "cell_type": "code",
   "execution_count": 147,
   "id": "c22bf81f",
   "metadata": {},
   "outputs": [],
   "source": [
    "NUM_OF_WEEK = 8.0\n",
    "HOURS_OF_DAY = 24\n",
    "DAYS_OF_WEEK = 7\n",
    "FORMAT_DATE = '%Y-%m-%d'\n",
    "DATE_START_TRAINIG = pd.to_datetime(\"2022-04-27\", format=FORMAT_DATE)\n",
    "DATA_FILE = \"s3://proyecto-taxis-usa/Data/SERVICIO_UNIFICADO_2022.parquet.gzip\""
   ]
  },
  {
   "cell_type": "code",
   "execution_count": null,
   "id": "d4ffa4d5",
   "metadata": {},
   "outputs": [],
   "source": [
    "#Se lee el archivo de un parquet a un dataframe\n",
    "df_taxis = pd.read_parquet(DATA_FILE) \n",
    "#Se visualizan los datos\n",
    "df_taxis.head(5)"
   ]
  },
  {
   "cell_type": "code",
   "execution_count": null,
   "id": "5331cf27",
   "metadata": {},
   "outputs": [],
   "source": [
    "df_taxis.info()"
   ]
  },
  {
   "cell_type": "code",
   "execution_count": null,
   "id": "b92318f1",
   "metadata": {},
   "outputs": [],
   "source": [
    "#Se cuentan cuantos datos se encuentran nulos\n",
    "df_taxis.isnull().sum()"
   ]
  },
  {
   "cell_type": "code",
   "execution_count": null,
   "id": "b0392a10",
   "metadata": {},
   "outputs": [],
   "source": [
    "#Se filtran los estados importantes \n",
    "df_taxis = df_taxis[(df_taxis[\"ESTADO\"]==\"ABANDONADO\") | (df_taxis[\"ESTADO\"]==\"CUMPLIDO\") | (df_taxis[\"ESTADO\"]==\"CANCELADO\") | (df_taxis[\"ESTADO\"]==\"FINALIZADO\")]\n",
    "service_date = pd.to_datetime(df_taxis['FECHACOMPLETA'], format='%Y/%m/%d %H:%M:%S')\n",
    "#Se crea un nuevo campo con el mes\n",
    "df_taxis['MES'] = service_date.dt.month\n",
    "#Se toman los meses de enero a mayo del 2022\n",
    "df_taxis = df_taxis[(df_taxis[\"MES\"]<=5)]\n",
    "#Se crea el campo año y mes\n",
    "df_taxis['FECHA_MES'] = service_date.dt.strftime('%Y-%m')\n",
    "#Se crea un nuevo campo con la fecha en formato YYYY/MM/DD\n",
    "df_taxis['FECHA'] = service_date.dt.strftime(FORMAT_DATE)"
   ]
  },
  {
   "cell_type": "markdown",
   "id": "816345fb",
   "metadata": {},
   "source": [
    "## Visualización de datos iniciales"
   ]
  },
  {
   "cell_type": "code",
   "execution_count": null,
   "id": "a7a89c8f",
   "metadata": {},
   "outputs": [],
   "source": [
    "#Se visualiza la cantidad de servicios por estado\n",
    "plt.figure(figsize=(10,8))\n",
    "sns.histplot(df_taxis['ESTADO'])\n",
    "plt.xticks(rotation='vertical')\n",
    "plt.show()"
   ]
  },
  {
   "cell_type": "code",
   "execution_count": null,
   "id": "fc0b4528",
   "metadata": {},
   "outputs": [],
   "source": [
    "#Se visualiza la cantidad por origen\n",
    "plt.figure(figsize=(10,8))\n",
    "sns.histplot(df_taxis['ORIGEN'])\n",
    "plt.xticks(rotation='vertical')\n",
    "plt.show()"
   ]
  },
  {
   "cell_type": "markdown",
   "id": "38c5ac77",
   "metadata": {},
   "source": [
    "Se visualizan los datos del dataFrame en un histograma"
   ]
  },
  {
   "cell_type": "code",
   "execution_count": null,
   "id": "73373004",
   "metadata": {},
   "outputs": [],
   "source": [
    "#Se require presentar gráfica de histograma por cada columna o datos de dataframe\n",
    "df_taxis.hist(figsize=(20,10))\n",
    "plt.show()"
   ]
  },
  {
   "cell_type": "markdown",
   "id": "da6c8d76",
   "metadata": {},
   "source": [
    "Se visualizan las corelaciones entre variables"
   ]
  },
  {
   "cell_type": "code",
   "execution_count": null,
   "id": "7d84925f",
   "metadata": {},
   "outputs": [],
   "source": [
    "plt.figure(figsize=(15,10))\n",
    "sns.heatmap(df_taxis.corr(method='pearson'),annot=True)\n",
    "plt.show()"
   ]
  },
  {
   "cell_type": "markdown",
   "id": "f4bacca8",
   "metadata": {},
   "source": [
    "Se visualiza un histograma con la cantidad de servicios por estado"
   ]
  },
  {
   "cell_type": "code",
   "execution_count": null,
   "id": "52a25612",
   "metadata": {},
   "outputs": [],
   "source": [
    "df_taxis.groupby(['FECHA_MES','ESTADO'])['ID'].count().unstack('ESTADO').plot(kind='bar',stacked=True, fontsize=14, xlabel=\"Mes\", ylabel=\"Cantidad servicios\", figsize=(16,8), title=\"Servicios por periodo\", rot=0)\n",
    "plt.show()"
   ]
  },
  {
   "cell_type": "markdown",
   "id": "d6db0cf7",
   "metadata": {},
   "source": [
    "Se eliminan los datos que no se necesitan para predecir el modelo"
   ]
  },
  {
   "cell_type": "code",
   "execution_count": null,
   "id": "84d92d46",
   "metadata": {},
   "outputs": [],
   "source": [
    "df_taxis.head(5)"
   ]
  },
  {
   "cell_type": "code",
   "execution_count": null,
   "id": "7083abad",
   "metadata": {},
   "outputs": [],
   "source": [
    "#Eliminamos las columan que no son útiles para el modelo\n",
    "df_taxis = df_taxis.drop(columns=[\"IDCIUDAD\",\"USUARIO\",\"ID\",\"LATITUDDESTINO\",\"LONGITUDDESTINO\",\"LATITUD\",\"LONGITUD\",\"FECHACOMPLETA\",\"ORIGEN\",\"ESTADO\",\"FECHA_MES\"])\n",
    "#Se eliminan los valores duplicados del dataframe y se ordenan por los campos más relevangtes\n",
    "df_taxis = df_taxis.drop_duplicates().sort_values(by=['TELEFONOORIGEN','FECHA','DIADESEMANA','HORA'])\n",
    "#Se reindexa nuevamente el dataFrame\n",
    "df_taxis = df_taxis.reset_index(drop=True)\n",
    "#Se visualizan como queda el dataFrame\n",
    "df_taxis.head(5)"
   ]
  },
  {
   "cell_type": "markdown",
   "id": "6d3de64b",
   "metadata": {},
   "source": [
    "Se contabilizan cuantos servicios tiene asignado un teléfono después de eliminar los duplicados"
   ]
  },
  {
   "cell_type": "code",
   "execution_count": null,
   "id": "912821fe",
   "metadata": {},
   "outputs": [],
   "source": [
    "count_data = df_taxis.loc[:,['TELEFONOORIGEN']].value_counts()\n",
    "count_data"
   ]
  },
  {
   "cell_type": "markdown",
   "id": "72883431",
   "metadata": {},
   "source": [
    "Se visualiza la distribución de los datos"
   ]
  },
  {
   "cell_type": "code",
   "execution_count": null,
   "id": "bf8614d7",
   "metadata": {},
   "outputs": [],
   "source": [
    "#Se visualizan los valores de los datos\n",
    "count_data.describe().T"
   ]
  },
  {
   "cell_type": "markdown",
   "id": "23c1a14b",
   "metadata": {},
   "source": [
    "## Se calcula el outlayer de los datos"
   ]
  },
  {
   "cell_type": "code",
   "execution_count": null,
   "id": "53750644",
   "metadata": {},
   "outputs": [],
   "source": [
    "#Se calcula el quartil 25\n",
    "q25 = count_data.quantile(0.25)\n",
    "#Se calcula el quartil 75\n",
    "q75 = count_data.quantile(0.75)\n",
    "#Se calcula el rango inter quartil\n",
    "iqr = q75 - q25\n",
    "\n",
    "print(f\"El porcentaje del quartil 25: {q25}\")\n",
    "print(f\"El porcentaje del quartil 75: {q75}\")\n",
    "print(f\"El rango inter quartil es: {iqr}\")"
   ]
  },
  {
   "cell_type": "markdown",
   "id": "16281e22",
   "metadata": {},
   "source": [
    "Se calcula el umbral de los valores atípicos"
   ]
  },
  {
   "cell_type": "code",
   "execution_count": null,
   "id": "9ce79991",
   "metadata": {},
   "outputs": [],
   "source": [
    "#Se calcula el umbral de los  valores atípicos\n",
    "outliers_threshold = ( q75 + 3 * iqr )\n",
    "print(f\"El umbral de los valores atípicos es: {outliers_threshold}\")\n",
    "print(f\"La cantidad de valores atípicos son: {sum(count_data > outliers_threshold) }\")"
   ]
  },
  {
   "cell_type": "markdown",
   "id": "bdd9c9c5",
   "metadata": {},
   "source": [
    "Eliminamos los datos que esten por debajo del umbral de los valores atípicos"
   ]
  },
  {
   "cell_type": "code",
   "execution_count": null,
   "id": "e7b7de2a",
   "metadata": {},
   "outputs": [],
   "source": [
    "df_cleaned = df_taxis.copy()\n",
    "#Se descartan los que tienen menos del umbral de los valores atípicos\n",
    "df_cleaned = df_cleaned.groupby('TELEFONOORIGEN').filter(lambda x: x['TELEFONOORIGEN'].count() > outliers_threshold)\n",
    "#Se visualizan los datos agrupados por mes para determinar cuantos servicios tomó un usuario\n",
    "df_cleaned.groupby(['MES','TELEFONOORIGEN'])['TELEFONOORIGEN'].count()"
   ]
  },
  {
   "cell_type": "code",
   "execution_count": null,
   "id": "d6fcd7f1",
   "metadata": {},
   "outputs": [],
   "source": [
    "#Se visualizan los valores de los datos\n",
    "df_cleaned.loc[:,['TELEFONOORIGEN']].value_counts().describe()"
   ]
  },
  {
   "cell_type": "markdown",
   "id": "833c7c6c",
   "metadata": {},
   "source": [
    "## Visualización de datos final"
   ]
  },
  {
   "cell_type": "code",
   "execution_count": null,
   "id": "9112f18d",
   "metadata": {},
   "outputs": [],
   "source": [
    "#Se presenta un gráfico general de los datos\n",
    "sns.pairplot(df_cleaned)\n",
    "plt.show()"
   ]
  },
  {
   "cell_type": "code",
   "execution_count": null,
   "id": "c723a942",
   "metadata": {},
   "outputs": [],
   "source": [
    "#Se obtiene la matrix de correlación con los datos finales\n",
    "corr_matrix = df_cleaned.corr()\n",
    "corr_matrix"
   ]
  },
  {
   "cell_type": "markdown",
   "id": "f73463ac",
   "metadata": {},
   "source": [
    "#se presenta gráfico  de correlación\n",
    "f, ax = plt.subplots(figsize=(16, 10))\n",
    "mask = np.triu(np.ones_like(corr_matrix, dtype=bool))\n",
    "cmap = sns.diverging_palette(230, 20, as_cmap=True)\n",
    "sns.heatmap(corr_matrix, annot=True, mask = mask, cmap=cmap )\n",
    "plt.title('Relacion entre variables del dataframe',fontsize=20,fontname='serif')\n",
    "plt.ylabel('Y', color='green', fontsize=25)\n",
    "plt.xlabel('X', color='Red', fontsize=25)"
   ]
  },
  {
   "cell_type": "code",
   "execution_count": null,
   "id": "b270d5de",
   "metadata": {},
   "outputs": [],
   "source": [
    "#Se realiza un conteo de la cantidad de datos por usuario\n",
    "df_cleaned.loc[:,['TELEFONOORIGEN']].value_counts()"
   ]
  },
  {
   "cell_type": "markdown",
   "id": "d9b983a8",
   "metadata": {},
   "source": [
    "Se filtra un usuario con datos"
   ]
  },
  {
   "cell_type": "code",
   "execution_count": null,
   "id": "1fabbbba",
   "metadata": {},
   "outputs": [],
   "source": [
    "#Se crea un nuevo dataframe con los teléfonos para entrenar cada usuario personalizado\n",
    "df_phone = df_cleaned.copy()\n",
    "\n",
    "'''\n",
    "df_phone = df_phone[(df_phone[\"TELEFONOORIGEN\"]==\"3115590650\") | \n",
    "(df_phone[\"TELEFONOORIGEN\"]==\"3107584482\")| \n",
    "(df_phone[\"TELEFONOORIGEN\"]==\"3118082696\")| \n",
    "(df_phone[\"TELEFONOORIGEN\"]==\"3152175765\")]\n",
    "'''\n",
    "df_phone = df_phone[(df_phone[\"TELEFONOORIGEN\"]==\"3107584482\")]\n",
    "df_phone = df_phone.drop(columns=[\"TELEFONOORIGEN\"])"
   ]
  },
  {
   "cell_type": "markdown",
   "id": "cede8de0",
   "metadata": {},
   "source": [
    "## Se visualiza la candidad de servicios por semana durantes los meses del usuario"
   ]
  },
  {
   "cell_type": "code",
   "execution_count": null,
   "id": "7bb2b7b3",
   "metadata": {},
   "outputs": [],
   "source": [
    "df_phone.groupby(['MES','DIADESEMANA'])['HORA'].count().unstack('DIADESEMANA').plot(kind='bar',stacked=True, fontsize=14, xlabel=\"Mes\", ylabel=\"Cantidad servicios\", figsize=(16,8), title=\"Servicios por periodo\", rot=0)\n",
    "plt.show()"
   ]
  },
  {
   "cell_type": "code",
   "execution_count": null,
   "id": "a3913c04",
   "metadata": {},
   "outputs": [],
   "source": [
    "#Se agrupa por 'Mes' y 'Día de la semana'\n",
    "df_phone.groupby(['MES','DIADESEMANA'])['HORA'].count().unstack('DIADESEMANA').plot(kind='bar', xlabel=\"Mes\", ylabel=\"Cantidad servicios\", figsize=(16,8), title=\"Servicios por periodo\", rot=0)\n",
    "plt.show()"
   ]
  },
  {
   "cell_type": "markdown",
   "id": "4aa3bc6d",
   "metadata": {},
   "source": [
    "Se crea la función que rellena con datos sin servicios"
   ]
  },
  {
   "cell_type": "code",
   "execution_count": null,
   "id": "9d4e7c91",
   "metadata": {},
   "outputs": [],
   "source": [
    "#Funcion que permite llenar los servicios tomados con 1 y los no tomados con 0\n",
    "def setDataService(data, from_date, to_date):\n",
    "  remaining_days = to_date.date() - from_date.date()\n",
    "  service_array = []\n",
    "  for i in range(remaining_days.days+1):\n",
    "    last_time = from_date + timedelta(days=i)\n",
    "    if last_time.date().isoweekday() == to_date.date().isoweekday():\n",
    "      for hour in range(HOURS_OF_DAY):\n",
    "        #Se filtra por el mismo día de la semana, fecha y hora\n",
    "        print(f\"{last_time.isoweekday()} - {last_time.strftime(FORMAT_DATE)} - {hour}\")\n",
    "        df_service = data[(data['DIADESEMANA'] == last_time.isoweekday()) & (data['FECHA'] == last_time.strftime(FORMAT_DATE).date()) & (data['HORA'] == hour) ].to_numpy()\n",
    "        if len(df_service) > 0:\n",
    "          #Se llena con valor en 1 porqué se encontró un servicio\n",
    "          print(np.append(df_service, 1))\n",
    "          service_array.append(np.append(df_service, 1))\n",
    "        else:\n",
    "          #Se llena con valor en 0 porqué no se encontró ningún servicio\n",
    "          #print([last_time.isoweekday(),hour,last_time.month,last_time.date().strftime(FORMAT_DATE),0])\n",
    "          service_array.append([last_time.isoweekday(),hour,last_time.month,last_time.date().strftime(FORMAT_DATE),0])\n",
    "  return pd.DataFrame(service_array, \n",
    "             columns=np.append(np.array(data.columns.tolist()), 'SERVICIO'))"
   ]
  },
  {
   "cell_type": "code",
   "execution_count": null,
   "id": "7bc3dff4",
   "metadata": {},
   "outputs": [],
   "source": [
    "df_phone.tail(5)"
   ]
  },
  {
   "cell_type": "code",
   "execution_count": null,
   "id": "14b49d79",
   "metadata": {},
   "outputs": [],
   "source": [
    "df_phone_v2 = setDataService(df_phone, pd.to_datetime(\"2022-01-01\", format=FORMAT_DATE) , pd.to_datetime(\"2022-05-29\", format=FORMAT_DATE) )"
   ]
  },
  {
   "cell_type": "code",
   "execution_count": null,
   "id": "9aeb092b",
   "metadata": {},
   "outputs": [],
   "source": [
    "df_phone_v2"
   ]
  },
  {
   "cell_type": "code",
   "execution_count": null,
   "id": "7d1d78de",
   "metadata": {},
   "outputs": [],
   "source": [
    "df_phone_v2['SERVICIO'].value_counts()"
   ]
  }
 ],
 "metadata": {
  "kernelspec": {
   "display_name": "conda_python3",
   "language": "python",
   "name": "conda_python3"
  },
  "language_info": {
   "codemirror_mode": {
    "name": "ipython",
    "version": 3
   },
   "file_extension": ".py",
   "mimetype": "text/x-python",
   "name": "python",
   "nbconvert_exporter": "python",
   "pygments_lexer": "ipython3",
   "version": "3.8.12"
  }
 },
 "nbformat": 4,
 "nbformat_minor": 5
}
