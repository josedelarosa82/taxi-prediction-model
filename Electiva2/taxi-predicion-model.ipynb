{
 "cells": [
  {
   "cell_type": "markdown",
   "id": "18129681",
   "metadata": {},
   "source": [
    "## **Proyecto final modelo de predicción del servicio de taxis para usuarios recurrentes**\n",
    "\n",
    "Utilizando el proyecto de tesis\n",
    "\n",
    "1) Exploración, análisis, selección de variables y creación del\n",
    "modelo sobre conjunto de train (12 puntos)\n",
    "\n",
    "2) Creación de\n",
    "pipeline (10 puntos)\n",
    "\n",
    "3) Evaluación de\n",
    "modelos usando validación cruzada (incluyendo pipeline) (5 puntos)\n",
    "\n",
    "4) Ajuste de\n",
    "hiperparámetros de los modelos seleccionados (5 puntos)\n",
    "\n",
    "5) Creación de\n",
    "Joblib\n",
    "\n",
    "6) Despliegue del\n",
    "modelo usando Sagemaker SDK. Creación de Endpoint (8 puntos)\n",
    "\n",
    "7) Creación de un\n",
    "servicio web que reciba los datos del usuario por POST desde un\n",
    "formulario, solicite al endpoint de sagemaker la predicción del\n",
    "modelo y devuelva la respuesta al usuario final como un HTML.(Usar\n",
    "un EC2 con ip pública) (10 puntos)\n",
    "\n",
    "---------------------------------------------------------------------"
   ]
  },
  {
   "cell_type": "markdown",
   "id": "24b8eebc",
   "metadata": {},
   "source": [
    "1) Exploración, análisis, selección de variables y creación del modelo sobre conjunto de train"
   ]
  },
  {
   "cell_type": "code",
   "execution_count": 122,
   "id": "9f75f997",
   "metadata": {},
   "outputs": [],
   "source": [
    "#Importación de librerías\n",
    "import pandas as pd\n",
    "import numpy as np\n",
    "from sklearn.model_selection import train_test_split\n",
    "from sklearn.pipeline import Pipeline\n",
    "import joblib\n",
    "import matplotlib.pyplot as plt\n",
    "import seaborn as sns\n",
    "from sklearn.model_selection import train_test_split\n",
    "from sklearn.preprocessing import StandardScaler, MinMaxScaler\n",
    "\n",
    "\n",
    "from datetime import timedelta\n",
    "from sklearn.tree import DecisionTreeClassifier\n",
    "from sklearn.model_selection import cross_validate\n",
    "from sklearn.model_selection import GridSearchCV"
   ]
  },
  {
   "cell_type": "code",
   "execution_count": 2,
   "id": "71837ad6",
   "metadata": {},
   "outputs": [
    {
     "data": {
      "text/plain": [
       "'\\nfrom sklearn.metrics import confusion_matrix, ConfusionMatrixDisplay\\nfrom sklearn.multiclass import OneVsRestClassifier\\nfrom sklearn.metrics import plot_confusion_matrix\\nfrom matplotlib.colors import ListedColormap\\n#from mlxtend.plotting import plot_decision_regions\\n#modelos\\nfrom sklearn.linear_model import LogisticRegression\\nfrom sklearn.neighbors import KNeighborsClassifier\\nfrom sklearn.neural_network import MLPClassifier\\nfrom sklearn.ensemble import RandomForestClassifier\\nfrom sklearn.svm import SVC\\nfrom sklearn.tree import DecisionTreeClassifier\\nfrom sklearn.linear_model import SGDClassifier\\nfrom sklearn.linear_model import Perceptron\\n\\nfrom sklearn.metrics import mean_absolute_error\\nfrom sklearn.metrics import classification_report\\nfrom sklearn.metrics import roc_curve\\nfrom sklearn.metrics import roc_auc_score\\n'"
      ]
     },
     "execution_count": 2,
     "metadata": {},
     "output_type": "execute_result"
    }
   ],
   "source": [
    "'''\n",
    "from sklearn.metrics import confusion_matrix, ConfusionMatrixDisplay\n",
    "from sklearn.multiclass import OneVsRestClassifier\n",
    "from sklearn.metrics import plot_confusion_matrix\n",
    "from matplotlib.colors import ListedColormap\n",
    "#from mlxtend.plotting import plot_decision_regions\n",
    "#modelos\n",
    "from sklearn.linear_model import LogisticRegression\n",
    "from sklearn.neighbors import KNeighborsClassifier\n",
    "from sklearn.neural_network import MLPClassifier\n",
    "from sklearn.ensemble import RandomForestClassifier\n",
    "from sklearn.svm import SVC\n",
    "\n",
    "from sklearn.linear_model import SGDClassifier\n",
    "from sklearn.linear_model import Perceptron\n",
    "\n",
    "from sklearn.metrics import mean_absolute_error\n",
    "from sklearn.metrics import classification_report\n",
    "from sklearn.metrics import roc_curve\n",
    "from sklearn.metrics import roc_auc_score\n",
    "'''"
   ]
  },
  {
   "cell_type": "code",
   "execution_count": 32,
   "id": "c22bf81f",
   "metadata": {},
   "outputs": [],
   "source": [
    "NUM_OF_WEEK = 8.0\n",
    "HOURS_OF_DAY = 24\n",
    "DAYS_OF_WEEK = 7\n",
    "FORMAT_DATE = '%Y-%m-%d'\n",
    "#\n",
    "first_date_dataset = pd.to_datetime(\"2022-01-01\" , format=FORMAT_DATE)\n",
    "last_date_dataset = pd.to_datetime(\"2022-05-29\" , format=FORMAT_DATE)\n",
    "\n",
    "DATE_START_TRAINIG = pd.to_datetime(\"2022-04-27\", format=FORMAT_DATE)\n",
    "#DATA_FILE = \"s3://proyecto-taxis-usa/Data/SERVICIO_UNIFICADO_2022.parquet.gzip\"\n",
    "DATA_FILE = './../data/SERVICIO_UNIFICADO_2022.parquet.gzip'"
   ]
  },
  {
   "cell_type": "code",
   "execution_count": 4,
   "id": "d4ffa4d5",
   "metadata": {},
   "outputs": [
    {
     "data": {
      "text/html": [
       "<div>\n",
       "<style scoped>\n",
       "    .dataframe tbody tr th:only-of-type {\n",
       "        vertical-align: middle;\n",
       "    }\n",
       "\n",
       "    .dataframe tbody tr th {\n",
       "        vertical-align: top;\n",
       "    }\n",
       "\n",
       "    .dataframe thead th {\n",
       "        text-align: right;\n",
       "    }\n",
       "</style>\n",
       "<table border=\"1\" class=\"dataframe\">\n",
       "  <thead>\n",
       "    <tr style=\"text-align: right;\">\n",
       "      <th></th>\n",
       "      <th>ID</th>\n",
       "      <th>IDCIUDAD</th>\n",
       "      <th>USUARIO</th>\n",
       "      <th>TELEFONOORIGEN</th>\n",
       "      <th>LATITUD</th>\n",
       "      <th>LATITUDDESTINO</th>\n",
       "      <th>LONGITUD</th>\n",
       "      <th>LONGITUDDESTINO</th>\n",
       "      <th>ESTADO</th>\n",
       "      <th>ORIGEN</th>\n",
       "      <th>FECHACOMPLETA</th>\n",
       "      <th>DIADESEMANA</th>\n",
       "      <th>HORA</th>\n",
       "    </tr>\n",
       "  </thead>\n",
       "  <tbody>\n",
       "    <tr>\n",
       "      <th>0</th>\n",
       "      <td>70152580</td>\n",
       "      <td>11001</td>\n",
       "      <td>8946882.0</td>\n",
       "      <td>3186429637</td>\n",
       "      <td>4.642036</td>\n",
       "      <td>4.630580</td>\n",
       "      <td>-74.187636</td>\n",
       "      <td>-74.189880</td>\n",
       "      <td>CANCELADO</td>\n",
       "      <td>APP</td>\n",
       "      <td>2022-04-30 19:00:00</td>\n",
       "      <td>7</td>\n",
       "      <td>19</td>\n",
       "    </tr>\n",
       "    <tr>\n",
       "      <th>1</th>\n",
       "      <td>70152581</td>\n",
       "      <td>11001</td>\n",
       "      <td>9665930.0</td>\n",
       "      <td>3209171095</td>\n",
       "      <td>4.594340</td>\n",
       "      <td>4.604060</td>\n",
       "      <td>-74.138168</td>\n",
       "      <td>-74.141610</td>\n",
       "      <td>ABANDONADO</td>\n",
       "      <td>APP</td>\n",
       "      <td>2022-04-30 19:00:00</td>\n",
       "      <td>7</td>\n",
       "      <td>19</td>\n",
       "    </tr>\n",
       "    <tr>\n",
       "      <th>2</th>\n",
       "      <td>70152582</td>\n",
       "      <td>76001</td>\n",
       "      <td>9243481.0</td>\n",
       "      <td>3147558713</td>\n",
       "      <td>3.367783</td>\n",
       "      <td>NaN</td>\n",
       "      <td>-76.531083</td>\n",
       "      <td>NaN</td>\n",
       "      <td>ABANDONADO</td>\n",
       "      <td>APP</td>\n",
       "      <td>2022-04-30 19:00:01</td>\n",
       "      <td>7</td>\n",
       "      <td>19</td>\n",
       "    </tr>\n",
       "    <tr>\n",
       "      <th>3</th>\n",
       "      <td>70152583</td>\n",
       "      <td>11001</td>\n",
       "      <td>841805.0</td>\n",
       "      <td>3125733084</td>\n",
       "      <td>4.630927</td>\n",
       "      <td>NaN</td>\n",
       "      <td>-74.092728</td>\n",
       "      <td>NaN</td>\n",
       "      <td>ABANDONADO</td>\n",
       "      <td>CHAT_BOT_659</td>\n",
       "      <td>2022-04-30 19:00:01</td>\n",
       "      <td>7</td>\n",
       "      <td>19</td>\n",
       "    </tr>\n",
       "    <tr>\n",
       "      <th>4</th>\n",
       "      <td>70152584</td>\n",
       "      <td>11001</td>\n",
       "      <td>9330612.0</td>\n",
       "      <td>3043963812</td>\n",
       "      <td>4.548637</td>\n",
       "      <td>4.622711</td>\n",
       "      <td>-74.096414</td>\n",
       "      <td>-74.147018</td>\n",
       "      <td>ABANDONADO</td>\n",
       "      <td>APP</td>\n",
       "      <td>2022-04-30 19:00:01</td>\n",
       "      <td>7</td>\n",
       "      <td>19</td>\n",
       "    </tr>\n",
       "  </tbody>\n",
       "</table>\n",
       "</div>"
      ],
      "text/plain": [
       "         ID  IDCIUDAD    USUARIO TELEFONOORIGEN   LATITUD  LATITUDDESTINO  \\\n",
       "0  70152580     11001  8946882.0     3186429637  4.642036        4.630580   \n",
       "1  70152581     11001  9665930.0     3209171095  4.594340        4.604060   \n",
       "2  70152582     76001  9243481.0     3147558713  3.367783             NaN   \n",
       "3  70152583     11001   841805.0     3125733084  4.630927             NaN   \n",
       "4  70152584     11001  9330612.0     3043963812  4.548637        4.622711   \n",
       "\n",
       "    LONGITUD  LONGITUDDESTINO      ESTADO        ORIGEN        FECHACOMPLETA  \\\n",
       "0 -74.187636       -74.189880   CANCELADO           APP  2022-04-30 19:00:00   \n",
       "1 -74.138168       -74.141610  ABANDONADO           APP  2022-04-30 19:00:00   \n",
       "2 -76.531083              NaN  ABANDONADO           APP  2022-04-30 19:00:01   \n",
       "3 -74.092728              NaN  ABANDONADO  CHAT_BOT_659  2022-04-30 19:00:01   \n",
       "4 -74.096414       -74.147018  ABANDONADO           APP  2022-04-30 19:00:01   \n",
       "\n",
       "   DIADESEMANA  HORA  \n",
       "0            7    19  \n",
       "1            7    19  \n",
       "2            7    19  \n",
       "3            7    19  \n",
       "4            7    19  "
      ]
     },
     "execution_count": 4,
     "metadata": {},
     "output_type": "execute_result"
    }
   ],
   "source": [
    "#Se lee el archivo de un parquet a un dataframe\n",
    "df_taxis = pd.read_parquet(DATA_FILE) \n",
    "#Se visualizan los datos\n",
    "df_taxis.head(5)"
   ]
  },
  {
   "cell_type": "code",
   "execution_count": 5,
   "id": "5331cf27",
   "metadata": {},
   "outputs": [
    {
     "name": "stdout",
     "output_type": "stream",
     "text": [
      "<class 'pandas.core.frame.DataFrame'>\n",
      "RangeIndex: 8203880 entries, 0 to 8203879\n",
      "Data columns (total 13 columns):\n",
      " #   Column           Dtype  \n",
      "---  ------           -----  \n",
      " 0   ID               int64  \n",
      " 1   IDCIUDAD         int64  \n",
      " 2   USUARIO          float64\n",
      " 3   TELEFONOORIGEN   object \n",
      " 4   LATITUD          float64\n",
      " 5   LATITUDDESTINO   float64\n",
      " 6   LONGITUD         float64\n",
      " 7   LONGITUDDESTINO  float64\n",
      " 8   ESTADO           object \n",
      " 9   ORIGEN           object \n",
      " 10  FECHACOMPLETA    object \n",
      " 11  DIADESEMANA      int64  \n",
      " 12  HORA             int64  \n",
      "dtypes: float64(5), int64(4), object(4)\n",
      "memory usage: 813.7+ MB\n"
     ]
    }
   ],
   "source": [
    "#Se visualiza la estructura de la información\n",
    "df_taxis.info()"
   ]
  },
  {
   "cell_type": "code",
   "execution_count": 6,
   "id": "b92318f1",
   "metadata": {},
   "outputs": [
    {
     "data": {
      "text/plain": [
       "ID                       0\n",
       "IDCIUDAD                 0\n",
       "USUARIO               1707\n",
       "TELEFONOORIGEN       69322\n",
       "LATITUD                  0\n",
       "LATITUDDESTINO     1932690\n",
       "LONGITUD                 0\n",
       "LONGITUDDESTINO    1932690\n",
       "ESTADO                   0\n",
       "ORIGEN                   0\n",
       "FECHACOMPLETA            0\n",
       "DIADESEMANA              0\n",
       "HORA                     0\n",
       "dtype: int64"
      ]
     },
     "execution_count": 6,
     "metadata": {},
     "output_type": "execute_result"
    }
   ],
   "source": [
    "#Se cuentan cuantos datos se encuentran nulos\n",
    "df_taxis.isnull().sum()"
   ]
  },
  {
   "cell_type": "code",
   "execution_count": 7,
   "id": "b0392a10",
   "metadata": {},
   "outputs": [],
   "source": [
    "#Se filtran los estados importantes \n",
    "df_taxis = df_taxis[(df_taxis[\"ESTADO\"]==\"ABANDONADO\") | (df_taxis[\"ESTADO\"]==\"CUMPLIDO\") | (df_taxis[\"ESTADO\"]==\"CANCELADO\") | (df_taxis[\"ESTADO\"]==\"FINALIZADO\")]\n",
    "service_date = pd.to_datetime(df_taxis['FECHACOMPLETA'], format='%Y/%m/%d %H:%M:%S')\n",
    "#Se crea un nuevo campo con el mes\n",
    "df_taxis['MES'] = service_date.dt.month\n",
    "#Se toman los meses de enero a mayo del 2022\n",
    "df_taxis = df_taxis[(df_taxis[\"MES\"]<=5)]\n",
    "#Se crea el campo año y mes\n",
    "df_taxis['FECHA_MES'] = service_date.dt.strftime('%Y-%m')\n",
    "#Se crea un nuevo campo con la fecha en formato YYYY/MM/DD\n",
    "df_taxis['FECHA'] = service_date.dt.strftime(FORMAT_DATE)"
   ]
  },
  {
   "cell_type": "markdown",
   "id": "816345fb",
   "metadata": {},
   "source": [
    "## Visualización de datos iniciales"
   ]
  },
  {
   "cell_type": "code",
   "execution_count": 8,
   "id": "a7a89c8f",
   "metadata": {},
   "outputs": [
    {
     "data": {
      "image/png": "[encoded data removed]",
      "text/plain": [
       "<Figure size 720x576 with 1 Axes>"
      ]
     },
     "metadata": {
      "needs_background": "light"
     },
     "output_type": "display_data"
    }
   ],
   "source": [
    "#Se visualiza la cantidad de servicios por estado\n",
    "plt.figure(figsize=(10,8))\n",
    "sns.histplot(df_taxis['ESTADO'])\n",
    "plt.xticks(rotation='vertical')\n",
    "plt.show()"
   ]
  },
  {
   "cell_type": "code",
   "execution_count": 9,
   "id": "fc0b4528",
   "metadata": {},
   "outputs": [
    {
     "data": {
      "image/png": "[encoded data removed]",
      "text/plain": [
       "<Figure size 720x576 with 1 Axes>"
      ]
     },
     "metadata": {
      "needs_background": "light"
     },
     "output_type": "display_data"
    }
   ],
   "source": [
    "#Se visualiza la cantidad por origen\n",
    "plt.figure(figsize=(10,8))\n",
    "sns.histplot(df_taxis['ORIGEN'])\n",
    "plt.xticks(rotation='vertical')\n",
    "plt.show()"
   ]
  },
  {
   "cell_type": "markdown",
   "id": "38c5ac77",
   "metadata": {},
   "source": [
    "Se visualizan los datos del dataFrame en un histograma"
   ]
  },
  {
   "cell_type": "code",
   "execution_count": 10,
   "id": "73373004",
   "metadata": {},
   "outputs": [
    {
     "data": {
      "image/png": "[encoded data removed]",
      "text/plain": [
       "<Figure size 1440x720 with 12 Axes>"
      ]
     },
     "metadata": {
      "needs_background": "light"
     },
     "output_type": "display_data"
    }
   ],
   "source": [
    "#Se require presentar gráfica de histograma por cada columna o datos de dataframe\n",
    "df_taxis.hist(figsize=(20,10))\n",
    "plt.show()"
   ]
  },
  {
   "cell_type": "markdown",
   "id": "da6c8d76",
   "metadata": {},
   "source": [
    "Se visualizan las corelaciones entre variables"
   ]
  },
  {
   "cell_type": "code",
   "execution_count": 11,
   "id": "7d84925f",
   "metadata": {},
   "outputs": [
    {
     "data": {
      "image/png": "[encoded data removed]",
      "text/plain": [
       "<Figure size 1080x720 with 2 Axes>"
      ]
     },
     "metadata": {
      "needs_background": "light"
     },
     "output_type": "display_data"
    }
   ],
   "source": [
    "plt.figure(figsize=(15,10))\n",
    "sns.heatmap(df_taxis.corr(method='pearson'),annot=True)\n",
    "plt.show()"
   ]
  },
  {
   "cell_type": "markdown",
   "id": "f4bacca8",
   "metadata": {},
   "source": [
    "Se visualiza un histograma con la cantidad de servicios por estado"
   ]
  },
  {
   "cell_type": "code",
   "execution_count": 12,
   "id": "52a25612",
   "metadata": {},
   "outputs": [
    {
     "data": {
      "image/png": "[encoded data removed]",
      "text/plain": [
       "<Figure size 1152x576 with 1 Axes>"
      ]
     },
     "metadata": {
      "needs_background": "light"
     },
     "output_type": "display_data"
    }
   ],
   "source": [
    "df_taxis.groupby(['FECHA_MES','ESTADO'])['ID'].count().unstack('ESTADO').plot(kind='bar',stacked=True, fontsize=14, xlabel=\"Mes\", ylabel=\"Cantidad servicios\", figsize=(16,8), title=\"Servicios por periodo\", rot=0)\n",
    "plt.show()"
   ]
  },
  {
   "cell_type": "markdown",
   "id": "d6db0cf7",
   "metadata": {},
   "source": [
    "Se eliminan los datos que no se necesitan para predecir el modelo"
   ]
  },
  {
   "cell_type": "code",
   "execution_count": 13,
   "id": "84d92d46",
   "metadata": {},
   "outputs": [
    {
     "data": {
      "text/html": [
       "<div>\n",
       "<style scoped>\n",
       "    .dataframe tbody tr th:only-of-type {\n",
       "        vertical-align: middle;\n",
       "    }\n",
       "\n",
       "    .dataframe tbody tr th {\n",
       "        vertical-align: top;\n",
       "    }\n",
       "\n",
       "    .dataframe thead th {\n",
       "        text-align: right;\n",
       "    }\n",
       "</style>\n",
       "<table border=\"1\" class=\"dataframe\">\n",
       "  <thead>\n",
       "    <tr style=\"text-align: right;\">\n",
       "      <th></th>\n",
       "      <th>ID</th>\n",
       "      <th>IDCIUDAD</th>\n",
       "      <th>USUARIO</th>\n",
       "      <th>TELEFONOORIGEN</th>\n",
       "      <th>LATITUD</th>\n",
       "      <th>LATITUDDESTINO</th>\n",
       "      <th>LONGITUD</th>\n",
       "      <th>LONGITUDDESTINO</th>\n",
       "      <th>ESTADO</th>\n",
       "      <th>ORIGEN</th>\n",
       "      <th>FECHACOMPLETA</th>\n",
       "      <th>DIADESEMANA</th>\n",
       "      <th>HORA</th>\n",
       "      <th>MES</th>\n",
       "      <th>FECHA_MES</th>\n",
       "      <th>FECHA</th>\n",
       "    </tr>\n",
       "  </thead>\n",
       "  <tbody>\n",
       "    <tr>\n",
       "      <th>0</th>\n",
       "      <td>70152580</td>\n",
       "      <td>11001</td>\n",
       "      <td>8946882.0</td>\n",
       "      <td>3186429637</td>\n",
       "      <td>4.642036</td>\n",
       "      <td>4.630580</td>\n",
       "      <td>-74.187636</td>\n",
       "      <td>-74.189880</td>\n",
       "      <td>CANCELADO</td>\n",
       "      <td>APP</td>\n",
       "      <td>2022-04-30 19:00:00</td>\n",
       "      <td>7</td>\n",
       "      <td>19</td>\n",
       "      <td>4</td>\n",
       "      <td>2022-04</td>\n",
       "      <td>2022-04-30</td>\n",
       "    </tr>\n",
       "    <tr>\n",
       "      <th>1</th>\n",
       "      <td>70152581</td>\n",
       "      <td>11001</td>\n",
       "      <td>9665930.0</td>\n",
       "      <td>3209171095</td>\n",
       "      <td>4.594340</td>\n",
       "      <td>4.604060</td>\n",
       "      <td>-74.138168</td>\n",
       "      <td>-74.141610</td>\n",
       "      <td>ABANDONADO</td>\n",
       "      <td>APP</td>\n",
       "      <td>2022-04-30 19:00:00</td>\n",
       "      <td>7</td>\n",
       "      <td>19</td>\n",
       "      <td>4</td>\n",
       "      <td>2022-04</td>\n",
       "      <td>2022-04-30</td>\n",
       "    </tr>\n",
       "    <tr>\n",
       "      <th>2</th>\n",
       "      <td>70152582</td>\n",
       "      <td>76001</td>\n",
       "      <td>9243481.0</td>\n",
       "      <td>3147558713</td>\n",
       "      <td>3.367783</td>\n",
       "      <td>NaN</td>\n",
       "      <td>-76.531083</td>\n",
       "      <td>NaN</td>\n",
       "      <td>ABANDONADO</td>\n",
       "      <td>APP</td>\n",
       "      <td>2022-04-30 19:00:01</td>\n",
       "      <td>7</td>\n",
       "      <td>19</td>\n",
       "      <td>4</td>\n",
       "      <td>2022-04</td>\n",
       "      <td>2022-04-30</td>\n",
       "    </tr>\n",
       "    <tr>\n",
       "      <th>3</th>\n",
       "      <td>70152583</td>\n",
       "      <td>11001</td>\n",
       "      <td>841805.0</td>\n",
       "      <td>3125733084</td>\n",
       "      <td>4.630927</td>\n",
       "      <td>NaN</td>\n",
       "      <td>-74.092728</td>\n",
       "      <td>NaN</td>\n",
       "      <td>ABANDONADO</td>\n",
       "      <td>CHAT_BOT_659</td>\n",
       "      <td>2022-04-30 19:00:01</td>\n",
       "      <td>7</td>\n",
       "      <td>19</td>\n",
       "      <td>4</td>\n",
       "      <td>2022-04</td>\n",
       "      <td>2022-04-30</td>\n",
       "    </tr>\n",
       "    <tr>\n",
       "      <th>4</th>\n",
       "      <td>70152584</td>\n",
       "      <td>11001</td>\n",
       "      <td>9330612.0</td>\n",
       "      <td>3043963812</td>\n",
       "      <td>4.548637</td>\n",
       "      <td>4.622711</td>\n",
       "      <td>-74.096414</td>\n",
       "      <td>-74.147018</td>\n",
       "      <td>ABANDONADO</td>\n",
       "      <td>APP</td>\n",
       "      <td>2022-04-30 19:00:01</td>\n",
       "      <td>7</td>\n",
       "      <td>19</td>\n",
       "      <td>4</td>\n",
       "      <td>2022-04</td>\n",
       "      <td>2022-04-30</td>\n",
       "    </tr>\n",
       "  </tbody>\n",
       "</table>\n",
       "</div>"
      ],
      "text/plain": [
       "         ID  IDCIUDAD    USUARIO TELEFONOORIGEN   LATITUD  LATITUDDESTINO  \\\n",
       "0  70152580     11001  8946882.0     3186429637  4.642036        4.630580   \n",
       "1  70152581     11001  9665930.0     3209171095  4.594340        4.604060   \n",
       "2  70152582     76001  9243481.0     3147558713  3.367783             NaN   \n",
       "3  70152583     11001   841805.0     3125733084  4.630927             NaN   \n",
       "4  70152584     11001  9330612.0     3043963812  4.548637        4.622711   \n",
       "\n",
       "    LONGITUD  LONGITUDDESTINO      ESTADO        ORIGEN        FECHACOMPLETA  \\\n",
       "0 -74.187636       -74.189880   CANCELADO           APP  2022-04-30 19:00:00   \n",
       "1 -74.138168       -74.141610  ABANDONADO           APP  2022-04-30 19:00:00   \n",
       "2 -76.531083              NaN  ABANDONADO           APP  2022-04-30 19:00:01   \n",
       "3 -74.092728              NaN  ABANDONADO  CHAT_BOT_659  2022-04-30 19:00:01   \n",
       "4 -74.096414       -74.147018  ABANDONADO           APP  2022-04-30 19:00:01   \n",
       "\n",
       "   DIADESEMANA  HORA  MES FECHA_MES       FECHA  \n",
       "0            7    19    4   2022-04  2022-04-30  \n",
       "1            7    19    4   2022-04  2022-04-30  \n",
       "2            7    19    4   2022-04  2022-04-30  \n",
       "3            7    19    4   2022-04  2022-04-30  \n",
       "4            7    19    4   2022-04  2022-04-30  "
      ]
     },
     "execution_count": 13,
     "metadata": {},
     "output_type": "execute_result"
    }
   ],
   "source": [
    "df_taxis.head(5)"
   ]
  },
  {
   "cell_type": "code",
   "execution_count": 14,
   "id": "7083abad",
   "metadata": {},
   "outputs": [
    {
     "data": {
      "text/html": [
       "<div>\n",
       "<style scoped>\n",
       "    .dataframe tbody tr th:only-of-type {\n",
       "        vertical-align: middle;\n",
       "    }\n",
       "\n",
       "    .dataframe tbody tr th {\n",
       "        vertical-align: top;\n",
       "    }\n",
       "\n",
       "    .dataframe thead th {\n",
       "        text-align: right;\n",
       "    }\n",
       "</style>\n",
       "<table border=\"1\" class=\"dataframe\">\n",
       "  <thead>\n",
       "    <tr style=\"text-align: right;\">\n",
       "      <th></th>\n",
       "      <th>TELEFONOORIGEN</th>\n",
       "      <th>DIADESEMANA</th>\n",
       "      <th>HORA</th>\n",
       "      <th>MES</th>\n",
       "      <th>FECHA</th>\n",
       "    </tr>\n",
       "  </thead>\n",
       "  <tbody>\n",
       "    <tr>\n",
       "      <th>0</th>\n",
       "      <td>+130047610</td>\n",
       "      <td>6</td>\n",
       "      <td>8</td>\n",
       "      <td>4</td>\n",
       "      <td>2022-04-29</td>\n",
       "    </tr>\n",
       "    <tr>\n",
       "      <th>1</th>\n",
       "      <td>+130055764</td>\n",
       "      <td>3</td>\n",
       "      <td>7</td>\n",
       "      <td>4</td>\n",
       "      <td>2022-04-12</td>\n",
       "    </tr>\n",
       "    <tr>\n",
       "      <th>2</th>\n",
       "      <td>+130055764</td>\n",
       "      <td>3</td>\n",
       "      <td>12</td>\n",
       "      <td>4</td>\n",
       "      <td>2022-04-12</td>\n",
       "    </tr>\n",
       "    <tr>\n",
       "      <th>3</th>\n",
       "      <td>+130153273</td>\n",
       "      <td>7</td>\n",
       "      <td>12</td>\n",
       "      <td>2</td>\n",
       "      <td>2022-02-05</td>\n",
       "    </tr>\n",
       "    <tr>\n",
       "      <th>4</th>\n",
       "      <td>+130153273</td>\n",
       "      <td>7</td>\n",
       "      <td>21</td>\n",
       "      <td>5</td>\n",
       "      <td>2022-05-28</td>\n",
       "    </tr>\n",
       "  </tbody>\n",
       "</table>\n",
       "</div>"
      ],
      "text/plain": [
       "  TELEFONOORIGEN  DIADESEMANA  HORA  MES       FECHA\n",
       "0     +130047610            6     8    4  2022-04-29\n",
       "1     +130055764            3     7    4  2022-04-12\n",
       "2     +130055764            3    12    4  2022-04-12\n",
       "3     +130153273            7    12    2  2022-02-05\n",
       "4     +130153273            7    21    5  2022-05-28"
      ]
     },
     "execution_count": 14,
     "metadata": {},
     "output_type": "execute_result"
    }
   ],
   "source": [
    "#Eliminamos las columan que no son útiles para el modelo\n",
    "df_taxis = df_taxis.drop(columns=[\"IDCIUDAD\",\"USUARIO\",\"ID\",\"LATITUDDESTINO\",\"LONGITUDDESTINO\",\"LATITUD\",\"LONGITUD\",\"FECHACOMPLETA\",\"ORIGEN\",\"ESTADO\",\"FECHA_MES\"])\n",
    "#Se eliminan los valores duplicados del dataframe y se ordenan por los campos más relevangtes\n",
    "df_taxis = df_taxis.drop_duplicates().sort_values(by=['TELEFONOORIGEN','FECHA','DIADESEMANA','HORA'])\n",
    "#Se reindexa nuevamente el dataFrame\n",
    "df_taxis = df_taxis.reset_index(drop=True)\n",
    "#Se visualizan como queda el dataFrame\n",
    "df_taxis.head(5)"
   ]
  },
  {
   "cell_type": "markdown",
   "id": "6d3de64b",
   "metadata": {},
   "source": [
    "Se contabilizan cuantos servicios tiene asignado un teléfono después de eliminar los duplicados"
   ]
  },
  {
   "cell_type": "code",
   "execution_count": 15,
   "id": "912821fe",
   "metadata": {},
   "outputs": [
    {
     "data": {
      "text/plain": [
       "TELEFONOORIGEN\n",
       "3959999           908\n",
       "3107584482        783\n",
       "3187170954        698\n",
       "3138647901        684\n",
       "3153865158        683\n",
       "                 ... \n",
       "3134075870          1\n",
       "3134075868          1\n",
       "3134075773          1\n",
       "3134075253          1\n",
       "999883673           1\n",
       "Length: 640580, dtype: int64"
      ]
     },
     "execution_count": 15,
     "metadata": {},
     "output_type": "execute_result"
    }
   ],
   "source": [
    "count_data = df_taxis.loc[:,['TELEFONOORIGEN']].value_counts()\n",
    "count_data"
   ]
  },
  {
   "cell_type": "markdown",
   "id": "72883431",
   "metadata": {},
   "source": [
    "Se visualiza la distribución de los datos"
   ]
  },
  {
   "cell_type": "code",
   "execution_count": 16,
   "id": "bf8614d7",
   "metadata": {},
   "outputs": [
    {
     "data": {
      "text/plain": [
       "count    640580.000000\n",
       "mean          6.293386\n",
       "std          14.266877\n",
       "min           1.000000\n",
       "25%           1.000000\n",
       "50%           2.000000\n",
       "75%           5.000000\n",
       "max         908.000000\n",
       "dtype: float64"
      ]
     },
     "execution_count": 16,
     "metadata": {},
     "output_type": "execute_result"
    }
   ],
   "source": [
    "#Se visualizan los valores de los datos\n",
    "count_data.describe().T"
   ]
  },
  {
   "cell_type": "markdown",
   "id": "23c1a14b",
   "metadata": {},
   "source": [
    "## Se calcula el outlayer de los datos"
   ]
  },
  {
   "cell_type": "code",
   "execution_count": 17,
   "id": "53750644",
   "metadata": {},
   "outputs": [
    {
     "name": "stdout",
     "output_type": "stream",
     "text": [
      "El porcentaje del quartil 25: 1.0\n",
      "El porcentaje del quartil 75: 5.0\n",
      "El rango inter quartil es: 4.0\n"
     ]
    }
   ],
   "source": [
    "#Se calcula el quartil 25\n",
    "q25 = count_data.quantile(0.25)\n",
    "#Se calcula el quartil 75\n",
    "q75 = count_data.quantile(0.75)\n",
    "#Se calcula el rango inter quartil\n",
    "iqr = q75 - q25\n",
    "\n",
    "print(f\"El porcentaje del quartil 25: {q25}\")\n",
    "print(f\"El porcentaje del quartil 75: {q75}\")\n",
    "print(f\"El rango inter quartil es: {iqr}\")"
   ]
  },
  {
   "cell_type": "markdown",
   "id": "16281e22",
   "metadata": {},
   "source": [
    "Se calcula el umbral de los valores atípicos"
   ]
  },
  {
   "cell_type": "code",
   "execution_count": 18,
   "id": "9ce79991",
   "metadata": {},
   "outputs": [
    {
     "name": "stdout",
     "output_type": "stream",
     "text": [
      "El umbral de los valores atípicos es: 17.0\n",
      "La cantidad de valores atípicos son: 50936\n"
     ]
    }
   ],
   "source": [
    "#Se calcula el umbral de los  valores atípicos\n",
    "outliers_threshold = ( q75 + 3 * iqr )\n",
    "print(f\"El umbral de los valores atípicos es: {outliers_threshold}\")\n",
    "print(f\"La cantidad de valores atípicos son: {sum(count_data > outliers_threshold) }\")"
   ]
  },
  {
   "cell_type": "markdown",
   "id": "bdd9c9c5",
   "metadata": {},
   "source": [
    "Eliminamos los datos que esten por debajo del umbral de los valores atípicos"
   ]
  },
  {
   "cell_type": "code",
   "execution_count": 19,
   "id": "e7b7de2a",
   "metadata": {},
   "outputs": [
    {
     "data": {
      "text/plain": [
       "MES  TELEFONOORIGEN\n",
       "1    0000000000        107\n",
       "     12009954            6\n",
       "     12013202           39\n",
       "     12015158            2\n",
       "     12021232            4\n",
       "                      ... \n",
       "5    8959952             3\n",
       "     8961419            15\n",
       "     8961491             5\n",
       "     8962172             8\n",
       "     8987000            24\n",
       "Name: TELEFONOORIGEN, Length: 231938, dtype: int64"
      ]
     },
     "execution_count": 19,
     "metadata": {},
     "output_type": "execute_result"
    }
   ],
   "source": [
    "df_cleaned = df_taxis.copy()\n",
    "#Se descartan los que tienen menos del umbral de los valores atípicos\n",
    "df_cleaned = df_cleaned.groupby('TELEFONOORIGEN').filter(lambda x: x['TELEFONOORIGEN'].count() > outliers_threshold)\n",
    "#Se visualizan los datos agrupados por mes para determinar cuantos servicios tomó un usuario\n",
    "df_cleaned.groupby(['MES','TELEFONOORIGEN'])['TELEFONOORIGEN'].count()"
   ]
  },
  {
   "cell_type": "code",
   "execution_count": 20,
   "id": "d6fcd7f1",
   "metadata": {},
   "outputs": [
    {
     "data": {
      "text/plain": [
       "count    50936.00000\n",
       "mean        41.02246\n",
       "std         33.31812\n",
       "min         18.00000\n",
       "25%         22.00000\n",
       "50%         30.00000\n",
       "75%         47.00000\n",
       "max        908.00000\n",
       "dtype: float64"
      ]
     },
     "execution_count": 20,
     "metadata": {},
     "output_type": "execute_result"
    }
   ],
   "source": [
    "#Se visualizan los valores de los datos\n",
    "df_cleaned.loc[:,['TELEFONOORIGEN']].value_counts().describe()"
   ]
  },
  {
   "cell_type": "markdown",
   "id": "833c7c6c",
   "metadata": {},
   "source": [
    "## Visualización de datos final"
   ]
  },
  {
   "cell_type": "code",
   "execution_count": 21,
   "id": "9112f18d",
   "metadata": {},
   "outputs": [
    {
     "data": {
      "image/png": "[encoded data removed]",
      "text/plain": [
       "<Figure size 540x540 with 12 Axes>"
      ]
     },
     "metadata": {
      "needs_background": "light"
     },
     "output_type": "display_data"
    }
   ],
   "source": [
    "#Se presenta un gráfico general de los datos\n",
    "sns.pairplot(df_cleaned)\n",
    "plt.show()"
   ]
  },
  {
   "cell_type": "code",
   "execution_count": 22,
   "id": "c723a942",
   "metadata": {},
   "outputs": [
    {
     "data": {
      "text/html": [
       "<div>\n",
       "<style scoped>\n",
       "    .dataframe tbody tr th:only-of-type {\n",
       "        vertical-align: middle;\n",
       "    }\n",
       "\n",
       "    .dataframe tbody tr th {\n",
       "        vertical-align: top;\n",
       "    }\n",
       "\n",
       "    .dataframe thead th {\n",
       "        text-align: right;\n",
       "    }\n",
       "</style>\n",
       "<table border=\"1\" class=\"dataframe\">\n",
       "  <thead>\n",
       "    <tr style=\"text-align: right;\">\n",
       "      <th></th>\n",
       "      <th>DIADESEMANA</th>\n",
       "      <th>HORA</th>\n",
       "      <th>MES</th>\n",
       "    </tr>\n",
       "  </thead>\n",
       "  <tbody>\n",
       "    <tr>\n",
       "      <th>DIADESEMANA</th>\n",
       "      <td>1.000000</td>\n",
       "      <td>0.049555</td>\n",
       "      <td>0.007493</td>\n",
       "    </tr>\n",
       "    <tr>\n",
       "      <th>HORA</th>\n",
       "      <td>0.049555</td>\n",
       "      <td>1.000000</td>\n",
       "      <td>0.004370</td>\n",
       "    </tr>\n",
       "    <tr>\n",
       "      <th>MES</th>\n",
       "      <td>0.007493</td>\n",
       "      <td>0.004370</td>\n",
       "      <td>1.000000</td>\n",
       "    </tr>\n",
       "  </tbody>\n",
       "</table>\n",
       "</div>"
      ],
      "text/plain": [
       "             DIADESEMANA      HORA       MES\n",
       "DIADESEMANA     1.000000  0.049555  0.007493\n",
       "HORA            0.049555  1.000000  0.004370\n",
       "MES             0.007493  0.004370  1.000000"
      ]
     },
     "execution_count": 22,
     "metadata": {},
     "output_type": "execute_result"
    }
   ],
   "source": [
    "#Se obtiene la matrix de correlación con los datos finales\n",
    "corr_matrix = df_cleaned.corr()\n",
    "corr_matrix"
   ]
  },
  {
   "cell_type": "markdown",
   "id": "f73463ac",
   "metadata": {},
   "source": [
    "#se presenta gráfico  de correlación\n",
    "f, ax = plt.subplots(figsize=(16, 10))\n",
    "mask = np.triu(np.ones_like(corr_matrix, dtype=bool))\n",
    "cmap = sns.diverging_palette(230, 20, as_cmap=True)\n",
    "sns.heatmap(corr_matrix, annot=True, mask = mask, cmap=cmap )\n",
    "plt.title('Relacion entre variables del dataframe',fontsize=20,fontname='serif')\n",
    "plt.ylabel('Y', color='green', fontsize=25)\n",
    "plt.xlabel('X', color='Red', fontsize=25)"
   ]
  },
  {
   "cell_type": "code",
   "execution_count": 23,
   "id": "b270d5de",
   "metadata": {},
   "outputs": [
    {
     "data": {
      "text/plain": [
       "TELEFONOORIGEN\n",
       "3959999           908\n",
       "3107584482        783\n",
       "3187170954        698\n",
       "3138647901        684\n",
       "3153865158        683\n",
       "                 ... \n",
       "3214610478         18\n",
       "3184150583         18\n",
       "3184151463         18\n",
       "3214606126         18\n",
       "3134438997         18\n",
       "Length: 50936, dtype: int64"
      ]
     },
     "execution_count": 23,
     "metadata": {},
     "output_type": "execute_result"
    }
   ],
   "source": [
    "#Se realiza un conteo de la cantidad de datos por usuario\n",
    "df_cleaned.loc[:,['TELEFONOORIGEN']].value_counts()"
   ]
  },
  {
   "cell_type": "markdown",
   "id": "d9b983a8",
   "metadata": {},
   "source": [
    "Se filtra un usuario con datos"
   ]
  },
  {
   "cell_type": "code",
   "execution_count": 24,
   "id": "1fabbbba",
   "metadata": {},
   "outputs": [],
   "source": [
    "#Se crea un nuevo dataframe con los teléfonos para entrenar cada usuario personalizado\n",
    "df_phone = df_cleaned.copy()\n",
    "\n",
    "'''\n",
    "df_phone = df_phone[(df_phone[\"TELEFONOORIGEN\"]==\"3115590650\") | \n",
    "(df_phone[\"TELEFONOORIGEN\"]==\"3107584482\")| \n",
    "(df_phone[\"TELEFONOORIGEN\"]==\"3118082696\")| \n",
    "(df_phone[\"TELEFONOORIGEN\"]==\"3152175765\")]\n",
    "'''\n",
    "df_phone = df_phone[(df_phone[\"TELEFONOORIGEN\"]==\"3107584482\")]\n",
    "df_phone = df_phone.drop(columns=[\"TELEFONOORIGEN\"])"
   ]
  },
  {
   "cell_type": "markdown",
   "id": "cede8de0",
   "metadata": {},
   "source": [
    "## Se visualiza la candidad de servicios por semana durantes los meses del usuario"
   ]
  },
  {
   "cell_type": "code",
   "execution_count": 25,
   "id": "7bb2b7b3",
   "metadata": {},
   "outputs": [
    {
     "data": {
      "image/png": "[encoded data removed]",
      "text/plain": [
       "<Figure size 1152x576 with 1 Axes>"
      ]
     },
     "metadata": {
      "needs_background": "light"
     },
     "output_type": "display_data"
    }
   ],
   "source": [
    "df_phone.groupby(['MES','DIADESEMANA'])['HORA'].count().unstack('DIADESEMANA').plot(kind='bar',stacked=True, fontsize=14, xlabel=\"Mes\", ylabel=\"Cantidad servicios\", figsize=(16,8), title=\"Servicios por periodo\", rot=0)\n",
    "plt.show()"
   ]
  },
  {
   "cell_type": "code",
   "execution_count": 26,
   "id": "a3913c04",
   "metadata": {},
   "outputs": [
    {
     "data": {
      "image/png": "[encoded data removed]",
      "text/plain": [
       "<Figure size 1152x576 with 1 Axes>"
      ]
     },
     "metadata": {
      "needs_background": "light"
     },
     "output_type": "display_data"
    }
   ],
   "source": [
    "#Se agrupa por 'Mes' y 'Día de la semana'\n",
    "df_phone.groupby(['MES','DIADESEMANA'])['HORA'].count().unstack('DIADESEMANA').plot(kind='bar', xlabel=\"Mes\", ylabel=\"Cantidad servicios\", figsize=(16,8), title=\"Servicios por periodo\", rot=0)\n",
    "plt.show()"
   ]
  },
  {
   "cell_type": "markdown",
   "id": "4aa3bc6d",
   "metadata": {},
   "source": [
    "Se crea la función que rellena el dataset con datos sin servicios"
   ]
  },
  {
   "cell_type": "code",
   "execution_count": 27,
   "id": "9d4e7c91",
   "metadata": {},
   "outputs": [],
   "source": [
    "#Funcion que permite rellenar el dataset con los servicios tomados en 1 y los no tomados en 0\n",
    "def setDataService(data, from_date, to_date):\n",
    "  remaining_days = to_date.date() - from_date.date()\n",
    "  service_array = []\n",
    "  for i in range(remaining_days.days+1):\n",
    "    last_time = from_date + timedelta(days=i)\n",
    "    #if last_time.date().isoweekday() == to_date.date().isoweekday():\n",
    "    for hour in range(HOURS_OF_DAY):\n",
    "      #Se filtra por el mismo día de la semana, fecha y hora\n",
    "      #df_service = data[(data['DIADESEMANA'] == last_time.isoweekday()) & (data['FECHA'] == last_time.date()) & (data['HORA'] == hour) ].to_numpy()\n",
    "      df_service = data[(data['FECHA'].astype(str) == last_time.strftime(FORMAT_DATE)) & (data['HORA'] == hour) ].to_numpy()\n",
    "      if len(df_service) > 0:\n",
    "        #Se llena con valor en 1 porqué se encontró un servicio\n",
    "        service_array.append(np.append(df_service, 1))\n",
    "      else:\n",
    "        #Se llena con valor en 0 porqué no se encontró ningún servicio\n",
    "        service_array.append([last_time.isoweekday(),hour,last_time.month,last_time.date().strftime(FORMAT_DATE),0])\n",
    "  return pd.DataFrame(service_array, \n",
    "             columns=np.append(np.array(data.columns.tolist()), 'SERVICIO'))"
   ]
  },
  {
   "cell_type": "code",
   "execution_count": 37,
   "id": "14b49d79",
   "metadata": {},
   "outputs": [
    {
     "data": {
      "text/html": [
       "<div>\n",
       "<style scoped>\n",
       "    .dataframe tbody tr th:only-of-type {\n",
       "        vertical-align: middle;\n",
       "    }\n",
       "\n",
       "    .dataframe tbody tr th {\n",
       "        vertical-align: top;\n",
       "    }\n",
       "\n",
       "    .dataframe thead th {\n",
       "        text-align: right;\n",
       "    }\n",
       "</style>\n",
       "<table border=\"1\" class=\"dataframe\">\n",
       "  <thead>\n",
       "    <tr style=\"text-align: right;\">\n",
       "      <th></th>\n",
       "      <th>DIADESEMANA</th>\n",
       "      <th>HORA</th>\n",
       "      <th>MES</th>\n",
       "      <th>FECHA</th>\n",
       "      <th>SERVICIO</th>\n",
       "    </tr>\n",
       "  </thead>\n",
       "  <tbody>\n",
       "    <tr>\n",
       "      <th>0</th>\n",
       "      <td>6</td>\n",
       "      <td>0</td>\n",
       "      <td>1</td>\n",
       "      <td>2022-01-01</td>\n",
       "      <td>0</td>\n",
       "    </tr>\n",
       "    <tr>\n",
       "      <th>1</th>\n",
       "      <td>6</td>\n",
       "      <td>1</td>\n",
       "      <td>1</td>\n",
       "      <td>2022-01-01</td>\n",
       "      <td>0</td>\n",
       "    </tr>\n",
       "    <tr>\n",
       "      <th>2</th>\n",
       "      <td>6</td>\n",
       "      <td>2</td>\n",
       "      <td>1</td>\n",
       "      <td>2022-01-01</td>\n",
       "      <td>0</td>\n",
       "    </tr>\n",
       "    <tr>\n",
       "      <th>3</th>\n",
       "      <td>6</td>\n",
       "      <td>3</td>\n",
       "      <td>1</td>\n",
       "      <td>2022-01-01</td>\n",
       "      <td>0</td>\n",
       "    </tr>\n",
       "    <tr>\n",
       "      <th>4</th>\n",
       "      <td>6</td>\n",
       "      <td>4</td>\n",
       "      <td>1</td>\n",
       "      <td>2022-01-01</td>\n",
       "      <td>0</td>\n",
       "    </tr>\n",
       "  </tbody>\n",
       "</table>\n",
       "</div>"
      ],
      "text/plain": [
       "   DIADESEMANA  HORA  MES       FECHA  SERVICIO\n",
       "0            6     0    1  2022-01-01         0\n",
       "1            6     1    1  2022-01-01         0\n",
       "2            6     2    1  2022-01-01         0\n",
       "3            6     3    1  2022-01-01         0\n",
       "4            6     4    1  2022-01-01         0"
      ]
     },
     "execution_count": 37,
     "metadata": {},
     "output_type": "execute_result"
    }
   ],
   "source": [
    "#Se rellena el dataset con los datos cuando no hay servicio\n",
    "df_phone_v2 = setDataService(df_phone, first_date_dataset, last_date_dataset)\n",
    "df_phone_v2.sort_values(by=['FECHA','HORA']).head(5)"
   ]
  },
  {
   "cell_type": "code",
   "execution_count": 40,
   "id": "a3f7e725",
   "metadata": {},
   "outputs": [
    {
     "data": {
      "image/png": "[encoded data removed]",
      "text/plain": [
       "<Figure size 576x432 with 1 Axes>"
      ]
     },
     "metadata": {
      "needs_background": "light"
     },
     "output_type": "display_data"
    }
   ],
   "source": [
    "#Se diagrama los datos del servicio en histograma para visualizar su proporción\n",
    "df_phone_v2['SERVICIO'].hist(figsize=(8,6))\n",
    "plt.show()"
   ]
  },
  {
   "cell_type": "code",
   "execution_count": 44,
   "id": "7d1d78de",
   "metadata": {},
   "outputs": [
    {
     "data": {
      "text/plain": [
       "0    2793\n",
       "1     783\n",
       "Name: SERVICIO, dtype: int64"
      ]
     },
     "execution_count": 44,
     "metadata": {},
     "output_type": "execute_result"
    }
   ],
   "source": [
    "#Se revisa que tan balanceado estan los datos\n",
    "df_phone_v2['SERVICIO'].value_counts()"
   ]
  },
  {
   "cell_type": "code",
   "execution_count": 82,
   "id": "dad500ad",
   "metadata": {},
   "outputs": [],
   "source": [
    "X = df_phone_v2.drop(columns=['SERVICIO','FECHA'], axis=1)\n",
    "y = df_phone_v2.SERVICIO"
   ]
  },
  {
   "cell_type": "code",
   "execution_count": 83,
   "id": "4ffdc7f6",
   "metadata": {},
   "outputs": [],
   "source": [
    "X_train, X_test, y_train, y_test = train_test_split(X, y, stratify=y)"
   ]
  },
  {
   "cell_type": "code",
   "execution_count": 84,
   "id": "1fcb4802",
   "metadata": {},
   "outputs": [
    {
     "data": {
      "image/png": "[encoded data removed]",
      "text/plain": [
       "<Figure size 576x432 with 1 Axes>"
      ]
     },
     "metadata": {
      "needs_background": "light"
     },
     "output_type": "display_data"
    },
    {
     "data": {
      "image/png": "[encoded data removed]",
      "text/plain": [
       "<Figure size 576x432 with 1 Axes>"
      ]
     },
     "metadata": {
      "needs_background": "light"
     },
     "output_type": "display_data"
    }
   ],
   "source": [
    "y_test.hist(figsize=(8,6))\n",
    "plt.show()\n",
    "y_train.hist(figsize=(8,6))\n",
    "plt.show()"
   ]
  },
  {
   "cell_type": "code",
   "execution_count": 85,
   "id": "5bde20de",
   "metadata": {},
   "outputs": [
    {
     "data": {
      "text/plain": [
       "0    2095\n",
       "1     587\n",
       "Name: SERVICIO, dtype: int64"
      ]
     },
     "execution_count": 85,
     "metadata": {},
     "output_type": "execute_result"
    }
   ],
   "source": [
    "y_train.value_counts()"
   ]
  },
  {
   "cell_type": "code",
   "execution_count": 131,
   "id": "6ce17edb",
   "metadata": {},
   "outputs": [],
   "source": [
    "pipeline = Pipeline(\n",
    "          [\n",
    "              ('Escalado minmax', StandardScaler()),\n",
    "              (\"modelo\", DecisionTreeClassifier(max_depth=2, class_weight='balanced', max_features='log2'))\n",
    "               \n",
    "          ]\n",
    ")"
   ]
  },
  {
   "cell_type": "code",
   "execution_count": 132,
   "id": "6b3aa242",
   "metadata": {},
   "outputs": [],
   "source": [
    "results = cross_validate(pipeline, X, y, cv=10, scoring=[\"accuracy\",\"f1\"])"
   ]
  },
  {
   "cell_type": "code",
   "execution_count": 133,
   "id": "efca6fd2",
   "metadata": {},
   "outputs": [
    {
     "name": "stdout",
     "output_type": "stream",
     "text": [
      "train:  0.36203939889921133 +- 0.039374134871513256\n",
      "test:  0.5069887172746192 +- 0.09572606214388413\n"
     ]
    }
   ],
   "source": [
    "print(\"train: \",results[\"test_f1\"].mean(), \"+-\", results[\"test_f1\"].std())\n",
    "print(\"test: \",results[\"test_accuracy\"].mean(), \"+-\", results[\"test_accuracy\"].std())"
   ]
  },
  {
   "cell_type": "code",
   "execution_count": 134,
   "id": "c34d554e",
   "metadata": {},
   "outputs": [],
   "source": [
    "#Probar con 50, 100 y 200 arboles con alturas 2,3,5,10 con 10 experimentos\n",
    "grid = {'max_depth':[2,3,5,10], 'max_features':[\"auto\", \"sqrt\", \"log2\"]}"
   ]
  },
  {
   "cell_type": "code",
   "execution_count": 135,
   "id": "4687ff62",
   "metadata": {},
   "outputs": [],
   "source": [
    "grid_search = GridSearchCV(\n",
    "    DecisionTreeClassifier(class_weight='balanced'),\n",
    "    param_grid=grid,\n",
    "    cv=10,\n",
    "    scoring=\"accuracy\"\n",
    ")"
   ]
  },
  {
   "cell_type": "code",
   "execution_count": 136,
   "id": "e7cd2891",
   "metadata": {},
   "outputs": [
    {
     "name": "stderr",
     "output_type": "stream",
     "text": [
      "c:\\Users\\de_la\\AppData\\Local\\Programs\\Python\\Python310\\lib\\site-packages\\sklearn\\tree\\_classes.py:298: FutureWarning: `max_features='auto'` has been deprecated in 1.1 and will be removed in 1.3. To keep the past behaviour, explicitly set `max_features='sqrt'`.\n",
      "  warnings.warn(\n",
      "c:\\Users\\de_la\\AppData\\Local\\Programs\\Python\\Python310\\lib\\site-packages\\sklearn\\tree\\_classes.py:298: FutureWarning: `max_features='auto'` has been deprecated in 1.1 and will be removed in 1.3. To keep the past behaviour, explicitly set `max_features='sqrt'`.\n",
      "  warnings.warn(\n",
      "c:\\Users\\de_la\\AppData\\Local\\Programs\\Python\\Python310\\lib\\site-packages\\sklearn\\tree\\_classes.py:298: FutureWarning: `max_features='auto'` has been deprecated in 1.1 and will be removed in 1.3. To keep the past behaviour, explicitly set `max_features='sqrt'`.\n",
      "  warnings.warn(\n",
      "c:\\Users\\de_la\\AppData\\Local\\Programs\\Python\\Python310\\lib\\site-packages\\sklearn\\tree\\_classes.py:298: FutureWarning: `max_features='auto'` has been deprecated in 1.1 and will be removed in 1.3. To keep the past behaviour, explicitly set `max_features='sqrt'`.\n",
      "  warnings.warn(\n",
      "c:\\Users\\de_la\\AppData\\Local\\Programs\\Python\\Python310\\lib\\site-packages\\sklearn\\tree\\_classes.py:298: FutureWarning: `max_features='auto'` has been deprecated in 1.1 and will be removed in 1.3. To keep the past behaviour, explicitly set `max_features='sqrt'`.\n",
      "  warnings.warn(\n",
      "c:\\Users\\de_la\\AppData\\Local\\Programs\\Python\\Python310\\lib\\site-packages\\sklearn\\tree\\_classes.py:298: FutureWarning: `max_features='auto'` has been deprecated in 1.1 and will be removed in 1.3. To keep the past behaviour, explicitly set `max_features='sqrt'`.\n",
      "  warnings.warn(\n",
      "c:\\Users\\de_la\\AppData\\Local\\Programs\\Python\\Python310\\lib\\site-packages\\sklearn\\tree\\_classes.py:298: FutureWarning: `max_features='auto'` has been deprecated in 1.1 and will be removed in 1.3. To keep the past behaviour, explicitly set `max_features='sqrt'`.\n",
      "  warnings.warn(\n",
      "c:\\Users\\de_la\\AppData\\Local\\Programs\\Python\\Python310\\lib\\site-packages\\sklearn\\tree\\_classes.py:298: FutureWarning: `max_features='auto'` has been deprecated in 1.1 and will be removed in 1.3. To keep the past behaviour, explicitly set `max_features='sqrt'`.\n",
      "  warnings.warn(\n",
      "c:\\Users\\de_la\\AppData\\Local\\Programs\\Python\\Python310\\lib\\site-packages\\sklearn\\tree\\_classes.py:298: FutureWarning: `max_features='auto'` has been deprecated in 1.1 and will be removed in 1.3. To keep the past behaviour, explicitly set `max_features='sqrt'`.\n",
      "  warnings.warn(\n",
      "c:\\Users\\de_la\\AppData\\Local\\Programs\\Python\\Python310\\lib\\site-packages\\sklearn\\tree\\_classes.py:298: FutureWarning: `max_features='auto'` has been deprecated in 1.1 and will be removed in 1.3. To keep the past behaviour, explicitly set `max_features='sqrt'`.\n",
      "  warnings.warn(\n",
      "c:\\Users\\de_la\\AppData\\Local\\Programs\\Python\\Python310\\lib\\site-packages\\sklearn\\tree\\_classes.py:298: FutureWarning: `max_features='auto'` has been deprecated in 1.1 and will be removed in 1.3. To keep the past behaviour, explicitly set `max_features='sqrt'`.\n",
      "  warnings.warn(\n",
      "c:\\Users\\de_la\\AppData\\Local\\Programs\\Python\\Python310\\lib\\site-packages\\sklearn\\tree\\_classes.py:298: FutureWarning: `max_features='auto'` has been deprecated in 1.1 and will be removed in 1.3. To keep the past behaviour, explicitly set `max_features='sqrt'`.\n",
      "  warnings.warn(\n",
      "c:\\Users\\de_la\\AppData\\Local\\Programs\\Python\\Python310\\lib\\site-packages\\sklearn\\tree\\_classes.py:298: FutureWarning: `max_features='auto'` has been deprecated in 1.1 and will be removed in 1.3. To keep the past behaviour, explicitly set `max_features='sqrt'`.\n",
      "  warnings.warn(\n",
      "c:\\Users\\de_la\\AppData\\Local\\Programs\\Python\\Python310\\lib\\site-packages\\sklearn\\tree\\_classes.py:298: FutureWarning: `max_features='auto'` has been deprecated in 1.1 and will be removed in 1.3. To keep the past behaviour, explicitly set `max_features='sqrt'`.\n",
      "  warnings.warn(\n",
      "c:\\Users\\de_la\\AppData\\Local\\Programs\\Python\\Python310\\lib\\site-packages\\sklearn\\tree\\_classes.py:298: FutureWarning: `max_features='auto'` has been deprecated in 1.1 and will be removed in 1.3. To keep the past behaviour, explicitly set `max_features='sqrt'`.\n",
      "  warnings.warn(\n",
      "c:\\Users\\de_la\\AppData\\Local\\Programs\\Python\\Python310\\lib\\site-packages\\sklearn\\tree\\_classes.py:298: FutureWarning: `max_features='auto'` has been deprecated in 1.1 and will be removed in 1.3. To keep the past behaviour, explicitly set `max_features='sqrt'`.\n",
      "  warnings.warn(\n",
      "c:\\Users\\de_la\\AppData\\Local\\Programs\\Python\\Python310\\lib\\site-packages\\sklearn\\tree\\_classes.py:298: FutureWarning: `max_features='auto'` has been deprecated in 1.1 and will be removed in 1.3. To keep the past behaviour, explicitly set `max_features='sqrt'`.\n",
      "  warnings.warn(\n",
      "c:\\Users\\de_la\\AppData\\Local\\Programs\\Python\\Python310\\lib\\site-packages\\sklearn\\tree\\_classes.py:298: FutureWarning: `max_features='auto'` has been deprecated in 1.1 and will be removed in 1.3. To keep the past behaviour, explicitly set `max_features='sqrt'`.\n",
      "  warnings.warn(\n",
      "c:\\Users\\de_la\\AppData\\Local\\Programs\\Python\\Python310\\lib\\site-packages\\sklearn\\tree\\_classes.py:298: FutureWarning: `max_features='auto'` has been deprecated in 1.1 and will be removed in 1.3. To keep the past behaviour, explicitly set `max_features='sqrt'`.\n",
      "  warnings.warn(\n",
      "c:\\Users\\de_la\\AppData\\Local\\Programs\\Python\\Python310\\lib\\site-packages\\sklearn\\tree\\_classes.py:298: FutureWarning: `max_features='auto'` has been deprecated in 1.1 and will be removed in 1.3. To keep the past behaviour, explicitly set `max_features='sqrt'`.\n",
      "  warnings.warn(\n",
      "c:\\Users\\de_la\\AppData\\Local\\Programs\\Python\\Python310\\lib\\site-packages\\sklearn\\tree\\_classes.py:298: FutureWarning: `max_features='auto'` has been deprecated in 1.1 and will be removed in 1.3. To keep the past behaviour, explicitly set `max_features='sqrt'`.\n",
      "  warnings.warn(\n",
      "c:\\Users\\de_la\\AppData\\Local\\Programs\\Python\\Python310\\lib\\site-packages\\sklearn\\tree\\_classes.py:298: FutureWarning: `max_features='auto'` has been deprecated in 1.1 and will be removed in 1.3. To keep the past behaviour, explicitly set `max_features='sqrt'`.\n",
      "  warnings.warn(\n",
      "c:\\Users\\de_la\\AppData\\Local\\Programs\\Python\\Python310\\lib\\site-packages\\sklearn\\tree\\_classes.py:298: FutureWarning: `max_features='auto'` has been deprecated in 1.1 and will be removed in 1.3. To keep the past behaviour, explicitly set `max_features='sqrt'`.\n",
      "  warnings.warn(\n",
      "c:\\Users\\de_la\\AppData\\Local\\Programs\\Python\\Python310\\lib\\site-packages\\sklearn\\tree\\_classes.py:298: FutureWarning: `max_features='auto'` has been deprecated in 1.1 and will be removed in 1.3. To keep the past behaviour, explicitly set `max_features='sqrt'`.\n",
      "  warnings.warn(\n",
      "c:\\Users\\de_la\\AppData\\Local\\Programs\\Python\\Python310\\lib\\site-packages\\sklearn\\tree\\_classes.py:298: FutureWarning: `max_features='auto'` has been deprecated in 1.1 and will be removed in 1.3. To keep the past behaviour, explicitly set `max_features='sqrt'`.\n",
      "  warnings.warn(\n",
      "c:\\Users\\de_la\\AppData\\Local\\Programs\\Python\\Python310\\lib\\site-packages\\sklearn\\tree\\_classes.py:298: FutureWarning: `max_features='auto'` has been deprecated in 1.1 and will be removed in 1.3. To keep the past behaviour, explicitly set `max_features='sqrt'`.\n",
      "  warnings.warn(\n",
      "c:\\Users\\de_la\\AppData\\Local\\Programs\\Python\\Python310\\lib\\site-packages\\sklearn\\tree\\_classes.py:298: FutureWarning: `max_features='auto'` has been deprecated in 1.1 and will be removed in 1.3. To keep the past behaviour, explicitly set `max_features='sqrt'`.\n",
      "  warnings.warn(\n",
      "c:\\Users\\de_la\\AppData\\Local\\Programs\\Python\\Python310\\lib\\site-packages\\sklearn\\tree\\_classes.py:298: FutureWarning: `max_features='auto'` has been deprecated in 1.1 and will be removed in 1.3. To keep the past behaviour, explicitly set `max_features='sqrt'`.\n",
      "  warnings.warn(\n",
      "c:\\Users\\de_la\\AppData\\Local\\Programs\\Python\\Python310\\lib\\site-packages\\sklearn\\tree\\_classes.py:298: FutureWarning: `max_features='auto'` has been deprecated in 1.1 and will be removed in 1.3. To keep the past behaviour, explicitly set `max_features='sqrt'`.\n",
      "  warnings.warn(\n",
      "c:\\Users\\de_la\\AppData\\Local\\Programs\\Python\\Python310\\lib\\site-packages\\sklearn\\tree\\_classes.py:298: FutureWarning: `max_features='auto'` has been deprecated in 1.1 and will be removed in 1.3. To keep the past behaviour, explicitly set `max_features='sqrt'`.\n",
      "  warnings.warn(\n",
      "c:\\Users\\de_la\\AppData\\Local\\Programs\\Python\\Python310\\lib\\site-packages\\sklearn\\tree\\_classes.py:298: FutureWarning: `max_features='auto'` has been deprecated in 1.1 and will be removed in 1.3. To keep the past behaviour, explicitly set `max_features='sqrt'`.\n",
      "  warnings.warn(\n",
      "c:\\Users\\de_la\\AppData\\Local\\Programs\\Python\\Python310\\lib\\site-packages\\sklearn\\tree\\_classes.py:298: FutureWarning: `max_features='auto'` has been deprecated in 1.1 and will be removed in 1.3. To keep the past behaviour, explicitly set `max_features='sqrt'`.\n",
      "  warnings.warn(\n",
      "c:\\Users\\de_la\\AppData\\Local\\Programs\\Python\\Python310\\lib\\site-packages\\sklearn\\tree\\_classes.py:298: FutureWarning: `max_features='auto'` has been deprecated in 1.1 and will be removed in 1.3. To keep the past behaviour, explicitly set `max_features='sqrt'`.\n",
      "  warnings.warn(\n",
      "c:\\Users\\de_la\\AppData\\Local\\Programs\\Python\\Python310\\lib\\site-packages\\sklearn\\tree\\_classes.py:298: FutureWarning: `max_features='auto'` has been deprecated in 1.1 and will be removed in 1.3. To keep the past behaviour, explicitly set `max_features='sqrt'`.\n",
      "  warnings.warn(\n",
      "c:\\Users\\de_la\\AppData\\Local\\Programs\\Python\\Python310\\lib\\site-packages\\sklearn\\tree\\_classes.py:298: FutureWarning: `max_features='auto'` has been deprecated in 1.1 and will be removed in 1.3. To keep the past behaviour, explicitly set `max_features='sqrt'`.\n",
      "  warnings.warn(\n",
      "c:\\Users\\de_la\\AppData\\Local\\Programs\\Python\\Python310\\lib\\site-packages\\sklearn\\tree\\_classes.py:298: FutureWarning: `max_features='auto'` has been deprecated in 1.1 and will be removed in 1.3. To keep the past behaviour, explicitly set `max_features='sqrt'`.\n",
      "  warnings.warn(\n",
      "c:\\Users\\de_la\\AppData\\Local\\Programs\\Python\\Python310\\lib\\site-packages\\sklearn\\tree\\_classes.py:298: FutureWarning: `max_features='auto'` has been deprecated in 1.1 and will be removed in 1.3. To keep the past behaviour, explicitly set `max_features='sqrt'`.\n",
      "  warnings.warn(\n",
      "c:\\Users\\de_la\\AppData\\Local\\Programs\\Python\\Python310\\lib\\site-packages\\sklearn\\tree\\_classes.py:298: FutureWarning: `max_features='auto'` has been deprecated in 1.1 and will be removed in 1.3. To keep the past behaviour, explicitly set `max_features='sqrt'`.\n",
      "  warnings.warn(\n",
      "c:\\Users\\de_la\\AppData\\Local\\Programs\\Python\\Python310\\lib\\site-packages\\sklearn\\tree\\_classes.py:298: FutureWarning: `max_features='auto'` has been deprecated in 1.1 and will be removed in 1.3. To keep the past behaviour, explicitly set `max_features='sqrt'`.\n",
      "  warnings.warn(\n",
      "c:\\Users\\de_la\\AppData\\Local\\Programs\\Python\\Python310\\lib\\site-packages\\sklearn\\tree\\_classes.py:298: FutureWarning: `max_features='auto'` has been deprecated in 1.1 and will be removed in 1.3. To keep the past behaviour, explicitly set `max_features='sqrt'`.\n",
      "  warnings.warn(\n"
     ]
    },
    {
     "data": {
      "text/html": [
       "<style>#sk-container-id-5 {color: black;background-color: white;}#sk-container-id-5 pre{padding: 0;}#sk-container-id-5 div.sk-toggleable {background-color: white;}#sk-container-id-5 label.sk-toggleable__label {cursor: pointer;display: block;width: 100%;margin-bottom: 0;padding: 0.3em;box-sizing: border-box;text-align: center;}#sk-container-id-5 label.sk-toggleable__label-arrow:before {content: \"▸\";float: left;margin-right: 0.25em;color: #696969;}#sk-container-id-5 label.sk-toggleable__label-arrow:hover:before {color: black;}#sk-container-id-5 div.sk-estimator:hover label.sk-toggleable__label-arrow:before {color: black;}#sk-container-id-5 div.sk-toggleable__content {max-height: 0;max-width: 0;overflow: hidden;text-align: left;background-color: #f0f8ff;}#sk-container-id-5 div.sk-toggleable__content pre {margin: 0.2em;color: black;border-radius: 0.25em;background-color: #f0f8ff;}#sk-container-id-5 input.sk-toggleable__control:checked~div.sk-toggleable__content {max-height: 200px;max-width: 100%;overflow: auto;}#sk-container-id-5 input.sk-toggleable__control:checked~label.sk-toggleable__label-arrow:before {content: \"▾\";}#sk-container-id-5 div.sk-estimator input.sk-toggleable__control:checked~label.sk-toggleable__label {background-color: #d4ebff;}#sk-container-id-5 div.sk-label input.sk-toggleable__control:checked~label.sk-toggleable__label {background-color: #d4ebff;}#sk-container-id-5 input.sk-hidden--visually {border: 0;clip: rect(1px 1px 1px 1px);clip: rect(1px, 1px, 1px, 1px);height: 1px;margin: -1px;overflow: hidden;padding: 0;position: absolute;width: 1px;}#sk-container-id-5 div.sk-estimator {font-family: monospace;background-color: #f0f8ff;border: 1px dotted black;border-radius: 0.25em;box-sizing: border-box;margin-bottom: 0.5em;}#sk-container-id-5 div.sk-estimator:hover {background-color: #d4ebff;}#sk-container-id-5 div.sk-parallel-item::after {content: \"\";width: 100%;border-bottom: 1px solid gray;flex-grow: 1;}#sk-container-id-5 div.sk-label:hover label.sk-toggleable__label {background-color: #d4ebff;}#sk-container-id-5 div.sk-serial::before {content: \"\";position: absolute;border-left: 1px solid gray;box-sizing: border-box;top: 0;bottom: 0;left: 50%;z-index: 0;}#sk-container-id-5 div.sk-serial {display: flex;flex-direction: column;align-items: center;background-color: white;padding-right: 0.2em;padding-left: 0.2em;position: relative;}#sk-container-id-5 div.sk-item {position: relative;z-index: 1;}#sk-container-id-5 div.sk-parallel {display: flex;align-items: stretch;justify-content: center;background-color: white;position: relative;}#sk-container-id-5 div.sk-item::before, #sk-container-id-5 div.sk-parallel-item::before {content: \"\";position: absolute;border-left: 1px solid gray;box-sizing: border-box;top: 0;bottom: 0;left: 50%;z-index: -1;}#sk-container-id-5 div.sk-parallel-item {display: flex;flex-direction: column;z-index: 1;position: relative;background-color: white;}#sk-container-id-5 div.sk-parallel-item:first-child::after {align-self: flex-end;width: 50%;}#sk-container-id-5 div.sk-parallel-item:last-child::after {align-self: flex-start;width: 50%;}#sk-container-id-5 div.sk-parallel-item:only-child::after {width: 0;}#sk-container-id-5 div.sk-dashed-wrapped {border: 1px dashed gray;margin: 0 0.4em 0.5em 0.4em;box-sizing: border-box;padding-bottom: 0.4em;background-color: white;}#sk-container-id-5 div.sk-label label {font-family: monospace;font-weight: bold;display: inline-block;line-height: 1.2em;}#sk-container-id-5 div.sk-label-container {text-align: center;}#sk-container-id-5 div.sk-container {/* jupyter's `normalize.less` sets `[hidden] { display: none; }` but bootstrap.min.css set `[hidden] { display: none !important; }` so we also need the `!important` here to be able to override the default hidden behavior on the sphinx rendered scikit-learn.org. See: https://github.com/scikit-learn/scikit-learn/issues/21755 */display: inline-block !important;position: relative;}#sk-container-id-5 div.sk-text-repr-fallback {display: none;}</style><div id=\"sk-container-id-5\" class=\"sk-top-container\"><div class=\"sk-text-repr-fallback\"><pre>GridSearchCV(cv=10, estimator=DecisionTreeClassifier(class_weight=&#x27;balanced&#x27;),\n",
       "             param_grid={&#x27;max_depth&#x27;: [2, 3, 5, 10],\n",
       "                         &#x27;max_features&#x27;: [&#x27;auto&#x27;, &#x27;sqrt&#x27;, &#x27;log2&#x27;]},\n",
       "             scoring=&#x27;accuracy&#x27;)</pre><b>In a Jupyter environment, please rerun this cell to show the HTML representation or trust the notebook. <br />On GitHub, the HTML representation is unable to render, please try loading this page with nbviewer.org.</b></div><div class=\"sk-container\" hidden><div class=\"sk-item sk-dashed-wrapped\"><div class=\"sk-label-container\"><div class=\"sk-label sk-toggleable\"><input class=\"sk-toggleable__control sk-hidden--visually\" id=\"sk-estimator-id-13\" type=\"checkbox\" ><label for=\"sk-estimator-id-13\" class=\"sk-toggleable__label sk-toggleable__label-arrow\">GridSearchCV</label><div class=\"sk-toggleable__content\"><pre>GridSearchCV(cv=10, estimator=DecisionTreeClassifier(class_weight=&#x27;balanced&#x27;),\n",
       "             param_grid={&#x27;max_depth&#x27;: [2, 3, 5, 10],\n",
       "                         &#x27;max_features&#x27;: [&#x27;auto&#x27;, &#x27;sqrt&#x27;, &#x27;log2&#x27;]},\n",
       "             scoring=&#x27;accuracy&#x27;)</pre></div></div></div><div class=\"sk-parallel\"><div class=\"sk-parallel-item\"><div class=\"sk-item\"><div class=\"sk-label-container\"><div class=\"sk-label sk-toggleable\"><input class=\"sk-toggleable__control sk-hidden--visually\" id=\"sk-estimator-id-14\" type=\"checkbox\" ><label for=\"sk-estimator-id-14\" class=\"sk-toggleable__label sk-toggleable__label-arrow\">estimator: DecisionTreeClassifier</label><div class=\"sk-toggleable__content\"><pre>DecisionTreeClassifier(class_weight=&#x27;balanced&#x27;)</pre></div></div></div><div class=\"sk-serial\"><div class=\"sk-item\"><div class=\"sk-estimator sk-toggleable\"><input class=\"sk-toggleable__control sk-hidden--visually\" id=\"sk-estimator-id-15\" type=\"checkbox\" ><label for=\"sk-estimator-id-15\" class=\"sk-toggleable__label sk-toggleable__label-arrow\">DecisionTreeClassifier</label><div class=\"sk-toggleable__content\"><pre>DecisionTreeClassifier(class_weight=&#x27;balanced&#x27;)</pre></div></div></div></div></div></div></div></div></div></div>"
      ],
      "text/plain": [
       "GridSearchCV(cv=10, estimator=DecisionTreeClassifier(class_weight='balanced'),\n",
       "             param_grid={'max_depth': [2, 3, 5, 10],\n",
       "                         'max_features': ['auto', 'sqrt', 'log2']},\n",
       "             scoring='accuracy')"
      ]
     },
     "execution_count": 136,
     "metadata": {},
     "output_type": "execute_result"
    }
   ],
   "source": [
    "grid_search.fit(X_train, y_train)"
   ]
  },
  {
   "cell_type": "code",
   "execution_count": 137,
   "id": "77b8a0ef",
   "metadata": {},
   "outputs": [
    {
     "data": {
      "text/plain": [
       "{'max_depth': 2, 'max_features': 'log2'}"
      ]
     },
     "execution_count": 137,
     "metadata": {},
     "output_type": "execute_result"
    }
   ],
   "source": [
    "grid_search.best_params_"
   ]
  }
 ],
 "metadata": {
  "kernelspec": {
   "display_name": "Python 3.10.2 64-bit",
   "language": "python",
   "name": "python3"
  },
  "language_info": {
   "codemirror_mode": {
    "name": "ipython",
    "version": 3
   },
   "file_extension": ".py",
   "mimetype": "text/x-python",
   "name": "python",
   "nbconvert_exporter": "python",
   "pygments_lexer": "ipython3",
   "version": "3.10.2"
  },
  "vscode": {
   "interpreter": {
    "hash": "6c66cf74b0d2a9f1f4e9764d44e7ed6418e0349c942d329ab910649654051b15"
   }
  }
 },
 "nbformat": 4,
 "nbformat_minor": 5
}
