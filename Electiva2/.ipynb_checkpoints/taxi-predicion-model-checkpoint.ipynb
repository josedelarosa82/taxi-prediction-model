{
 "cells": [
  {
   "cell_type": "markdown",
   "id": "79be21c3",
   "metadata": {},
   "source": [
    "## **Proyecto final modelo de predicción del servicio de taxis para usuarios recurrentes**\n",
    "\n",
    "Utilizando el proyecto de tesis\n",
    "\n",
    "1) Exploración, análisis, selección de variables y creación del\n",
    "modelo sobre conjunto de train (12 puntos)\n",
    "\n",
    "2) Creación de\n",
    "pipeline (10 puntos)\n",
    "\n",
    "3) Evaluación de\n",
    "modelos usando validación cruzada (incluyendo pipeline) (5 puntos)\n",
    "\n",
    "4) Ajuste de\n",
    "hiperparámetros de los modelos seleccionados (5 puntos)\n",
    "\n",
    "5) Creación de\n",
    "Joblib\n",
    "\n",
    "6) Despliegue del\n",
    "modelo usando Sagemaker SDK. Creación de Endpoint (8 puntos)\n",
    "\n",
    "7) Creación de un\n",
    "servicio web que reciba los datos del usuario por POST desde un\n",
    "formulario, solicite al endpoint de sagemaker la predicción del\n",
    "modelo y devuelva la respuesta al usuario final como un HTML.(Usar\n",
    "un EC2 con ip pública) (10 puntos)\n",
    "\n",
    "---------------------------------------------------------------------"
   ]
  },
  {
   "cell_type": "markdown",
   "id": "6c4b55a8",
   "metadata": {},
   "source": [
    "1) Exploración, análisis, selección de variables y creación del modelo sobre conjunto de train"
   ]
  },
  {
   "cell_type": "code",
   "execution_count": 3,
   "id": "7579faea",
   "metadata": {},
   "outputs": [],
   "source": [
    "#Importación de librerías\n",
    "import pandas as pd\n",
    "import numpy as np\n",
    "from sklearn.model_selection import train_test_split\n",
    "from sklearn.pipeline import Pipeline\n",
    "import joblib"
   ]
  },
  {
   "cell_type": "code",
   "execution_count": 4,
   "id": "bbe7d818",
   "metadata": {},
   "outputs": [],
   "source": [
    "NUM_OF_WEEK = 8.0\n",
    "HOURS_OF_DAY = 24\n",
    "DAYS_OF_WEEK = 7\n",
    "FORMAT_DATE = '%Y-%m-%d'\n",
    "DATE_START_TRAINIG = pd.to_datetime(\"2022-04-27\", format=FORMAT_DATE)\n",
    "DATA_FILE = \"s3://proyecto-taxis-usa/Data/SERVICIO_UNIFICADO_2022.parquet.gzip\""
   ]
  },
  {
   "cell_type": "code",
   "execution_count": null,
   "id": "c9e38b24",
   "metadata": {},
   "outputs": [],
   "source": [
    "#Se lee el archivo de un parquet a un dataframe\n",
    "df_taxis = pd.read_parquet(DATA_FILE) \n",
    "#Se visualizan los datos\n",
    "df_taxis.head(5)"
   ]
  },
  {
   "cell_type": "code",
   "execution_count": null,
   "id": "c6eb1dd6",
   "metadata": {},
   "outputs": [],
   "source": [
    "df_taxis.info()"
   ]
  },
  {
   "cell_type": "code",
   "execution_count": null,
   "id": "63478186",
   "metadata": {},
   "outputs": [],
   "source": [
    "#Se cuentan cuantos datos se encuentran nulos\n",
    "df_taxis.isnull().sum()"
   ]
  },
  {
   "cell_type": "code",
   "execution_count": null,
   "id": "cfce0284",
   "metadata": {},
   "outputs": [],
   "source": [
    "#Se toman los meses de enero a mayo del 2022\n",
    "df_taxis = df_taxis[(df_taxis[\"MES\"]<=5)]\n",
    "#Se filtran los estados importantes \n",
    "df_taxis = df_taxis[(df_taxis[\"ESTADO\"]==\"ABANDONADO\") | (df_taxis[\"ESTADO\"]==\"CUMPLIDO\") | (df_taxis[\"ESTADO\"]==\"CANCELADO\") | (df_taxis[\"ESTADO\"]==\"FINALIZADO\")]\n",
    "service_date = pd.to_datetime(df_taxis['FECHACOMPLETA'], format='%Y/%m/%d %H:%M:%S')\n",
    "#Se crea un nuevo campo con el mes\n",
    "df_taxis['MES'] = service_date.dt.month\n",
    "#Se crea el campo año y mes\n",
    "df_taxis['FECHA_MES'] = service_date.dt.strftime('%Y-%m')"
   ]
  },
  {
   "cell_type": "code",
   "execution_count": null,
   "id": "c27ca04a",
   "metadata": {},
   "outputs": [],
   "source": [
    "## Visualización de datos iniciales"
   ]
  },
  {
   "cell_type": "markdown",
   "id": "844e6f4a",
   "metadata": {},
   "source": [
    "Se visualizan los datos del dataFrame en un histograma"
   ]
  },
  {
   "cell_type": "code",
   "execution_count": null,
   "id": "3effe412",
   "metadata": {},
   "outputs": [],
   "source": [
    "#Se require presentar gráfica de histograma por cada columna o datos de dataframe\n",
    "df_taxis.hist(figsize=(20,10))\n",
    "plt.show()"
   ]
  },
  {
   "cell_type": "markdown",
   "id": "977fc4b1",
   "metadata": {},
   "source": [
    "Se visualizan las corelaciones entre variables"
   ]
  },
  {
   "cell_type": "code",
   "execution_count": null,
   "id": "77ee9fad",
   "metadata": {},
   "outputs": [],
   "source": [
    "plt.figure(figsize=(15,10))\n",
    "sns.heatmap(df_taxis.corr(method='pearson'),annot=True)\n",
    "plt.show()"
   ]
  },
  {
   "cell_type": "markdown",
   "id": "0928b37e",
   "metadata": {},
   "source": [
    "Se visualiza un histograma con la cantidad de servicios por estado"
   ]
  },
  {
   "cell_type": "code",
   "execution_count": null,
   "id": "579a1e0d",
   "metadata": {},
   "outputs": [],
   "source": [
    "df_taxis.groupby(['FECHA_MES','ESTADO'])['ID'].count().unstack('ESTADO').plot(kind='bar',stacked=True, fontsize=14, xlabel=\"Mes\", legend=\"aaaa\", ylabel=\"Cantidad servicios\", figsize=(16,8), title=\"Servicios por periodo\", rot=0)\n",
    "plt.show()"
   ]
  },
  {
   "cell_type": "markdown",
   "id": "d1539327",
   "metadata": {},
   "source": [
    "Se eliminan los datos que no se necesitan para predecir el modelo"
   ]
  },
  {
   "cell_type": "code",
   "execution_count": null,
   "id": "574958db",
   "metadata": {},
   "outputs": [],
   "source": [
    "#Eliminamos las columan que no son útiles para el modelo\n",
    "df_taxis = df_taxis.drop(columns=[\"IDCIUDAD\",\"USUARIO\",\"ID\",\"LATITUDDESTINO\",\"LONGITUDDESTINO\",\"LATITUD\",\"LONGITUD\",\"FECHACOMPLETA\",\"ORIGEN\",\"ESTADO\"])\n",
    "#Se eliminan los valores duplicados del dataframe y se ordenan por los campos más relevangtes\n",
    "df_taxis = df_taxis.drop_duplicates().sort_values(by=['TELEFONOORIGEN','FECHA','DIADESEMANA','HORA'])\n",
    "#Se reindexa nuevamente el dataFrame\n",
    "df_taxis = df_taxis.reset_index(drop=True)\n",
    "#Se visualizan como queda el dataFrame\n",
    "df_taxis.head(5)"
   ]
  },
  {
   "cell_type": "markdown",
   "id": "bdcf9d7a",
   "metadata": {},
   "source": [
    "Se contabilizan cuantos servicios tiene asignado un teléfono después de eliminar los duplicados"
   ]
  },
  {
   "cell_type": "code",
   "execution_count": null,
   "id": "7025de30",
   "metadata": {},
   "outputs": [],
   "source": [
    "count_data = df_taxis.loc[:,['TELEFONOORIGEN']].value_counts()\n",
    "count_data"
   ]
  },
  {
   "cell_type": "markdown",
   "id": "105eb0d2",
   "metadata": {},
   "source": [
    "Se visualiza la distribución de los datos"
   ]
  },
  {
   "cell_type": "code",
   "execution_count": null,
   "id": "3426e8a5",
   "metadata": {},
   "outputs": [],
   "source": [
    "#Se visualizan los valores de los datos\n",
    "count_data.describe()"
   ]
  },
  {
   "cell_type": "markdown",
   "id": "2f8df010",
   "metadata": {},
   "source": [
    "## Se calcula el outlayer de los datos"
   ]
  },
  {
   "cell_type": "code",
   "execution_count": null,
   "id": "194c872a",
   "metadata": {},
   "outputs": [],
   "source": [
    "#Se calcula el quartil 25\n",
    "q25 = count_data.quantile(0.25)\n",
    "#Se calcula el quartil 75\n",
    "q75 = count_data.quantile(0.75)\n",
    "#Se calcula el rango inter quartil\n",
    "iqr = q75 - q25\n",
    "\n",
    "print(f\"El porcentaje del quartil 25: {q25}\")\n",
    "print(f\"El porcentaje del quartil 75: {q75}\")\n",
    "print(f\"El rango inter quartil es: {iqr}\")"
   ]
  },
  {
   "cell_type": "markdown",
   "id": "9f674c98",
   "metadata": {},
   "source": [
    "Se calcula el umbral de los valores atípicos"
   ]
  },
  {
   "cell_type": "code",
   "execution_count": null,
   "id": "1251c766",
   "metadata": {},
   "outputs": [],
   "source": [
    "#Se calcula el umbral de los  valores atípicos\n",
    "outliers_threshold = ( q75 + 3 * iqr )\n",
    "print(f\"El umbral de los valores atípicos es: {outliers_threshold}\")\n",
    "print(f\"La cantidad de valores atípicos son: {sum(count_data > outliers_threshold) }\")"
   ]
  },
  {
   "cell_type": "markdown",
   "id": "67078110",
   "metadata": {},
   "source": [
    "Eliminamos los datos que esten por debajo del umbral de los valores atípicos"
   ]
  },
  {
   "cell_type": "code",
   "execution_count": null,
   "id": "83146616",
   "metadata": {},
   "outputs": [],
   "source": [
    "df_cleaned = df_taxis.copy()\n",
    "#Se descartan los que tienen menos del umbral de los valores atípicos\n",
    "df_cleaned = df_cleaned.groupby('TELEFONOORIGEN').filter(lambda x: x['TELEFONOORIGEN'].count() > outliers_threshold)\n",
    "#Se visualizan los datos agrupados por mes para determinar cuantos servicios tomó un usuario\n",
    "df_cleaned.groupby(['MES','TELEFONOORIGEN'])['TELEFONOORIGEN'].count()"
   ]
  },
  {
   "cell_type": "code",
   "execution_count": null,
   "id": "b870f6a4",
   "metadata": {},
   "outputs": [],
   "source": [
    "#Se visualizan los valores de los datos\n",
    "df_cleaned.loc[:,['TELEFONOORIGEN']].value_counts().describe()"
   ]
  },
  {
   "cell_type": "markdown",
   "id": "6e333f26",
   "metadata": {},
   "source": [
    "## Visualización de datos final"
   ]
  },
  {
   "cell_type": "code",
   "execution_count": null,
   "id": "50de63c0",
   "metadata": {},
   "outputs": [],
   "source": [
    "#Se presenta un gráfico general de los datos\n",
    "sns.pairplot(df_cleaned)\n",
    "plt.show()"
   ]
  },
  {
   "cell_type": "code",
   "execution_count": null,
   "id": "e8964447",
   "metadata": {},
   "outputs": [],
   "source": [
    "#se presenta gráfico  de correlación\n",
    "f, ax = plt.subplots(figsize=(16, 10))\n",
    "mask = np.triu(np.ones_like(corr_matrix, dtype=bool))\n",
    "cmap = sns.diverging_palette(230, 20, as_cmap=True)\n",
    "sns.heatmap(corr_matrix, annot=True, mask = mask, cmap=cmap )\n",
    "plt.title('Relacion entre variables del dataframe',fontsize=20,fontname='serif')\n",
    "plt.ylabel('Y', color='green', fontsize=25)\n",
    "plt.xlabel('X', color='Red', fontsize=25)"
   ]
  },
  {
   "cell_type": "code",
   "execution_count": null,
   "id": "4c8ecf70",
   "metadata": {},
   "outputs": [],
   "source": [
    "#Se realiza un conteo de la cantidad de datos por usuario\n",
    "df_cleaned.loc[:,['TELEFONOORIGEN']].value_counts()"
   ]
  },
  {
   "cell_type": "markdown",
   "id": "b2089d91",
   "metadata": {},
   "source": [
    "## Se realiza un entrenamiento"
   ]
  },
  {
   "cell_type": "code",
   "execution_count": null,
   "id": "80ba706c",
   "metadata": {},
   "outputs": [],
   "source": []
  }
 ],
 "metadata": {
  "kernelspec": {
   "display_name": "conda_python3",
   "language": "python",
   "name": "conda_python3"
  },
  "language_info": {
   "codemirror_mode": {
    "name": "ipython",
    "version": 3
   },
   "file_extension": ".py",
   "mimetype": "text/x-python",
   "name": "python",
   "nbconvert_exporter": "python",
   "pygments_lexer": "ipython3",
   "version": "3.8.12"
  }
 },
 "nbformat": 4,
 "nbformat_minor": 5
}
