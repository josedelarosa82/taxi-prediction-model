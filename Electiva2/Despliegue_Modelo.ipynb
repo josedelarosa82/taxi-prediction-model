{
 "cells": [
  {
   "cell_type": "code",
   "execution_count": 10,
   "id": "d068ca59",
   "metadata": {},
   "outputs": [],
   "source": [
    "import joblib\n",
    "import sagemaker\n",
    "from sagemaker.sklearn import SKLearnModel  #para agarrar el modelo que guardamos\n",
    "from sagemaker.serializers import CSVSerializer\n",
    "import os"
   ]
  },
  {
   "cell_type": "code",
   "execution_count": 11,
   "id": "f601cf1a",
   "metadata": {},
   "outputs": [],
   "source": [
    "session = sagemaker.Session()"
   ]
  },
  {
   "cell_type": "code",
   "execution_count": 12,
   "id": "50a5fdbc",
   "metadata": {},
   "outputs": [],
   "source": [
    "s3_uri_model = session.upload_data(bucket='proyectosandratamayo',\n",
    "                             key_prefix = 'model',\n",
    "                             path = 'modelrf.tar.gz')"
   ]
  },
  {
   "cell_type": "code",
   "execution_count": 13,
   "id": "1d8036a4",
   "metadata": {},
   "outputs": [
    {
     "name": "stdout",
     "output_type": "stream",
     "text": [
      "Overwriting entry_point.py\n"
     ]
    }
   ],
   "source": [
    "%%writefile entry_point.py  \n",
    "import os\n",
    "import joblib\n",
    "def model_fn(model_path):\n",
    "    return joblib.load(os.path.join(model_path,'modelrf.joblib'))"
   ]
  },
  {
   "cell_type": "code",
   "execution_count": 14,
   "id": "7626c9c6",
   "metadata": {},
   "outputs": [],
   "source": [
    "model = SKLearnModel(entry_point='entry_point.py', role='LabRole', framework_version='1.0-1', model_data=s3_uri_model)"
   ]
  },
  {
   "cell_type": "code",
   "execution_count": 15,
   "id": "43b5c47a",
   "metadata": {},
   "outputs": [
    {
     "name": "stdout",
     "output_type": "stream",
     "text": [
      "-------!"
     ]
    }
   ],
   "source": [
    "predictor=model.deploy(initial_instance_count=1, instance_type = 'ml.m4.xlarge')"
   ]
  },
  {
   "cell_type": "code",
   "execution_count": 16,
   "id": "a21842e0",
   "metadata": {},
   "outputs": [],
   "source": [
    "predictor.serializer = CSVSerializer()"
   ]
  },
  {
   "cell_type": "code",
   "execution_count": null,
   "id": "f98679fa",
   "metadata": {},
   "outputs": [],
   "source": []
  }
 ],
 "metadata": {
  "kernelspec": {
   "display_name": "conda_python3",
   "language": "python",
   "name": "conda_python3"
  },
  "language_info": {
   "codemirror_mode": {
    "name": "ipython",
    "version": 3
   },
   "file_extension": ".py",
   "mimetype": "text/x-python",
   "name": "python",
   "nbconvert_exporter": "python",
   "pygments_lexer": "ipython3",
   "version": "3.8.12"
  }
 },
 "nbformat": 4,
 "nbformat_minor": 5
}
