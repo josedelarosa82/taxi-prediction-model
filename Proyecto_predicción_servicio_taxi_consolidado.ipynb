{
  "cells": [
    {
      "cell_type": "markdown",
      "metadata": {},
      "source": [
        "## ¿Qué problema se va a resolver?\n",
        "El tema de investigación surgió por la necesidad que tienen las empresas operadoras de taxis de la ciudad de Bogotá, estas vienen presentando una creciente problemática de indisponibilidad de servicios de taxis en sus plataformas, esto ocurre principalmente en algunas zonas u horarios específicos.\n",
        "La empresa Taxis Libres (TL), una de las más grandes operadoras de servicios de taxis de la ciudad, ha empezado a recibir una gran cantidad de inconformidades por partes de los usuarios recurrentes de la plataforma por esta misma causa. Solo en el mes de mayo del 2022 la plataforma recibió alrededor de 1.2 millones de solicitudes de servicios de taxis de los cuales el 57% de esas solicitudes fueron abandonadas o rechazadas, lo que los llevó a analizar qué estaba pasando con la prestación de servicios internamente, en esa revisión realizada durante el mismo periodo de tiempo se obtuvieron las principales causas reportadas en la plataforma y que se listarán a continuación:\n",
        "\n",
        "•\tEl usuario se fue\n",
        "\n",
        "•\tEl vehículo se demoró en llegar\n",
        "\n",
        "•\tEl usuario tomó otro taxi\n",
        "\n",
        "Al identificar las causas de los servicios abandonados y rechazados, la empresa se planteó a resolver la siguiente pregunta al problema presentado.\n",
        "¿Como reducir la alta cantidad de inconformidades de los usuarios recurrentes de la plataforma prediciendo sus comportamientos durante la semana y así programarles sus servicios de forma anticipada?\n",
        "\n",
        "## Objetivo general\n",
        "Diseñar un método para predecir las solicitudes de servicios de los usuarios recurrentes \"de empresas de servicios de\" taxis en la ciudad Bogotá - Colombia, \"mediante\" modelos de ML.\n",
        "\n",
        "\n",
        "Evaluar el desempeño de modelos de ML para predecir\n",
        "las solicitudes de servicios de los usuarios recurrentes de empresas de servicios de taxis en la ciudad Bogotá -  Colombia\n",
        "basados en el comportamiento dentro de la plataforma.\n",
        "\n",
        "## Objetivos específicos (Detallar las actividades)\n",
        "• Revisar la literatura(pendiente)\n",
        "\n",
        "• Analizar los datos de las BD de taxis libres necesarios.\n",
        "\n",
        "• Determinar las variables significativas a ser empleadas en los modelos de ML.\n",
        "\n",
        "• Evaluar diferentes modelos de ML para la predicción de solicitudes.\n",
        "\n",
        "## ¿Que solución propone al problema?\n",
        "El diseño de un modelo predictivo de solicitudes de servicios de taxis basados en comportamientos de usuarios recurrentes de plataformas móviles para empresas de transporte\n",
        "\n",
        "## ¿Cómo lo pretende solucionar?\n",
        "Utilizando un modelo de clasificación donde se agrupe la información de los servicios que han tomado los usuarios por días de las semanas y horarios, determinando si en ese día y a esa hora se va a tomar un servicio.\n",
        "\n",
        "## ¿Que resultados que espera obtener?\n",
        "Se espera obtener listado por día de las semanas con todos los horarios del día y un determinador que indique si el servicio se va a tomar o no en ese horario. "
      ]
    },
    {
      "cell_type": "markdown",
      "metadata": {
        "id": "Zm7tiHiJk80E"
      },
      "source": [
        "### ANALISIS EXPLORATORIO DE DATOS"
      ]
    },
    {
      "cell_type": "code",
      "execution_count": 99,
      "metadata": {
        "colab": {
          "base_uri": "https://localhost:8080/"
        },
        "id": "jbQIiJjPgCYj",
        "outputId": "c8d87048-b445-45ec-8e27-4e604af3a8b7"
      },
      "outputs": [],
      "source": [
        "#from google.colab import drive\n",
        "#drive.mount('/content/drive')"
      ]
    },
    {
      "cell_type": "markdown",
      "metadata": {},
      "source": [
        "Definición de librerías del proyecto"
      ]
    },
    {
      "cell_type": "code",
      "execution_count": 100,
      "metadata": {
        "id": "9YlqkYPGeDuz"
      },
      "outputs": [],
      "source": [
        "#librerias\n",
        "import pandas as pd\n",
        "import matplotlib.pyplot as plt\n",
        "import seaborn as sns\n",
        "from sklearn.model_selection import train_test_split\n",
        "from sklearn.preprocessing import StandardScaler\n",
        "from sklearn.metrics import confusion_matrix, ConfusionMatrixDisplay\n",
        "from sklearn.multiclass import OneVsRestClassifier\n",
        "from sklearn.metrics import plot_confusion_matrix\n",
        "from matplotlib.colors import ListedColormap\n",
        "from mlxtend.plotting import plot_decision_regions\n",
        "#modelos\n",
        "from sklearn.linear_model import LogisticRegression\n",
        "from sklearn.neighbors import KNeighborsClassifier\n",
        "from sklearn.neural_network import MLPClassifier\n",
        "from sklearn.ensemble import RandomForestClassifier\n",
        "from sklearn.svm import SVC\n",
        "from sklearn.tree import DecisionTreeClassifier\n",
        "from sklearn.linear_model import SGDClassifier\n",
        "\n",
        "from sklearn.metrics import mean_absolute_error\n",
        "from sklearn.metrics import classification_report, f1_score, accuracy_score, precision_score, recall_score\n",
        "from sklearn.metrics import roc_curve\n",
        "from sklearn.metrics import roc_auc_score\n",
        "\n",
        "import numpy as np\n",
        "from numpy import NaN\n",
        "from datetime import date, datetime, timedelta\n",
        "from os import name\n"
      ]
    },
    {
      "cell_type": "markdown",
      "metadata": {
        "id": "yj6GLCBW1jan"
      },
      "source": [
        "Definición de parámetros iniciales"
      ]
    },
    {
      "cell_type": "code",
      "execution_count": 101,
      "metadata": {
        "id": "GLoQZVku1iMb"
      },
      "outputs": [],
      "source": [
        "NUM_OF_WEEK = 8.0\n",
        "HOURS_OF_DAY = 24\n",
        "DAYS_OF_WEEK = 7\n",
        "FORMAT_DATE = '%Y-%m-%d'\n",
        "DATE_START_TRAINIG = pd.to_datetime(\"2022-04-27\", format=FORMAT_DATE)\n",
        "FICHERO_DATA = './data/SERVICIO_UNIFICADO_2022.parquet.gzip'"
      ]
    },
    {
      "cell_type": "markdown",
      "metadata": {},
      "source": [
        "Se cargan los datos en el dataFrame"
      ]
    },
    {
      "cell_type": "code",
      "execution_count": 102,
      "metadata": {
        "colab": {
          "base_uri": "https://localhost:8080/"
        },
        "id": "JnMbR7vKA1KO",
        "outputId": "d19dfb19-63d8-4113-dd65-f304764645d8"
      },
      "outputs": [
        {
          "data": {
            "text/html": [
              "<div>\n",
              "<style scoped>\n",
              "    .dataframe tbody tr th:only-of-type {\n",
              "        vertical-align: middle;\n",
              "    }\n",
              "\n",
              "    .dataframe tbody tr th {\n",
              "        vertical-align: top;\n",
              "    }\n",
              "\n",
              "    .dataframe thead th {\n",
              "        text-align: right;\n",
              "    }\n",
              "</style>\n",
              "<table border=\"1\" class=\"dataframe\">\n",
              "  <thead>\n",
              "    <tr style=\"text-align: right;\">\n",
              "      <th></th>\n",
              "      <th>ID</th>\n",
              "      <th>IDCIUDAD</th>\n",
              "      <th>USUARIO</th>\n",
              "      <th>TELEFONOORIGEN</th>\n",
              "      <th>LATITUD</th>\n",
              "      <th>LATITUDDESTINO</th>\n",
              "      <th>LONGITUD</th>\n",
              "      <th>LONGITUDDESTINO</th>\n",
              "      <th>ESTADO</th>\n",
              "      <th>ORIGEN</th>\n",
              "      <th>FECHACOMPLETA</th>\n",
              "      <th>DIADESEMANA</th>\n",
              "      <th>HORA</th>\n",
              "    </tr>\n",
              "  </thead>\n",
              "  <tbody>\n",
              "    <tr>\n",
              "      <th>0</th>\n",
              "      <td>70152580</td>\n",
              "      <td>11001</td>\n",
              "      <td>8946882.0</td>\n",
              "      <td>3186429637</td>\n",
              "      <td>4.642036</td>\n",
              "      <td>4.630580</td>\n",
              "      <td>-74.187636</td>\n",
              "      <td>-74.189880</td>\n",
              "      <td>CANCELADO</td>\n",
              "      <td>APP</td>\n",
              "      <td>2022-04-30 19:00:00</td>\n",
              "      <td>7</td>\n",
              "      <td>19</td>\n",
              "    </tr>\n",
              "    <tr>\n",
              "      <th>1</th>\n",
              "      <td>70152581</td>\n",
              "      <td>11001</td>\n",
              "      <td>9665930.0</td>\n",
              "      <td>3209171095</td>\n",
              "      <td>4.594340</td>\n",
              "      <td>4.604060</td>\n",
              "      <td>-74.138168</td>\n",
              "      <td>-74.141610</td>\n",
              "      <td>ABANDONADO</td>\n",
              "      <td>APP</td>\n",
              "      <td>2022-04-30 19:00:00</td>\n",
              "      <td>7</td>\n",
              "      <td>19</td>\n",
              "    </tr>\n",
              "    <tr>\n",
              "      <th>2</th>\n",
              "      <td>70152582</td>\n",
              "      <td>76001</td>\n",
              "      <td>9243481.0</td>\n",
              "      <td>3147558713</td>\n",
              "      <td>3.367783</td>\n",
              "      <td>NaN</td>\n",
              "      <td>-76.531083</td>\n",
              "      <td>NaN</td>\n",
              "      <td>ABANDONADO</td>\n",
              "      <td>APP</td>\n",
              "      <td>2022-04-30 19:00:01</td>\n",
              "      <td>7</td>\n",
              "      <td>19</td>\n",
              "    </tr>\n",
              "    <tr>\n",
              "      <th>3</th>\n",
              "      <td>70152583</td>\n",
              "      <td>11001</td>\n",
              "      <td>841805.0</td>\n",
              "      <td>3125733084</td>\n",
              "      <td>4.630927</td>\n",
              "      <td>NaN</td>\n",
              "      <td>-74.092728</td>\n",
              "      <td>NaN</td>\n",
              "      <td>ABANDONADO</td>\n",
              "      <td>CHAT_BOT_659</td>\n",
              "      <td>2022-04-30 19:00:01</td>\n",
              "      <td>7</td>\n",
              "      <td>19</td>\n",
              "    </tr>\n",
              "    <tr>\n",
              "      <th>4</th>\n",
              "      <td>70152584</td>\n",
              "      <td>11001</td>\n",
              "      <td>9330612.0</td>\n",
              "      <td>3043963812</td>\n",
              "      <td>4.548637</td>\n",
              "      <td>4.622711</td>\n",
              "      <td>-74.096414</td>\n",
              "      <td>-74.147018</td>\n",
              "      <td>ABANDONADO</td>\n",
              "      <td>APP</td>\n",
              "      <td>2022-04-30 19:00:01</td>\n",
              "      <td>7</td>\n",
              "      <td>19</td>\n",
              "    </tr>\n",
              "  </tbody>\n",
              "</table>\n",
              "</div>"
            ],
            "text/plain": [
              "         ID  IDCIUDAD    USUARIO TELEFONOORIGEN   LATITUD  LATITUDDESTINO  \\\n",
              "0  70152580     11001  8946882.0     3186429637  4.642036        4.630580   \n",
              "1  70152581     11001  9665930.0     3209171095  4.594340        4.604060   \n",
              "2  70152582     76001  9243481.0     3147558713  3.367783             NaN   \n",
              "3  70152583     11001   841805.0     3125733084  4.630927             NaN   \n",
              "4  70152584     11001  9330612.0     3043963812  4.548637        4.622711   \n",
              "\n",
              "    LONGITUD  LONGITUDDESTINO      ESTADO        ORIGEN        FECHACOMPLETA  \\\n",
              "0 -74.187636       -74.189880   CANCELADO           APP  2022-04-30 19:00:00   \n",
              "1 -74.138168       -74.141610  ABANDONADO           APP  2022-04-30 19:00:00   \n",
              "2 -76.531083              NaN  ABANDONADO           APP  2022-04-30 19:00:01   \n",
              "3 -74.092728              NaN  ABANDONADO  CHAT_BOT_659  2022-04-30 19:00:01   \n",
              "4 -74.096414       -74.147018  ABANDONADO           APP  2022-04-30 19:00:01   \n",
              "\n",
              "   DIADESEMANA  HORA  \n",
              "0            7    19  \n",
              "1            7    19  \n",
              "2            7    19  \n",
              "3            7    19  \n",
              "4            7    19  "
            ]
          },
          "execution_count": 102,
          "metadata": {},
          "output_type": "execute_result"
        }
      ],
      "source": [
        "#Se lee el archivo de un parquet a un dataframe\n",
        "df_taxis = pd.read_parquet(FICHERO_DATA) \n",
        "#Se visualizan los datos\n",
        "df_taxis.head(5)"
      ]
    },
    {
      "cell_type": "markdown",
      "metadata": {
        "id": "65CC2tpPmJk5"
      },
      "source": [
        "Se valida cuantos valores nulos tenemos en el dataset"
      ]
    },
    {
      "cell_type": "code",
      "execution_count": 103,
      "metadata": {
        "colab": {
          "base_uri": "https://localhost:8080/"
        },
        "id": "TWgKyA9DmHPO",
        "outputId": "be8d5d42-49c6-4b53-8807-6aea60c62573"
      },
      "outputs": [
        {
          "data": {
            "text/plain": [
              "ID                       0\n",
              "IDCIUDAD                 0\n",
              "USUARIO               1707\n",
              "TELEFONOORIGEN       69322\n",
              "LATITUD                  0\n",
              "LATITUDDESTINO     1932690\n",
              "LONGITUD                 0\n",
              "LONGITUDDESTINO    1932690\n",
              "ESTADO                   0\n",
              "ORIGEN                   0\n",
              "FECHACOMPLETA            0\n",
              "DIADESEMANA              0\n",
              "HORA                     0\n",
              "dtype: int64"
            ]
          },
          "execution_count": 103,
          "metadata": {},
          "output_type": "execute_result"
        }
      ],
      "source": [
        "#Contar cuantos datos se encuentran nulos\n",
        "df_taxis.isnull().sum()"
      ]
    },
    {
      "cell_type": "markdown",
      "metadata": {
        "id": "QGkxeameln6J"
      },
      "source": [
        "Se limpian los datos donde el teléfono del usuario es nulo\n",
        " para tener usuarios validos"
      ]
    },
    {
      "cell_type": "code",
      "execution_count": 104,
      "metadata": {},
      "outputs": [],
      "source": [
        "#Se eliminan los registros donde el teléfono de origen sea nulo\n",
        "df_taxis = df_taxis[~df_taxis['TELEFONOORIGEN'].isnull()]"
      ]
    },
    {
      "cell_type": "markdown",
      "metadata": {},
      "source": [
        "Se limitan los datos a la ciudad de bogotá"
      ]
    },
    {
      "cell_type": "code",
      "execution_count": 105,
      "metadata": {
        "colab": {
          "base_uri": "https://localhost:8080/"
        },
        "id": "CftD2xATAE6Y",
        "outputId": "372aeab0-fa5a-42f3-d734-4a7573f3d79f"
      },
      "outputs": [],
      "source": [
        "#Se filtra el dataset solo para la ciudad de bogotá\n",
        "df_taxis = df_taxis[df_taxis[\"IDCIUDAD\"]==11001]"
      ]
    },
    {
      "cell_type": "markdown",
      "metadata": {
        "id": "OsFQhyCkbwwb"
      },
      "source": [
        "Se limitan los canales por donde se reciben servicios a APP, IVR, CHATBOT, RECEPCIÓN, CALLE Y WEB que son los más relevantes."
      ]
    },
    {
      "cell_type": "code",
      "execution_count": 106,
      "metadata": {
        "id": "NcAWDyRwbocp"
      },
      "outputs": [],
      "source": [
        "#df_taxis = df_taxis[(df_taxis[\"ORIGEN\"]==\"APP\") | (df_taxis[\"ORIGEN\"]==\"IVR\") | (df_taxis[\"ORIGEN\"]==\"CHAT_BOT_659\") | (df_taxis[\"ORIGEN\"]==\"RECEPCION\") | (df_taxis[\"ORIGEN\"]==\"CALLE\") | (df_taxis[\"ORIGEN\"]==\"WEB\")]\n",
        "#Se arma el dataset solo para la app\n",
        "df_taxis = df_taxis[(df_taxis[\"ORIGEN\"]==\"APP\")]"
      ]
    },
    {
      "cell_type": "markdown",
      "metadata": {},
      "source": [
        "Se limitan los estados a ABANDONADO, CUMPLIDO, CANCELADO Y FINALIZADO que son los validos, el restos son errores del proceso."
      ]
    },
    {
      "cell_type": "code",
      "execution_count": 107,
      "metadata": {},
      "outputs": [],
      "source": [
        "df_taxis = df_taxis[(df_taxis[\"ESTADO\"]==\"ABANDONADO\") | (df_taxis[\"ESTADO\"]==\"CUMPLIDO\") | (df_taxis[\"ESTADO\"]==\"CANCELADO\") | (df_taxis[\"ESTADO\"]==\"FINALIZADO\")]"
      ]
    },
    {
      "cell_type": "markdown",
      "metadata": {
        "id": "qA9Hmg3dbGmG"
      },
      "source": [
        "Se crean los campos de fecha sin la hora y el día de la semana"
      ]
    },
    {
      "cell_type": "code",
      "execution_count": 108,
      "metadata": {
        "id": "eT6AHEo2bFZg"
      },
      "outputs": [],
      "source": [
        "service_date = pd.to_datetime(df_taxis['FECHACOMPLETA'], format='%Y/%m/%d %H:%M:%S')\n",
        "#Se crea un nuevo campo con la fecha en formato YYYY/MM/DD\n",
        "df_taxis['FECHA'] = service_date.dt.strftime(FORMAT_DATE)\n",
        "#Se crea un nuevo campo con el mes\n",
        "df_taxis['MES'] = service_date.dt.month\n",
        "#Se crea un nuevo campo con el día de la semana al que pertenece\n",
        "df_taxis['DIADESEMANA'] = service_date.map( lambda x: x.isoweekday() )"
      ]
    },
    {
      "cell_type": "markdown",
      "metadata": {},
      "source": [
        "Se visualizan los datos del dataFrame en un histograma"
      ]
    },
    {
      "cell_type": "code",
      "execution_count": 109,
      "metadata": {},
      "outputs": [
        {
          "data": {
            "image/png": "[encoded data removed]",
            "text/plain": [
              "<Figure size 1440x720 with 12 Axes>"
            ]
          },
          "metadata": {
            "needs_background": "light"
          },
          "output_type": "display_data"
        }
      ],
      "source": [
        "#Se require presentar gráfica de histograma por cada columna o datos de dataframe\n",
        "df_taxis.hist(figsize=(20,10))\n",
        "plt.show()"
      ]
    },
    {
      "cell_type": "markdown",
      "metadata": {},
      "source": [
        "Se visualizan las corelaciones entre variables"
      ]
    },
    {
      "cell_type": "code",
      "execution_count": 110,
      "metadata": {},
      "outputs": [
        {
          "data": {
            "image/png": "[encoded data removed]",
            "text/plain": [
              "<Figure size 1080x720 with 2 Axes>"
            ]
          },
          "metadata": {
            "needs_background": "light"
          },
          "output_type": "display_data"
        }
      ],
      "source": [
        "plt.figure(figsize=(15,10))\n",
        "sns.heatmap(df_taxis.corr(method='pearson'),annot=True)\n",
        "\n",
        "plt.show()"
      ]
    },
    {
      "cell_type": "markdown",
      "metadata": {},
      "source": [
        "Se eliminan los datos que no se necesitan para predecir el modelo"
      ]
    },
    {
      "cell_type": "code",
      "execution_count": 111,
      "metadata": {},
      "outputs": [
        {
          "data": {
            "text/html": [
              "<div>\n",
              "<style scoped>\n",
              "    .dataframe tbody tr th:only-of-type {\n",
              "        vertical-align: middle;\n",
              "    }\n",
              "\n",
              "    .dataframe tbody tr th {\n",
              "        vertical-align: top;\n",
              "    }\n",
              "\n",
              "    .dataframe thead th {\n",
              "        text-align: right;\n",
              "    }\n",
              "</style>\n",
              "<table border=\"1\" class=\"dataframe\">\n",
              "  <thead>\n",
              "    <tr style=\"text-align: right;\">\n",
              "      <th></th>\n",
              "      <th>TELEFONOORIGEN</th>\n",
              "      <th>DIADESEMANA</th>\n",
              "      <th>HORA</th>\n",
              "      <th>FECHA</th>\n",
              "      <th>MES</th>\n",
              "    </tr>\n",
              "  </thead>\n",
              "  <tbody>\n",
              "    <tr>\n",
              "      <th>0</th>\n",
              "      <td>0317578865</td>\n",
              "      <td>1</td>\n",
              "      <td>9</td>\n",
              "      <td>2022-03-28</td>\n",
              "      <td>3</td>\n",
              "    </tr>\n",
              "    <tr>\n",
              "      <th>1</th>\n",
              "      <td>0317578865</td>\n",
              "      <td>1</td>\n",
              "      <td>15</td>\n",
              "      <td>2022-03-28</td>\n",
              "      <td>3</td>\n",
              "    </tr>\n",
              "    <tr>\n",
              "      <th>2</th>\n",
              "      <td>0317578865</td>\n",
              "      <td>1</td>\n",
              "      <td>5</td>\n",
              "      <td>2022-04-04</td>\n",
              "      <td>4</td>\n",
              "    </tr>\n",
              "    <tr>\n",
              "      <th>3</th>\n",
              "      <td>0317578865</td>\n",
              "      <td>1</td>\n",
              "      <td>11</td>\n",
              "      <td>2022-04-04</td>\n",
              "      <td>4</td>\n",
              "    </tr>\n",
              "    <tr>\n",
              "      <th>4</th>\n",
              "      <td>0317578865</td>\n",
              "      <td>4</td>\n",
              "      <td>6</td>\n",
              "      <td>2022-05-26</td>\n",
              "      <td>5</td>\n",
              "    </tr>\n",
              "  </tbody>\n",
              "</table>\n",
              "</div>"
            ],
            "text/plain": [
              "  TELEFONOORIGEN  DIADESEMANA  HORA       FECHA  MES\n",
              "0     0317578865            1     9  2022-03-28    3\n",
              "1     0317578865            1    15  2022-03-28    3\n",
              "2     0317578865            1     5  2022-04-04    4\n",
              "3     0317578865            1    11  2022-04-04    4\n",
              "4     0317578865            4     6  2022-05-26    5"
            ]
          },
          "execution_count": 111,
          "metadata": {},
          "output_type": "execute_result"
        }
      ],
      "source": [
        "#Eliminamos las columan que no son útiles para el modelo\n",
        "df_taxis = df_taxis.drop(columns=[\"IDCIUDAD\",\"USUARIO\",\"ID\",\"LATITUDDESTINO\",\"LONGITUDDESTINO\",\"LATITUD\",\"LONGITUD\",\"FECHACOMPLETA\",\"ORIGEN\",\"ESTADO\"])\n",
        "#Se eliminan los valores duplicados del dataframe y se ordenan por los campos más relevangtes\n",
        "df_taxis = df_taxis.drop_duplicates().sort_values(by=['TELEFONOORIGEN','FECHA','DIADESEMANA','HORA'])\n",
        "#Se reindexa nuevamente el dataFrame\n",
        "df_taxis = df_taxis.reset_index(drop=True)\n",
        "#Se visualizan como queda el dataFrame\n",
        "df_taxis.head(5)"
      ]
    },
    {
      "cell_type": "markdown",
      "metadata": {},
      "source": [
        "Se contabilizan cuantos servicios tiene asignado un teléfono después de eliminar los duplicados"
      ]
    },
    {
      "cell_type": "code",
      "execution_count": 112,
      "metadata": {},
      "outputs": [
        {
          "data": {
            "text/plain": [
              "TELEFONOORIGEN\n",
              "3107584482        783\n",
              "3002035444        564\n",
              "3044043620        473\n",
              "3132880597        445\n",
              "3503340890        443\n",
              "                 ... \n",
              "3197385468          1\n",
              "3197383926          1\n",
              "3197383459          1\n",
              "3123250923          1\n",
              "932534599           1\n",
              "Length: 306679, dtype: int64"
            ]
          },
          "execution_count": 112,
          "metadata": {},
          "output_type": "execute_result"
        }
      ],
      "source": [
        "count_data = df_taxis.loc[:,['TELEFONOORIGEN']].value_counts()\n",
        "count_data"
      ]
    },
    {
      "cell_type": "markdown",
      "metadata": {},
      "source": [
        "Se observa la distribución de los datos"
      ]
    },
    {
      "cell_type": "code",
      "execution_count": 113,
      "metadata": {},
      "outputs": [
        {
          "data": {
            "text/plain": [
              "count    306679.000000\n",
              "mean          8.461812\n",
              "std          17.134752\n",
              "min           1.000000\n",
              "25%           1.000000\n",
              "50%           3.000000\n",
              "75%           8.000000\n",
              "max         783.000000\n",
              "dtype: float64"
            ]
          },
          "execution_count": 113,
          "metadata": {},
          "output_type": "execute_result"
        }
      ],
      "source": [
        "#Se visualizan los valores de los datos\n",
        "count_data.describe()"
      ]
    },
    {
      "cell_type": "markdown",
      "metadata": {},
      "source": [
        "Se calcula el outlayer de los datos"
      ]
    },
    {
      "cell_type": "code",
      "execution_count": 114,
      "metadata": {},
      "outputs": [
        {
          "name": "stdout",
          "output_type": "stream",
          "text": [
            "El porcentaje del quartil 25: 1.0\n",
            "El porcentaje del quartil 75: 8.0\n",
            "El rango inter quartil es: 7.0\n"
          ]
        }
      ],
      "source": [
        "#Se calcula el quartil 25\n",
        "q25 = count_data.quantile(0.25)\n",
        "#Se calcula el quartil 75\n",
        "q75 = count_data.quantile(0.75)\n",
        "#Se calcula el rango inter quartil\n",
        "iqr = q75 - q25\n",
        "\n",
        "print(f\"El porcentaje del quartil 25: {q25}\")\n",
        "print(f\"El porcentaje del quartil 75: {q75}\")\n",
        "print(f\"El rango inter quartil es: {iqr}\")"
      ]
    },
    {
      "cell_type": "markdown",
      "metadata": {},
      "source": [
        "Se calcula el umbral de los valores atípicos"
      ]
    },
    {
      "cell_type": "code",
      "execution_count": 115,
      "metadata": {},
      "outputs": [
        {
          "name": "stdout",
          "output_type": "stream",
          "text": [
            "El umbral de los valores atípicos es: 29.0\n",
            "La cantidad de valores atípicos son: 18824\n"
          ]
        }
      ],
      "source": [
        "#Se calcula el umbral de los  valores atípicos\n",
        "outliers_threshold = ( q75 + 3 * iqr )\n",
        "print(f\"El umbral de los valores atípicos es: {outliers_threshold}\")\n",
        "print(f\"La cantidad de valores atípicos son: {sum(count_data > outliers_threshold) }\")"
      ]
    },
    {
      "cell_type": "markdown",
      "metadata": {},
      "source": [
        "Eliminamos los datos que esten por debajo del umbral de los valores atípicos"
      ]
    },
    {
      "cell_type": "code",
      "execution_count": 116,
      "metadata": {},
      "outputs": [
        {
          "data": {
            "text/plain": [
              "MES  TELEFONOORIGEN\n",
              "1    3002000029         3\n",
              "     3002005739        69\n",
              "     3002006203         2\n",
              "     3002013625         3\n",
              "     3002013727        33\n",
              "                       ..\n",
              "12   3506749782         1\n",
              "     3507032127         1\n",
              "     3508047744         1\n",
              "     3508213441         2\n",
              "     3508301213         1\n",
              "Name: TELEFONOORIGEN, Length: 89673, dtype: int64"
            ]
          },
          "execution_count": 116,
          "metadata": {},
          "output_type": "execute_result"
        }
      ],
      "source": [
        "df_cleaned = df_taxis.copy()\n",
        "#Se descartan los que tienen menos del umbral de los valores atípicos\n",
        "df_cleaned = df_cleaned.groupby('TELEFONOORIGEN').filter(lambda x: x['TELEFONOORIGEN'].count() > outliers_threshold)\n",
        "#Se visualizan los datos agrupados por mes para determinar cuantos servicios tomó un usuario\n",
        "df_cleaned.groupby(['MES','TELEFONOORIGEN'])['TELEFONOORIGEN'].count()"
      ]
    },
    {
      "cell_type": "code",
      "execution_count": 117,
      "metadata": {},
      "outputs": [
        {
          "data": {
            "text/plain": [
              "count    18824.000000\n",
              "mean        59.887643\n",
              "std         38.095668\n",
              "min         30.000000\n",
              "25%         36.000000\n",
              "50%         47.000000\n",
              "75%         69.000000\n",
              "max        783.000000\n",
              "dtype: float64"
            ]
          },
          "execution_count": 117,
          "metadata": {},
          "output_type": "execute_result"
        }
      ],
      "source": [
        "#Se visualizan los valores de los datos\n",
        "df_cleaned.loc[:,['TELEFONOORIGEN']].value_counts().describe()"
      ]
    },
    {
      "cell_type": "code",
      "execution_count": 118,
      "metadata": {},
      "outputs": [
        {
          "data": {
            "text/plain": [
              "(1127325, 5)"
            ]
          },
          "execution_count": 118,
          "metadata": {},
          "output_type": "execute_result"
        }
      ],
      "source": [
        "#Se visualiza la cantidad de registros\n",
        "df_cleaned.shape"
      ]
    },
    {
      "cell_type": "markdown",
      "metadata": {},
      "source": [
        "### VISUALIZACIÓN DE DATOS\n",
        "\n",
        "* Gráfico de dispersión de las variables\n",
        "* Gráfico de distribución de las variables (Baja distribución, Baja predicción)\n",
        "* Gráficas de correlación (Mapa de calor)"
      ]
    },
    {
      "cell_type": "code",
      "execution_count": 119,
      "metadata": {},
      "outputs": [
        {
          "data": {
            "image/png": "[encoded data removed]",
            "text/plain": [
              "<Figure size 540x540 with 12 Axes>"
            ]
          },
          "metadata": {
            "needs_background": "light"
          },
          "output_type": "display_data"
        }
      ],
      "source": [
        "#Se presenta un gráfico general de los datos\n",
        "sns.pairplot(df_cleaned)\n",
        "plt.show()"
      ]
    },
    {
      "cell_type": "code",
      "execution_count": 120,
      "metadata": {},
      "outputs": [
        {
          "data": {
            "text/html": [
              "<div>\n",
              "<style scoped>\n",
              "    .dataframe tbody tr th:only-of-type {\n",
              "        vertical-align: middle;\n",
              "    }\n",
              "\n",
              "    .dataframe tbody tr th {\n",
              "        vertical-align: top;\n",
              "    }\n",
              "\n",
              "    .dataframe thead th {\n",
              "        text-align: right;\n",
              "    }\n",
              "</style>\n",
              "<table border=\"1\" class=\"dataframe\">\n",
              "  <thead>\n",
              "    <tr style=\"text-align: right;\">\n",
              "      <th></th>\n",
              "      <th>DIADESEMANA</th>\n",
              "      <th>HORA</th>\n",
              "      <th>MES</th>\n",
              "    </tr>\n",
              "  </thead>\n",
              "  <tbody>\n",
              "    <tr>\n",
              "      <th>DIADESEMANA</th>\n",
              "      <td>1.000000</td>\n",
              "      <td>0.039717</td>\n",
              "      <td>0.016440</td>\n",
              "    </tr>\n",
              "    <tr>\n",
              "      <th>HORA</th>\n",
              "      <td>0.039717</td>\n",
              "      <td>1.000000</td>\n",
              "      <td>0.010362</td>\n",
              "    </tr>\n",
              "    <tr>\n",
              "      <th>MES</th>\n",
              "      <td>0.016440</td>\n",
              "      <td>0.010362</td>\n",
              "      <td>1.000000</td>\n",
              "    </tr>\n",
              "  </tbody>\n",
              "</table>\n",
              "</div>"
            ],
            "text/plain": [
              "             DIADESEMANA      HORA       MES\n",
              "DIADESEMANA     1.000000  0.039717  0.016440\n",
              "HORA            0.039717  1.000000  0.010362\n",
              "MES             0.016440  0.010362  1.000000"
            ]
          },
          "execution_count": 120,
          "metadata": {},
          "output_type": "execute_result"
        }
      ],
      "source": [
        "corr_matrix = df_cleaned.corr()\n",
        "corr_matrix"
      ]
    },
    {
      "cell_type": "code",
      "execution_count": 121,
      "metadata": {},
      "outputs": [
        {
          "data": {
            "text/plain": [
              "Text(0.5, 69.0, 'X')"
            ]
          },
          "execution_count": 121,
          "metadata": {},
          "output_type": "execute_result"
        },
        {
          "data": {
            "image/png": "[encoded data removed]",
            "text/plain": [
              "<Figure size 1152x720 with 2 Axes>"
            ]
          },
          "metadata": {
            "needs_background": "light"
          },
          "output_type": "display_data"
        }
      ],
      "source": [
        "f, ax = plt.subplots(figsize=(16, 10))\n",
        "mask = np.triu(np.ones_like(corr_matrix, dtype=bool))\n",
        "cmap = sns.diverging_palette(230, 20, as_cmap=True)\n",
        "sns.heatmap(corr_matrix, annot=True, mask = mask, cmap=cmap )\n",
        "plt.title('Relacion entre variables del dataframe',fontsize=20,fontname='serif')\n",
        "plt.ylabel('Y', color='green', fontsize=25)\n",
        "plt.xlabel('X', color='Red', fontsize=25)"
      ]
    },
    {
      "cell_type": "code",
      "execution_count": 122,
      "metadata": {},
      "outputs": [
        {
          "data": {
            "text/plain": [
              "TELEFONOORIGEN\n",
              "3107584482        783\n",
              "3002035444        564\n",
              "3044043620        473\n",
              "3132880597        445\n",
              "3503340890        443\n",
              "                 ... \n",
              "3012627803         30\n",
              "3212361771         30\n",
              "3133961592         30\n",
              "3228479148         30\n",
              "3105702829         30\n",
              "Length: 18824, dtype: int64"
            ]
          },
          "execution_count": 122,
          "metadata": {},
          "output_type": "execute_result"
        }
      ],
      "source": [
        "#Se realiza un conteo con los datos\n",
        "df_cleaned.loc[:,['TELEFONOORIGEN']].value_counts()"
      ]
    },
    {
      "cell_type": "markdown",
      "metadata": {},
      "source": [
        "### EXPERIMENTOS CON DIFERENTES ENTRENAMIENTOS"
      ]
    },
    {
      "cell_type": "code",
      "execution_count": 123,
      "metadata": {},
      "outputs": [],
      "source": [
        "#Función que permite identificar si en una fila hay un registro en la hora y en el día\n",
        "def findRow(pdate, phour, data):\n",
        "  for row in data:\n",
        "    if( ( row[3] == pdate.strftime(FORMAT_DATE) ) & ( row[2] == phour ) ):\n",
        "      return row\n",
        "  return []"
      ]
    },
    {
      "cell_type": "code",
      "execution_count": 124,
      "metadata": {},
      "outputs": [],
      "source": [
        "#Funcion para llenar los servicios no tomados con 0\n",
        "def preparingDataService(data, from_date, to_date, phone):\n",
        "  #first = pd.to_datetime(data.tail(1).iloc[0,3], format=FORMAT_DATE)\n",
        "  #last = pd.to_datetime(data.head(1).iloc[0,3], format=FORMAT_DATE)\n",
        "  \n",
        "  first = to_date\n",
        "  last = from_date\n",
        "\n",
        "  count = 0\n",
        "  total = 0\n",
        "\n",
        "  remaining_days = first.date() - last.date()\n",
        "  data_array = data.to_numpy()\n",
        "  new_array = []\n",
        "  for i in range(remaining_days.days+1):\n",
        "    last_time = last + timedelta(days=i)\n",
        "    for day in range(HOURS_OF_DAY):\n",
        "      new_row = findRow(last_time.date(), day, data_array)\n",
        "      total += 1\n",
        "      if len(new_row) > 0:\n",
        "        new_array.append(np.append(new_row, 1))\n",
        "        count += 1\n",
        "      else:\n",
        "        new_array.append([phone, last_time.isoweekday(),day,last_time.date().strftime(FORMAT_DATE),last_time.date().month,0])\n",
        "  #col = data.columns\n",
        "  #print(type(col))\n",
        "  #for col in data.columns:\n",
        "  #  print(col)\n",
        "  #print(f\"Cantidad de valores positivos: {count}, total registros: {total}\")\n",
        "  return pd.DataFrame(new_array, \n",
        "             columns=['TELEFONOORIGEN', \n",
        "                      'DIADESEMANA', 'HORA','FECHA','MES','SERVICIO'])"
      ]
    },
    {
      "cell_type": "code",
      "execution_count": 125,
      "metadata": {},
      "outputs": [],
      "source": [
        "#limites de decision\n",
        "def make_meshgrid(X, step=.02):\n",
        "    x = X.iloc[:,0].values\n",
        "    y = X.iloc[:,1].values\n",
        "    x_min, x_max = x.min() - 1, x.max() + 1\n",
        "    y_min, y_max = y.min() - 1, y.max() + 1\n",
        "    xx, yy = np.meshgrid(np.arange(x_min, x_max, step), np.arange(y_min, y_max, step))\n",
        "    return xx, yy\n",
        "\n",
        "def plot_contours(ax, clf, X, y, **params):\n",
        "\n",
        "    markers = ('o', 's', '^', 'v', '<')\n",
        "    colors = ('red', 'blue', 'cyan', 'gray')\n",
        "    cmap = ListedColormap(colors[:len(np.unique(y))])\n",
        "\n",
        "    xx, yy = make_meshgrid(X)\n",
        "    Z = clf.predict(np.c_[xx.ravel(), yy.ravel()])\n",
        "    Z = Z.reshape(xx.shape)\n",
        "\n",
        "    ax.set_xlim(xx.min(), xx.max())\n",
        "    ax.set_ylim(yy.min(), yy.max())\n",
        "\n",
        "    # plot class examples\n",
        "    for idx, cl in enumerate(np.unique(y)):\n",
        "        Z[Z == cl] = idx\n",
        "        ax.scatter(X.loc[y == cl, X.columns[0]], \n",
        "                    X.loc[y == cl, X.columns[1]],\n",
        "                    alpha=0.8, \n",
        "                    c=colors[idx],\n",
        "                    marker=markers[idx],\n",
        "                    label=cl, \n",
        "                    edgecolor='black',\n",
        "                    cmap=cmap,\n",
        "                    s=50)\n",
        "    \n",
        "    ax.legend()\n",
        "    ax.set_ylabel(X.columns[1])\n",
        "    ax.set_xlabel(X.columns[0])\n",
        "    ax.set_title(clf.__class__.__name__)\n",
        "    ax.grid()    \n",
        "    out = ax.contourf(xx, yy, Z, alpha=0.2, cmap=cmap)\n",
        "    \n",
        "    return out"
      ]
    },
    {
      "cell_type": "code",
      "execution_count": 126,
      "metadata": {},
      "outputs": [],
      "source": [
        "#ROC Y AUC\n",
        "def ROC(X, y, model):\n",
        "\n",
        "  X_train, X_test, y_train, y_test = train_test_split(X, y, test_size=0.4, random_state=42)\n",
        "\n",
        "  clf = OneVsRestClassifier(model)\n",
        "  clf.fit(X_train, y_train)\n",
        "  pred = clf.predict(X_test)\n",
        "  pred_prob = clf.predict_proba(X_test)\n",
        "  pred_prob = np.nan_to_num(pred_prob)\n",
        "\n",
        "  fpr = {}\n",
        "  tpr = {}\n",
        "  thresh ={}\n",
        "\n",
        "  fig, ax = plt.subplots(figsize=(10,8))\n",
        "  colors = ('orange', 'green', 'blue')\n",
        "  \n",
        "  for index, label_ in enumerate(y.unique()):\n",
        "    fpr[label_], tpr[label_], thresh[label_] = roc_curve(y_test, pred_prob[:,index], pos_label=label_) \n",
        "    ax.plot(fpr[label_], tpr[label_], linestyle='--',color=colors[index], label=label_)\n",
        "  \n",
        "  ax.plot([0, 1], [0, 1], linestyle='--',color='red', label='No Skill')\n",
        "  ax.set_title(f'Multiclass ROC curve -  {model.__class__.__name__}')\n",
        "  ax.set_xlabel('False Positive Rate')\n",
        "  ax.set_ylabel('True Positive rate')\n",
        "  ax.grid(True)\n",
        "  plt.show()\n",
        "\n",
        "  return ax.legend(loc='best')"
      ]
    },
    {
      "cell_type": "markdown",
      "metadata": {},
      "source": [
        "Funcion que permite entrenar el modelo y predecir con los valores de pruebas"
      ]
    },
    {
      "cell_type": "code",
      "execution_count": 127,
      "metadata": {},
      "outputs": [],
      "source": [
        "def predictModel(model, X_train, y_train, X_test):\n",
        "    #A Continuación se entrena el modelo\n",
        "    model.fit(X_train, y_train)\n",
        "    #Se crean las predicciones para entrenamiento y pruebas\n",
        "    y_pred = model.predict(X_test)\n",
        "    #ypred = model.predict_proba(X_test)\n",
        "    return model, y_pred"
      ]
    },
    {
      "cell_type": "markdown",
      "metadata": {},
      "source": [
        "Función que permite evaluar el modelo de los K vecinos"
      ]
    },
    {
      "cell_type": "code",
      "execution_count": 128,
      "metadata": {},
      "outputs": [],
      "source": [
        "def knnModel(X_train, y_train, X_test):\n",
        "    #Se aplica el modelo de K vecinos\n",
        "    model = KNeighborsClassifier(n_neighbors=15)\n",
        "    return predictModel(model, X_train, y_train, X_test)"
      ]
    },
    {
      "cell_type": "markdown",
      "metadata": {},
      "source": [
        "Función que permite evaluar el modelo de perceptrones multi capa"
      ]
    },
    {
      "cell_type": "code",
      "execution_count": 129,
      "metadata": {},
      "outputs": [],
      "source": [
        "def mlpModel(X_train, y_train, X_test):\n",
        "    #Se aplica el modelo de perceptrones multi capa\n",
        "    model = MLPClassifier(solver='lbfgs', alpha=1e-5,hidden_layer_sizes=(30,30, 30), random_state=1,learning_rate_init=0.001,max_iter=5000)\n",
        "    return predictModel(model, X_train, y_train, X_test)"
      ]
    },
    {
      "cell_type": "markdown",
      "metadata": {},
      "source": [
        "Función que permite evaluar el modelo de regesión logística"
      ]
    },
    {
      "cell_type": "code",
      "execution_count": 130,
      "metadata": {},
      "outputs": [],
      "source": [
        "def lrModel(X_train, y_train, X_test):\n",
        "    #Se aplica el modelo de de regesión logística\n",
        "    model = LogisticRegression(random_state = 1)\n",
        "    return predictModel(model, X_train, y_train, X_test)"
      ]
    },
    {
      "cell_type": "markdown",
      "metadata": {},
      "source": [
        "Función que permite evaluar el modelo de los arboles aleatorios"
      ]
    },
    {
      "cell_type": "code",
      "execution_count": 131,
      "metadata": {},
      "outputs": [],
      "source": [
        "def rfcModel(X_train, y_train, X_test):\n",
        "    #Se aplica el modelo de los arboles aleatorios\n",
        "    model = RandomForestClassifier(criterion='gini', random_state=5, max_depth=8, n_estimators=200)\n",
        "    return predictModel(model, X_train, y_train, X_test)"
      ]
    },
    {
      "cell_type": "markdown",
      "metadata": {},
      "source": [
        "Función que permite evaluar el modelo de máquina de soporte de vectores"
      ]
    },
    {
      "cell_type": "code",
      "execution_count": 132,
      "metadata": {},
      "outputs": [],
      "source": [
        "def svcModel(X_train, y_train, X_test):\n",
        "    #Se aplica el modelo de máquina de soporte de vectores\n",
        "    model = SVC(kernel='rbf', random_state=1, gamma=0.2, C=1.0, class_weight='balanced')#, class_weight='balanced'\n",
        "    return predictModel(model, X_train, y_train, X_test)"
      ]
    },
    {
      "cell_type": "markdown",
      "metadata": {},
      "source": [
        "Función que permite evaluar el modelo de los arboles de desiciones"
      ]
    },
    {
      "cell_type": "code",
      "execution_count": 133,
      "metadata": {},
      "outputs": [],
      "source": [
        "def dtcModel(X_train, y_train, X_test,):\n",
        "    #Se aplica el modelo de los arboles de desiciones\n",
        "    model = DecisionTreeClassifier(criterion='gini', max_depth=2, random_state=1, class_weight={0: 1, 1: 5})\n",
        "    return predictModel(model, X_train, y_train, X_test)"
      ]
    },
    {
      "cell_type": "markdown",
      "metadata": {},
      "source": [
        "Función que permite evaluar el modelo de gradiente descendente estocástico"
      ]
    },
    {
      "cell_type": "code",
      "execution_count": 134,
      "metadata": {},
      "outputs": [],
      "source": [
        "def sgdModel(X_train, y_train, X_test,):\n",
        "    #Se aplica el modelo de gradiente descendente estocástico\n",
        "    model =SGDClassifier(loss='huber', random_state=1, max_iter=2000, epsilon=0.1)#loss='hinge'\n",
        "    return predictModel(model, X_train, y_train, X_test)"
      ]
    },
    {
      "cell_type": "markdown",
      "metadata": {},
      "source": [
        "Función que permite mostrar la visualización de los datos con subplot"
      ]
    },
    {
      "cell_type": "code",
      "execution_count": 135,
      "metadata": {},
      "outputs": [],
      "source": [
        "def dataVisualization(df_train):\n",
        "    #Se visualiza los datos por columnas de entrenamiento\n",
        "    fig, axes = plt.subplots(1, len(df_train.columns))\n",
        "    fig.set_size_inches(21,6)\n",
        "    for i, column in enumerate(df_train.columns):\n",
        "        sns.histplot(df_train[column], kde=True, ax=axes[i])\n",
        "    plt.show()"
      ]
    },
    {
      "cell_type": "markdown",
      "metadata": {},
      "source": [
        "Función que permite mostrar la matriz de confusión"
      ]
    },
    {
      "cell_type": "code",
      "execution_count": 136,
      "metadata": {},
      "outputs": [],
      "source": [
        "def confusionMatrix(model, y_test, y_pred):\n",
        "  '''\n",
        "  plt.rcParams.update({'font.size': 16})\n",
        "  fig, axes = plt.subplots(figsize=(14, 10))\n",
        "  disp = ConfusionMatrixDisplay.from_estimator(model,\n",
        "                                             y_test,\n",
        "                                             y_pred,\n",
        "                                             display_labels=model.classes_,\n",
        "                                             cmap=plt.cm.Blues,\n",
        "                                             ax=axes\n",
        "                                             )\n",
        "  disp.ax_.set_title(f'Confusion Matrix - {model.__class__.__name__}')\n",
        "  plt.show()\n",
        "  '''\n",
        "  plt.rcParams.update({'font.size': 16})\n",
        "  cm = confusion_matrix(y_test, y_pred, labels=model.classes_)\n",
        "  disp = ConfusionMatrixDisplay(confusion_matrix=cm,\n",
        "                                display_labels=model.classes_)\n",
        "  disp.plot()\n",
        "  plt.show()"
      ]
    },
    {
      "cell_type": "code",
      "execution_count": 137,
      "metadata": {},
      "outputs": [],
      "source": [
        "def contoursGrap(model, X, y):\n",
        "    plt.rcParams.update({'font.size': 16})\n",
        "    fig, axes = plt.subplots(figsize=(12, 10))\n",
        "    plot_contours(axes, model, X, y, cmap=plt.cm.coolwarm, alpha=0.5)\n",
        "    plt.show()"
      ]
    },
    {
      "cell_type": "markdown",
      "metadata": {},
      "source": [
        "Función que permite mostrar los diferentes reportes para comparar los modelos"
      ]
    },
    {
      "cell_type": "code",
      "execution_count": 138,
      "metadata": {},
      "outputs": [],
      "source": [
        "def reportClassification(model, X_train, y_train, y_pred, X_test, y_test, model_type):\n",
        "    if model_type == 'LR':\n",
        "        #Se imprimen los coeficientes, intresección y número de coeficientes\n",
        "        print(f\"Coeficientes del modelo: {model.coef_}\\n\")\n",
        "        print(f\"Intresección del modelo: {model.intercept_}\\n\")\n",
        "        print(f\"Número de coeficientes del modelo: {len(model.coef_)}\\n\")\n",
        "    if model_type != 'PR':\n",
        "\n",
        "        if (model_type != 'SVC') & (model_type != 'SGD'):\n",
        "            #\n",
        "            ROC(X_train, y_train, model)\n",
        "        #\n",
        "        contoursGrap(model, X_train, y_train)\n",
        "        #\n",
        "    #Se muestra la matriz de confusión\n",
        "    confusionMatrix(model, y_test, y_pred)\n",
        "    #Se imprime el reporte de clasificación\n",
        "    #print(classification_report(y_test, y_pred))\n",
        "    #mae = mean_absolute_error(y_test, y_pred)\n",
        "    #print(\"MAE:\",(mae))\n",
        "    \n",
        "    "
      ]
    },
    {
      "cell_type": "markdown",
      "metadata": {},
      "source": [
        "Función que permite cálcular la probabilidad de un usuario"
      ]
    },
    {
      "cell_type": "code",
      "execution_count": 139,
      "metadata": {},
      "outputs": [],
      "source": [
        "def calculateProbability(hour, day, data):\n",
        "  data_array = data.to_numpy()\n",
        "\n",
        "  first = pd.to_datetime(data.tail(1).iloc[0,2], format=FORMAT_DATE)\n",
        "  last = pd.to_datetime(data.head(1).iloc[0,2], format=FORMAT_DATE)\n",
        "  remaining_days = first.date() - last.date()\n",
        "  #print(\"First:\",first,\", last:\",last,\", remaining:\",remaining_days)\n",
        "  total = 0 \n",
        "  for i in range(remaining_days.days):\n",
        "    last_time = last + timedelta(days=i)\n",
        "    if last_time.isoweekday() == day:\n",
        "      total += 1\n",
        "  \n",
        "  total_onset = 0\n",
        "  for row in data_array:\n",
        "    if( ( row[0] == day ) & ( row[1] == hour ) & ( row[3] == 1 ) ):\n",
        "      total_onset += 1\n",
        "  \n",
        "  #print(\"Total:\",total,\",Total onset:\",total_onset)\n",
        "  if total > 0:\n",
        "    return total_onset / total\n",
        "  else:\n",
        "    return 0"
      ]
    },
    {
      "cell_type": "markdown",
      "metadata": {},
      "source": [
        "Función que permite evaluar el modelo probabilistico"
      ]
    },
    {
      "cell_type": "code",
      "execution_count": 140,
      "metadata": {},
      "outputs": [],
      "source": [
        "def calculateProbabilisticModel(data, date_predict):\n",
        "    array_prob = []\n",
        "    for hour in range(HOURS_OF_DAY):\n",
        "        prob = calculateProbability(hour, date_predict.isoweekday(), data)\n",
        "        array_prob.append(1 if prob >= 0.5 else 0)\n",
        "    return array_prob"
      ]
    },
    {
      "cell_type": "code",
      "execution_count": 141,
      "metadata": {},
      "outputs": [],
      "source": [
        "#Conversor del codigo a nombre de modelos\n",
        "def modelName(model_type):\n",
        "    if model_type == 'LR':\n",
        "        return 'logistic regression'\n",
        "    elif model_type == 'KNN':\n",
        "        return 'kneighbors'\n",
        "    elif model_type == 'MLP':\n",
        "        return 'multilayer perceptron'\n",
        "    elif model_type == 'RFC':\n",
        "        return 'random forest'\n",
        "    elif model_type == 'SVC':\n",
        "        return 'support vector'\n",
        "    elif model_type == 'SGD':\n",
        "        return 'gradient descent stochastic'\n",
        "    elif model_type == 'DTC':\n",
        "        return 'decision tree'\n",
        "    elif model_type == 'PR':\n",
        "        return 'probabilistic model'"
      ]
    },
    {
      "cell_type": "markdown",
      "metadata": {},
      "source": [
        "Función que permite probar los diferentes modelos en un rango de tiempo configurado "
      ]
    },
    {
      "cell_type": "code",
      "execution_count": 150,
      "metadata": {},
      "outputs": [],
      "source": [
        "#Función que entrene el modelo y nos devuelva el y_predicted\n",
        "from sklearn.preprocessing import StandardScaler\n",
        "def evaluate_model(phone, data, date_predict, model_type):\n",
        "  #Se filtra por el número de teléfono\n",
        "  data = data[data[\"TELEFONOORIGEN\"]==phone].copy()\n",
        "  \n",
        "  #Se obtiene la fecha de inicial de entrenamiento\n",
        "  date_first_training = date_predict - timedelta(weeks=NUM_OF_WEEK)\n",
        "  \n",
        "  #Se particiona el dataframe desde la fecha inicial y hasta la fecha final de entrenamiento\n",
        "  data = data[ (pd.to_datetime(data['FECHA'], format=FORMAT_DATE) >= date_first_training) & (pd.to_datetime(data['FECHA'], format=FORMAT_DATE) <= date_predict) ]\n",
        "  y_pred = []\n",
        "  y_test = []\n",
        "  tam = len(data)\n",
        "  if tam > 1:\n",
        "    data = preparingDataService(data, date_first_training, date_predict, phone)\n",
        "    #Se elimina el teléfono debido a que no es relevante para el modelo\n",
        "    data = data.drop(labels=['TELEFONOORIGEN'], axis=1)\n",
        "    \n",
        "    #Se crear el dataframe de entrenamiento desde la fecha inicial hasta la fecha de predicción\n",
        "    train = data[ (pd.to_datetime(data['FECHA'], format=FORMAT_DATE) >= date_first_training) & (pd.to_datetime(data['FECHA'], format=FORMAT_DATE) < date_predict) ]\n",
        "    #Se crear el dataframe de pruebas desde la fecha de predicción hasta una semana adelante\n",
        "    test = data[(pd.to_datetime(data['FECHA'], format=FORMAT_DATE) == date_predict) ]\n",
        "\n",
        "    tam = len(train[train['SERVICIO']==1])\n",
        "    if tam > 1:\n",
        "      #Datos para probar los modelos\n",
        "      train = train.loc[:,['DIADESEMANA','HORA','SERVICIO']]\n",
        "      test = test.loc[:,['DIADESEMANA','HORA','SERVICIO']]\n",
        "\n",
        "      y_train = train.SERVICIO\n",
        "      X_train = train.drop(labels='SERVICIO', axis=1)\n",
        "\n",
        "      y_test = test.SERVICIO\n",
        "      X_test = test.drop(labels='SERVICIO', axis=1)\n",
        "      \n",
        "      if model_type == 'LR':\n",
        "        #Se visualiza los datos\n",
        "        #dataVisualization(train)\n",
        "        model, y_pred = lrModel(X_train, y_train, X_test)\n",
        "        #reportClassification(model, X_train, y_train, y_pred, X_test, y_test, model_type)\n",
        "      elif model_type == 'KNN':\n",
        "        model, y_pred = knnModel(X_train, y_train, X_test)\n",
        "        #reportClassification(model, X_train, y_train, y_pred, X_test, y_test, model_type)\n",
        "      elif model_type == 'MLP':\n",
        "        model, y_pred = mlpModel(X_train, y_train, X_test)\n",
        "        #reportClassification(model, X_train, y_train, y_pred, X_test, y_test, model_type)\n",
        "      elif model_type == 'RFC':\n",
        "        model, y_pred = rfcModel(X_train, y_train, X_test)\n",
        "        #reportClassification(model, X_train, y_train, y_pred, X_test, y_test, model_type)\n",
        "      elif model_type == 'SVC':\n",
        "        model, y_pred = svcModel(X_train, y_train, X_test)\n",
        "        #reportClassification(model, X_train, y_train, y_pred, X_test, y_test, model_type)\n",
        "      elif model_type == 'SGD':\n",
        "        model, y_pred = sgdModel(X_train, y_train, X_test)\n",
        "        #reportClassification(model, X_train, y_train, y_pred, X_test, y_test, model_type)\n",
        "      elif model_type == 'DTC':\n",
        "        model, y_pred = dtcModel(X_train, y_train, X_test)\n",
        "        #reportClassification(model, X_train, y_train, y_pred, X_test, y_test, model_type)\n",
        "      elif model_type == 'PR':\n",
        "        remaining_days = date_predict.date() - date_predict.date()\n",
        "        y_calculate = []\n",
        "        train = data[ (pd.to_datetime(data['FECHA'], format=FORMAT_DATE) >= date_first_training) & (pd.to_datetime(data['FECHA'], format=FORMAT_DATE) < date_predict) ]\n",
        "        train = train.loc[:,['DIADESEMANA','HORA','FECHA','SERVICIO']]\n",
        "        y_calculate.append(calculateProbabilisticModel(train, date_predict))\n",
        "        y_pred = np.empty(0,dtype=int)\n",
        "        for i in y_calculate:\n",
        "          for j in i:\n",
        "            y_pred = np.append(y_pred, int(j))\n",
        "        class model:\n",
        "          classes_ = np.empty(0,dtype=int)\n",
        "          name = 'Probabilistic'\n",
        "        model.classes_ = np.array([0, 1])\n",
        "        #reportClassification(model, X_train, y_train, y_pred, X_test, y_test, model_type)\n",
        "      else:\n",
        "        print(\"Modelo no existe!\")\n",
        "        return\n",
        "  return y_pred, y_test"
      ]
    },
    {
      "cell_type": "markdown",
      "metadata": {},
      "source": [
        "Se crea un nuevo dataFrame con los números de teléfonos para recorrer los modelos"
      ]
    },
    {
      "cell_type": "code",
      "execution_count": 155,
      "metadata": {},
      "outputs": [
        {
          "name": "stdout",
          "output_type": "stream",
          "text": [
            "1000\n"
          ]
        }
      ],
      "source": [
        "#Se crea un nuevo dataframe con los teléfonos para entrenar cada usuario personalizado\n",
        "df_phone = df_cleaned.loc[:,['TELEFONOORIGEN']].copy()\n",
        "df_phone = df_phone.drop_duplicates().sort_values(by=['TELEFONOORIGEN'])\n",
        "df_phone = df_phone.reset_index(drop=True)\n",
        "phone_array = df_phone.to_numpy()\n",
        "phone_array = df_phone.head(1000).to_numpy()\n",
        "print(len(phone_array))\n",
        "df_phone = NaN"
      ]
    },
    {
      "cell_type": "markdown",
      "metadata": {},
      "source": [
        "# Evaluación de los modelos"
      ]
    },
    {
      "cell_type": "markdown",
      "metadata": {},
      "source": [
        "Experimento con todos los modelos para una semana"
      ]
    },
    {
      "cell_type": "code",
      "execution_count": 156,
      "metadata": {},
      "outputs": [
        {
          "name": "stdout",
          "output_type": "stream",
          "text": [
            "Inició el proceso: 2022-09-03 20:50:17.388171\n",
            "Procesó el modelo PR en: 10:17:22.970673\n",
            "Procesó el modelo LR en: 1:10:22.594111\n",
            "Procesó el modelo KNN en: 0:17:27.438572\n",
            "Procesó el modelo MLP en: 2:45:21.469063\n",
            "Procesó el modelo RFC en: 0:37:47.287044\n",
            "Procesó el modelo SVC en: 0:25:47.743679\n",
            "Procesó el modelo SGD en: 0:24:23.786295\n",
            "Procesó el modelo DTC en: 0:23:41.472064\n",
            "Finalizó el proceso: 2022-09-04 13:12:32.149739 en 16:22:14.761568\n"
          ]
        }
      ],
      "source": [
        "models_array = ['PR','LR','KNN','MLP','RFC','SVC','SGD','DTC']\n",
        "report_models = []\n",
        "start_proccess = datetime.now()\n",
        "print(f\"Inició el proceso: {datetime.now()}\")\n",
        "for model in models_array:\n",
        "    start_date = datetime.now()\n",
        "    confusion_phone = np.matrix(0,dtype=int)\n",
        "    for data_row in phone_array:\n",
        "        remaining_days = DATE_START_TRAINIG.date() + timedelta(days=7) - DATE_START_TRAINIG.date()\n",
        "        for i in range(remaining_days.days):\n",
        "            last_time = DATE_START_TRAINIG.date() + timedelta(days=i)\n",
        "            y_pred, ytest = evaluate_model(data_row[0], df_cleaned, pd.to_datetime(last_time, format=FORMAT_DATE), model)\n",
        "            if len(y_pred)>1:\n",
        "                matrix = np.matrix(confusion_matrix(ytest.values, y_pred))\n",
        "                if matrix.size == 1:\n",
        "                    matrix = np.matrix([[24,0],[0,0]],dtype=int)\n",
        "                confusion_phone = confusion_phone + matrix\n",
        "                #print(f\"Procesando el teléfono: {data_row[0]} y la fecha: {last_time}, confusion: {confusion_phone}, tamanio: {new_matrix.size}\")\n",
        "    report_models.append([model,confusion_phone])\n",
        "    print(f\"Procesó el modelo {model} en: {datetime.now()-start_date}\")\n",
        "print(f\"Finalizó el proceso: {datetime.now()} en {datetime.now()-start_proccess}\")"
      ]
    },
    {
      "cell_type": "markdown",
      "metadata": {},
      "source": [
        "Se ejecuta la matriz de confusión de los modelos"
      ]
    },
    {
      "cell_type": "code",
      "execution_count": 157,
      "metadata": {},
      "outputs": [
        {
          "data": {
            "text/html": [
              "<div>\n",
              "<style scoped>\n",
              "    .dataframe tbody tr th:only-of-type {\n",
              "        vertical-align: middle;\n",
              "    }\n",
              "\n",
              "    .dataframe tbody tr th {\n",
              "        vertical-align: top;\n",
              "    }\n",
              "\n",
              "    .dataframe thead th {\n",
              "        text-align: right;\n",
              "    }\n",
              "</style>\n",
              "<table border=\"1\" class=\"dataframe\">\n",
              "  <thead>\n",
              "    <tr style=\"text-align: right;\">\n",
              "      <th></th>\n",
              "      <th>MODEL</th>\n",
              "      <th>PRECISION</th>\n",
              "      <th>RECALL</th>\n",
              "      <th>F1</th>\n",
              "      <th>TN</th>\n",
              "      <th>TP</th>\n",
              "      <th>FP</th>\n",
              "      <th>FN</th>\n",
              "    </tr>\n",
              "  </thead>\n",
              "  <tbody>\n",
              "    <tr>\n",
              "      <th>0</th>\n",
              "      <td>probabilistic model</td>\n",
              "      <td>0.408602</td>\n",
              "      <td>0.083229</td>\n",
              "      <td>0.138290</td>\n",
              "      <td>162835</td>\n",
              "      <td>266</td>\n",
              "      <td>385</td>\n",
              "      <td>2930</td>\n",
              "    </tr>\n",
              "    <tr>\n",
              "      <th>1</th>\n",
              "      <td>logistic regression</td>\n",
              "      <td>0.000000</td>\n",
              "      <td>0.000000</td>\n",
              "      <td>0.000000</td>\n",
              "      <td>163220</td>\n",
              "      <td>0</td>\n",
              "      <td>0</td>\n",
              "      <td>3196</td>\n",
              "    </tr>\n",
              "    <tr>\n",
              "      <th>2</th>\n",
              "      <td>kneighbors</td>\n",
              "      <td>0.536424</td>\n",
              "      <td>0.025344</td>\n",
              "      <td>0.048402</td>\n",
              "      <td>163150</td>\n",
              "      <td>81</td>\n",
              "      <td>70</td>\n",
              "      <td>3115</td>\n",
              "    </tr>\n",
              "    <tr>\n",
              "      <th>3</th>\n",
              "      <td>multilayer perceptron</td>\n",
              "      <td>0.464730</td>\n",
              "      <td>0.035044</td>\n",
              "      <td>0.065173</td>\n",
              "      <td>163091</td>\n",
              "      <td>112</td>\n",
              "      <td>129</td>\n",
              "      <td>3084</td>\n",
              "    </tr>\n",
              "    <tr>\n",
              "      <th>4</th>\n",
              "      <td>random forest</td>\n",
              "      <td>0.439080</td>\n",
              "      <td>0.059762</td>\n",
              "      <td>0.105205</td>\n",
              "      <td>162976</td>\n",
              "      <td>191</td>\n",
              "      <td>244</td>\n",
              "      <td>3005</td>\n",
              "    </tr>\n",
              "    <tr>\n",
              "      <th>5</th>\n",
              "      <td>support vector</td>\n",
              "      <td>0.058954</td>\n",
              "      <td>0.549750</td>\n",
              "      <td>0.106488</td>\n",
              "      <td>135174</td>\n",
              "      <td>1757</td>\n",
              "      <td>28046</td>\n",
              "      <td>1439</td>\n",
              "    </tr>\n",
              "    <tr>\n",
              "      <th>6</th>\n",
              "      <td>gradient descent stochastic</td>\n",
              "      <td>0.019939</td>\n",
              "      <td>0.097622</td>\n",
              "      <td>0.033114</td>\n",
              "      <td>147884</td>\n",
              "      <td>312</td>\n",
              "      <td>15336</td>\n",
              "      <td>2884</td>\n",
              "    </tr>\n",
              "    <tr>\n",
              "      <th>7</th>\n",
              "      <td>decision tree</td>\n",
              "      <td>0.246806</td>\n",
              "      <td>0.114831</td>\n",
              "      <td>0.156737</td>\n",
              "      <td>162100</td>\n",
              "      <td>367</td>\n",
              "      <td>1120</td>\n",
              "      <td>2829</td>\n",
              "    </tr>\n",
              "  </tbody>\n",
              "</table>\n",
              "</div>"
            ],
            "text/plain": [
              "                         MODEL  PRECISION    RECALL        F1      TN    TP  \\\n",
              "0          probabilistic model   0.408602  0.083229  0.138290  162835   266   \n",
              "1          logistic regression   0.000000  0.000000  0.000000  163220     0   \n",
              "2                   kneighbors   0.536424  0.025344  0.048402  163150    81   \n",
              "3        multilayer perceptron   0.464730  0.035044  0.065173  163091   112   \n",
              "4                random forest   0.439080  0.059762  0.105205  162976   191   \n",
              "5               support vector   0.058954  0.549750  0.106488  135174  1757   \n",
              "6  gradient descent stochastic   0.019939  0.097622  0.033114  147884   312   \n",
              "7                decision tree   0.246806  0.114831  0.156737  162100   367   \n",
              "\n",
              "      FP    FN  \n",
              "0    385  2930  \n",
              "1      0  3196  \n",
              "2     70  3115  \n",
              "3    129  3084  \n",
              "4    244  3005  \n",
              "5  28046  1439  \n",
              "6  15336  2884  \n",
              "7   1120  2829  "
            ]
          },
          "execution_count": 157,
          "metadata": {},
          "output_type": "execute_result"
        }
      ],
      "source": [
        "arr_models = []\n",
        "for model in report_models:\n",
        "    true_neg = model[1][0,0]\n",
        "    true_pos = model[1][1,1]\n",
        "    false_pos = model[1][0,1]\n",
        "    false_neg = model[1][1,0]\n",
        "    \n",
        "    #Precision = TruePositives / (TruePositives + FalsePositives)\n",
        "    \n",
        "    precision_scr = true_pos / (true_pos + false_pos) if true_pos > 0 else 0\n",
        "    #Recall = TruePositives / (TruePositives + FalseNegatives)\n",
        "    recall_scr = true_pos / (true_pos + false_neg) if true_pos > 0 else 0\n",
        "    #F-Measure = (2 * Precision * Recall) / (Precision + Recall)\n",
        "    f1_scr = (2 * precision_scr * recall_scr) / (precision_scr + recall_scr) if true_pos > 0 else 0\n",
        "\n",
        "    arr_models.append([modelName(model[0]),precision_scr,recall_scr,f1_scr,true_neg,true_pos,false_pos,false_neg])\n",
        "df = pd.DataFrame(arr_models, columns =['MODEL','PRECISION','RECALL','F1','TN','TP','FP','FN'])\n",
        "df"
      ]
    }
  ],
  "metadata": {
    "colab": {
      "collapsed_sections": [],
      "name": "Proyecto predicción servicio taxi.ipynb",
      "provenance": []
    },
    "kernelspec": {
      "display_name": "Python 3.10.2 64-bit",
      "language": "python",
      "name": "python3"
    },
    "language_info": {
      "codemirror_mode": {
        "name": "ipython",
        "version": 3
      },
      "file_extension": ".py",
      "mimetype": "text/x-python",
      "name": "python",
      "nbconvert_exporter": "python",
      "pygments_lexer": "ipython3",
      "version": "3.10.2"
    },
    "vscode": {
      "interpreter": {
        "hash": "6c66cf74b0d2a9f1f4e9764d44e7ed6418e0349c942d329ab910649654051b15"
      }
    }
  },
  "nbformat": 4,
  "nbformat_minor": 0
}
